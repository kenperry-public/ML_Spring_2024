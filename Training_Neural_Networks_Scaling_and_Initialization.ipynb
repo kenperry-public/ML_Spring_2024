{
 "cells": [
  {
   "cell_type": "code",
   "execution_count": 1,
   "metadata": {
    "slideshow": {
     "slide_type": "notes"
    }
   },
   "outputs": [
    {
     "data": {
      "text/latex": [
       "$$\n",
       "\\newcommand{\\x}{\\mathbf{x}}\n",
       "\\newcommand{\\tx}{\\tilde{\\x}}\n",
       "\\newcommand{\\y}{\\mathbf{y}}\n",
       "\\newcommand{\\b}{\\mathbf{b}}\n",
       "\\newcommand{\\c}{\\mathbf{c}}\n",
       "\\newcommand{\\e}{\\mathbf{e}}\n",
       "\\newcommand{\\z}{\\mathbf{z}}\n",
       "\\newcommand{\\h}{\\mathbf{h}}\n",
       "\\newcommand{\\u}{\\mathbf{u}}\n",
       "\\newcommand{\\v}{\\mathbf{v}}\n",
       "\\newcommand{\\w}{\\mathbf{w}}\n",
       "\\newcommand{\\V}{\\mathbf{V}}\n",
       "\\newcommand{\\W}{\\mathbf{W}}\n",
       "\\newcommand{\\X}{\\mathbf{X}}\n",
       "\\newcommand{\\KL}{\\mathbf{KL}}\n",
       "\\newcommand{\\E}{{\\mathbb{E}}}\n",
       "\\newcommand{\\Reals}{{\\mathbb{R}}}\n",
       "\\newcommand{\\ip}{\\mathbf{{(i)}}}\n",
       "%\n",
       "% Test set\n",
       "\\newcommand{\\xt}{\\underline{\\x}}\n",
       "\\newcommand{\\yt}{\\underline{\\y}}\n",
       "\\newcommand{\\Xt}{\\underline{\\X}}\n",
       "\\newcommand{\\perfm}{\\mathcal{P}}\n",
       "%\n",
       "% \\ll indexes a layer; we can change the actual letter\n",
       "\\newcommand{\\ll}{l}\n",
       "\\newcommand{\\llp}{{(\\ll)}}\n",
       "%\n",
       "\\newcommand{Thetam}{\\Theta_{-0}}\n",
       "\n",
       "% CNN\n",
       "\\newcommand{\\kernel}{\\mathbf{k}} \n",
       "\\newcommand{\\dim}{d}\n",
       "\\newcommand{\\idxspatial}{{\\text{idx}}}\n",
       "\\newcommand{\\summaxact}{\\text{max}}\n",
       "%\n",
       "%\n",
       "\n",
       "% RNN\n",
       "% \\tt indexes a time step\n",
       "\\newcommand{\\tt}{t}\n",
       "\\newcommand{\\tp}{{(\\tt)}}\n",
       "%\n",
       "%\n",
       "\n",
       "% LSTM\n",
       "\\newcommand{\\g}{\\mathbf{g}}\n",
       "\\newcommand{\\remember}{\\mathbf{remember}}\n",
       "\\newcommand{\\save}{\\mathbf{save}}\n",
       "\\newcommand{\\focus}{\\mathbf{focus}}\n",
       "%\n",
       "%\n",
       "% NLP\n",
       "\\newcommand{\\Vocab}{\\mathbf{V}}\n",
       "\\newcommand{\\v}{\\mathbf{v}}\n",
       "\\newcommand{\\offset}{o}\n",
       "\\newcommand{\\o}{o}\n",
       "\\newcommand{\\Emb}{\\mathbf{E}}\n",
       "%\n",
       "%\n",
       "\\newcommand{\\loss}{\\mathcal{L}}\n",
       "\\newcommand{\\cost}{\\mathcal{L}}\n",
       "%\n",
       "%                     \n",
       "\\newcommand{\\pdata}{p_\\text{data}}\n",
       "\\newcommand{\\pmodel}{p_\\text{model}}\n",
       "%\n",
       "% SVM\n",
       "\\newcommand{\\margin}{{\\mathbb{m}}}\n",
       "\\newcommand{\\lmk}{\\boldsymbol{\\ell}}\n",
       "%\n",
       "%\n",
       "% Functions with arguments\n",
       "\\def\\xsy#1#2{#1^#2}\n",
       "\\def\\rand#1{\\tilde{#1}}\n",
       "\\def\\randx{\\rand{\\x}}\n",
       "\\def\\randy{\\rand{\\y}}\n",
       "\\def\\trans#1{\\dot{#1}}\n",
       "\\def\\transx{\\trans{\\x}}\n",
       "\\def\\transy{\\trans{\\y}}\n",
       "%\n",
       "\\def\\argmax#1{\\underset{#1} {\\operatorname{argmax}} }\n",
       "\\def\\argmin#1{\\underset{#1} {\\operatorname{argmin}} }\n",
       "\\def\\max#1{\\underset{#1} {\\operatorname{max}} }\n",
       "\\def\\min#1{\\underset{#1} {\\operatorname{min}} }\n",
       "%\n",
       "\\def\\pr#1{\\mathcal{p}(#1)}\n",
       "\\def\\prc#1#2{\\mathcal{p}(#1 \\; | \\; #2)}\n",
       "\\def\\cnt#1{\\mathcal{count}_{#1}}\n",
       "\\def\\node#1{\\mathbb{#1}}\n",
       "%\n",
       "\\def\\loc#1{{\\text{##} {#1}}}\n",
       "%\n",
       "\\def\\OrderOf#1{\\mathcal{O}\\left( #1 \\right)}\n",
       "%\n",
       "% Expectation operator\n",
       "\\def\\Exp#1{\\underset{#1} {\\operatorname{\\mathbb{E}}} }\n",
       "%\n",
       "% VAE\n",
       "\\def\\prs#1#2{\\mathcal{p}_{#2}(#1)}\n",
       "\\def\\qr#1{\\mathcal{q}(#1)}\n",
       "\\def\\qrs#1#2{\\mathcal{q}_{#2}(#1)}\n",
       "%\n",
       "% Reinforcement learning\n",
       "\\newcommand{\\Actions}{{\\mathcal{A}}} \n",
       "\\newcommand{\\actseq}{A}\n",
       "\\newcommand{\\act}{a}\n",
       "\\newcommand{\\States}{{\\mathcal{S}}}   \n",
       "\\newcommand{\\stateseq}{S}  \n",
       "\\newcommand{\\state}{s}\n",
       "\\newcommand{\\Rewards}{{\\mathcal{R}}}\n",
       "\\newcommand{\\rewseq}{R}\n",
       "\\newcommand{\\rew}{r}\n",
       "\\newcommand{\\transp}{P}\n",
       "\\newcommand{\\statevalfun}{v}\n",
       "\\newcommand{\\actvalfun}{q}\n",
       "\\newcommand{\\disc}{\\gamma}\n",
       "%\n",
       "%\n",
       "\\newcommand{\\floor}[1]{\\left\\lfloor #1 \\right\\rfloor}\n",
       "\\newcommand{\\ceil}[1]{\\left\\lceil #1 \\right\\rceil}\n",
       "%\n",
       "%\n",
       "$$\n"
      ],
      "text/plain": [
       "<IPython.core.display.Latex object>"
      ]
     },
     "metadata": {},
     "output_type": "display_data"
    }
   ],
   "source": [
    "%run Latex_macros.ipynb"
   ]
  },
  {
   "cell_type": "code",
   "execution_count": 2,
   "metadata": {
    "slideshow": {
     "slide_type": "notes"
    }
   },
   "outputs": [],
   "source": [
    "# My standard magic !  You will see this in almost all my notebooks.\n",
    "\n",
    "from IPython.core.interactiveshell import InteractiveShell\n",
    "InteractiveShell.ast_node_interactivity = \"all\"\n",
    "\n",
    "# Reload all modules imported with %aimport\n",
    "%load_ext autoreload\n",
    "%autoreload 1\n",
    "\n",
    "%matplotlib inline"
   ]
  },
  {
   "cell_type": "code",
   "execution_count": 3,
   "metadata": {
    "slideshow": {
     "slide_type": "notes"
    }
   },
   "outputs": [],
   "source": [
    "import numpy as np\n",
    "import pandas as pd\n",
    "import matplotlib.pyplot as plt\n",
    "\n",
    "import neural_net_helper\n",
    "%aimport neural_net_helper\n",
    "\n",
    "nnh = neural_net_helper.NN_Helper()"
   ]
  },
  {
   "cell_type": "markdown",
   "metadata": {
    "slideshow": {
     "slide_type": "slide"
    }
   },
   "source": [
    "# Impediments to learning\n",
    "\n",
    "The updating of weights, used by Gradient Descent to minimize the loss, can be inhibited in less-than-obvious manners.\n",
    "\n",
    "In this module, we explore these impediments.\n",
    "\n",
    "This will motivate the creation of a new class of Layer-types: Normalization."
   ]
  },
  {
   "cell_type": "markdown",
   "metadata": {
    "slideshow": {
     "slide_type": "subslide"
    }
   },
   "source": [
    "Simply stated: the power of Neural Networks derives largely from\n",
    "- the non-linear activation functions \n",
    "- the simple weight updating of Gradient descent\n",
    "\n",
    "But these same non-linear activation functions that provide power sometimes interact badly\n",
    "with Gradient updates.\n",
    "\n",
    "Let us examine the plots of the derivatives of the common Activation functions."
   ]
  },
  {
   "cell_type": "code",
   "execution_count": 4,
   "metadata": {
    "slideshow": {
     "slide_type": "subslide"
    }
   },
   "outputs": [
    {
     "data": {
      "image/png": "[encoded data removed]",
      "text/plain": [
       "<Figure size 1152x576 with 6 Axes>"
      ]
     },
     "metadata": {
      "needs_background": "light"
     },
     "output_type": "display_data"
    }
   ],
   "source": [
    "fig, _ = nnh.plot_activations( np.arange(-5,5, 0.1) )"
   ]
  },
  {
   "cell_type": "markdown",
   "metadata": {
    "slideshow": {
     "slide_type": "subslide"
    }
   },
   "source": [
    "The derivatives of each of these functions has a portion of their domain yielding near zero derivatives.\n",
    "\n",
    "When the unit that feeds its activation to this Activation function has a value in this domain\n",
    "- the derivative is zero\n",
    "- the weight associated with the unit producing this activation will receive a **zero** update from Gradient Descent\n",
    "    - the unit won't learn\n"
   ]
  },
  {
   "cell_type": "markdown",
   "metadata": {
    "slideshow": {
     "slide_type": "subslide"
    }
   },
   "source": [
    "Similarly, there are also portions of the domain with near-linear response.\n",
    "\n",
    "The composition of linear operations is linear, so a deep network without some active non-linearity\n",
    "loses all its power."
   ]
  },
  {
   "cell_type": "markdown",
   "metadata": {
    "slideshow": {
     "slide_type": "subslide"
    }
   },
   "source": [
    "The \"trick\" to successful learning is to ensure that\n",
    "- the distribution of pre-activations \n",
    "- are neither **concentrated** in parts of the domain\n",
    "    - with zero derivative\n",
    "    - near-linear response\n",
    "    \n",
    "Learning works best when the pre-activation distribution is spread-out rather than \"peaky\"."
   ]
  },
  {
   "cell_type": "markdown",
   "metadata": {
    "slideshow": {
     "slide_type": "subslide"
    }
   },
   "source": [
    "This module will highlight how a Neural Network may\n",
    "- wind up in one of the undesirable situations\n",
    "- the mechanisms that have been devised to avoid them"
   ]
  },
  {
   "cell_type": "markdown",
   "metadata": {
    "slideshow": {
     "slide_type": "slide"
    }
   },
   "source": [
    "# Proper scaling of inputs\n",
    "\n",
    "We briefly explore the statistical properties of the outputs of a layer.\n",
    "- We show how some of these properties can inhibit learning (weight update)\n",
    "- Will motivate the Normalization Layer-type, which will maintain good properties of layer outputs\n",
    "\n"
   ]
  },
  {
   "cell_type": "markdown",
   "metadata": {
    "slideshow": {
     "slide_type": "subslide"
    }
   },
   "source": [
    "## Importance of zero centered inputs (for each layer)\n",
    "[Efficient Backprop paper, LeCunn98](http://yann.lecun.com/exdb/publis/pdf/lecun-98b.pdf)\n",
    "\n",
    "**Zero centered** means average (over the training set) value of each feature of examples is mean $0$.\n",
    "\n",
    "Gradient descent updates each element of a layer $\\ll$'s weights $\\W_\\llp$ by\n",
    "the per-example losses \n",
    "\n",
    "$$\n",
    "\\begin{array}[lll] \\\\\n",
    "\\frac{\\partial \\loss^\\ip }{\\partial W_\\llp} & = & \\frac{\\partial \\loss^\\ip}{\\partial \\y_\\llp^\\ip} \\frac{\\partial \\y_\\llp^\\ip}{\\partial \\W_\\llp} \n",
    "\\end{array}\n",
    "$$\n",
    "summed over examples $i$."
   ]
  },
  {
   "cell_type": "markdown",
   "metadata": {
    "slideshow": {
     "slide_type": "subslide"
    }
   },
   "source": [
    "Let's look into the per example loss in more detail.\n",
    "\n",
    "\n",
    "Since $\\W_\\llp$ is a vector, the derivative wrt $\\W_\\llp$ is a vector of derivatives:\n",
    "$$\n",
    "\\frac{ \\partial{\\y_\\llp^\\ip} } { \\partial \\W_\\llp } =\n",
    "\\begin{pmatrix} \n",
    "\\ldots , \\frac{ \\partial{\\y_\\llp^\\ip} } { \\partial \\W_{\\llp,} }, \\ldots, \n",
    "\\end{pmatrix}\n",
    "$$\n",
    "\n",
    "Examining the $j^{th}$ element of the derivative vector:\n",
    "$$\n",
    "\\begin{array} \\\\\n",
    "\\frac{ \\partial{\\y_\\llp^\\ip} } { \\partial \\W_{\\llp,j} } & = & \\frac{ \\partial{ a_\\llp ( \\y_{(\\ll-1)}\\cdot \\W_\\llp ) } } { \\partial \\W_{\\llp,j}} &  \\text{ when layer } \\ll \\text{ is Dense since }  y_\\llp = a_\\llp ( \\y_{(\\ll-1)} \\cdot \\W_\\llp ) \\; \\\\\n",
    "& = &  \\frac{ \\partial{ a_\\llp ( \\y_{(\\ll-1)}\\cdot \\W_\\llp )} } { \\partial (\\y_{(\\ll-1)}\\cdot \\W_{\\llp})}\n",
    "       \\frac{ \\partial{(\\y_{(\\ll-1)}\\cdot \\W_\\llp)} }{ \\W_{\\llp,j} } & \\text{Chain rule} \\\\\n",
    "& =& a'_\\llp \\y_{(\\ll-1),j}^\\ip & \\text{ since }  \\y_{(\\ll-1)}\\cdot \\W_\\llp = \\sum_j { ( \\y_{(\\ll-1),j} * \\W_{\\llp,j} ) }\\\\\n",
    " & & & \\text{where } a' = \\frac{ \\partial{ a_\\llp ( \\y_{(\\ll-1)}\\cdot \\W_{\\llp}) } } { \\partial (\\y_{(\\ll-1)}\\cdot \\W_{\\llp})}\\\\\n",
    "\\end{array}\n",
    "$$"
   ]
  },
  {
   "cell_type": "markdown",
   "metadata": {
    "slideshow": {
     "slide_type": "subslide"
    }
   },
   "source": [
    "This is for $\\loss^\\ip$, the per-example loss for example $i$.\n",
    "\n",
    "The (total) Loss $\\loss$ is averaged across all $m'$ examples in the mini-batch\n",
    "\n",
    "So the derivative of the Loss (with respect to the $j^{th}$ weight) $\\frac{\\partial \\loss }{\\partial W_{\\llp, j}}$ will have the term\n",
    "$$\n",
    "\\sum_{i=0}^{m'} {  \\y_{(\\ll-1),j}^\\ip  }\n",
    "$$\n",
    "\n",
    "Thus, the update to $\\W_{\\llp, j}$ will be proportional to the average (across the $m'$ examples) of the $j^{th}$ input to layer $\\ll$.\n",
    "\n"
   ]
  },
  {
   "cell_type": "markdown",
   "metadata": {
    "slideshow": {
     "slide_type": "subslide"
    }
   },
   "source": [
    "To be concrete, let's focus on layer $1$, where \n",
    "$$\\y_{(\\ll -1),j} = \\x_j$$\n",
    "so that\n",
    "$$\n",
    "\\sum_{i=0}^m {  \\y_{(\\ll-1),j}^\\ip  } = \\bar\\x_j\n",
    "$$\n",
    "i.e., the average (across examples) value of input feature $j$."
   ]
  },
  {
   "cell_type": "markdown",
   "metadata": {
    "slideshow": {
     "slide_type": "subslide"
    }
   },
   "source": [
    "In the particular case that the average $\\bar{\\x}_j$ of *every* feature $j$ has the same sign:\n",
    "- updates in all weight dimensions will have the same sign (the sign of $a'$)\n",
    "- Example: two dimensions.  The weight space is $\\W_{\\llp,0} \\times \\W_{\\llp,1}$\n",
    "    - We can navigate the the loss surface by moving in the weight space **north-east** or **south-west** only ! \n",
    "        - to move south-east: we need to move in a \"zig-zag\" direction\n",
    "    - very inefficient way to explore the weight space\n",
    "<br>\n",
    "<br>\n",
    "<table>\n",
    "    <tr>\n",
    "        <th><center><strong>RNN many to one API</strong></center></th>\n",
    "    </tr>\n",
    "    <tr>\n",
    "        <td><img src=\"images/zig_zag_path.png\" width=80%></td>\n",
    "    </tr>\n",
    "</table>\n"
   ]
  },
  {
   "cell_type": "markdown",
   "metadata": {
    "slideshow": {
     "slide_type": "subslide"
    }
   },
   "source": [
    "Although we have illustrated this issue using layer $1$, the issue applies to each layer.\n",
    "\n",
    "In fact, the issue may be more likely in deeper layers\n",
    "- when the activation of layer $(\\ll-1)$ is *not* zero-centered, e.g., the ReLU and sigmoid\n",
    "\n",
    "This will motivate the creation of a new layer type whose purpose will be to keep the inputs to successive layers zero-centered.\n",
    "\n",
    "**Note**\n",
    "\n",
    "Although we zero center the $m$ examples in the training set, the $m' \\lt m$ examples in any mini-batch will not necessarily be zero mean in all features."
   ]
  },
  {
   "cell_type": "markdown",
   "metadata": {
    "slideshow": {
     "slide_type": "slide"
    }
   },
   "source": [
    "## Importance of identical variance across features (weight initialization)\n",
    "\n",
    "The same argument we made for zero-centering a feature can be extended to it's variance:\n",
    "- the variance of feature $j$ over all training examples $i$ is the variance of $\\y_{(\\ll-1),j}$\n",
    "\n",
    "If the variance of features $j$ and $j'$ are different, their updates will happen at different rates.\n",
    "\n",
    "We will examine this in greater depth during our discussion of weight initialization.\n",
    "\n",
    "For now: it is desirable that the input to *each* layer have it's features somewhat normalized.\n"
   ]
  },
  {
   "cell_type": "markdown",
   "metadata": {
    "slideshow": {
     "slide_type": "slide"
    }
   },
   "source": [
    "# Initialization\n",
    "\n",
    "Training is all about discovering good weights.\n",
    "\n",
    "As prosaic as it sounds: how do we *initialize* the weights before training ?\n",
    "Does it matter ?\n",
    "\n",
    "It turns out that the choice of initial weights does matter.\n",
    "\n",
    "We will explain why in this module.\n",
    "- There is an excellent [visualization tool](https://www.deeplearning.ai/ai-notes/initialization/index.html#playground) to illustrate these concepts\n",
    "    - Play around with different initialization\n",
    "    - Visualize the weights, gradients\n",
    "    \n",
    "Let's start with some *bad* choices"
   ]
  },
  {
   "cell_type": "markdown",
   "metadata": {
    "slideshow": {
     "slide_type": "subslide"
    }
   },
   "source": [
    "## Bad choices\n",
    "\n",
    "### Too big/small\n",
    "\n",
    "Layers usually consist of linear operations (e.g., matrix multiplication and addition of bias)\n",
    "followed by a non-linear activation.\n",
    "\n",
    "The range of many activation functions includes large regions where the derivatives are near zero,\n",
    "usually corresponding to very large/small activations."
   ]
  },
  {
   "cell_type": "markdown",
   "metadata": {
    "slideshow": {
     "slide_type": "subslide"
    }
   },
   "source": [
    "Gradient Descent updates weights using the gradients.\n",
    "\n",
    "Obviously, if the gradients are all near-0, learning cannot occur.\n",
    "\n",
    "So one bad choice is any set of weights that tends to push activations to regions of the non-linear\n",
    "activation with zero gradient."
   ]
  },
  {
   "cell_type": "markdown",
   "metadata": {
    "slideshow": {
     "slide_type": "slide"
    }
   },
   "source": [
    "### Dead Activation functions\n",
    "\n",
    "This is a special case of a too big/small initialization of the **bias** of a unit.\n",
    "\n",
    "Recall that a layer's pre-activation value is computed as\n",
    "- dot product of (some or all) layer inputs and weights\n",
    "- plus the bias (if not already incorporated in the weight vector)"
   ]
  },
  {
   "cell_type": "markdown",
   "metadata": {
    "slideshow": {
     "slide_type": "subslide"
    }
   },
   "source": [
    "If the layer learns a very large negative bias\n",
    "- the pre-activation value will likely be a large negative value\n",
    "- placing the pre-activation value in a region of the Activation Function with zero gradients\n",
    "- resulting in no update to the bias\n",
    "\n",
    "Hence, the negative bias with no updates will persist across training steps.\n",
    "- the unit will not contribute to distinguishing between input examples\n",
    "\n",
    "We call a unit with constant (commonly $0$, e.g., ReLU) output\n",
    "- *saturated*\n",
    "- *dead* activation"
   ]
  },
  {
   "cell_type": "markdown",
   "metadata": {
    "slideshow": {
     "slide_type": "slide"
    }
   },
   "source": [
    "### Identical weights\n",
    "\n",
    "Consider layer $\\ll$ with $n_\\ll$ units (neurons) implementing identical operations (e.g. FC + ReLu).\n",
    "\n",
    "Let  $\\W_{\\llp, k}$ denote the weights of unit $k$.\n",
    "\n",
    "Suppose we initialized the weights (and biases) of all units to the *same* vector.\n",
    "$$\n",
    "\\W_{\\llp, k} = \\w_\\llp, \\; 1 \\le k \\le n_\\ll\n",
    "$$"
   ]
  },
  {
   "cell_type": "markdown",
   "metadata": {
    "slideshow": {
     "slide_type": "subslide"
    }
   },
   "source": [
    "Consider two neuron $j, j'$ in the same layer $\\ll$\n",
    "$$\n",
    "\\begin{array}[lll]\\\\\n",
    "\\y_{\\llp, j}  & = & a_\\llp ( \\w_\\llp \\y_{(\\ll-1)} + \\b_\\llp ) \\\\\n",
    "\\y_{\\llp, j'} & = & a_\\llp ( \\w_\\llp \\y_{(\\ll-1)} + \\b_\\llp ) \\\\\n",
    "\\end{array}\n",
    "$$\n",
    "\n",
    "- Both neuron will compute the same activation\n",
    "- Both neurons will have the same gradient\n",
    "- Both neurons will have the same weight update\n",
    " "
   ]
  },
  {
   "cell_type": "markdown",
   "metadata": {
    "slideshow": {
     "slide_type": "subslide"
    }
   },
   "source": [
    "Thus, the weights in layer $i$ will start off identical and will remain identical due to identical updates!\n",
    "\n",
    "Neurons/units $j$ and $j'$ will never be able to differentiate and come to recognize *different* features.\n",
    "\n",
    "This negates the advantage of multiple units in a layer.\n",
    "\n",
    "Many approaches use some for of random initialization to break the symmetry we just described."
   ]
  },
  {
   "cell_type": "markdown",
   "metadata": {
    "slideshow": {
     "slide_type": "subslide"
    }
   },
   "source": [
    "This explains the chart we previously saw (training when all weights initialized to zero)\n",
    "- All weights identical, so no way to break symmetry\n",
    "- Zero weights lead to zero activation\n",
    "\n",
    "<img src=\"images/tnn_loss_and_acc_zero_init.png\">"
   ]
  },
  {
   "cell_type": "markdown",
   "metadata": {
    "slideshow": {
     "slide_type": "slide"
    }
   },
   "source": [
    "# Maintaining constant variance throughout the layers\n",
    "\n",
    "Suppose the variance of the features of the input vector for layer $\\ll$ (i.e., $\\y_{(\\ll-1)}$)\n",
    "- is identical and equal to $\\text{Var}$ ($\\y_{(\\ll-1)}$)\n",
    "\n",
    "Once it passes through layer $\\ll$, what is the output variance $\\text{Var}$ ($y_\\llp)$ ?\n",
    "- which is the variance of the input of layer $\\ll+1$.\n",
    "\n",
    "We can illustrate with an experiment\n",
    "- a network consisting of a sequence of identically sized Fully Connected layers\n",
    "- plotting the distribution of layer outputs by layer\n",
    "- through a single epoch: no weight updates"
   ]
  },
  {
   "cell_type": "markdown",
   "metadata": {
    "slideshow": {
     "slide_type": "slide"
    }
   },
   "source": [
    "First, we initialize the layer weights with a relatively large variance ($\\sigma = 1$)\n",
    "\n",
    "<table>\n",
    "    <tr>\n",
    "        <th><center>Distribution of layer outputs, by layer (shallow to deep)</center></th>\n",
    "    </tr>\n",
    "    <tr>\n",
    "        <th><center>Random Normal weight initialization</center></th>\n",
    "    </tr>\n",
    "    <tr>\n",
    "        <td><img src=\"images/tnn_activations_shift_large_var.png\"></td>\n",
    "    </tr>\n",
    "</table>\n",
    "\n"
   ]
  },
  {
   "cell_type": "markdown",
   "metadata": {
    "slideshow": {
     "slide_type": "subslide"
    }
   },
   "source": [
    "The large variance forces the pre-activations toward extreme value.  Hence\n",
    "- the bimodal peaks for the tanh activation\n",
    "- the large peak of zero values for the ReLU activation\n",
    "\n",
    "Note that the variance is increasing as we get deeper (top to bottom direction of graphs) into the network"
   ]
  },
  {
   "cell_type": "markdown",
   "metadata": {
    "slideshow": {
     "slide_type": "subslide"
    }
   },
   "source": [
    "For a very small variance when initializing weights ($\\sigma = 0.01$)\n",
    "\n",
    "<table>\n",
    "    <tr>\n",
    "        <th><center>Distribution of layer outputs, by layer (shallow to deep)</center></th>\n",
    "    </tr>\n",
    "    <tr>\n",
    "        <th><center>Random Normal weight initialization</center></th>\n",
    "    </tr>\n",
    "    <tr>\n",
    "        <td><img src=\"images/tnn_activations_shift_small_var.png\"></td>\n",
    "    </tr>\n",
    "</table>\n"
   ]
  },
  {
   "cell_type": "markdown",
   "metadata": {
    "slideshow": {
     "slide_type": "subslide"
    }
   },
   "source": [
    "The small weight variance causes the pre-activations to tightly cluster\n",
    "- potentially putting us in the linear regions\n",
    "    - 0.5 for sigmoid activation\n",
    "    - 0 for tanh activation"
   ]
  },
  {
   "cell_type": "markdown",
   "metadata": {
    "slideshow": {
     "slide_type": "subslide"
    }
   },
   "source": [
    "## The cause\n",
    "\n",
    "Let's examine the mathematical properties of the *pre-activation distribution* of a\n",
    "Fully Connected layer $\\ll$.\n",
    "\n",
    "That is, the distribution of the dot product \n",
    "$$\n",
    "\\y_{(\\ll-1)} \\cdot W_\\llp\n",
    "$$\n",
    "for layer $\\ll$ computing\n",
    "\n",
    "$$f_\\llp(\\y_{(\\ll-1)}, W_\\llp) = \\y_{(\\ll-1)} \\cdot W_\\llp$$\n",
    "\n",
    "Recall that layer $(\\ll-1)$ has $n_{(\\ll-1)}$ outputs.\n",
    "\n"
   ]
  },
  {
   "cell_type": "markdown",
   "metadata": {
    "slideshow": {
     "slide_type": "subslide"
    }
   },
   "source": [
    "Consider one product term in the dot product $\\y_{(\\ll-1),j} * \\W_{\\llp,j}$\n",
    "\n",
    "We will denote the variance \n",
    "- of $\\y_{(\\ll-1),j}$ as $\\text{Var}(Y)$\n",
    "- of $\\W_{\\llp,j}$ as $\\text{Var}(W)$\n",
    "\n",
    "and assume both variances are constant across features $j$.\n",
    "\n",
    "Note: we are making **no** assumption as to the form (e.g., Normal or Uniform) of the distributions."
   ]
  },
  {
   "cell_type": "markdown",
   "metadata": {
    "slideshow": {
     "slide_type": "subslide"
    }
   },
   "source": [
    "The *variance* of a product of random variables $Y, W$ \n",
    "[is](https://en.wikipedia.org/wiki/Variance#Product_of_independent_variables)\n",
    "\n",
    "$$\n",
    "\\text{Var}(Y * W) = \\mathbb{E}(Y)^2 \\text{Var}(W) + \\mathbb{E}(W)^2 \\text{Var}(Y) + \\text{Var}(Y)\\text{Var}(W)\n",
    "$$\n",
    "\n",
    "For simplicity: let's assume $\\mathbb{E}(Y)$ and $\\mathbb{E}(W)$ are both zero.\n",
    "\n",
    "Then \n",
    "$$\n",
    "\\text{Var}(Y * W) = \\text{Var}(Y)\\text{Var}(W)\n",
    "$$"
   ]
  },
  {
   "cell_type": "markdown",
   "metadata": {
    "slideshow": {
     "slide_type": "subslide"
    }
   },
   "source": [
    "The problem is that the dot product has *many* product terms\n",
    "- $n_{(\\ll-1)}$ for the input to a Fully Connected layer $\\ll$\n",
    "\n",
    "Hence, the variance of each output feature of Fully Connected layer $\\ll$ is\n",
    "$$\n",
    "n_{(\\ll-1)} * \\text{Var}(W) * \\text{Var}(Y)\n",
    "$$\n",
    "\n",
    "That is:\n",
    "- the variance of each feature of the output pre-activation\n",
    "- is $n_{(\\ll-1)} * \\text{Var}(W)$ greater than the layer's input variance $\\text{Var}(Y)$\n",
    "\n",
    "Thus, the variance of the pre-activation distribution increases as we proceed deeper into the network."
   ]
  },
  {
   "cell_type": "markdown",
   "metadata": {
    "slideshow": {
     "slide_type": "subslide"
    }
   },
   "source": [
    "As the variance of the pre-activation gets larger\n",
    "- we are more likely to be in one of the extremes of the domain of the Activation function\n",
    "- where derivatives are often near-zero\n",
    "\n",
    "Hence, we wind up in an unfavorable region of the Activation function."
   ]
  },
  {
   "cell_type": "markdown",
   "metadata": {
    "slideshow": {
     "slide_type": "slide"
    }
   },
   "source": [
    "## Glorot initialization\n",
    "\n",
    "Fortunately, there is a simple solution to the exploding pre-activation variance\n",
    "- initialize the weights $W_\\llp$ of Fully Connected layer $\\ll$\n",
    "- to have variance $\\frac{1}{n_{(\\ll-1)}}$\n",
    "- by initializing to a unit variance distribution and scaling by \n",
    "\n",
    "$$\n",
    "\\frac{1}{\\sqrt{n_{(\\ll-1)}}}\n",
    "$$\n"
   ]
  },
  {
   "cell_type": "markdown",
   "metadata": {
    "slideshow": {
     "slide_type": "subslide"
    }
   },
   "source": [
    "This forces the dot product to have unit variance\n",
    "\n",
    "This is the basis for *Glorot/Xavier Initialization*"
   ]
  },
  {
   "cell_type": "markdown",
   "metadata": {
    "slideshow": {
     "slide_type": "subslide"
    }
   },
   "source": [
    "This only partially solves the problem as it only ensures unit variance of the **input** to the activation function.\n",
    "\n",
    "If we can make the **output** of the activation also have unit variance then\n",
    "- the input to each layer is unit variance\n",
    "- and the output (which is input to the next layer) is also unit variance\n",
    "\n",
    "Hence the output variance of each activation function remains constant as we proceed through the network."
   ]
  },
  {
   "cell_type": "markdown",
   "metadata": {
    "slideshow": {
     "slide_type": "subslide"
    }
   },
   "source": [
    "The [original Glorot paper](http://proceedings.mlr.press/v9/glorot10a/glorot10a.pdf) justifies this\n",
    "- By assuming either a $\\tanh$ or sigmoid activation function\n",
    "- Which are approximately linear in the active region.\n",
    "- So the **output** of the activation function is equal to the input in this region\n",
    "- And is therefore unit variance as desired"
   ]
  },
  {
   "cell_type": "markdown",
   "metadata": {
    "slideshow": {
     "slide_type": "subslide"
    }
   },
   "source": [
    "Thus far, we have achieved unit variance during the forward pass.\n",
    "\n",
    "During back propagation\n",
    "- It can be  shown that the scaling factor\n",
    "- Depends on the number of outputs $n_\\llp$ of layer $\\ll$, rather than the number of inputs $n_{(\\ll-1)}$\n",
    "    - because we move from deep to shallow in the backward pass\n",
    "    - rather than shallow to deep as n the forward pass\n",
    "- Thus, the scaling factor needs to be $\\frac{1}{\\sqrt{n_\\llp}}$ rather than $\\frac{1}{\\sqrt{n_{(\\ll-1)}}}$"
   ]
  },
  {
   "cell_type": "markdown",
   "metadata": {
    "slideshow": {
     "slide_type": "subslide"
    }
   },
   "source": [
    "Taking the average of the two scaling factors gives a final factor of\n",
    "$\\frac{1}{\\sqrt{ \\frac{ n_{(\\ll-1)} + n_\\llp}{2} } } = \\sqrt{\\frac{2}{n_{(\\ll-1)} + n_\\llp}}\n",
    "$\n",
    "\n",
    "which is what you often see in papers using this form of initialization."
   ]
  },
  {
   "cell_type": "markdown",
   "metadata": {
    "slideshow": {
     "slide_type": "slide"
    }
   },
   "source": [
    "## Kaiming/He initialization\n",
    "\n",
    "Glorot/Xavier initialization was tailored to two particular activation functions ($\\tanh$ or sigmoid).\n",
    "\n",
    "[Kaiming et al](https://arxiv.org/pdf/1502.01852.pdf) extended the results\n",
    "to the ReLU activation."
   ]
  },
  {
   "cell_type": "markdown",
   "metadata": {
    "slideshow": {
     "slide_type": "subslide"
    }
   },
   "source": [
    "The ReLU activation has two distinct regions: one linear (for inputs greater than 0) and one all zero.\n",
    "\n",
    "The linear region of the activation corresponds to the assumption of the Glorot method.\n",
    "\n",
    "So if inputs to the ReLU are equally distributed around 0, this is approximately the same\n",
    "as the Glorot method with half the number of inputs.\n",
    "- that is: half of the ReLU's will be in the active region and half will be in the inactive region."
   ]
  },
  {
   "cell_type": "markdown",
   "metadata": {
    "slideshow": {
     "slide_type": "subslide"
    }
   },
   "source": [
    "The Kaiming scaling factor is thus:\n",
    "$$\n",
    "\\sqrt{\\frac{2}{n_{(\\ll-1)}} }\n",
    "$$\n",
    "in order to preserve unit variance."
   ]
  },
  {
   "cell_type": "markdown",
   "metadata": {
    "slideshow": {
     "slide_type": "slide"
    }
   },
   "source": [
    "## Limits of good initialization\n",
    "\n",
    "The Glorot and Kaiming/He initializers implicitly assume\n",
    "- a sequential network: connections only between consecutive layers\n",
    "\n",
    "It has been observed that, when Residual connections are allowed, the analysis is flawed.\n",
    "\n",
    "Other techniques (such as Batch Normalization, to be introduced shortly) must be used."
   ]
  },
  {
   "cell_type": "markdown",
   "metadata": {
    "slideshow": {
     "slide_type": "slide"
    }
   },
   "source": [
    "## Layer-wise pre-training\n",
    "\n",
    "In the early days of Deep Learning\n",
    "- Before good weight initialization techniques were discovered\n",
    "- A technique called *Layer-wise pre-training* was very popular\n",
    "\n",
    "We can motivate this technique by briefly introducing an Autoencoder network.\n"
   ]
  },
  {
   "cell_type": "markdown",
   "metadata": {
    "slideshow": {
     "slide_type": "subslide"
    }
   },
   "source": [
    "<table>\n",
    "    <tr>\n",
    "        <th><center>Autoencoder</center></th>\n",
    "    </tr>\n",
    "    <tr>\n",
    "        <td>\n",
    "            <img src=\"images/Autoencoder_vanilla.png\">\n",
    "        </td>\n",
    "    </tr>\n",
    "</table>"
   ]
  },
  {
   "cell_type": "markdown",
   "metadata": {
    "slideshow": {
     "slide_type": "subslide"
    }
   },
   "source": [
    "An Autoencoder network has two parts\n",
    "- An Encoder, which takes input $\\x$ and \"encodes\" it into $\\z$\n",
    "- A Decoder, which takes the encoding $\\z$ and tries to reproduce $\\x$\n",
    "\n",
    "Each part has its own weights, which can be discovered through training, with examples\n",
    "- $\\langle \\X, \\y \\rangle = \\langle \\X, \\X \\rangle$\n",
    "\n",
    "That is: we are asking the output to be identical to the input."
   ]
  },
  {
   "cell_type": "markdown",
   "metadata": {
    "slideshow": {
     "slide_type": "subslide"
    }
   },
   "source": [
    "This will not be possible\n",
    "when the dimension of $\\z$ is less than the dimension of $\\x$.\n",
    "- $\\z$ is a *bottle-neck*\n",
    "\n",
    "$\\z$ becomes a *reduced-dimensionality* approximation of $\\x$.\n",
    "\n",
    "This is quite similar to discovering Principal Components.\n",
    "- We discover a small number of synthetic features $\\z$ that summarize the diversity of $\\y_{(\\ll-1)}$"
   ]
  },
  {
   "cell_type": "markdown",
   "metadata": {
    "slideshow": {
     "slide_type": "subslide"
    }
   },
   "source": [
    "What does this have to do with layer-wise initialization of weights ?\n",
    "- We construct an Autoencoder with layer $\\ll$ serving the role of the Encoder\n",
    "- We \n",
    "    - train the Autoencoder on layer $\\ll$ inputs\n",
    "    - and subsequently discard the Decoder\n",
    "\n",
    "The weights for layer $\\ll$ obtained from Autoencoder training\n",
    "- are non-random\n",
    "- meaningful in the sense that they solve the Autoencoding task\n",
    "- hopefully transfer to our original task better than random weights\n",
    "\n"
   ]
  },
  {
   "cell_type": "markdown",
   "metadata": {
    "slideshow": {
     "slide_type": "subslide"
    }
   },
   "source": [
    "The weights we create\n",
    "- Are not random, they meet the Autoencoder task objective\n",
    "- Perhaps non-random weights are better initializers because they discover some structure of the input\n",
    "\n",
    "Transfer Learning (the subject of another module) works in a similar manner\n",
    "- Use the weights obtained from training on a Source task\n",
    "- To use as initial weights for a second Target task"
   ]
  },
  {
   "cell_type": "markdown",
   "metadata": {
    "slideshow": {
     "slide_type": "slide"
    }
   },
   "source": [
    "# Batch Normalization\n",
    "\n",
    "We addressed the importance of normalization of the inputs to layer $\\ll = 1$.\n",
    "\n",
    "But confining our attention to layer $1$ is not sufficient\n",
    "- The same argument for normalization of layer inputs applies to *all* layers $\\ll > 0$.\n",
    "- Initialization occurs only before the first mini-batch of the first epoch\n",
    "    - need to maintain a good distribution across all mini-batches and all epochs\n"
   ]
  },
  {
   "cell_type": "markdown",
   "metadata": {
    "slideshow": {
     "slide_type": "subslide"
    }
   },
   "source": [
    "This motivates the introduction of a new class of layer-types: Normalization layers\n",
    "\n",
    "- These layer types attempt to keep the distribution of $\\y_{\\llp,j}$\n",
    "normalized through all layers $\\ll$ and training steps\n",
    "- They become most necessary for *very deep* (large number of layers) networks\n",
    "\n",
    "Normalization layers were one of the innovations that advanced Deep Learning\n",
    "by enabling learning in networks of extreme depth."
   ]
  },
  {
   "cell_type": "markdown",
   "metadata": {
    "slideshow": {
     "slide_type": "subslide"
    }
   },
   "source": [
    "\n",
    "\n",
    "**Reference**\n",
    "\n",
    "[Batch Normalization paper](https://arxiv.org/abs/1502.03167)\n",
    "\n",
    "If our goal is to ensure that the output distribution of each layer is identical\n",
    "- there is a simple solution\n",
    "- apply a standardization layer to each activation output to ensure mean $0$, variance outputs\n",
    "\n",
    "Batch Normalization is a layer type that essentially carries out this standardization"
   ]
  },
  {
   "cell_type": "markdown",
   "metadata": {
    "slideshow": {
     "slide_type": "subslide"
    }
   },
   "source": [
    "It is called  *batch* normalization because\n",
    "- the mean and variance used for standardization is computed on a *per batch* basis\n",
    "- hopefully, each batch's statistics are an approximation of the statistics of the true training distribution"
   ]
  },
  {
   "cell_type": "markdown",
   "metadata": {
    "slideshow": {
     "slide_type": "subslide"
    }
   },
   "source": [
    "Experimental results show that the technique:\n",
    "- facilitates the use of much higher learning rates, thus speeding training.  Accuracy is not lost.\n",
    "- facilitates the use of saturating activations functions (e.g., $\\tanh$ and sigmoid) which otherwise are subject to vanishing/exploding gradients.\n",
    "- acts as a regularizer; reduces the need for Dropout\n",
    "    - L2 regularization (weight decay) has *no* regularizing effect when used with Batch Normalization !\n",
    "        - [see](https://arxiv.org/abs/1706.05350)\n",
    "        - L2 regularization affects scale of weights, and thereby learning rate"
   ]
  },
  {
   "cell_type": "markdown",
   "metadata": {
    "slideshow": {
     "slide_type": "subslide"
    }
   },
   "source": [
    "## Details\n",
    "\n",
    "Consider a layer $\\ll$ computing\n",
    "$$\n",
    "\\y_\\llp = a_\\llp( f_\\llp(\\y_{(\\ll-1)}, W_\\llp) )\n",
    "$$\n",
    "\n",
    "We use \n",
    "- superscript $i$ to denote the value of $\\y_\\llp$ when the Neural Network input\n",
    "is example $i$.\n",
    "- $m_B$ to denote the number of examples in a mini-batch."
   ]
  },
  {
   "cell_type": "markdown",
   "metadata": {
    "slideshow": {
     "slide_type": "subslide"
    }
   },
   "source": [
    "Batch Normalization of layer $\\ll$ output is defined by the following equations\n",
    "- producing standardized output $\\z^\\ip$ given \n",
    "Neural Network input\n",
    "is example $i$.\n",
    "\n",
    "$\n",
    "\\begin{split}\n",
    "1.\\quad & \\mathbf{\\mu}_B = \\dfrac{1}{m_B}\\sum\\limits_{i=1}^{m_B}{\\y_\\llp^\\ip} & \\quad  \\text{Batch mean}\\\\\n",
    "2.\\quad & {\\mathbf{\\sigma}_B}^2 = \\dfrac{1}{m_B}\\sum\\limits_{i=1}^{m_B}{(\\y_\\llp^\\ip - \\mathbf{\\mu}_B)^2} & \\quad \\text{Batch variance} \\\\\n",
    "3.\\quad & \\hat\\y_\\llp^\\ip = \\dfrac{\\y_\\llp^\\ip - \\mathbf{\\mu}_B}{\\sqrt{{\\mathbf{\\sigma}_B}^2 + \\epsilon}} & \\quad \\text{Standardize } \\y_\\llp^\\ip\\\\\n",
    "4.\\quad & \\mathbf{z}^\\ip = \\gamma \\hat\\y_\\llp^\\ip + \\beta  & \\quad \\text{De-Standardize } \\hat\\x^\\ip  \\text{ with learned mean and variance}\\\\\n",
    "\\end{split}\n",
    "$"
   ]
  },
  {
   "cell_type": "markdown",
   "metadata": {
    "slideshow": {
     "slide_type": "subslide"
    }
   },
   "source": [
    "**Notes**\n",
    "- The $\\epsilon$ in the denominator is there solely to prevent \"divide by 0\" errors\n",
    "- The statistics are computed for each feature\n",
    "    - so $\\mu_B$ and $\\sigma_B$ are vectors of length $n_\\llp$\n",
    "- Normalization is sometimes defined with respect to \n",
    "    - the pre-activation outputs $f_\\llp(\\y_{(\\ll-1)}, W_\\llp)$\n",
    "    - rather than the activation outputs $\\y_\\llp$\n",
    "    \n"
   ]
  },
  {
   "cell_type": "markdown",
   "metadata": {
    "slideshow": {
     "slide_type": "subslide"
    }
   },
   "source": [
    "The first 3 steps is simple standardization by the mean and variance of the mini-batch.\n",
    "\n",
    "But: after we obtain standardized $\\hat\\y_\\llp^\\ip$ we \n",
    "- shift the mean from $0$ to $\\beta$\n",
    "- scale the standard deviation by $\\gamma$\n",
    "- to obtain the final output $\\z^\\ip$\n",
    "\n",
    "where $\\beta$ and $\\gamma$ are **learned parameters**."
   ]
  },
  {
   "cell_type": "markdown",
   "metadata": {
    "slideshow": {
     "slide_type": "subslide"
    }
   },
   "source": [
    "What is the point of changing from the distribution to mean $\\beta$, variance $\\gamma^2$ ?\n",
    "\n",
    "It can't hurt:\n",
    "- if the optimal values are $\\beta = 0$ and $\\gamma = 1$ so that $\\z^\\ip = \\hat\\y_\\llp^\\ip$\n",
    "    - these are the values that will be learned\n",
    "- if there is an advantage to the shift: it will be learned    \n",
    "    - if we are normalizing the pre-activation inputs (rather than the activation outputs)\n",
    "    - the standardized $\\hat\\y_\\llp^\\ip$ may wind up in a linear region of the activation function\n",
    "    - resulting in a linear transformation\n",
    "    - shifting may move the result to a non-linear part of the activation function\n",
    "        - resulting in a non-linear transformation: more powerful\n"
   ]
  },
  {
   "cell_type": "markdown",
   "metadata": {
    "slideshow": {
     "slide_type": "subslide"
    }
   },
   "source": [
    "At inference time\n",
    "- all the parameters ($\\mu_B, \\sigma_B, \\beta, \\gamma$) are fixed\n",
    "- the $\\mu_B$ and $\\sigma_B$ used for each batch are *identical* across mini-batches\n",
    "    - are \"population\" statistics $\\mu, \\sigma$ computed over the full training dataset\n",
    "    - usually by a decaying moving average\n"
   ]
  },
  {
   "cell_type": "markdown",
   "metadata": {
    "slideshow": {
     "slide_type": "subslide"
    }
   },
   "source": [
    "Keras has a `BatchNormalization` layer type to perform Batch Normalization of its inputs.\n",
    "\n",
    "\n",
    "\n",
    "Using our running example as illustration\n",
    "- The following chart shows the effect of adding a `BatchNormalization` layer after the first few `Dense` layers\n",
    "\n",
    "\n",
    "<table>\n",
    "    <tr>\n",
    "        <td><center>RELU</center></td> \n",
    "        <td><center>SIGMOID</center></td>\n",
    "        <td><center>TANH</center></td>\n",
    "    </tr>\n",
    "    <tr>\n",
    "        <td colspan=\"3\">\n",
    "            <img src=\"images/tnn_loss_and_acc_bn.png\">\n",
    "    </tr>\n",
    "</table>"
   ]
  },
  {
   "cell_type": "markdown",
   "metadata": {
    "slideshow": {
     "slide_type": "subslide"
    }
   },
   "source": [
    "We observe that `BatchNormalization`\n",
    "- when used on the network with Sigmoid activations\n",
    "- significantly improves the Loss and Accuracy compared to the network without it\n",
    "- We can see the output of the `BatchNormalization` layer roughly maintains\n",
    "    - mean $0$ and unit variance across epochs\n",
    "    \n",
    "<table>\n",
    "    <tr>\n",
    "        <td><center>RELU</center></td> \n",
    "        <td><center>SIGMOID</center></td>\n",
    "        <td><center>TANH</center></td>\n",
    "    </tr>\n",
    "    <tr>\n",
    "        <td colspan=\"3\">\n",
    "            <img src=\"images/tnn_activations_bn.png\">\n",
    "    </tr>\n",
    "</table>"
   ]
  },
  {
   "cell_type": "markdown",
   "metadata": {
    "slideshow": {
     "slide_type": "subslide"
    }
   },
   "source": [
    "## Conclusion\n",
    "\n",
    "\n",
    "Batch Normalization is almost a \"magic bullet\" for training\n",
    "- avoids problems caused by covariate shift\n",
    "- and *also* facilitates higher learning rates\n",
    "    - accelerating training\n"
   ]
  },
  {
   "cell_type": "markdown",
   "metadata": {
    "slideshow": {
     "slide_type": "subslide"
    }
   },
   "source": [
    "There are some theories as to why it enables higher learning rates\n",
    "- the weights are updated by the product of the learning rate and the derivatives\n",
    "    - by controlling the size of the derivatives\n",
    "    - we can use a larger learning rate\n",
    "    - without increasing the size of the update\n",
    "- the $\\mu_B$ and $\\sigma_B$ of each mini-batch are *noisy estimates* of the training set's mean and variance\n",
    "    - since these values vary by mini-batch, noise is added to training\n",
    "    - act as a form of regularization\n",
    "        - forcing the Neural Network's weights to not overly-adapt to each batch\n",
    "        - similar to the regularization effect seen in Dropout.\n"
   ]
  },
  {
   "cell_type": "markdown",
   "metadata": {
    "slideshow": {
     "slide_type": "slide"
    }
   },
   "source": [
    "## Final words\n",
    "\n",
    "There are several other common forms of Normalization:\n",
    "- [Layer Normalization](https://www.tensorflow.org/api_docs/python/tf/keras/layers/LayerNormalization)\n",
    "- [Group Normalization](https://www.tensorflow.org/addons/api_docs/python/tfa/layers/GroupNormalization)\n",
    "\n",
    "In practice, to mitigate the cost to training and inference\n",
    "- normalization layers are only applied every few layers, not for every layer\n",
    "\n",
    "There is also some controversy over the wisdom of [using both Batch Normalization and Dropout](https://arxiv.org/pdf/1801.05134.pdf). Essentially:\n",
    "- Dropout causes the batch statistics computed at training time\n",
    "- to differ from the population statistics of the training dataset\n",
    "- which means that the test dataset does not reflect the same distribution as was used in training\n"
   ]
  },
  {
   "cell_type": "markdown",
   "metadata": {
    "slideshow": {
     "slide_type": "slide"
    }
   },
   "source": [
    "## BatchNormalization and Transfer Learning (subtlety)\n",
    "\n",
    "This is a subtle and technical point involving using\n",
    "- Pre-trained models\n",
    "- In Transfer Learning (a subsequent module)\n",
    "\n",
    "You might want to revisit this section once you start to use Pre-Trained models and Transfer Learning."
   ]
  },
  {
   "cell_type": "markdown",
   "metadata": {
    "slideshow": {
     "slide_type": "subslide"
    }
   },
   "source": [
    "Transfer Learning in a nutshell:\n",
    "- freeze the weights of a Pre-Trained \"Base\" model that has been trained on a Source Task, using many examples\n",
    "- train *only* newly added layers in order to adapt the augmented model to a Target task\n",
    "    - using a *small* number of training examples for the Target Task\n",
    "- this is an effective way to solve a new Target Task with less effort than training a model from scratch\n",
    "    - \"Transfer\" the knowledge encoded in the parameters during training of the Source Task\n",
    "        - to the Target Task"
   ]
  },
  {
   "cell_type": "markdown",
   "metadata": {
    "slideshow": {
     "slide_type": "subslide"
    }
   },
   "source": [
    "The issue arises from freezing the base model when it contains normalization layers\n",
    "- Batch Normalization layers are unique in that they contain *non-trainable* weights\n",
    "    - in addition to the usual trainable weights\n",
    "    - the non-trainable weights are the batch statistics\n",
    "        - computed values, but not part of the trainable weights\n",
    "\n",
    "The question becomes: what happens to the non-trainable weights during training when the layer is frozen ?"
   ]
  },
  {
   "cell_type": "markdown",
   "metadata": {
    "slideshow": {
     "slide_type": "subslide"
    }
   },
   "source": [
    "The answer revolves around a technical distinction between *inference mode* and *frozen state*\n",
    "- \"Inference mode\" is what happens when the model is not training\n",
    "    - For `BatchNormalization`: uses the population statistics during *inference*\n",
    "- \"Frozen state\" is what happens during training when a layer's weights are frozen; `layer.trainable = False`\n",
    "    - recall: the batch statistics are *not* trainable weights, so should not be affected by `layer.trainable`\n",
    "        - might expect batch statistics to always be used\n",
    "    - For `BatchNormalization`, it was decided instead\n",
    "        - `layer.trainable = False` means the layer operates in *inference model*\n",
    "            - even when the model is training (i.e, not performing inference)\n",
    "        -  results in using the population statistics during *training*\n",
    "            - rather than batch statistics\n",
    "    "
   ]
  },
  {
   "cell_type": "markdown",
   "metadata": {
    "slideshow": {
     "slide_type": "subslide"
    }
   },
   "source": [
    "One reason for this decision\n",
    "- in Transfer Learning, we usually set `trainable = False` for the *entire model*\n",
    "    - which recursively sets `trainable = False` for all the model layers\n",
    "        - including `BatchNormalization`\n",
    "    - rather than freezing layers individually\n",
    "    - it is therefore easy to accidentally set `trainable = False` for `BatchNormalization`\n",
    "    \n",
    "So the decision was made to treat `trainable = False` for `BatchNormalization` layers\n",
    "- in a non-standard way\n",
    "- to capture the user's intent during Transfer Learning"
   ]
  },
  {
   "cell_type": "markdown",
   "metadata": {
    "slideshow": {
     "slide_type": "slide"
    }
   },
   "source": [
    "# Conclusion\n",
    "\n",
    "Maintaining good properties of layer inputs throughout the depth of a multi-layer network\n",
    "is like priming a pump.\n",
    "\n",
    "Proper priming helps our learning to flow smoothly.\n",
    "\n",
    "We explored some of the stumbling blocks to learning (weight update) along with their solutions."
   ]
  },
  {
   "cell_type": "code",
   "execution_count": 5,
   "metadata": {
    "slideshow": {
     "slide_type": "slide"
    }
   },
   "outputs": [
    {
     "name": "stdout",
     "output_type": "stream",
     "text": [
      "Done\n"
     ]
    }
   ],
   "source": [
    "print(\"Done\")"
   ]
  }
 ],
 "metadata": {
  "celltoolbar": "Slideshow",
  "kernelspec": {
   "display_name": "Python 3",
   "language": "python",
   "name": "python3"
  },
  "language_info": {
   "codemirror_mode": {
    "name": "ipython",
    "version": 3
   },
   "file_extension": ".py",
   "mimetype": "text/x-python",
   "name": "python",
   "nbconvert_exporter": "python",
   "pygments_lexer": "ipython3",
   "version": "3.7.4"
  },
  "toc": {
   "base_numbering": 1,
   "nav_menu": {},
   "number_sections": true,
   "sideBar": true,
   "skip_h1_title": false,
   "title_cell": "Table of Contents",
   "title_sidebar": "Contents",
   "toc_cell": false,
   "toc_position": {
    "height": "calc(100% - 180px)",
    "left": "10px",
    "top": "150px",
    "width": "370.547px"
   },
   "toc_section_display": true,
   "toc_window_display": true
  }
 },
 "nbformat": 4,
 "nbformat_minor": 2
}
