{
 "cells": [
  {
   "cell_type": "code",
   "execution_count": 1,
   "metadata": {
    "slideshow": {
     "slide_type": "notes"
    }
   },
   "outputs": [
    {
     "data": {
      "text/latex": [
       "$$\n",
       "\\newcommand{\\x}{\\mathbf{x}}\n",
       "\\newcommand{\\tx}{\\tilde{\\x}}\n",
       "\\newcommand{\\y}{\\mathbf{y}}\n",
       "\\newcommand{\\b}{\\mathbf{b}}\n",
       "\\newcommand{\\c}{\\mathbf{c}}\n",
       "\\newcommand{\\e}{\\mathbf{e}}\n",
       "\\newcommand{\\z}{\\mathbf{z}}\n",
       "\\newcommand{\\h}{\\mathbf{h}}\n",
       "\\newcommand{\\u}{\\mathbf{u}}\n",
       "\\newcommand{\\v}{\\mathbf{v}}\n",
       "\\newcommand{\\w}{\\mathbf{w}}\n",
       "\\newcommand{\\W}{\\mathbf{W}}\n",
       "\\newcommand{\\X}{\\mathbf{X}}\n",
       "\\newcommand{\\KL}{\\mathbf{KL}}\n",
       "\\newcommand{\\E}{{\\mathbb{E}}}\n",
       "\\newcommand{\\ip}{\\mathbf{{(i)}}}\n",
       "%\n",
       "% Test set\n",
       "\\newcommand{\\xt}{\\underline{\\x}}\n",
       "\\newcommand{\\yt}{\\underline{\\y}}\n",
       "\\newcommand{\\Xt}{\\underline{\\X}}\n",
       "\\newcommand{\\perfm}{\\mathcal{P}}\n",
       "%\n",
       "% \\ll indexes a layer; we can change the actual letter\n",
       "\\newcommand{\\ll}{l}\n",
       "\\newcommand{\\llp}{{(\\ll)}}\n",
       "%\n",
       "\\newcommand{Thetam}{\\Theta_{-0}}\n",
       "\n",
       "% CNN\n",
       "\\newcommand{\\kernel}{\\mathbf{k}} \n",
       "\\newcommand{\\dim}{d}\n",
       "\\newcommand{\\idxspatial}{{\\text{idx}}}\n",
       "\\newcommand{\\summaxact}{\\text{max}}\n",
       "%\n",
       "%\n",
       "\n",
       "% RNN\n",
       "% \\tt indexes a time step\n",
       "\\newcommand{\\tt}{t}\n",
       "\\newcommand{\\tp}{{(\\tt)}}\n",
       "%\n",
       "%\n",
       "\n",
       "% LSTM\n",
       "\\newcommand{\\g}{\\mathbf{g}}\n",
       "\\newcommand{\\remember}{\\mathbf{remember}}\n",
       "\\newcommand{\\save}{\\mathbf{save}}\n",
       "\\newcommand{\\focus}{\\mathbf{focus}}\n",
       "%\n",
       "%\n",
       "% NLP\n",
       "\\newcommand{\\Vocab}{\\mathbf{V}}\n",
       "\\newcommand{\\v}{\\mathbf{v}}\n",
       "\\newcommand{\\offset}{o}\n",
       "\\newcommand{\\o}{o}\n",
       "\\newcommand{\\E}{\\mathbf{E}}\n",
       "%\n",
       "%\n",
       "\\newcommand{\\loss}{\\mathcal{L}}\n",
       "\\newcommand{\\cost}{\\mathcal{L}}\n",
       "%\n",
       "%                     \n",
       "\\newcommand{\\pdata}{p_\\text{data}}\n",
       "\\newcommand{\\pmodel}{p_\\text{model}}\n",
       "%\n",
       "% SVM\n",
       "\\newcommand{\\margin}{{\\mathbb{m}}}\n",
       "\\newcommand{\\lmk}{\\boldsymbol{\\ell}}\n",
       "%\n",
       "% Functions with arguments\n",
       "\\def\\xsy#1#2{#1^#2}\n",
       "\\def\\rand#1{\\tilde{#1}}\n",
       "\\def\\randx{\\rand{\\x}}\n",
       "\\def\\randy{\\rand{\\y}}\n",
       "\\def\\trans#1{\\dot{#1}}\n",
       "\\def\\transx{\\trans{\\x}}\n",
       "\\def\\transy{\\trans{\\y}}\n",
       "%\n",
       "\\def\\argmax#1{\\underset{#1} {\\operatorname{argmax}} }\n",
       "\\def\\argmin#1{\\underset{#1} {\\operatorname{argmin}} }\n",
       "\\def\\max#1{\\underset{#1} {\\operatorname{max}} }\n",
       "\\def\\min#1{\\underset{#1} {\\operatorname{min}} }\n",
       "%\n",
       "\\def\\pr#1{\\mathcal{p}(#1)}\n",
       "\\def\\prc#1#2{\\mathcal{p}(#1 \\; | \\; #2)}\n",
       "\\def\\cnt#1{\\mathcal{count}_{#1}}\n",
       "\\def\\node#1{\\mathbb{#1}}\n",
       "%\n",
       "\\newcommand{\\floor}[1]{\\left\\lfloor #1 \\right\\rfloor}\n",
       "\\newcommand{\\ceil}[1]{\\left\\lceil #1 \\right\\rceil}\n",
       "%\n",
       "\\def\\loc#1{{\\text{##} {#1}}}\n",
       "%\n",
       "$$\n"
      ],
      "text/plain": [
       "<IPython.core.display.Latex object>"
      ]
     },
     "metadata": {},
     "output_type": "display_data"
    }
   ],
   "source": [
    "%run Latex_macros.ipynb\n",
    "%run beautify_plots.py"
   ]
  },
  {
   "cell_type": "markdown",
   "metadata": {
    "slideshow": {
     "slide_type": "notes"
    }
   },
   "source": [
    "$$\n",
    "\\newcommand{\\o}{\\mathbf{o}}\n",
    "$$\n"
   ]
  },
  {
   "cell_type": "code",
   "execution_count": 2,
   "metadata": {
    "slideshow": {
     "slide_type": "notes"
    }
   },
   "outputs": [],
   "source": [
    "# My standard magic !  You will see this in almost all my notebooks.\n",
    "\n",
    "from IPython.core.interactiveshell import InteractiveShell\n",
    "InteractiveShell.ast_node_interactivity = \"all\"\n",
    "\n",
    "# Reload all modules imported with %aimport\n",
    "%load_ext autoreload\n",
    "%autoreload 1\n",
    "%matplotlib inline"
   ]
  },
  {
   "cell_type": "code",
   "execution_count": 3,
   "metadata": {
    "slideshow": {
     "slide_type": "notes"
    }
   },
   "outputs": [],
   "source": [
    "# Standard imports\n",
    "import pandas as pd\n",
    "import numpy as np\n",
    "import matplotlib.pyplot as plt\n",
    "\n",
    "# Common imports\n",
    "import os\n",
    "\n",
    "import mnist_helper\n",
    "%aimport mnist_helper\n",
    "\n",
    "mnh = mnist_helper.MNIST_Helper()\n",
    "\n",
    "import class_helper\n",
    "%aimport class_helper\n",
    "\n",
    "clh= class_helper.Classification_Helper()\n",
    "\n",
    "import training_models_helper as tmh\n",
    "%aimport training_models_helper\n",
    "\n",
    "tm = tmh.TrainingModelsHelper()"
   ]
  },
  {
   "cell_type": "markdown",
   "metadata": {
    "slideshow": {
     "slide_type": "slide"
    }
   },
   "source": [
    "# The dummy variable trap for Linear Regression\n",
    "Suppose we have categorical variable `Sex` with categories (discrete values)  $\\{ \\text{Female}, \\text{Male} \\}$\n",
    "\n",
    "One Hot Encoding represents each value as a vector $\\mathbf{Is}$ of length 2\n",
    "- Replace feature `Sex`\n",
    "- with the two binary valued *indicator* variables\n",
    "    - $\\mathbf{Is}_\\text{Female}, \\mathbf{Is}_\\text{Male}$"
   ]
  },
  {
   "cell_type": "markdown",
   "metadata": {
    "slideshow": {
     "slide_type": "subslide"
    }
   },
   "source": [
    "So for example $i$ \n",
    "- where $\\text{Sex}^\\ip = \\text{Female}$\n",
    "- $\\mathbf{Is}^\\ip_\\text{Female} =1, \\mathbf{Is}^\\ip_\\text{Male} = 0$\n",
    "\n",
    "And for example $i'$\n",
    "- where $\\text{Sex}^{(i')} = \\text{Male}$\n",
    "- $\\mathbf{Is}^{(i')}_\\text{Female} = 0, \\mathbf{Is}^{(i')}_\\text{Male} = 1$"
   ]
  },
  {
   "cell_type": "markdown",
   "metadata": {
    "slideshow": {
     "slide_type": "subslide"
    }
   },
   "source": [
    "If we were to use the OHE in a Linear Regression, the design matrix might look something like\n",
    "\n",
    "$\n",
    "  \\X' = \\begin{pmatrix}\n",
    "  \\mathbf{const} & \\mathbf{Is}_\\text{Female} & \\mathbf{Is}_\\text{Male} & \\ldots\\\\\n",
    "  1 &  1 & 0 &   \\ldots \\\\ \n",
    "  \\vdots \\\\\n",
    "  1 &  0 & 1 &   \\ldots\\\\ \n",
    "   \\vdots \\\\\n",
    "  \\end{pmatrix}\n",
    "  \\begin{matrix}\n",
    "  \\\\\n",
    "  \\text{Female}  \\\\ \n",
    "  \\vdots \\\\\n",
    "  \\text{Male} \\\\ \n",
    "   \\vdots \\\\\n",
    "  \\end{matrix}\n",
    "$"
   ]
  },
  {
   "cell_type": "markdown",
   "metadata": {
    "slideshow": {
     "slide_type": "subslide"
    }
   },
   "source": [
    "Note that, for every example $i$\n",
    "$$\n",
    "\\mathbf{Is}_\\text{Female}^\\ip +  \\mathbf{Is}_\\text{Male}^\\ip = 1\n",
    "$$\n",
    "\n",
    "When a categorical variable with categories from the set $C$ is encoded with OHE\n",
    "$$\n",
    "\\sum_{c \\in C} { \\mathbf{Is}^\\ip_c } = 1\n",
    "$$"
   ]
  },
  {
   "cell_type": "markdown",
   "metadata": {
    "slideshow": {
     "slide_type": "subslide"
    }
   },
   "source": [
    "Also note that $\\mathbf{const}^\\ip = 1$ for every example $i$\n",
    "so\n",
    "$$\n",
    "\\sum_{c \\in C} { \\mathbf{Is}^\\ip_c } = 1 = \\mathbf{const}^\\ip\n",
    "$$\n",
    "\n",
    "That is, for each example\n",
    "- The linear combination of some features (i.e., the set of indicator variables for a categorical variable)\n",
    "- Is exactly equal to some other feature (i.e, the constant)\n",
    "\n",
    "Such a situation is called *Perfect Multi Collinearity*."
   ]
  },
  {
   "cell_type": "markdown",
   "metadata": {
    "slideshow": {
     "slide_type": "subslide"
    }
   },
   "source": [
    "Multi collinearity (either Perfect or Imperfect) poses mathematical difficulties for Linear Regression\n",
    "and must be eliminated\n",
    "\n",
    "\n",
    "The problem manifests itself in Linear Regression as \n",
    "- Some variables with huge positive parameter values (e.g., $\\Theta_{\\mathbf{Is}_\\text{Female}}$)\n",
    "- And other variables with huge (offsetting) negative parameter values (e.g., $\\Theta_{\\mathbf{Is}_\\text{Male}}$).\n"
   ]
  },
  {
   "cell_type": "markdown",
   "metadata": {
    "slideshow": {
     "slide_type": "subslide"
    }
   },
   "source": [
    "Multi collinearity\n",
    "- Arises when categorical variables are One Hot Encoded, i.e., added dummy/indicator variables\n",
    "- Is **not necessarily** a difficulty for models other than Linear Regression\n",
    "- Is called the *Dummy Variable Trap for Linear Regression*"
   ]
  },
  {
   "cell_type": "markdown",
   "metadata": {
    "slideshow": {
     "slide_type": "subslide"
    }
   },
   "source": [
    "It may appear that the simplest way to avoid multi collinearity is to drop the constant feature $\\mathbf{const}$\n",
    "\n",
    "This will work if there is a *single* categorical variable but consider\n",
    "what happens if there is a second categorical variable\n",
    "- `Pclass` with values in $\\{ \\text{First}, \\text{Second}, \\text{Third} \\}$\n",
    "$$\n",
    "(\\mathbf{Is}_\\text{Female} +  \\mathbf{Is}_\\text{Male}) = (\\mathbf{Is}_\\text{First} +  \\mathbf{Is}_\\text{Second} + \\mathbf{Is}_\\text{Third}) = 1\n",
    "$$\n",
    "\n",
    "Thus the indicator variables encoding `Sex` are multi collinear with the binary variables encoding `Pclass`."
   ]
  },
  {
   "cell_type": "markdown",
   "metadata": {
    "slideshow": {
     "slide_type": "subslide"
    }
   },
   "source": [
    "The better solution is\n",
    "- To retain the constant $\\mathbf{const}$ variable\n",
    "- Encode a categorical variable having category values in $C$ using $( ||C|| -1 )$ binary indicator variables\n",
    "    - eliminate the indicator variable for a single category  in each class"
   ]
  },
  {
   "cell_type": "markdown",
   "metadata": {
    "slideshow": {
     "slide_type": "subslide"
    }
   },
   "source": [
    "The Linear Regression equations changes from\n",
    "$$\n",
    "\\begin{array}[lll]\\\\\n",
    "\\y & = & \\Theta_0 * \\mathbf{const} + \\Theta_{\\mathbf{Is}_\\text{Female}} * \\mathbf{Is}_\\text{Female} + \\Theta_\\text{Male} * \\mathbf{Is}_\\text{Male} \\\\\n",
    "\\text{to} \\\\\n",
    "\\y & = & \\Theta'_0 * \\mathbf{const} + \\Theta'_{\\mathbf{Is}_\\text{Female}} * \\mathbf{Is}_\\text{Female} \\\\\n",
    "\\end{array}\n",
    "$$"
   ]
  },
  {
   "cell_type": "markdown",
   "metadata": {
    "slideshow": {
     "slide_type": "subslide"
    }
   },
   "source": [
    "This will eliminate multi collinearity, but where did the indicator (binary variable)\n",
    "for the missing category go ?\n",
    "\n",
    "Answer: the constant !\n",
    "$$\n",
    "\\begin{array}[lll]\\\\\n",
    "\\Theta'_0 & = &  \\Theta_0  & + & \\Theta_\\text{Male} \\\\\n",
    "\\Theta'_\\text{Female} & = &  \\Theta_\\text{Female} & - & \\Theta_\\text{Male}\n",
    "\\end{array}\n",
    "$$\n",
    "\n"
   ]
  },
  {
   "cell_type": "markdown",
   "metadata": {
    "slideshow": {
     "slide_type": "subslide"
    }
   },
   "source": [
    "To convince yourself of this, consider the original equation for examples with either of the two \n",
    "values for `Sex`\n",
    "$$\n",
    "\\begin{array}[lll]\\\\\n",
    "\\text{Sex}^\\ip = \\text{Female}: & \\y^\\ip = \\Theta_0 + \\Theta_{\\mathbf{Is}_\\text{Female}} \\\\\n",
    "\\text{Sex}^\\ip = \\text{Male}:   & \\y^\\ip = \\Theta_0 + \\Theta_{\\mathbf{Is}_\\text{Male}} \\\\\n",
    "\\end{array}\n",
    "$$\n",
    "and the corresponding changed equations\n",
    "$$\n",
    "\\begin{array}[lll]\\\\\n",
    "\\text{Sex}^\\ip = \\text{Female}: & \\y^\\ip & = & \\Theta'_0 + \\Theta'_{\\mathbf{Is}_\\text{Female}} \\\\ \n",
    "& &   = & (\\Theta_0   +  \\Theta_{\\mathbf{Is}_\\text{Male}}) +  (\\Theta_\\text{Female} - \\Theta_{\\mathbf{Is}_\\text{Male}}) \\\\\n",
    "& &   = & \\Theta_0   + \\Theta_{\\mathbf{Is}_\\text{Female}}\\\\\n",
    "\\text{Sex}^\\ip = \\text{Male}:   & \\y^\\ip  & = & \\Theta'_0  \\\\\n",
    "& &   = & \\Theta_0  +  \\Theta_{\\mathbf{Is}_\\text{Male}} \\\\ \\\\\n",
    "\\end{array}\n",
    "$$\n",
    "\n",
    "Identical !"
   ]
  },
  {
   "cell_type": "markdown",
   "metadata": {
    "slideshow": {
     "slide_type": "subslide"
    }
   },
   "source": [
    "What has effectively happened\n",
    "- The new intercept \n",
    "    - Captures the \"base\" contribution (e.g. $\\Theta_{\\mathbf{Is}_\\text{Male}}$) of the missing category\n",
    "\n",
    "- The remaining binary variables\n",
    "    - Capture the *incremental* contribution (over the base contribution $\\Theta_{\\mathbf{Is}_\\text{Male}}$)\n",
    "    of the example being different than the base category (e.g., having  `Sex` = $\\text{Male}$)\n",
    "\n",
    "That is:\n",
    "- $\\Theta_{\\mathbf{Is}_\\text{Female}}$: *absolute* contribution to $\\hat{\\y}$ for being Female rather than Male\n",
    "- $\\Theta'_{\\mathbf{Is}_\\text{Female}}$: *incremental* contribution to $\\hat{\\y}$ for being Female\n",
    "    - Over and above the contribution for being Male"
   ]
  },
  {
   "cell_type": "markdown",
   "metadata": {
    "slideshow": {
     "slide_type": "slide"
    }
   },
   "source": [
    "# Titanic example:  why no problem when we added OHE for `Pclass` ?\n",
    "\n",
    "When we encoded `Pclass` using OHE, we didn't drop one category for the feature.\n",
    "\n",
    "How come this didn't manifest itself as large, offsetting positive/negative parameter values ?\n",
    "\n",
    "- Answer: `LogisticRegression` in `sklearn` defaults to using regularization in the loss function.\n",
    "\n",
    "Regularization skirts the issue by enforcing a constraint that restricts large values for parameters.\n",
    "\n",
    "By turning the parameter value of one indicator in a class to $0$, we effectively eliminate\n",
    "1 indicator and avoid perfect collinearity."
   ]
  },
  {
   "cell_type": "markdown",
   "metadata": {
    "slideshow": {
     "slide_type": "subslide"
    }
   },
   "source": [
    "In short: we were lucky !\n",
    "\n",
    "The regularizer that we didn't even know was there saved us.\n",
    "\n",
    "Better to be informed than lucky\n",
    "- that's why we mention the Dummy Variable trap and its solutions"
   ]
  },
  {
   "cell_type": "markdown",
   "metadata": {
    "slideshow": {
     "slide_type": "slide"
    }
   },
   "source": [
    "# Titanic example: why no problem when feature `Sex` was not OHE ?\n",
    "\n",
    "Recall our first pass at solving the Titanic classification problem\n",
    "- Categorical variable `Sex` was encoded as the single binary variable with values 0/1\n",
    "- Rather than 2 binary indicator variables $\\mathbf{Is}_\\text{Female}, \\mathbf{Is}_\\text{Male}$\n",
    "\n",
    "Essentially: our representation was equivalent to having dropped one value for the variable `Sex`"
   ]
  },
  {
   "cell_type": "markdown",
   "metadata": {
    "slideshow": {
     "slide_type": "slide"
    }
   },
   "source": [
    "**Bottom line**\n",
    "\n",
    "Some models (Linear Regression and Logistic Regression by extension) may encounter problems with OHE of features.\n",
    "\n",
    "By luck or design, we avoided any potential Dummy Variable Trap issues in the Titanic example.\n",
    "\n",
    "But it's much better to be smart than lucky: do it the right way !\n",
    "\n",
    "`sklearn` makes this easy for you\n",
    "- `OneHotEncoder` transformer has optional argument `drop` that can drop one category per feature"
   ]
  },
  {
   "cell_type": "code",
   "execution_count": 4,
   "metadata": {
    "slideshow": {
     "slide_type": "slide"
    }
   },
   "outputs": [
    {
     "name": "stdout",
     "output_type": "stream",
     "text": [
      "Done\n"
     ]
    }
   ],
   "source": [
    "print(\"Done\")"
   ]
  }
 ],
 "metadata": {
  "celltoolbar": "Slideshow",
  "kernelspec": {
   "display_name": "Python 3",
   "language": "python",
   "name": "python3"
  },
  "language_info": {
   "codemirror_mode": {
    "name": "ipython",
    "version": 3
   },
   "file_extension": ".py",
   "mimetype": "text/x-python",
   "name": "python",
   "nbconvert_exporter": "python",
   "pygments_lexer": "ipython3",
   "version": "3.7.4"
  },
  "toc": {
   "base_numbering": 1,
   "nav_menu": {},
   "number_sections": true,
   "sideBar": true,
   "skip_h1_title": false,
   "title_cell": "Table of Contents",
   "title_sidebar": "Contents",
   "toc_cell": false,
   "toc_position": {
    "height": "calc(100% - 180px)",
    "left": "10px",
    "top": "150px",
    "width": "368px"
   },
   "toc_section_display": true,
   "toc_window_display": false
  }
 },
 "nbformat": 4,
 "nbformat_minor": 2
}
