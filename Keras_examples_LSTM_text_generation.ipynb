{
 "cells": [
  {
   "cell_type": "markdown",
   "metadata": {
    "id": "DcRfl7sNhboO"
   },
   "source": [
    "Ken Perry Attribution:\n",
    "- originally derived from https://keras.io/examples/lstm_text_generation/ (link no longer valid)\n",
    "- closest active link: https://www.tensorflow.org/text/tutorials/text_generation"
   ]
  },
  {
   "cell_type": "code",
   "execution_count": 1,
   "metadata": {
    "colab": {
     "base_uri": "https://localhost:8080/"
    },
    "id": "4PLjiZkWIwGJ",
    "outputId": "c039ea36-940d-4d0f-d32c-8e00f921b486"
   },
   "outputs": [],
   "source": [
    "try:\n",
    "  from google.colab import drive\n",
    "  IN_COLAB=True\n",
    "except:\n",
    "  IN_COLAB=False\n",
    "\n",
    "if IN_COLAB:\n",
    "  print(\"We're running Colab\")"
   ]
  },
  {
   "cell_type": "code",
   "execution_count": 2,
   "metadata": {
    "colab": {
     "base_uri": "https://localhost:8080/"
    },
    "id": "uygaR2nLI0mk",
    "outputId": "4a95832c-064c-4fba-803e-ca0ab871133b"
   },
   "outputs": [
    {
     "name": "stdout",
     "output_type": "stream",
     "text": [
      "Running TensorFlow version  2.0.0\n",
      "Version 2, minor 0\n"
     ]
    }
   ],
   "source": [
    "import tensorflow as tf\n",
    "\n",
    "print(\"Running TensorFlow version \",tf.__version__)\n",
    "\n",
    "# Parse tensorflow version\n",
    "import re\n",
    "\n",
    "version_match = re.match(\"([0-9]+)\\.([0-9]+)\", tf.__version__)\n",
    "tf_major, tf_minor = int(version_match.group(1)) , int(version_match.group(2))\n",
    "print(\"Version {v:d}, minor {m:d}\".format(v=tf_major, m=tf_minor) )"
   ]
  },
  {
   "cell_type": "code",
   "execution_count": 3,
   "metadata": {
    "colab": {
     "base_uri": "https://localhost:8080/"
    },
    "id": "ndnS1x2fDTpz",
    "outputId": "0f72fdcf-9a45-4edc-95ec-76944355a637"
   },
   "outputs": [
    {
     "name": "stdout",
     "output_type": "stream",
     "text": [
      "Using CPU\n"
     ]
    }
   ],
   "source": [
    "gpu_devices = tf.config.experimental.list_physical_devices('GPU')\n",
    "if gpu_devices:\n",
    "    print('Using GPU')\n",
    "    tf.config.experimental.set_memory_growth(gpu_devices[0], True)\n",
    "else:\n",
    "    print('Using CPU')"
   ]
  },
  {
   "cell_type": "code",
   "execution_count": 4,
   "metadata": {
    "colab": {
     "base_uri": "https://localhost:8080/"
    },
    "id": "w-IH2DOpf5XZ",
    "outputId": "ace528b1-121a-43b4-9c82-145c8d1cd00d"
   },
   "outputs": [],
   "source": [
    "import os\n",
    "\n",
    "MODEL_DIR = \"/tmp\"\n",
    "\n",
    "if IN_COLAB:\n",
    "    from google.colab import drive\n",
    "    drive.mount('/content/gdrive')\n",
    "\n",
    "    DRIVE_DIR=\"/content/gdrive/My Drive/\"\n",
    "    MODEL_DIR=os.path.join(DRIVE_DIR, \"Colab Notebooks\", \"NYU\", \"Models\")\n",
    "    modelDirExists = True if os.path.isdir(MODEL_DIR) else False\n",
    "\n",
    "    if modelDirExists:\n",
    "      print(\"Saving checkpoints to \", MODEL_DIR)"
   ]
  },
  {
   "cell_type": "markdown",
   "metadata": {
    "id": "q6pLOKSng1zy"
   },
   "source": [
    "# Standard imports"
   ]
  },
  {
   "cell_type": "code",
   "execution_count": 5,
   "metadata": {
    "id": "1Vb7M8JELpAP"
   },
   "outputs": [],
   "source": [
    "from __future__ import print_function\n",
    "import tensorflow as tf\n",
    "\n",
    "\n",
    "from tensorflow.keras.callbacks import ModelCheckpoint, LambdaCallback\n",
    "\n",
    "from tensorflow.keras.models import Sequential\n",
    "from tensorflow.keras.layers import Dense, Embedding, LSTM\n",
    "from tensorflow.keras.optimizers import RMSprop\n",
    "\n",
    "import numpy as np\n",
    "import random\n",
    "import sys\n",
    "import io\n",
    "import os\n",
    "\n",
    "from tensorflow.keras.utils import plot_model\n",
    "import IPython\n",
    "\n"
   ]
  },
  {
   "cell_type": "markdown",
   "metadata": {
    "id": "h7mPvKdoRQGn"
   },
   "source": [
    "# Model specification"
   ]
  },
  {
   "cell_type": "code",
   "execution_count": 6,
   "metadata": {
    "id": "yN27sseHRPLo"
   },
   "outputs": [],
   "source": [
    "rnn_units     = 128  # 1024 in original\n",
    "embedding_dim = 32 # 20   # 256 in original\n",
    "\n",
    "BATCH_SIZE = 128 # 64 in original\n",
    "stateful=False"
   ]
  },
  {
   "cell_type": "markdown",
   "metadata": {
    "id": "rOI2b8gvg9yN"
   },
   "source": [
    "# Get the text file\n",
    "- create maps to map between characters and their integer encodings\n",
    "  - from character to integer\n",
    "  - from integer to character"
   ]
  },
  {
   "cell_type": "code",
   "execution_count": 7,
   "metadata": {
    "colab": {
     "base_uri": "https://localhost:8080/"
    },
    "id": "vNRoCXtug8oX",
    "outputId": "50fcbeee-17f3-4ebd-899f-8c3057dde49f"
   },
   "outputs": [
    {
     "name": "stdout",
     "output_type": "stream",
     "text": [
      "corpus length: 600893\n",
      "total chars: 83\n"
     ]
    }
   ],
   "source": [
    "files = { 'nietzsche':   { 'name' : 'https://s3.amazonaws.com/text-datasets/nietzsche.txt', \n",
    "                          'savedLoss': 1000 # 1.6866\n",
    "                          }, \n",
    "          'shakespeare': { 'name': 'https://storage.googleapis.com/download.tensorflow.org/data/shakespeare.txt',  \n",
    "                          'savedLoss': 1.3656 # mixed case # 1.2059  for lower case # 1000\n",
    "                          }\n",
    "         }\n",
    "\n",
    "file_key = 'nietzsche'  # 'shakespeare' #     \n",
    "path = tf.keras.utils.get_file( file_key + '.txt', files[file_key]['name'])\n",
    "savedLoss = files[file_key]['savedLoss']\n",
    "\n",
    "\n",
    "with io.open(path, encoding='utf-8') as f:\n",
    "    text = f.read()\n",
    "\n",
    "eliminateBreaks = True\n",
    "if eliminateBreaks:\n",
    "    text = text.replace(\"\\n\", \" \")\n",
    "    \n",
    "print('corpus length:', len(text))\n",
    "\n",
    "chars = sorted(list(set(text)))\n",
    "print('total chars:', len(chars))\n",
    "char_indices = dict((c, i) for i, c in enumerate(chars))\n",
    "indices_char = dict((i, c) for i, c in enumerate(chars))\n",
    "\n",
    "vocab_size = len(chars)"
   ]
  },
  {
   "cell_type": "markdown",
   "metadata": {
    "id": "JXrmtsAthNMx"
   },
   "source": [
    "# Prepare the training data: creating example sequences/targets\n",
    "- example i: maxlen consecutive characters\n",
    "  - text[i:i+ maxlen] training example: $x^{(i)}$\n",
    "  - text[maxlen] target: $y^{(i)}$\n"
   ]
  },
  {
   "cell_type": "code",
   "execution_count": 8,
   "metadata": {
    "colab": {
     "base_uri": "https://localhost:8080/"
    },
    "id": "GZdPuW6EgCRS",
    "outputId": "2f1fb04e-01c2-4c10-ddf9-4916d4dd35c2"
   },
   "outputs": [
    {
     "name": "stdout",
     "output_type": "stream",
     "text": [
      "nb sequences: 600813\n"
     ]
    }
   ],
   "source": [
    "# cut the text in semi-redundant sequences of maxlen characters\n",
    "maxlen = 80\n",
    "step = 1\n",
    "sentences = []\n",
    "next_chars = []\n",
    "for i in range(0, len(text) - maxlen, step):\n",
    "    sentences.append(text[i: i + maxlen])\n",
    "    next_chars.append(text[i + maxlen])\n",
    "print('no. sequences:', len(sentences))\n",
    "\n"
   ]
  },
  {
   "cell_type": "markdown",
   "metadata": {},
   "source": [
    "# Truncated Back Propagation Thru Time (BPTT)\n",
    "\n",
    "Arrange consecutive batches\n",
    "- so that each row in the batches spans BATCH_SIZE characters\n",
    "- the same row number in consecutive batches represents contiguous text. \n",
    "- Consider\n",
    "    - row $i$\n",
    "    - batches $b, (b+1)$\n",
    "    - batch $b$, row $i$\n",
    "        - spans $\\text{ text[ b*BATCH_SIZE : (b+1)*BATCH_SIZE ] }$\n",
    "    - batch $b+1$, row $i$\n",
    "        - spans $\\text{ text[ ( (b+1)*BATCH_SIZE) : (b+2)*BATCH_SIZE+ ]  }$\n",
    "- Require BATCH_SIZE == maxlen"
   ]
  },
  {
   "cell_type": "code",
   "execution_count": 10,
   "metadata": {},
   "outputs": [],
   "source": [
    "BATCH_SIZE = maxlen\n",
    "\n",
    "seq_len = len(text)\n",
    "num_batches = seq_len // BATCH_SIZE\n",
    "\n",
    "sentences_b, next_chars_b = [], []\n",
    "\n",
    "for batch_num in range(0, num_batches):\n",
    "    # Batch begins at bstart = batch_num * BATCH_SIZE\n",
    "    # Row i is the text spanning text[bstart +  i : bstart + BATCH_SIZE]\n",
    "    #  - Each row spans BATCH_SIZE characters start at bstart + i\n",
    "    #  - The corresponding row i in the subsequent batch is offset by BATCH_SIZE from (bstart + i)\n",
    "    #  - Thus, row i across batches is a continguous block of text\n",
    "    bstart = batch_num * BATCH_SIZE\n",
    "    \n",
    "    for i in range(0, BATCH_SIZE):\n",
    "        sentences_b.append( text[bstart: bstart + BATCH_SIZE] )\n",
    "        next_chars_b.append( text[bstart + BATCH_SIZE])"
   ]
  },
  {
   "cell_type": "code",
   "execution_count": 15,
   "metadata": {},
   "outputs": [
    {
     "name": "stdout",
     "output_type": "stream",
     "text": [
      "no. batched sequences: 600880\n"
     ]
    }
   ],
   "source": [
    "print('no. batched sequences:', len(sentences_b))\n"
   ]
  },
  {
   "cell_type": "code",
   "execution_count": 14,
   "metadata": {},
   "outputs": [
    {
     "name": "stdout",
     "output_type": "stream",
     "text": [
      "Row i across 3 consecutive batches, shown one batch at a time\n",
      "\n",
      "\t PREFACE   SUPPOSING that Truth is a woman--what then? Is there not ground for su \n",
      "\t specting that all philosophers, in so far as they have been dogmatists, have fai \n",
      "\t led to understand women--that the terrible seriousness and clumsy importunity wi\n",
      "Shown concatentated:\n",
      "\n",
      "\t PREFACE   SUPPOSING that Truth is a woman--what then? Is there not ground for suspecting that all philosophers, in so far as they have been dogmatists, have failed to understand women--that the terrible seriousness and clumsy importunity wi\n"
     ]
    }
   ],
   "source": [
    "i = 10\n",
    "print(\"Row i across 3 consecutive batches, shown one batch at a time\")\n",
    "print(\"\\n\\t\", sentences_b[i], \"\\n\\t\", sentences_b[i+BATCH_SIZE], \"\\n\\t\", sentences_b[i+2*BATCH_SIZE])\n",
    "print(\"Shown concatentated:\")\n",
    "print(\"\\n\\t\", sentences_b[i] + sentences_b[i+BATCH_SIZE] + sentences_b[i+2 * BATCH_SIZE])"
   ]
  },
  {
   "cell_type": "markdown",
   "metadata": {
    "id": "gMnLQsslpA76"
   },
   "source": [
    "# Examine the prepared input: \n",
    "- x: a prefix (of length maxlen)\n",
    "- y: the following character"
   ]
  },
  {
   "cell_type": "code",
   "execution_count": 190,
   "metadata": {
    "colab": {
     "base_uri": "https://localhost:8080/"
    },
    "id": "Y77yYH68oV1S",
    "outputId": "56534773-9a41-4624-bae6-b169fd06cd1d"
   },
   "outputs": [
    {
     "name": "stdout",
     "output_type": "stream",
     "text": [
      " i                                         x                                                 y\n",
      "   ___________________________________________________________________________________________\n",
      "[0]\tPREFACE   SUPPOSING that Truth is a woman--what then? Is there not ground for su  |  s\n",
      "[1]\tFACE   SUPPOSING that Truth is a woman--what then? Is there not ground for suspe  |  c\n",
      "[2]\tE   SUPPOSING that Truth is a woman--what then? Is there not ground for suspecti  |  n\n",
      "[3]\t SUPPOSING that Truth is a woman--what then? Is there not ground for suspecting   |  t\n",
      "[4]\tPPOSING that Truth is a woman--what then? Is there not ground for suspecting tha  |  t\n",
      "[5]\tSING that Truth is a woman--what then? Is there not ground for suspecting that a  |  l\n",
      "[6]\tG that Truth is a woman--what then? Is there not ground for suspecting that all   |  p\n",
      "[7]\that Truth is a woman--what then? Is there not ground for suspecting that all phi  |  l\n",
      "[8]\t Truth is a woman--what then? Is there not ground for suspecting that all philos  |  o\n",
      "[9]\tuth is a woman--what then? Is there not ground for suspecting that all philosoph  |  e\n"
     ]
    }
   ],
   "source": [
    "pad = len(sentences[0]) // 2\n",
    "print(\" i \" +  \" \" * pad + \"x\" + \" \" * pad + \"         \" + \"y\")\n",
    "print(\"   \" +  \"_\" * pad + \"_\" + \"_\" * pad + \"_________\" + \"_\")\n",
    "\n",
    "\n",
    "    \n",
    "for i, example in enumerate( zip(sentences, next_chars)):\n",
    "  if i > 9: break\n",
    "  else: pass\n",
    "  (sentence, next_char) = example\n",
    "  print(\"[{i:d}]\\t{sent:s}  |  {targ:s}\".format(i=i, sent=sentence.replace(\"\\n\", \" \"), targ=next_char))"
   ]
  },
  {
   "cell_type": "markdown",
   "metadata": {
    "id": "6O5sy7RWiJGj"
   },
   "source": [
    "# Prepare the input\n",
    "- Preparation differs depending on whether the first layer of the model is Embedding\n",
    "  - if it is: No need to OHE.  Embedding takes integers as input\n",
    "  - it it is NOT: OHE the input \n",
    "    - For example $i$: only encode $x^{(i)}$\n",
    "    - $y^{(i)}$ can remain an integer if you change the loss type to \"sparse_categorical..\" from \"categorical..\""
   ]
  },
  {
   "cell_type": "code",
   "execution_count": 191,
   "metadata": {
    "id": "kzkczyaeh8k5"
   },
   "outputs": [],
   "source": [
    "def OHE(sentences, maxlen, vocab_size, Debug=False):\n",
    "  if Debug:\n",
    "   print('Vectorization...')\n",
    "\n",
    "  x = np.zeros((len(sentences), maxlen, vocab_size), dtype=bool)\n",
    "  # y = np.zeros((len(sentences), len(chars)), dtype=bool)\n",
    "  y = np.zeros(len(sentences))\n",
    " \n",
    "  for i, sentence in enumerate(sentences):\n",
    "      for t, char in enumerate(sentence):\n",
    "          x[i, t, char_indices[char]] = 1\n",
    "      # Don't need to OHE target if loss type is \"sparse_categorical...\" rather than \"categorical..\"\n",
    "      # y[i, char_indices[next_chars[i]]] = 1\n",
    "      y[i] = char_indices[next_chars[i]]\n",
    "\n",
    "  return x, y\n",
    "\n",
    "def embedding_prep(sentences, maxlen, vocab_size, Debug=False):\n",
    "  if Debug:\n",
    "   print(\"Prepare for Embedding as first layer...\")\n",
    "   \n",
    "  x = np.zeros( (len(sentences), maxlen) )\n",
    "  y = np.zeros(len(sentences))\n",
    "\n",
    "  for i, sentence in enumerate(sentences):\n",
    "      for t, char in enumerate(sentence):\n",
    "          x[i, t] = char_indices[char]\n",
    "      y[i] = char_indices[next_chars[i]]\n",
    "\n",
    "  return x, y\n",
    "\n",
    "if embedding_dim is None:\n",
    "  x,  y = OHE(sentences, maxlen, vocab_size)\n",
    "else:\n",
    "  x, y = embedding_prep(sentences, maxlen, vocab_size)\n"
   ]
  },
  {
   "cell_type": "markdown",
   "metadata": {
    "id": "co02Jvz6lQe0"
   },
   "source": [
    "# Examine the input shape\n",
    "- $x^{(i)}_{(t),j}$ is found at  $x[ i, t, j ]$\n",
    "\n",
    "  - example i\n",
    "  - time step/sequence element t\n",
    "  - a sequence element is a vector, index at position j\n",
    "    - length of OHE (number of distinct characters)"
   ]
  },
  {
   "cell_type": "code",
   "execution_count": 192,
   "metadata": {
    "colab": {
     "base_uri": "https://localhost:8080/"
    },
    "id": "8yxV52HOlS_e",
    "outputId": "85abe31e-f395-4696-ef75-98d54e292f3d"
   },
   "outputs": [
    {
     "name": "stdout",
     "output_type": "stream",
     "text": [
      "X shape:  (200271, 80)\n",
      "\tNumber of examples:  200271\n",
      "\tEach example is sequence of length  80\n",
      "\tEach element of the sequence is a scalar\n"
     ]
    }
   ],
   "source": [
    "print(\"X shape: \", x.shape)\n",
    "print(\"\\tNumber of examples: \", x.shape[0])\n",
    "print(\"\\tEach example is sequence of length \", x.shape[1])\n",
    "\n",
    "if len(x.shape) > 2:\n",
    "  print(\"\\tEach element of the sequence is of length \", x.shape[2])\n",
    "else:\n",
    "  print(\"\\tEach element of the sequence is a scalar\")"
   ]
  },
  {
   "cell_type": "markdown",
   "metadata": {
    "id": "Ao6DVrY1iV5v"
   },
   "source": [
    "# Utility routines\n",
    "\n",
    "The sample routine\n",
    "- takes the probability vector (one probability per potential next character)\n",
    "- uses it to randomly sample the next character to produce\n",
    "- `temperature`\n",
    "  - our model produces a probability from a score, using the softmax, as usual for Classifiers that we have studied\n",
    "  - softmax exagerates small differences in the score into larger differences in probability\n",
    "  - the `temperature` controls the degree of exageration\n",
    "- the routine recalculates the probability, using the desired temperature before sampling\n",
    "\n"
   ]
  },
  {
   "cell_type": "code",
   "execution_count": 193,
   "metadata": {
    "id": "t0OzYFF8iYWJ"
   },
   "outputs": [],
   "source": [
    "def createModel(vocab_size, rnn_units, embedding_dim=None, stateful=False):\n",
    "  model = Sequential()\n",
    "  if embedding_dim is not None:\n",
    "    print(\"\\nWARNING: First layer is Embedding. Input SHOULD NOT be OHE ! Input to Embedding is integer, note OHE vector\\n\")\n",
    "    model.add( Embedding(vocab_size, embedding_dim, input_length=maxlen)  )\n",
    "    model.add(LSTM(rnn_units, stateful=stateful))\n",
    "  else:\n",
    "    model.add(LSTM(rnn_units, input_shape=(maxlen, vocab_size), stateful=stateful) )\n",
    "\n",
    "  model.add(Dense(vocab_size, activation='softmax'))\n",
    "\n",
    "  return model\n",
    "\n",
    "def plotModel(model, modelName):\n",
    "  plotFile = modelName + \".png\"\n",
    "  plot_model(model, plotFile, show_shapes=True)\n",
    "\n",
    "  return plotFile\n",
    "  \n",
    "def sample(preds, temperature=1.0):\n",
    "    # helper function to sample an index from a probability array\n",
    "    preds = np.asarray(preds).astype('float64')\n",
    "    preds = np.log(preds) / temperature\n",
    "    exp_preds = np.exp(preds)\n",
    "    preds = exp_preds / np.sum(exp_preds)\n",
    "    probas = np.random.multinomial(1, preds, 1)\n",
    "    return np.argmax(probas)\n",
    "\n",
    "\n",
    "def on_epoch_end(epoch, _):\n",
    "    # Function invoked at end of each epoch. Prints generated text.\n",
    "    print()\n",
    "    print('----- Generating text after Epoch: %d' % epoch)\n",
    "\n",
    "    start_index = random.randint(0, len(text) - maxlen - 1)\n",
    "    diversities = [0.2, 0.5, 1.0, 1.2]\n",
    "    for diversity in diversities[:2]:\n",
    "        # print('----- diversity:', diversity)\n",
    "\n",
    "        generated = ''\n",
    "        sentence = text[start_index: start_index + maxlen]\n",
    "        generated += sentence\n",
    "        print('\\n----- Generating with seed (diversity={d:3.2f}): \"{sent:s}\"\\n\\t'.format(d=diversity, sent=sentence) )\n",
    "        sys.stdout.write(generated)\n",
    "\n",
    "        # Generate some text, based on the currently constructed sentence\n",
    "        len_to_generate = 400\n",
    "        for i in range(len_to_generate):\n",
    "            # Encode the characters of sentence as OHE vectors over the set of characters chars\n",
    "            old = False\n",
    "            if old:\n",
    "              if embedding_dim is None:\n",
    "                x_pred = np.zeros((1, maxlen, len(chars)))\n",
    "                for t, char in enumerate(sentence):\n",
    "                    # One Hot Encode word t of sentence\n",
    "                    x_pred[0, t, char_indices[char]] = 1.\n",
    "              else:\n",
    "                x_pred = np.zeros( (1, maxlen) )\n",
    "                for t, char in enumerate(sentence):\n",
    "                  x_pred[0, t] = char_indices[char]\n",
    "            else:\n",
    "              if embedding_dim is None:\n",
    "                x_pred, _ = OHE( [ sentence ], maxlen=maxlen, vocab_size=vocab_size)\n",
    "              else:\n",
    "                x_pred, _ = embedding_prep([ sentence ], maxlen=maxlen, vocab_size=vocab_size)\n",
    "\n",
    "            # Predict next character\n",
    "            preds = model.predict(x_pred, verbose=0)[0]\n",
    "\n",
    "            # prediction preds is a probability vector; sample from it to get next character next_char\n",
    "            next_index = sample(preds, diversity)\n",
    "            next_char = indices_char[next_index]\n",
    "\n",
    "            # Append next_char to sentence\n",
    "            sentence = sentence[1:] + next_char\n",
    "\n",
    "            sys.stdout.write(next_char)\n",
    "            sys.stdout.flush()\n",
    "        print()\n",
    "\n"
   ]
  },
  {
   "cell_type": "code",
   "execution_count": 194,
   "metadata": {
    "colab": {
     "base_uri": "https://localhost:8080/",
     "height": 491
    },
    "id": "LdA-rpuZgFJf",
    "outputId": "34de8731-8301-41da-aba8-23b8de48fa19"
   },
   "outputs": [
    {
     "name": "stdout",
     "output_type": "stream",
     "text": [
      "Build model...\n",
      "\n",
      "WARNING: First layer is Embedding. Input SHOULD NOT be OHE ! Input to Embedding is integer, note OHE vector\n",
      "\n"
     ]
    },
    {
     "data": {
      "image/png": "[encoded data removed]",
      "text/plain": [
       "<IPython.core.display.Image object>"
      ]
     },
     "execution_count": 194,
     "metadata": {},
     "output_type": "execute_result"
    }
   ],
   "source": [
    "# build the model: a single LSTM\n",
    "\n",
    "\n",
    "print('Build model...')\n",
    "model = createModel(vocab_size, rnn_units, embedding_dim=embedding_dim)\n",
    "\n",
    "optimizer = RMSprop(lr=0.01)\n",
    "model.compile(loss='sparse_categorical_crossentropy') #, optimizer=optimizer)\n",
    "\n",
    "plotFile = plotModel(model, \"first_model\")\n",
    "IPython.display.Image(plotFile) \n",
    "\n"
   ]
  },
  {
   "cell_type": "markdown",
   "metadata": {
    "id": "HVmgE2nijpXc"
   },
   "source": [
    "# Resume training from existing weights ?\n",
    "- Training takes a long time.  We can resume training from a previously stored checkpoint\n",
    "- The name of the checkpoint file depends on\n",
    "  - The maxlen variable (max sequence length)\n",
    "  - The loss from the saved session\n",
    "- To resume from a checkpoint\n",
    "  - set saveLoss to be equal to the loss of the saved checkpoint\n",
    "\n",
    "If the checkpoint file doesn't exist, training will start from scratch"
   ]
  },
  {
   "cell_type": "code",
   "execution_count": 195,
   "metadata": {
    "id": "SQgyqPmoi_47"
   },
   "outputs": [],
   "source": [
    "\n",
    "\n",
    "ckpt_filepath_format=os.path.join(MODEL_DIR, \"lstm_text_gen_{file_key:s}_{len:d}_-loss_\".format(file_key=file_key, len=maxlen) + \"{loss:.4f}.h5\")\n",
    "modelFile = ckpt_filepath_format.format(loss=savedLoss) # None\n",
    "\n",
    "if modelFile is not None and os.path.exists(modelFile):\n",
    "  print(\"Initializing with weights from \", modelFile)\n",
    "  model.load_weights(modelFile)"
   ]
  },
  {
   "cell_type": "code",
   "execution_count": 196,
   "metadata": {
    "id": "jTjuOEXzi1ly"
   },
   "outputs": [],
   "source": [
    "print_callback = LambdaCallback(on_epoch_end=on_epoch_end)\n",
    "\n",
    "ckpt_filepath=ckpt_filepath_format\n",
    "checkpoint_callback = ModelCheckpoint(ckpt_filepath, monitor='loss', verbose=1, save_best_only=True, mode='min')\n",
    "\n"
   ]
  },
  {
   "cell_type": "markdown",
   "metadata": {
    "id": "k2zfOK40jusN"
   },
   "source": [
    "# Train"
   ]
  },
  {
   "cell_type": "code",
   "execution_count": null,
   "metadata": {
    "colab": {
     "base_uri": "https://localhost:8080/"
    },
    "id": "0dqk9QXrgKCf",
    "outputId": "2ca05b47-cea7-402a-db8c-0f6b24909a6e"
   },
   "outputs": [
    {
     "name": "stdout",
     "output_type": "stream",
     "text": [
      "Epoch 1/60\n",
      "  29/1565 [..............................] - ETA: 6:31 - loss: 3.3038"
     ]
    }
   ],
   "source": [
    "callbacks = [print_callback]\n",
    "\n",
    "modelDirExists = True if os.path.isdir(MODEL_DIR) else False\n",
    "if modelDirExists:\n",
    "  callbacks.append(checkpoint_callback)\n",
    "\n",
    "model.fit(x, y,\n",
    "          batch_size=BATCH_SIZE,\n",
    "          epochs=60,\n",
    "          shuffle=False,\n",
    "          callbacks=callbacks)"
   ]
  }
 ],
 "metadata": {
  "accelerator": "GPU",
  "colab": {
   "collapsed_sections": [],
   "name": "Keras_examples_LSTM_text_generation .ipynb",
   "provenance": []
  },
  "gpuClass": "standard",
  "kernelspec": {
   "display_name": "Python 3",
   "language": "python",
   "name": "python3"
  },
  "language_info": {
   "codemirror_mode": {
    "name": "ipython",
    "version": 3
   },
   "file_extension": ".py",
   "mimetype": "text/x-python",
   "name": "python",
   "nbconvert_exporter": "python",
   "pygments_lexer": "ipython3",
   "version": "3.7.4"
  },
  "toc": {
   "base_numbering": 1,
   "nav_menu": {},
   "number_sections": true,
   "sideBar": true,
   "skip_h1_title": false,
   "title_cell": "Table of Contents",
   "title_sidebar": "Contents",
   "toc_cell": false,
   "toc_position": {
    "height": "calc(100% - 180px)",
    "left": "10px",
    "top": "150px",
    "width": "369.188px"
   },
   "toc_section_display": true,
   "toc_window_display": true
  }
 },
 "nbformat": 4,
 "nbformat_minor": 1
}
