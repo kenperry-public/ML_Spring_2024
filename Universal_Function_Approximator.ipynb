{
 "cells": [
  {
   "cell_type": "code",
   "execution_count": 1,
   "metadata": {
    "scrolled": false,
    "slideshow": {
     "slide_type": "notes"
    }
   },
   "outputs": [
    {
     "data": {
      "text/latex": [
       "$$\n",
       "\\newcommand{\\x}{\\mathbf{x}}\n",
       "\\newcommand{\\tx}{\\tilde{\\x}}\n",
       "\\newcommand{\\y}{\\mathbf{y}}\n",
       "\\newcommand{\\b}{\\mathbf{b}}\n",
       "\\newcommand{\\c}{\\mathbf{c}}\n",
       "\\newcommand{\\e}{\\mathbf{e}}\n",
       "\\newcommand{\\z}{\\mathbf{z}}\n",
       "\\newcommand{\\h}{\\mathbf{h}}\n",
       "\\newcommand{\\u}{\\mathbf{u}}\n",
       "\\newcommand{\\v}{\\mathbf{v}}\n",
       "\\newcommand{\\w}{\\mathbf{w}}\n",
       "\\newcommand{\\V}{\\mathbf{V}}\n",
       "\\newcommand{\\W}{\\mathbf{W}}\n",
       "\\newcommand{\\X}{\\mathbf{X}}\n",
       "\\newcommand{\\KL}{\\mathbf{KL}}\n",
       "\\newcommand{\\E}{{\\mathbb{E}}}\n",
       "\\newcommand{\\ip}{\\mathbf{{(i)}}}\n",
       "%\n",
       "% Test set\n",
       "\\newcommand{\\xt}{\\underline{\\x}}\n",
       "\\newcommand{\\yt}{\\underline{\\y}}\n",
       "\\newcommand{\\Xt}{\\underline{\\X}}\n",
       "\\newcommand{\\perfm}{\\mathcal{P}}\n",
       "%\n",
       "% \\ll indexes a layer; we can change the actual letter\n",
       "\\newcommand{\\ll}{l}\n",
       "\\newcommand{\\llp}{{(\\ll)}}\n",
       "%\n",
       "\\newcommand{Thetam}{\\Theta_{-0}}\n",
       "\n",
       "% CNN\n",
       "\\newcommand{\\kernel}{\\mathbf{k}} \n",
       "\\newcommand{\\dim}{d}\n",
       "\\newcommand{\\idxspatial}{{\\text{idx}}}\n",
       "\\newcommand{\\summaxact}{\\text{max}}\n",
       "%\n",
       "%\n",
       "\n",
       "% RNN\n",
       "% \\tt indexes a time step\n",
       "\\newcommand{\\tt}{t}\n",
       "\\newcommand{\\tp}{{(\\tt)}}\n",
       "%\n",
       "%\n",
       "\n",
       "% LSTM\n",
       "\\newcommand{\\g}{\\mathbf{g}}\n",
       "\\newcommand{\\remember}{\\mathbf{remember}}\n",
       "\\newcommand{\\save}{\\mathbf{save}}\n",
       "\\newcommand{\\focus}{\\mathbf{focus}}\n",
       "%\n",
       "%\n",
       "% NLP\n",
       "\\newcommand{\\Vocab}{\\mathbf{V}}\n",
       "\\newcommand{\\v}{\\mathbf{v}}\n",
       "\\newcommand{\\offset}{o}\n",
       "\\newcommand{\\o}{o}\n",
       "\\newcommand{\\E}{\\mathbf{E}}\n",
       "%\n",
       "%\n",
       "\\newcommand{\\loss}{\\mathcal{L}}\n",
       "\\newcommand{\\cost}{\\mathcal{L}}\n",
       "%\n",
       "%                     \n",
       "\\newcommand{\\pdata}{p_\\text{data}}\n",
       "\\newcommand{\\pmodel}{p_\\text{model}}\n",
       "%\n",
       "% SVM\n",
       "\\newcommand{\\margin}{{\\mathbb{m}}}\n",
       "\\newcommand{\\lmk}{\\boldsymbol{\\ell}}\n",
       "%\n",
       "% Functions with arguments\n",
       "\\def\\xsy#1#2{#1^#2}\n",
       "\\def\\rand#1{\\tilde{#1}}\n",
       "\\def\\randx{\\rand{\\x}}\n",
       "\\def\\randy{\\rand{\\y}}\n",
       "\\def\\trans#1{\\dot{#1}}\n",
       "\\def\\transx{\\trans{\\x}}\n",
       "\\def\\transy{\\trans{\\y}}\n",
       "%\n",
       "\\def\\argmax#1{\\underset{#1} {\\operatorname{argmax}} }\n",
       "\\def\\argmin#1{\\underset{#1} {\\operatorname{argmin}} }\n",
       "\\def\\max#1{\\underset{#1} {\\operatorname{max}} }\n",
       "\\def\\min#1{\\underset{#1} {\\operatorname{min}} }\n",
       "%\n",
       "\\def\\pr#1{\\mathcal{p}(#1)}\n",
       "\\def\\prc#1#2{\\mathcal{p}(#1 \\; | \\; #2)}\n",
       "\\def\\cnt#1{\\mathcal{count}_{#1}}\n",
       "\\def\\node#1{\\mathbb{#1}}\n",
       "%\n",
       "\\newcommand{\\floor}[1]{\\left\\lfloor #1 \\right\\rfloor}\n",
       "\\newcommand{\\ceil}[1]{\\left\\lceil #1 \\right\\rceil}\n",
       "%\n",
       "\\def\\loc#1{{\\text{##} {#1}}}\n",
       "%\n",
       "$$\n"
      ],
      "text/plain": [
       "<IPython.core.display.Latex object>"
      ]
     },
     "metadata": {},
     "output_type": "display_data"
    }
   ],
   "source": [
    "%run Latex_macros.ipynb\n",
    "%run beautify_plots.py"
   ]
  },
  {
   "cell_type": "code",
   "execution_count": 2,
   "metadata": {
    "scrolled": false,
    "slideshow": {
     "slide_type": "notes"
    }
   },
   "outputs": [],
   "source": [
    "# My standard magic !  You will see this in almost all my notebooks.\n",
    "\n",
    "from IPython.core.interactiveshell import InteractiveShell\n",
    "InteractiveShell.ast_node_interactivity = \"all\"\n",
    "\n",
    "# Reload all modules imported with %aimport\n",
    "%load_ext autoreload\n",
    "%autoreload 1\n",
    "\n",
    "%matplotlib inline"
   ]
  },
  {
   "cell_type": "code",
   "execution_count": 3,
   "metadata": {
    "scrolled": false,
    "slideshow": {
     "slide_type": "notes"
    }
   },
   "outputs": [],
   "source": [
    "%run beautify_plots.py"
   ]
  },
  {
   "cell_type": "code",
   "execution_count": 4,
   "metadata": {
    "scrolled": false,
    "slideshow": {
     "slide_type": "notes"
    }
   },
   "outputs": [],
   "source": [
    "import numpy as np\n",
    "import pandas as pd\n",
    "import matplotlib.pyplot as plt\n",
    "\n",
    "import neural_net_helper\n",
    "%aimport neural_net_helper\n",
    "\n",
    "nnh = neural_net_helper.NN_Helper()\n",
    "\n",
    "import decision_trees_helper\n",
    "%aimport decision_trees_helper\n",
    "\n",
    "bh  = decision_trees_helper.Boundary_Helper()\n"
   ]
  },
  {
   "cell_type": "markdown",
   "metadata": {
    "slideshow": {
     "slide_type": "slide"
    }
   },
   "source": [
    "# From where do Neural Networks derive their power ?\n",
    "\n",
    "Neural Networks seem to be more powerful than the models obtained from Classical Machine Learning.\n",
    "\n",
    "Why might that be ?\n",
    "\n",
    "To be concrete: let us consider the Classification task.\n"
   ]
  },
  {
   "cell_type": "markdown",
   "metadata": {
    "slideshow": {
     "slide_type": "subslide"
    }
   },
   "source": [
    "A Classifier can be viewed as creating a decision boundary\n",
    "- regions within feature space (e.g., $\\mathbb{R}^n$) in which all examples have the same Class.\n",
    "\n",
    "For example, a linear classifier like Logistic Regression creates linear boundaries\n",
    "\n",
    "<img src='images/class_overview_prob_lines.jpg'>"
   ]
  },
  {
   "cell_type": "markdown",
   "metadata": {
    "slideshow": {
     "slide_type": "subslide"
    }
   },
   "source": [
    "The boundaries of Decision Trees are more complex, but are perpendicular to one feature axis\n",
    "- due to the nature of the question that labels a node $\\node{n}$ of the tree\n",
    "$$\n",
    "\\x^\\ip_j < t_{\\node{n},j}\n",
    "$$"
   ]
  },
  {
   "cell_type": "code",
   "execution_count": 5,
   "metadata": {
    "scrolled": false,
    "slideshow": {
     "slide_type": "subslide"
    }
   },
   "outputs": [
    {
     "data": {
      "image/png": "[encoded data removed]",
      "text/plain": [
       "<Figure size 864x432 with 1 Axes>"
      ]
     },
     "metadata": {
      "needs_background": "light"
     },
     "output_type": "display_data"
    }
   ],
   "source": [
    "X_2c, y_2c = bh.make_iris_2class()\n",
    "\n",
    "fig, ax = plt.subplots(figsize=(12,6))\n",
    "_= bh.make_boundary(X_2c, y_2c, depth=4, ax=ax)"
   ]
  },
  {
   "cell_type": "markdown",
   "metadata": {
    "slideshow": {
     "slide_type": "subslide"
    }
   },
   "source": [
    "As we will see: \n",
    "- the shape of decision boundaries (and functions, for Regression tasks) created by Neural Networks can be much more complex\n",
    "- the complexity is obtained due to the non-linear activation functions"
   ]
  },
  {
   "cell_type": "markdown",
   "metadata": {
    "slideshow": {
     "slide_type": "slide"
    }
   },
   "source": [
    "# The power of non-linear activation functions\n",
    "\n",
    "In our introduction to Neural Networks, we identified non-linear activation functions as a key ingredient.\n",
    "\n",
    "Let's examine, in depth, why this is so."
   ]
  },
  {
   "cell_type": "markdown",
   "metadata": {
    "slideshow": {
     "slide_type": "subslide"
    }
   },
   "source": [
    "Many activation functions behave like a binary \"switch\"\n",
    "- Converting the scalar value computed by the dot product\n",
    "- Into a True/False answer\n",
    "- To the question: \"Is a particular feature present\" ?"
   ]
  },
  {
   "cell_type": "markdown",
   "metadata": {
    "slideshow": {
     "slide_type": "subslide"
    }
   },
   "source": [
    "By changing the \"bias\" from $0$, we can move the threshold of the switch to an arbitrary value.\n",
    "\n",
    "This allows us to construct a *piece-wise* approximation of a function\n",
    "- The switch, in the region in which it is active, defines one piece\n",
    "- Changing the bias/threshold allows us to relocate the piece"
   ]
  },
  {
   "cell_type": "markdown",
   "metadata": {
    "slideshow": {
     "slide_type": "subslide"
    }
   },
   "source": [
    "Consider the following function $f$:"
   ]
  },
  {
   "cell_type": "markdown",
   "metadata": {
    "slideshow": {
     "slide_type": "subslide"
    }
   },
   "source": [
    "<div>\n",
    "    <br>\n",
    "    <center><strong>Function to approximate</strong></center>\n",
    "    <br>\n",
    "<img src=images/W9_L0_S5_Piecewise_linear_1.png width = \"80%\">\n",
    "    <!-- edX: Original: <img src=\"images/Piecewise_linear_1.jpg\"> replace by EdX created image --> \n",
    "</div>"
   ]
  },
  {
   "cell_type": "markdown",
   "metadata": {
    "slideshow": {
     "slide_type": "subslide"
    }
   },
   "source": [
    "This function is\n",
    "- Not continuous\n",
    "- Define over set of discrete examples\n",
    "\n",
    "$$ \\langle \\X, \\y \\rangle= [ \\x^\\ip, \\y^\\ip | 1 \\le i \\le m ]$$\n",
    "\n",
    "For ease of presentation, we will assume the examples are sorted in increasing value of $\\x^\\ip$:\n",
    "$$\n",
    "\\x^{(0)} \\lt \\x^{(1)} \\lt \\ldots \\x^{(m)}\n",
    "$$"
   ]
  },
  {
   "cell_type": "markdown",
   "metadata": {
    "slideshow": {
     "slide_type": "subslide"
    }
   },
   "source": [
    "<div>\n",
    "    <center><strong>Function to approximate, defined by examples <b>x</b></strong></center>\n",
    "    <br>\n",
    "<img src=images/W9_L0_S7_Piecewise_linear.png width = \"80%\">\n",
    "    <!-- edX: Original: <img src=\"images/Piecewise_linear.jpg\"> replace by EdX created image --> >\n",
    "</div>"
   ]
  },
  {
   "cell_type": "markdown",
   "metadata": {
    "slideshow": {
     "slide_type": "subslide"
    }
   },
   "source": [
    "We can replicate the discrete function\n",
    "- By a sequence of *step functions*\n",
    "- Which create a piece-wise approximation of the function $f$"
   ]
  },
  {
   "cell_type": "markdown",
   "metadata": {
    "slideshow": {
     "slide_type": "subslide"
    }
   },
   "source": [
    "<div>\n",
    "    <br>\n",
    "    <center><strong>Piece-wise function approximation by step functions</strong></center>\n",
    "    <br>\n",
    "<img src=images/W9_L0_S9_Piecewise_linear.png width=\"80%\">\n",
    "</div>"
   ]
  },
  {
   "cell_type": "markdown",
   "metadata": {
    "slideshow": {
     "slide_type": "subslide"
    }
   },
   "source": [
    "We will show how to construct a Step Function using \n",
    "- ReLU activation with $0$ threshold\n",
    "\n",
    "Once we have a step, we can place the center of the step anywhere along the $\\x$ axis\n",
    "- By adjusting the threshold of the ReLU"
   ]
  },
  {
   "cell_type": "markdown",
   "metadata": {
    "slideshow": {
     "slide_type": "subslide"
    }
   },
   "source": [
    "We start off by constructing a binary switch\n",
    "(output of a ReLU with constant input equal to $1$) whose output is either $0$ or $1$\n",
    "<br>\n",
    "<br>\n",
    "<div>\n",
    "    <center><strong>Step function: binary switch with threshold 0</strong></center>\n",
    "    <br>\n",
    "<img src=images/Step_function_1.jpg width=70%>\n",
    "</div>"
   ]
  },
  {
   "cell_type": "markdown",
   "metadata": {
    "slideshow": {
     "slide_type": "subslide"
    }
   },
   "source": [
    "We can re-center the binary switch from activating at $\\x = 0$ to activating at $\\x = \\x^\\ip$\n",
    "- by adjusting the bias of the ReLU to $- \\x^\\ip$\n",
    "<br>\n",
    "<br>\n",
    "<div>\n",
    "    <center><strong>Step function: binary switch with threshold - x^(i)</strong></center>\n",
    "    <br>\n",
    "<img src=images/Step_function_2.jpg>\n",
    "</div>"
   ]
  },
  {
   "cell_type": "markdown",
   "metadata": {
    "slideshow": {
     "slide_type": "subslide"
    }
   },
   "source": [
    "By adding an inverted step function (step function with negative weight) that becomes active at $\\x = \\x^{(i +1)}$\n",
    "- we can create an impulse function that is non-zero in the range $\\x^\\ip \\le \\x \\le \\x^{(i+1)}$\n",
    "\n",
    "<br>\n",
    "<br>\n",
    "<div>\n",
    "    <center><strong>Impulse function: Center x^(i); width (x^(i+1) - x^(i))</strong></center>\n",
    "    <br>\n",
    "<img src=images/Step_function_3.jpg>\n",
    "</div>"
   ]
  },
  {
   "cell_type": "markdown",
   "metadata": {
    "slideshow": {
     "slide_type": "subslide"
    }
   },
   "source": [
    "Note that both the Binary Switch and the Impulse (step) function are created using noting more than a ReLU.\n",
    "\n",
    "We will create $m$ Binary Switches, one for each $1 \\le i \\le m$ example $\\x^\\ip$.\n",
    "\n",
    "We will pair the Binary Switch with a neuron (Fully connected network with one input and one output)\n",
    "- that scales the output to $\\x^\\ip$.\n",
    "\n",
    "By careful arrangement of the Binary Switches, we will create a NN computes a function that\n",
    "- exactly replicates the empirical $f(\\x)$\n",
    "- has a continuous domain\n",
    "    - outputs a value for all $\\x$, not just $\\x \\in \\X$\n",
    "\n",
    "\n",
    "\n"
   ]
  },
  {
   "cell_type": "markdown",
   "metadata": {
    "slideshow": {
     "slide_type": "subslide"
    }
   },
   "source": [
    "That's the idea at a very intuitive level.\n",
    "\n",
    "The rest of the notebook demonstrates exactly how to achieve this."
   ]
  },
  {
   "cell_type": "markdown",
   "metadata": {
    "slideshow": {
     "slide_type": "slide"
    }
   },
   "source": [
    "# Universal function approximator\n",
    "A Neural Network is a Universal Function Approximator.\n",
    "\n",
    "This means that an NN that is sufficiently \n",
    "- wide (large number of neurons per layer) \n",
    "- and deep (many layers; deeper means the network can be narrower)\n",
    "\n",
    "can approximate (to arbitrary degree)\n",
    "the function represented by the training set.\n",
    "\n",
    "Recall that the training data $\\langle \\X, \\y \\rangle = [ (\\x^\\ip, \\y^\\ip) |  1 \\le i \\le m ]$ is a sequence of input/target pairs."
   ]
  },
  {
   "cell_type": "markdown",
   "metadata": {
    "slideshow": {
     "slide_type": "subslide"
    }
   },
   "source": [
    "The training data defines a function empirically (defined only at values $\\x \\in \\X$.\n",
    "\n",
    "This may look like a strange way to define a function \n",
    "- but it is indeed a mapping from the\n",
    "domain of $\\x$ (i.e., $\\mathcal{R}^n$) to the domain of $\\y$ (i.e., $\\mathcal{R})$\n",
    "- subject to $\\y^i = \\y^{i'} \\;  \\text{if} \\; \\x^i = \\x^{i'}$ (i.e., mapping is unique)."
   ]
  },
  {
   "cell_type": "markdown",
   "metadata": {
    "slideshow": {
     "slide_type": "subslide"
    }
   },
   "source": [
    "We will demonstrate how to construct a Neural Network that exactly computes the empirically-defined function.\n",
    "\n",
    "For simplicity of presentation\n",
    "- we demonstrate this for a one-dimensional function\n",
    "    - all vectors $\\x, \\y, \\W, \\b$ are length 1.\n",
    "- we assume that the training set\n",
    "is presented in order of increasing value of $\\x$, i.e.\n",
    "$$\n",
    "\\x^{(0)} \\lt \\x^{(1)} \\lt \\ldots \\x^{(m)}\n",
    "$$"
   ]
  },
  {
   "cell_type": "markdown",
   "metadata": {
    "slideshow": {
     "slide_type": "subslide"
    }
   },
   "source": [
    "We will build a NN to compute this empirically defined function.\n",
    "\n",
    "The NN will consist of $m$ Binary Switches (one per training example)\n",
    "- Binary Switch $i$ is associated with example $\\langle \\x^\\ip, f(\\x^\\ip) \\rangle$\n",
    "\n"
   ]
  },
  {
   "cell_type": "markdown",
   "metadata": {
    "slideshow": {
     "slide_type": "subslide"
    }
   },
   "source": [
    "Here is the Binary Switch $i$ that we will associate with example $i$ having $\\x = \\x^\\ip$\n",
    "- A Fully Connected network with one unit (\"neuron\")\n",
    "- Constant input equal to the value $1$\n",
    "- Bias equal to $\\,- \\x^\\ip$\n",
    "- Weight $\\W^\\ip$ = $(f(\\x^{(i+1)})- f(\\x^\\ip))$\n",
    "    - The amount by which $f(\\x)$ increases between steps is \n",
    "\n",
    "Binary Switch $i$ becomes \"active\" (non-zero output) for $\\x \\ge \\x^\\ip$"
   ]
  },
  {
   "cell_type": "markdown",
   "metadata": {
    "slideshow": {
     "slide_type": "subslide"
    }
   },
   "source": [
    "Binary Switch $i$\n",
    "- computes\n",
    "$$\n",
    "\\max{} \\left(0, \\W^\\ip * 1 +  (-  \\x^\\ip) \\right)\n",
    "$$\n",
    "- is \"active\" (non-zero output) only if $\\x \\ge \\x^\\ip$\n",
    "   \n",
    "<br>\n",
    "<br>\n",
    "<div>\n",
    "    <img src=\"images/Step_Neuron.png\" width=60%>\n",
    "</div>\n",
    "\n",
    "\n"
   ]
  },
  {
   "cell_type": "markdown",
   "metadata": {
    "slideshow": {
     "slide_type": "subslide"
    }
   },
   "source": [
    "Let us construct $m$ Binary Switches, one per training example\n",
    "- one per example\n",
    "- bias for Binary Switch $i$ is $\\, \\, - \\x^\\ip$\n",
    "- weights are\n",
    "\n",
    "$$\n",
    "\\begin{array}[lll] \\\\\n",
    "\\W^{(1)}& = & \\y^{(1)} \\\\\n",
    "\\W^\\ip & = & \\y^{(i)} - \\y^{(i-1)} \\\\\n",
    "\\end{array}\n",
    "$$"
   ]
  },
  {
   "cell_type": "markdown",
   "metadata": {
    "slideshow": {
     "slide_type": "subslide"
    }
   },
   "source": [
    "We connect all $m$ Binary Switches to a \"final\" neuron that simply adds the outputs of all $m$ Binary Switches\n",
    "- $m$ inputs\n",
    "- all weights equal to $1$\n",
    "- Bias equal to $0$\n",
    "\n",
    "<p></p>\n",
    "<br>\n",
    "<div>\n",
    "        <center><strong>Function Approximation by Binary Switches</strong></center>\n",
    "    <br>\n",
    "    <br>\n",
    "        <img src=\"images/Universal_Function_Switch.png\" width=\"80%\">\n",
    "        <!-- edX: Original: <img src=\"images/Universal_Function_Step.png\"> replace by EdX created image --> \n",
    "    <br>\n",
    "</div>\n",
    "<p></p>"
   ]
  },
  {
   "cell_type": "markdown",
   "metadata": {
    "slideshow": {
     "slide_type": "subslide"
    }
   },
   "source": [
    "Consider what happens when we input $\\x = \\x^\\ip$ to this network.\n",
    "- The only active Binary Switches are those with index at most $i$\n",
    "- The Final Neuron computes\n",
    "$$\n",
    "\\begin{array} \\\\\n",
    "\\sum_{i'=1}^i {\\W^{(i')} } & = & \n",
    " \\y^{(1)} + \\sum_{i'=2}^i { \\y^{(i')} - \\y^{(i'-1)} } & \\text{ definition of } \\W^{(i')} \\\\\n",
    " & = & \\y^\\ip\n",
    "\\end{array}\n",
    "$$\n",
    "\n",
    "\n",
    "Thus, our two layer network outputs $\\y^\\ip$ given input $\\x^\\ip$.\n",
    "\n",
    "It also computes a value for **any** $\\x$, not just $\\x \\in \\X$.\n",
    "\n",
    "**Financial analogy:** if we have call options with completely flexible strikes and same expiry,\n",
    "we can mimic an arbitrary payoff in a similar manner."
   ]
  },
  {
   "cell_type": "markdown",
   "metadata": {
    "slideshow": {
     "slide_type": "slide"
    }
   },
   "source": [
    "# Conclusion\n",
    "This proof demonstrates that **in theory** a sufficiently large Neural Network can compute any empirically-defined function.\n",
    "\n",
    "Thus, Neural Networks are very powerful.\n",
    "\n",
    "Observe that the key to the power is the ability to create \"switches\"\n",
    "- which are possible only using non-linear functions (e.g., activations)"
   ]
  },
  {
   "cell_type": "markdown",
   "metadata": {
    "slideshow": {
     "slide_type": "subslide"
    }
   },
   "source": [
    "This is not to say that **in practice** this is how Neural Networks are constructed\n",
    "- The network constructed is specific to a particular training set (through the definition of weights and biases)\n",
    "- Not feasible to construct one network per training set\n",
    "- $m$ can be very large, and variable\n",
    "\n",
    "In practice: we construct multi-layer (\"deep\") networks with fewer units and hope that Gradient Descent can \"learn\" weights\n",
    "- to enable the network to approximate the empirical function\n",
    "\n",
    "We don't know exactly how or why this works in practice.\n",
    "\n",
    "We will subsequently present a module on Interpretation that offers some theories."
   ]
  },
  {
   "cell_type": "markdown",
   "metadata": {
    "slideshow": {
     "slide_type": "subslide"
    }
   },
   "source": [
    "# Alternative construction of Binary Switch with height 1\n",
    "\n",
    "Our Binary Switch ignored the input, except to define the bias, computing\n",
    "$$\n",
    "\\max{} \\left(0, \\W^\\ip * 1 +  (-  \\x^\\ip) \\right)\n",
    "$$\n",
    "\n",
    "We can achieve similar effect using the more standard construction where the dot product of the Neuron references $\\x$, computing\n",
    "$$\n",
    "\\max{} \\left(0, \\W^\\ip * \\x +  b \\right)\n",
    "$$\n",
    "\n",
    "By making slope $\\W$ extremely large, we can approach a vertical line."
   ]
  },
  {
   "cell_type": "code",
   "execution_count": 6,
   "metadata": {
    "scrolled": false,
    "slideshow": {
     "slide_type": "subslide"
    }
   },
   "outputs": [
    {
     "data": {
      "image/png": "[encoded data removed]",
      "text/plain": [
       "<Figure size 720x432 with 1 Axes>"
      ]
     },
     "metadata": {
      "needs_background": "light"
     },
     "output_type": "display_data"
    }
   ],
   "source": [
    "_ = nnh.plot_steps( [ nnh.NN(1,0), nnh.NN(10,0), nnh.NN(100,0), nnh.NN(1000,0), ])"
   ]
  },
  {
   "cell_type": "markdown",
   "metadata": {
    "slideshow": {
     "slide_type": "subslide"
    }
   },
   "source": [
    "And by varying the intercept (bias) we can shift this vertical line to any point on the feature axis."
   ]
  },
  {
   "cell_type": "code",
   "execution_count": 7,
   "metadata": {
    "scrolled": false,
    "slideshow": {
     "slide_type": "subslide"
    }
   },
   "outputs": [
    {
     "data": {
      "image/png": "[encoded data removed]",
      "text/plain": [
       "<Figure size 720x432 with 1 Axes>"
      ]
     },
     "metadata": {
      "needs_background": "light"
     },
     "output_type": "display_data"
    }
   ],
   "source": [
    "_ = nnh.plot_steps( [ nnh.NN(1,0), nnh.NN(1,10), nnh.NN(1,20), nnh.NN(1,30), ])"
   ]
  },
  {
   "cell_type": "markdown",
   "metadata": {
    "slideshow": {
     "slide_type": "slide"
    }
   },
   "source": [
    "With a little effort, we can construct a neuron \n",
    "- With near infinite slope\n",
    "- Rising from the x-axis at any offset."
   ]
  },
  {
   "cell_type": "code",
   "execution_count": 8,
   "metadata": {
    "scrolled": false,
    "slideshow": {
     "slide_type": "subslide"
    }
   },
   "outputs": [
    {
     "data": {
      "image/png": "[encoded data removed]",
      "text/plain": [
       "<Figure size 720x432 with 1 Axes>"
      ]
     },
     "metadata": {
      "needs_background": "light"
     },
     "output_type": "display_data"
    }
   ],
   "source": [
    "slope = 1000\n",
    "start_offset = 0\n",
    "\n",
    "start_step = nnh.NN(slope, -start_offset)\n",
    "\n",
    "_= nnh.plot_steps( [  start_step ] )"
   ]
  },
  {
   "cell_type": "markdown",
   "metadata": {
    "slideshow": {
     "slide_type": "slide"
    }
   },
   "source": [
    "We can create a second \"inverted\" (negative slope) neuron with intercept \"epsilon\" from the first neuron\n"
   ]
  },
  {
   "cell_type": "code",
   "execution_count": 9,
   "metadata": {
    "scrolled": false,
    "slideshow": {
     "slide_type": "subslide"
    }
   },
   "outputs": [],
   "source": [
    "end_offset = start_offset + .0001\n",
    "\n",
    "end_step = nnh.NN(slope,- end_offset)\n"
   ]
  },
  {
   "cell_type": "markdown",
   "metadata": {
    "slideshow": {
     "slide_type": "slide"
    }
   },
   "source": [
    "Adding the two neurons together creates a Binary Switch\n",
    "- unit height\n",
    "- 0 output at inputs\n",
    "less than the x-intercept\n",
    "- unit output for all inputs greater than the intercept).\n",
    "\n",
    "(The sigmoid function is even more easily transformed into a step function)."
   ]
  },
  {
   "cell_type": "code",
   "execution_count": 12,
   "metadata": {
    "slideshow": {
     "slide_type": "subslide"
    }
   },
   "outputs": [
    {
     "data": {
      "image/png": "[encoded data removed]",
      "text/plain": [
       "<Figure size 720x432 with 1 Axes>"
      ]
     },
     "metadata": {
      "needs_background": "light"
     },
     "output_type": "display_data"
    }
   ],
   "source": [
    "step= {\"x\": start_step[\"x\"], \n",
    "       \"y\": start_step[\"y\"] - end_step[\"y\"],\n",
    "       \"W\": slope,\n",
    "       \"b\": 0\n",
    "      }\n",
    "_= nnh.plot_steps( [  step ] )"
   ]
  },
  {
   "cell_type": "code",
   "execution_count": 11,
   "metadata": {
    "scrolled": false,
    "slideshow": {
     "slide_type": "slide"
    }
   },
   "outputs": [
    {
     "name": "stdout",
     "output_type": "stream",
     "text": [
      "Done\n"
     ]
    }
   ],
   "source": [
    "print(\"Done\")"
   ]
  }
 ],
 "metadata": {
  "celltoolbar": "Slideshow",
  "kernelspec": {
   "display_name": "Python 3",
   "language": "python",
   "name": "python3"
  },
  "language_info": {
   "codemirror_mode": {
    "name": "ipython",
    "version": 3
   },
   "file_extension": ".py",
   "mimetype": "text/x-python",
   "name": "python",
   "nbconvert_exporter": "python",
   "pygments_lexer": "ipython3",
   "version": "3.7.4"
  },
  "toc": {
   "base_numbering": 1,
   "nav_menu": {},
   "number_sections": true,
   "sideBar": true,
   "skip_h1_title": false,
   "title_cell": "Table of Contents",
   "title_sidebar": "Contents",
   "toc_cell": false,
   "toc_position": {
    "height": "calc(100% - 180px)",
    "left": "10px",
    "top": "150px",
    "width": "370.594px"
   },
   "toc_section_display": true,
   "toc_window_display": true
  }
 },
 "nbformat": 4,
 "nbformat_minor": 2
}
