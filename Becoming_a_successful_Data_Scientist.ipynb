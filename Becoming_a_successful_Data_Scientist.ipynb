{
 "cells": [
  {
   "cell_type": "code",
   "execution_count": 1,
   "metadata": {
    "slideshow": {
     "slide_type": "notes"
    }
   },
   "outputs": [
    {
     "data": {
      "text/latex": [
       "$$\n",
       "\\newcommand{\\x}{\\mathbf{x}}\n",
       "\\newcommand{\\tx}{\\tilde{\\x}}\n",
       "\\newcommand{\\y}{\\mathbf{y}}\n",
       "\\newcommand{\\b}{\\mathbf{b}}\n",
       "\\newcommand{\\c}{\\mathbf{c}}\n",
       "\\newcommand{\\e}{\\mathbf{e}}\n",
       "\\newcommand{\\z}{\\mathbf{z}}\n",
       "\\newcommand{\\h}{\\mathbf{h}}\n",
       "\\newcommand{\\u}{\\mathbf{u}}\n",
       "\\newcommand{\\v}{\\mathbf{v}}\n",
       "\\newcommand{\\w}{\\mathbf{w}}\n",
       "\\newcommand{\\V}{\\mathbf{V}}\n",
       "\\newcommand{\\W}{\\mathbf{W}}\n",
       "\\newcommand{\\X}{\\mathbf{X}}\n",
       "\\newcommand{\\KL}{\\mathbf{KL}}\n",
       "\\newcommand{\\E}{{\\mathbb{E}}}\n",
       "\\newcommand{\\Reals}{{\\mathbb{R}}}\n",
       "\\newcommand{\\ip}{\\mathbf{{(i)}}}\n",
       "%\n",
       "% Test set\n",
       "\\newcommand{\\xt}{\\underline{\\x}}\n",
       "\\newcommand{\\yt}{\\underline{\\y}}\n",
       "\\newcommand{\\Xt}{\\underline{\\X}}\n",
       "\\newcommand{\\perfm}{\\mathcal{P}}\n",
       "%\n",
       "% \\ll indexes a layer; we can change the actual letter\n",
       "\\newcommand{\\ll}{l}\n",
       "\\newcommand{\\llp}{{(\\ll)}}\n",
       "%\n",
       "\\newcommand{Thetam}{\\Theta_{-0}}\n",
       "\n",
       "% CNN\n",
       "\\newcommand{\\kernel}{\\mathbf{k}} \n",
       "\\newcommand{\\dim}{d}\n",
       "\\newcommand{\\idxspatial}{{\\text{idx}}}\n",
       "\\newcommand{\\summaxact}{\\text{max}}\n",
       "%\n",
       "%\n",
       "\n",
       "% RNN\n",
       "% \\tt indexes a time step\n",
       "\\newcommand{\\tt}{t}\n",
       "\\newcommand{\\tp}{{(\\tt)}}\n",
       "%\n",
       "%\n",
       "\n",
       "% LSTM\n",
       "\\newcommand{\\g}{\\mathbf{g}}\n",
       "\\newcommand{\\remember}{\\mathbf{remember}}\n",
       "\\newcommand{\\save}{\\mathbf{save}}\n",
       "\\newcommand{\\focus}{\\mathbf{focus}}\n",
       "%\n",
       "%\n",
       "% NLP\n",
       "\\newcommand{\\Vocab}{\\mathbf{V}}\n",
       "\\newcommand{\\v}{\\mathbf{v}}\n",
       "\\newcommand{\\offset}{o}\n",
       "\\newcommand{\\o}{o}\n",
       "\\newcommand{\\Emb}{\\mathbf{E}}\n",
       "%\n",
       "%\n",
       "\\newcommand{\\loss}{\\mathcal{L}}\n",
       "\\newcommand{\\cost}{\\mathcal{L}}\n",
       "%\n",
       "%                     \n",
       "\\newcommand{\\pdata}{p_\\text{data}}\n",
       "\\newcommand{\\pmodel}{p_\\text{model}}\n",
       "%\n",
       "% SVM\n",
       "\\newcommand{\\margin}{{\\mathbb{m}}}\n",
       "\\newcommand{\\lmk}{\\boldsymbol{\\ell}}\n",
       "%\n",
       "%\n",
       "% Functions with arguments\n",
       "\\def\\xsy#1#2{#1^#2}\n",
       "\\def\\rand#1{\\tilde{#1}}\n",
       "\\def\\randx{\\rand{\\x}}\n",
       "\\def\\randy{\\rand{\\y}}\n",
       "\\def\\trans#1{\\dot{#1}}\n",
       "\\def\\transx{\\trans{\\x}}\n",
       "\\def\\transy{\\trans{\\y}}\n",
       "%\n",
       "\\def\\argmax#1{\\underset{#1} {\\operatorname{argmax}} }\n",
       "\\def\\argmin#1{\\underset{#1} {\\operatorname{argmin}} }\n",
       "\\def\\max#1{\\underset{#1} {\\operatorname{max}} }\n",
       "\\def\\min#1{\\underset{#1} {\\operatorname{min}} }\n",
       "%\n",
       "\\def\\pr#1{\\mathcal{p}(#1)}\n",
       "\\def\\prc#1#2{\\mathcal{p}(#1 \\; | \\; #2)}\n",
       "\\def\\cnt#1{\\mathcal{count}_{#1}}\n",
       "\\def\\node#1{\\mathbb{#1}}\n",
       "%\n",
       "\\def\\loc#1{{\\text{##} {#1}}}\n",
       "%\n",
       "\\def\\OrderOf#1{\\mathcal{O}\\left( #1 \\right)}\n",
       "%\n",
       "% Expectation operator\n",
       "\\def\\Exp#1{\\underset{#1} {\\operatorname{\\mathbb{E}}} }\n",
       "%\n",
       "% VAE\n",
       "\\def\\prs#1#2{\\mathcal{p}_{#2}(#1)}\n",
       "\\def\\qr#1{\\mathcal{q}(#1)}\n",
       "\\def\\qrs#1#2{\\mathcal{q}_{#2}(#1)}\n",
       "%\n",
       "% Reinforcement learning\n",
       "\\newcommand{\\Actions}{{\\mathcal{A}}} \n",
       "\\newcommand{\\actseq}{A}\n",
       "\\newcommand{\\act}{a}\n",
       "\\newcommand{\\States}{{\\mathcal{S}}}   \n",
       "\\newcommand{\\stateseq}{S}  \n",
       "\\newcommand{\\state}{s}\n",
       "\\newcommand{\\Rewards}{{\\mathcal{R}}}\n",
       "\\newcommand{\\rewseq}{R}\n",
       "\\newcommand{\\rew}{r}\n",
       "\\newcommand{\\transp}{P}\n",
       "\\newcommand{\\statevalfun}{v}\n",
       "\\newcommand{\\actvalfun}{q}\n",
       "\\newcommand{\\disc}{\\gamma}\n",
       "%\n",
       "%\n",
       "\\newcommand{\\floor}[1]{\\left\\lfloor #1 \\right\\rfloor}\n",
       "\\newcommand{\\ceil}[1]{\\left\\lceil #1 \\right\\rceil}\n",
       "%\n",
       "%\n",
       "$$\n"
      ],
      "text/plain": [
       "<IPython.core.display.Latex object>"
      ]
     },
     "metadata": {},
     "output_type": "display_data"
    }
   ],
   "source": [
    "%run Latex_macros.ipynb"
   ]
  },
  {
   "cell_type": "code",
   "execution_count": 2,
   "metadata": {
    "slideshow": {
     "slide_type": "skip"
    }
   },
   "outputs": [],
   "source": [
    "# My standard magic !  You will see this in almost all my notebooks.\n",
    "\n",
    "from IPython.core.interactiveshell import InteractiveShell\n",
    "InteractiveShell.ast_node_interactivity = \"all\"\n",
    "\n",
    "# Reload all modules imported with %aimport\n",
    "%load_ext autoreload\n",
    "%autoreload 1\n",
    "\n",
    "%matplotlib inline"
   ]
  },
  {
   "cell_type": "code",
   "execution_count": 3,
   "metadata": {
    "slideshow": {
     "slide_type": "notes"
    }
   },
   "outputs": [],
   "source": [
    "import numpy as np\n",
    "import pandas as pd\n",
    "\n",
    "import matplotlib.pyplot as plt\n",
    "\n",
    "import transform_helper\n",
    "\n",
    "sph = transform_helper.StockReturn_Pooling_Helper()\n",
    "\n",
    "# Create plots for Fundamental Assumption\n",
    "ssm = transform_helper.StockPrice_shiftedMean_Helper()\n",
    "ss_df = ssm.gen_prices(.001, .02, [10, 20], num_returns=252)\n",
    "fig_data, axs_data = ssm.plot_data(ss_df, visible=False)\n",
    "fig_segs, axs_segs = ssm.plot_segments(ss_df, visible=False)\n",
    "\n",
    "# Create plots for shifted price\n",
    "sph = transform_helper.ShiftedPrice_Helper()\n",
    "series_over_time = sph.gen_data(m=30)\n",
    "\n",
    "fig_sp, ax_sp = plt.subplots(1,1, figsize=(12,6) )\n",
    "_= sph.plot_data(series_over_time, ax=ax_sp)\n",
    "\n",
    "plt.close(fig_sp)\n",
    "\n",
    "# Create plots for relative price\n",
    "rph = transform_helper.RelativePrice_Helper()\n",
    "series = rph.gen_data(attrs=[\"area\", \"price\"])\n",
    "\n",
    "labels=[ \"USD\", \"USD\", \"RMB\", \"HKD\" ]\n",
    "\n",
    "fig_rp, ax_rp = plt.subplots(1,1, figsize=(12,6))\n",
    "_= rph.plot_data(series, ax=ax_rp, labels=labels, xlabel=\"Area\", ylabel=\"Price (local)\")\n",
    "\n",
    "plt.close(fig_rp)"
   ]
  },
  {
   "cell_type": "code",
   "execution_count": 4,
   "metadata": {
    "slideshow": {
     "slide_type": "notes"
    }
   },
   "outputs": [],
   "source": [
    "# Geron Housing Data example\n",
    "import os\n",
    "import tarfile\n",
    "import urllib.request\n",
    "\n",
    "DOWNLOAD_ROOT = \"https://raw.githubusercontent.com/ageron/handson-ml2/master/\"\n",
    "HOUSING_PATH = os.path.join(\"datasets\", \"housing\")\n",
    "HOUSING_URL = DOWNLOAD_ROOT + \"datasets/housing/housing.tgz\"\n",
    "\n",
    "def fetch_housing_data(housing_url=HOUSING_URL, housing_path=HOUSING_PATH):\n",
    "    if not os.path.isdir(housing_path):\n",
    "        os.makedirs(housing_path)\n",
    "    tgz_path = os.path.join(housing_path, \"housing.tgz\")\n",
    "    urllib.request.urlretrieve(housing_url, tgz_path)\n",
    "    housing_tgz = tarfile.open(tgz_path)\n",
    "    housing_tgz.extractall(path=housing_path)\n",
    "    housing_tgz.close()"
   ]
  },
  {
   "cell_type": "code",
   "execution_count": 5,
   "metadata": {
    "slideshow": {
     "slide_type": "notes"
    }
   },
   "outputs": [],
   "source": [
    "fetch_housing_data()"
   ]
  },
  {
   "cell_type": "code",
   "execution_count": 6,
   "metadata": {
    "slideshow": {
     "slide_type": "notes"
    }
   },
   "outputs": [],
   "source": [
    "import pandas as pd\n",
    "\n",
    "def load_housing_data(housing_path=HOUSING_PATH):\n",
    "    csv_path = os.path.join(housing_path, \"housing.csv\")\n",
    "    return pd.read_csv(csv_path)\n",
    "\n",
    "housing = load_housing_data()"
   ]
  },
  {
   "cell_type": "markdown",
   "metadata": {
    "slideshow": {
     "slide_type": "slide"
    }
   },
   "source": [
    "# Data science in practice\n",
    "\n",
    "Being a successful Data Scientist is much more than just knowing models.\n",
    "\n",
    "Being able to gather, join, and clean Data is a prerequisite to being able to train a model.\n",
    "- the remarkable success of Large Langauge Models (e.g., ChatGPT) is in large part due to vast quantities of carefully curated data"
   ]
  },
  {
   "cell_type": "markdown",
   "metadata": {
    "slideshow": {
     "slide_type": "subslide"
    }
   },
   "source": [
    "*Manipulating and transforming* the Data into a form in which a successful model can be built\n",
    "is a skill that may not be truly appreciated.\n",
    "- data is frequently transformed from its raw form to synthesized features and targets\n",
    "- the relationship between features and target may not be present in raw form\n",
    "\n",
    "It is this latter skill that we know focus on."
   ]
  },
  {
   "cell_type": "markdown",
   "metadata": {
    "slideshow": {
     "slide_type": "subslide"
    }
   },
   "source": [
    "Recall the Fundamental Assumption of Machine Learning\n",
    "\n",
    "- That each training and test example $(\\x, \\y)$ \n",
    "- is a sample drawn from $\\pdata$\n",
    "- where $\\pdata$ is the true (but unknown) distribution of examples\n"
   ]
  },
  {
   "cell_type": "markdown",
   "metadata": {
    "slideshow": {
     "slide_type": "subslide"
    }
   },
   "source": [
    "It is surprisingly easy to violate this assumption\n",
    "\n",
    "Consider the timeseries of prices of an equity"
   ]
  },
  {
   "cell_type": "code",
   "execution_count": 7,
   "metadata": {},
   "outputs": [
    {
     "data": {
      "image/png": "[encoded data removed]",
      "text/plain": [
       "<Figure size 864x432 with 2 Axes>"
      ]
     },
     "execution_count": 7,
     "metadata": {},
     "output_type": "execute_result"
    }
   ],
   "source": [
    "fig_data"
   ]
  },
  {
   "cell_type": "markdown",
   "metadata": {
    "slideshow": {
     "slide_type": "subslide"
    }
   },
   "source": [
    "One can easily see that there are two distributions here\n",
    "- a low-mean (and low variance) distribution prior to the jump in Price\n",
    "- a high-mean (and high variance) distribution after the jump\n",
    "\n",
    "The test data (drawn post jump) is **not** from the same distribution as the training data (pre-jump).\n",
    "\n",
    "In fact: if the training data also includes examples post-jump\n",
    "- it would seem that the training data comes from the union of *two different* distributions"
   ]
  },
  {
   "cell_type": "markdown",
   "metadata": {
    "slideshow": {
     "slide_type": "subslide"
    }
   },
   "source": [
    "At first glance, this seems surprising.\n",
    "\n",
    "After all, each Price is drawn from the distribution of a single equity.\n",
    "\n",
    "But, as is very typical in Finance, our distributions *vary with time*."
   ]
  },
  {
   "cell_type": "markdown",
   "metadata": {
    "slideshow": {
     "slide_type": "subslide"
    }
   },
   "source": [
    "So, in order to satisfy the Assumption\n",
    "- we typically transform the Price distribution into a Return distribution\n",
    "- which is often (but not always) more stable over time"
   ]
  },
  {
   "cell_type": "markdown",
   "metadata": {
    "slideshow": {
     "slide_type": "subslide"
    }
   },
   "source": [
    "This also has the benefit of making sure that the training examples all come from a single distribution.\n",
    "- The more homogeneous the distribution\n",
    "- The more statistical support there is for the model"
   ]
  },
  {
   "cell_type": "markdown",
   "metadata": {
    "slideshow": {
     "slide_type": "subslide"
    }
   },
   "source": [
    "# Non-homogeneous data: examples\n",
    "\n",
    "We will imagine that the available data comes from one or more *groups* each with its own distribution.\n",
    "\n",
    "One typical reason for more than one group is time-varying data.\n",
    "\n",
    "Consider the following graph illustrating the joint distribution of Price (target) and Size (features)\n"
   ]
  },
  {
   "cell_type": "code",
   "execution_count": 8,
   "metadata": {
    "slideshow": {
     "slide_type": "subslide"
    }
   },
   "outputs": [
    {
     "data": {
      "image/png": "[encoded data removed]",
      "text/plain": [
       "<Figure size 864x432 with 1 Axes>"
      ]
     },
     "execution_count": 8,
     "metadata": {},
     "output_type": "execute_result"
    }
   ],
   "source": [
    "fig_sp"
   ]
  },
  {
   "cell_type": "markdown",
   "metadata": {
    "slideshow": {
     "slide_type": "subslide"
    }
   },
   "source": [
    "It appears that the data in different groups is similar, but not identical.\n",
    "\n",
    "Once we make that observation\n",
    "- we might be tempted to fit a *separate model* for each group.  This is not a great idea\n",
    "- Which model do we use for an out of sample example ?\n",
    "- The \"goodness of fit\" increases with sample size"
   ]
  },
  {
   "cell_type": "markdown",
   "metadata": {
    "slideshow": {
     "slide_type": "subslide"
    }
   },
   "source": [
    "But: how do we even **discover** the presence of two groups (I added the colors for illustration) ?\n",
    "\n",
    "There are multiple opportunities for a Data Scientist following the Recipe to uncover this\n",
    "- Exploratory data analysis\n",
    "    - slicing the data reveals different distributions\n",
    "- Error Analysis\n",
    "    - fitting a single line to all examples: the sign of the errors differs by group\n",
    "    \n"
   ]
  },
  {
   "cell_type": "markdown",
   "metadata": {
    "slideshow": {
     "slide_type": "subslide"
    }
   },
   "source": [
    "Another cause for more than one group is differences in market/geography.\n",
    "\n",
    "Consider the plot"
   ]
  },
  {
   "cell_type": "code",
   "execution_count": 9,
   "metadata": {
    "slideshow": {
     "slide_type": "subslide"
    }
   },
   "outputs": [
    {
     "data": {
      "image/png": "[encoded data removed]",
      "text/plain": [
       "<Figure size 864x432 with 1 Axes>"
      ]
     },
     "execution_count": 9,
     "metadata": {},
     "output_type": "execute_result"
    }
   ],
   "source": [
    "fig_rp"
   ]
  },
  {
   "cell_type": "markdown",
   "metadata": {
    "slideshow": {
     "slide_type": "subslide"
    }
   },
   "source": [
    "Even though each group seems different **on the surface**\n",
    "- there may be a *single* relationship between targets and features\n",
    "- that is the *same* across groups\n",
    "- at a **deeper** level\n",
    "\n",
    "Being able to transform data to uncover the deeper level relationship between targets and features\n",
    "- is a skill **critical to being able to construct good models**"
   ]
  },
  {
   "cell_type": "markdown",
   "metadata": {
    "slideshow": {
     "slide_type": "slide"
    }
   },
   "source": [
    "## Why do we have to deal with non-homogeneous data ?\n",
    "\n",
    "- The examples may be presented as a mixture\n",
    "    - first example: long window on time-series data\n",
    "- You often need to **pool** groups in order to enlarge the number of examples for training\n",
    "    - second example: we intentionally pooled data across geographies\n",
    "    - more examples facilitate better models\n",
    "    - and more parameters\n",
    "    "
   ]
  },
  {
   "cell_type": "markdown",
   "metadata": {
    "slideshow": {
     "slide_type": "subslide"
    }
   },
   "source": [
    "For example, a lot of Financial data is sampled at low frequency (e.g., daily)\n",
    "- So not a lot of data points for a single ticker in a short time period\n",
    "- Pool over time to increase number of examples\n",
    "    - groups caused by time-varying distribution of single stock price/return\n",
    "- Pool over many similar tickers to increase number of examples\n",
    "    - distribution per ticker is different"
   ]
  },
  {
   "cell_type": "markdown",
   "metadata": {
    "slideshow": {
     "slide_type": "slide"
    }
   },
   "source": [
    "**Example: equity trading volume**\n",
    "   \n",
    "It might be reasonable to hypothesize that\n",
    "- the daily trading volume (or changes in volume) of an equity is a useful feature\n",
    "- for predicting stock behavior\n",
    "- stocks with high volume *appear* to be more liquid\n",
    "- jumps in volume may be a signal\n"
   ]
  },
  {
   "cell_type": "markdown",
   "metadata": {
    "slideshow": {
     "slide_type": "subslide"
    }
   },
   "source": [
    "But measuring volume in units of \"number of shares\" may expose us to non-homogeneity.\n",
    "\n",
    "Suppose our examples are observations of a *single equity* on different dates\n",
    "- volume of the equity may be related to the total market volume\n",
    "    - not a signal related to just this equity: total market volume spikes on economic news\n",
    "    - Normalize to remove variation due to *time*\n",
    "        -  change units to shares as fraction of total daily volume"
   ]
  },
  {
   "cell_type": "markdown",
   "metadata": {
    "slideshow": {
     "slide_type": "subslide"
    }
   },
   "source": [
    "Suppose our examples include *different* equities (observed on the same dates)\n",
    "- $\\text{MarketCap} = \\text{no. of shares outstanding} * \\text{Price/share}$\n",
    "- Another equity with identical$\\text{MarketCap}$\n",
    "    - Double the shares  $\\rightarrow$ reduce $\\text{Price/share}$ by $50 \\%$\n",
    "    - stock split of same stock yields same phenomenon\n",
    "    - the *number* of shares is not informative\n",
    "- Normalize to remove variation *across* tickers\n",
    "    - $\\text{Dollar volume} = \\text{no. of shares traded} * \\text{Price/share}$"
   ]
  },
  {
   "cell_type": "markdown",
   "metadata": {
    "slideshow": {
     "slide_type": "slide"
    }
   },
   "source": [
    "**Example: modeling prepayments**\n",
    "\n",
    "Consider the following example.\n",
    "\n",
    "Suppose our goal is to predict whether a borrow will prepay a mortgage.  \n",
    "\n",
    "As raw features: we have variables\n",
    "- Borrower's interest rate $C$\n",
    "- Rate $r$ at a which a mortgage could be re-financed\n",
    "\n",
    "The borrower has an incentive to prepay if $C > r$."
   ]
  },
  {
   "cell_type": "markdown",
   "metadata": {
    "slideshow": {
     "slide_type": "subslide"
    }
   },
   "source": [
    "What training examples should we use ?\n",
    "\n",
    "Remember: we want the test examples (observed in the near future) to be similar to the training examples.\n",
    "\n",
    "Should our examples only include instances where $r \\approx r'$\n",
    "- where $r'$ is today's re-finance rate\n",
    "\n",
    "We may not have a lot of *historical* data with a contemporaneous re-finance rate close to $r'$."
   ]
  },
  {
   "cell_type": "markdown",
   "metadata": {
    "slideshow": {
     "slide_type": "subslide"
    }
   },
   "source": [
    "Consider a different approach to modeling:\n",
    "- we use a *synthetic* feature $I$  capturing incentive to prepay\n",
    "- rather than just raw values $C, r$ for borrower's current rate and contemporaneous re-finance rate\n",
    "\n",
    "For example, we could create feature $I$ in several possible ways\n",
    "- $I = \\max{}(0, C-r)$\n",
    "- $I = \\max{}(0, \\frac{C}{r} -1)$\n",
    "\n"
   ]
  },
  {
   "cell_type": "markdown",
   "metadata": {
    "slideshow": {
     "slide_type": "subslide"
    }
   },
   "source": [
    "Using the synthetic feature opens up the possibility of using a lot more historical data\n",
    "- Many more historical episodes with a particular value of $\\frac{C}{r}$ or $C-r$\n",
    "- Than examples where the then-current re-finance rate equals today's rate $r$\n",
    "\n",
    "In essence\n",
    "- we have pooled data over time\n",
    "- each time period defines a different group (similar values of $r$)\n",
    "- different groups have different distributions\n",
    "- that we *have made uniform* by using $I$ rather than $C$ and $r$ as features\n",
    "    - discovered the **true** relationship (based on incentive)\n",
    "    - rather than the *surface* relationship (based on levels)"
   ]
  },
  {
   "cell_type": "markdown",
   "metadata": {
    "slideshow": {
     "slide_type": "subslide"
    }
   },
   "source": [
    "# Becoming a successful Data Scientist\n",
    "\n",
    "The examples in this notebook illustrate the challenges that a Data Scientist encounters.\n",
    "\n",
    "What distinguishes an \"good\" Data Scientist from a \"great\" one is the knowledge and skill to\n",
    "recognize and circumvent the challenges.\n",
    "\n",
    "**A key skill of a Data Scientist** is the ability\n",
    "- to strip away surface differences and reveal underlying commonality between groups\n",
    "- being able to adapt models to deal with multiple groups"
   ]
  },
  {
   "cell_type": "markdown",
   "metadata": {
    "slideshow": {
     "slide_type": "slide"
    }
   },
   "source": [
    "You can *recognize* the challenge\n",
    "- before starting: by superior Exploratory Data Analysis\n",
    "- after staring: by superior Error Analysis\n",
    "\n",
    "One you recognize the challenges, you may be able to *circumvent* them by\n",
    "- Transforming the data\n",
    "    - imposing homogeneity\n",
    "    - adding features that distinguish between groups\n",
    "- Find the correct functional form for the model\n",
    "    - linear\n",
    "    - polynomial\n",
    "    - something new"
   ]
  },
  {
   "cell_type": "markdown",
   "metadata": {
    "slideshow": {
     "slide_type": "slide"
    }
   },
   "source": [
    "## The world before Black Scholes option pricing\n",
    "\n",
    "The relationships between targets and features we have explored have usually been simple.\n",
    "\n",
    "In the real world: the relationships are complex\n",
    "- missing features\n",
    "- interaction between features\n",
    "- described by a new \"theory\" that is validated by data\n"
   ]
  },
  {
   "cell_type": "markdown",
   "metadata": {
    "slideshow": {
     "slide_type": "subslide"
    }
   },
   "source": [
    "Consider the goal of predicting the price of a call option from features of the option.\n",
    "\n",
    "In the days before the Black Scholes pricing formula was discovered\n",
    "- people proposed (partially successful) functional forms relating price to features\n",
    "    - traders carried around tables of approximate prices\n",
    "    - based on models that partially/conditionally explained prices"
   ]
  },
  {
   "cell_type": "markdown",
   "metadata": {
    "slideshow": {
     "slide_type": "subslide"
    }
   },
   "source": [
    "Even without a perfect model, an imaginative Data Scientist can come up with partially successful models\n",
    "with high utility.\n",
    "\n",
    "A Data Scientist needs\n",
    "- intuition\n",
    "- imagination\n",
    "- scientific rigor and the will to experiment\n",
    "\n",
    "in order to be able to postulate/test theories relating target to features."
   ]
  },
  {
   "cell_type": "markdown",
   "metadata": {
    "slideshow": {
     "slide_type": "subslide"
    }
   },
   "source": [
    "A couple of observations on the Black Scholes call price formula\n",
    "\n",
    "$$\n",
    "C = \\mathcal{N}(d_1) S_t + - \\mathcal{N}(d_2)K * e^{- r*t }\n",
    "$$\n",
    "where\n",
    "$$\n",
    "\\begin{array} \\\\\n",
    "d_1 & = & \\frac{ \\log_e (\\frac{S_t}{K}) + (r + .5*\\sigma^2)*t\n",
    "               }\n",
    "               {\n",
    "               \\sigma * \\sqrt{t}\n",
    "               } \n",
    "               \\\\\n",
    "d_2 & = & d_1 - \\sigma * \\sqrt{t}\n",
    "\\end{array}\n",
    "$$\n",
    "\n",
    "Notice some interesting \"transformed features\" in the $d_1$ term\n",
    "- Price is relative to the strike : $\\frac{S_t}{K}$\n",
    "- Volatility is scaled by time to maturity $t$: $\\sigma * \\sqrt{t}$\n",
    "\n",
    "These non-obvious features derive, perhaps, from a need to \"normalize\" the feature."
   ]
  },
  {
   "cell_type": "markdown",
   "metadata": {
    "slideshow": {
     "slide_type": "slide"
    }
   },
   "source": [
    "# Wrap-up\n",
    "\n",
    "Obviously, these examples were contrived and overly simple.\n",
    "\n",
    "In practice, more complex transformations are necessary to make groups more homogeneous.\n",
    "\n",
    "The insight of the Data Scientist is key in guiding the process.\n",
    "\n",
    "We will show transformations that address each of these examples (and more) in a separate module."
   ]
  },
  {
   "cell_type": "code",
   "execution_count": 10,
   "metadata": {
    "slideshow": {
     "slide_type": "slide"
    }
   },
   "outputs": [
    {
     "name": "stdout",
     "output_type": "stream",
     "text": [
      "Done\n"
     ]
    }
   ],
   "source": [
    "print(\"Done\")"
   ]
  }
 ],
 "metadata": {
  "celltoolbar": "Slideshow",
  "kernelspec": {
   "display_name": "Python 3",
   "language": "python",
   "name": "python3"
  },
  "language_info": {
   "codemirror_mode": {
    "name": "ipython",
    "version": 3
   },
   "file_extension": ".py",
   "mimetype": "text/x-python",
   "name": "python",
   "nbconvert_exporter": "python",
   "pygments_lexer": "ipython3",
   "version": "3.7.4"
  },
  "toc": {
   "base_numbering": 1,
   "nav_menu": {},
   "number_sections": true,
   "sideBar": true,
   "skip_h1_title": false,
   "title_cell": "Table of Contents",
   "title_sidebar": "Contents",
   "toc_cell": false,
   "toc_position": {
    "height": "calc(100% - 180px)",
    "left": "10px",
    "top": "150px",
    "width": "369.188px"
   },
   "toc_section_display": true,
   "toc_window_display": true
  }
 },
 "nbformat": 4,
 "nbformat_minor": 2
}
