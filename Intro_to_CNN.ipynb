{
 "cells": [
  {
   "cell_type": "code",
   "execution_count": 1,
   "metadata": {
    "slideshow": {
     "slide_type": "notes"
    }
   },
   "outputs": [
    {
     "data": {
      "text/latex": [
       "$$\n",
       "\\newcommand{\\x}{\\mathbf{x}}\n",
       "\\newcommand{\\tx}{\\tilde{\\x}}\n",
       "\\newcommand{\\y}{\\mathbf{y}}\n",
       "\\newcommand{\\b}{\\mathbf{b}}\n",
       "\\newcommand{\\c}{\\mathbf{c}}\n",
       "\\newcommand{\\e}{\\mathbf{e}}\n",
       "\\newcommand{\\z}{\\mathbf{z}}\n",
       "\\newcommand{\\h}{\\mathbf{h}}\n",
       "\\newcommand{\\u}{\\mathbf{u}}\n",
       "\\newcommand{\\v}{\\mathbf{v}}\n",
       "\\newcommand{\\w}{\\mathbf{w}}\n",
       "\\newcommand{\\V}{\\mathbf{V}}\n",
       "\\newcommand{\\W}{\\mathbf{W}}\n",
       "\\newcommand{\\X}{\\mathbf{X}}\n",
       "\\newcommand{\\KL}{\\mathbf{KL}}\n",
       "\\newcommand{\\E}{{\\mathbb{E}}}\n",
       "\\newcommand{\\Reals}{{\\mathbb{R}}}\n",
       "\\newcommand{\\ip}{\\mathbf{{(i)}}}\n",
       "%\n",
       "% Test set\n",
       "\\newcommand{\\xt}{\\underline{\\x}}\n",
       "\\newcommand{\\yt}{\\underline{\\y}}\n",
       "\\newcommand{\\Xt}{\\underline{\\X}}\n",
       "\\newcommand{\\perfm}{\\mathcal{P}}\n",
       "%\n",
       "% \\ll indexes a layer; we can change the actual letter\n",
       "\\newcommand{\\ll}{l}\n",
       "\\newcommand{\\llp}{{(\\ll)}}\n",
       "%\n",
       "\\newcommand{Thetam}{\\Theta_{-0}}\n",
       "\n",
       "% CNN\n",
       "\\newcommand{\\kernel}{\\mathbf{k}} \n",
       "\\newcommand{\\dim}{d}\n",
       "\\newcommand{\\idxspatial}{{\\text{idx}}}\n",
       "\\newcommand{\\summaxact}{\\text{max}}\n",
       "\\newcommand{idxb}{\\mathbf{i}}\n",
       "%\n",
       "%\n",
       "\n",
       "% RNN\n",
       "% \\tt indexes a time step\n",
       "\\newcommand{\\tt}{t}\n",
       "\\newcommand{\\tp}{{(\\tt)}}\n",
       "%\n",
       "%\n",
       "\n",
       "% LSTM\n",
       "\\newcommand{\\g}{\\mathbf{g}}\n",
       "\\newcommand{\\remember}{\\mathbf{remember}}\n",
       "\\newcommand{\\save}{\\mathbf{save}}\n",
       "\\newcommand{\\focus}{\\mathbf{focus}}\n",
       "%\n",
       "%\n",
       "% NLP\n",
       "\\newcommand{\\Vocab}{\\mathbf{V}}\n",
       "\\newcommand{\\v}{\\mathbf{v}}\n",
       "\\newcommand{\\offset}{o}\n",
       "\\newcommand{\\o}{o}\n",
       "\\newcommand{\\Emb}{\\mathbf{E}}\n",
       "%\n",
       "%\n",
       "\\newcommand{\\loss}{\\mathcal{L}}\n",
       "\\newcommand{\\cost}{\\mathcal{L}}\n",
       "%\n",
       "%                     \n",
       "\\newcommand{\\pdata}{p_\\text{data}}\n",
       "\\newcommand{\\pmodel}{p_\\text{model}}\n",
       "%\n",
       "% SVM\n",
       "\\newcommand{\\margin}{{\\mathbb{m}}}\n",
       "\\newcommand{\\lmk}{\\boldsymbol{\\ell}}\n",
       "%\n",
       "%\n",
       "% Functions with arguments\n",
       "\\def\\xsy#1#2{#1^#2}\n",
       "\\def\\rand#1{\\tilde{#1}}\n",
       "\\def\\randx{\\rand{\\x}}\n",
       "\\def\\randy{\\rand{\\y}}\n",
       "\\def\\trans#1{\\dot{#1}}\n",
       "\\def\\transx{\\trans{\\x}}\n",
       "\\def\\transy{\\trans{\\y}}\n",
       "%\n",
       "\\def\\argmax#1{\\underset{#1} {\\operatorname{argmax}} }\n",
       "\\def\\argmin#1{\\underset{#1} {\\operatorname{argmin}} }\n",
       "\\def\\max#1{\\underset{#1} {\\operatorname{max}} }\n",
       "\\def\\min#1{\\underset{#1} {\\operatorname{min}} }\n",
       "%\n",
       "\\def\\pr#1{\\mathcal{p}(#1)}\n",
       "\\def\\prc#1#2{\\mathcal{p}(#1 \\; | \\; #2)}\n",
       "\\def\\cnt#1{\\mathcal{count}_{#1}}\n",
       "\\def\\node#1{\\mathbb{#1}}\n",
       "%\n",
       "\\def\\loc#1{{\\text{##} {#1}}}\n",
       "%\n",
       "\\def\\OrderOf#1{\\mathcal{O}\\left( #1 \\right)}\n",
       "%\n",
       "% Expectation operator\n",
       "\\def\\Exp#1{\\underset{#1} {\\operatorname{\\mathbb{E}}} }\n",
       "%\n",
       "% VAE\n",
       "\\def\\prs#1#2{\\mathcal{p}_{#2}(#1)}\n",
       "\\def\\qr#1{\\mathcal{q}(#1)}\n",
       "\\def\\qrs#1#2{\\mathcal{q}_{#2}(#1)}\n",
       "%\n",
       "% Reinforcement learning\n",
       "\\newcommand{\\Actions}{{\\mathcal{A}}} \n",
       "\\newcommand{\\actseq}{A}\n",
       "\\newcommand{\\act}{a}\n",
       "\\newcommand{\\States}{{\\mathcal{S}}}   \n",
       "\\newcommand{\\stateseq}{S}  \n",
       "\\newcommand{\\state}{s}\n",
       "\\newcommand{\\Rewards}{{\\mathcal{R}}}\n",
       "\\newcommand{\\rewseq}{R}\n",
       "\\newcommand{\\rew}{r}\n",
       "\\newcommand{\\transp}{P}\n",
       "\\newcommand{\\statevalfun}{v}\n",
       "\\newcommand{\\actvalfun}{q}\n",
       "\\newcommand{\\disc}{\\gamma}\n",
       "%\n",
       "%\n",
       "\\newcommand{\\floor}[1]{\\left\\lfloor #1 \\right\\rfloor}\n",
       "\\newcommand{\\ceil}[1]{\\left\\lceil #1 \\right\\rceil}\n",
       "%\n",
       "%\n",
       "$$\n"
      ],
      "text/plain": [
       "<IPython.core.display.Latex object>"
      ]
     },
     "metadata": {},
     "output_type": "display_data"
    }
   ],
   "source": [
    "%run Latex_macros.ipynb"
   ]
  },
  {
   "cell_type": "code",
   "execution_count": 2,
   "metadata": {
    "slideshow": {
     "slide_type": "notes"
    }
   },
   "outputs": [],
   "source": [
    "# My standard magic !  You will see this in almost all my notebooks.\n",
    "\n",
    "from IPython.core.interactiveshell import InteractiveShell\n",
    "InteractiveShell.ast_node_interactivity = \"all\"\n",
    "\n",
    "# Reload all modules imported with %aimport\n",
    "%load_ext autoreload\n",
    "%autoreload 1\n",
    "\n",
    "%matplotlib inline"
   ]
  },
  {
   "cell_type": "code",
   "execution_count": 3,
   "metadata": {
    "slideshow": {
     "slide_type": "notes"
    }
   },
   "outputs": [],
   "source": [
    "import pandas as pd\n",
    "import numpy as plt\n",
    "\n",
    "import matplotlib.pyplot as plt\n",
    "\n",
    "import os \n",
    "\n",
    "import cnn_helper\n",
    "%aimport cnn_helper\n",
    "cnnh = cnn_helper.CNN_Helper()"
   ]
  },
  {
   "cell_type": "markdown",
   "metadata": {
    "slideshow": {
     "slide_type": "slide"
    }
   },
   "source": [
    "# Introduction: Beyond the Feature dimension\n",
    "\n",
    "Thus far, the data examples we have been using are vectors\n",
    "- the only dimension is the \"feature\" dimension\n",
    "- for example, the names of the features in the feature dimension are `Price, Volume, Open, Close`"
   ]
  },
  {
   "cell_type": "markdown",
   "metadata": {
    "slideshow": {
     "slide_type": "subslide"
    }
   },
   "source": [
    "The diagram shows (our typical, up to now: 0 non-feature dimensional) feature vector $\\x$ matched against pattern $\\kernel$\n",
    "- where the feature dimension is length $3$\n",
    "\n",
    "<br>\n",
    "<br>\n",
    "<table>\n",
    "    <tr>\n",
    "        <th><center>Zero non-feature dimensions, length 3 feature dimension</center></th>\n",
    "    </tr>\n",
    "    <tr>\n",
    "        <td><img src=\"images/conv_0d.png\" width=100%></td>\n",
    "    </tr>\n",
    "</table>"
   ]
  },
  {
   "cell_type": "markdown",
   "metadata": {
    "slideshow": {
     "slide_type": "subslide"
    }
   },
   "source": [
    "In this module, we extend \"pattern matching\" to includes examples that have \"shape\"\n",
    "- dimensions beyond the feature dimension\n",
    "\n",
    "The extended examples will have\n",
    "- multiple elements, each having a vector of features\n",
    "- For example\n",
    "    - a timeseries: a sequence of elements each having the features  `Price, Volume, Open, Close`\n",
    "    - a two dimensional image: a grid of elements each have the features `Red, Green, Blue`"
   ]
  },
  {
   "cell_type": "markdown",
   "metadata": {
    "slideshow": {
     "slide_type": "subslide"
    }
   },
   "source": [
    "The diagram shows a \n",
    "- 1 non-feature dimension (of length 2)  vector $\\x$ \n",
    "    - for clarity: we show the index of the non-feature dimensions in brackets: $\\x_{[0]}, \\x_{[1]}$\n",
    "- with feature dimension length $3$\n",
    "- matched against pattern $\\kernel$\n",
    "\n",
    "\n",
    "<br>\n",
    "<br>\n",
    "<table>\n",
    "    <tr>\n",
    "        <th><center>One non-feature dimension, length 3 feature dimension</center></th>\n",
    "    </tr>\n",
    "    <tr>\n",
    "        <td><img src=\"images/conv_1d.png\" width=100%></td>\n",
    "    </tr>\n",
    "</table>"
   ]
  },
  {
   "cell_type": "markdown",
   "metadata": {
    "slideshow": {
     "slide_type": "subslide"
    }
   },
   "source": [
    "How does pattern matching work in the presence of non-feature dimensions ?\n",
    "\n",
    "We will generalize the dot-product\n",
    "- producing a single output measuring the intensity of the match of the input with the pattern"
   ]
  },
  {
   "cell_type": "markdown",
   "metadata": {
    "slideshow": {
     "slide_type": "subslide"
    }
   },
   "source": [
    "Matching the one non-feature dimensional data $\\x$ against pattern $\\kernel$\n",
    "- we match (dot product) the first element $\\x_{[0]}$ against the corresponding (first) element of the pattern\n",
    "    - resulting in a scalar measuring the intensity of the match\n",
    "- we match the second element $\\x_{[1]}$ against the corresponding (second) element of the pattern\n",
    "    - resulting in a second scalar\n",
    "- add the two scalars together\n",
    "- resulting in *one output feature* at a single location"
   ]
  },
  {
   "cell_type": "markdown",
   "metadata": {
    "slideshow": {
     "slide_type": "subslide"
    }
   },
   "source": [
    "We can create a *second* output feature by adding a second pattern\n",
    "- similar to how a Fully Connected layer creates multiple features via multiple patterns\n",
    "\n",
    "The diagram shows a \n",
    "- 1 non-feature dimension (of length 2) vector $\\x$ \n",
    "- with feature dimension length $3$\n",
    "- matched against 2 patterns $\\kernel_0, \\kernel_1$\n",
    "- resulting in an output with 2 features\n",
    "    - the first measuring the intensity of the match with the first pattern\n",
    "    - the second measuring the intensity of the match with the second pattern\n",
    "<br>\n",
    "<br>\n",
    "<table>\n",
    "    <tr>\n",
    "        <th><center>One non-feature dimension, length 3 feature dimension, Two patterns</center></th>\n",
    "    </tr>\n",
    "    <tr>\n",
    "        <td><img src=\"images/conv_1d_2features.png\" width=100%></td>\n",
    "    </tr>\n",
    "</table>"
   ]
  },
  {
   "cell_type": "markdown",
   "metadata": {
    "slideshow": {
     "slide_type": "subslide"
    }
   },
   "source": [
    "What can be achieved by adding non-feature dimensions ?\n",
    "\n",
    "In the \"smiling face\" diagram below\n",
    "\n",
    "- there are 2 non-feature dimensions, each of length 8 (called \"row\" and \"col\")\n",
    "- a  feature dimension of length $1$\n",
    "\n",
    "Note: there is **one** feature that appears over a region of size $(8 \\times 8)$\n",
    "- **not** 64 features arranged in a 2D grid\n",
    "\n",
    "<br>\n",
    "<br>\n",
    "\n",
    "<table>\n",
    "    <tr>\n",
    "        <th><center>Two non-feature (spatial) dimensions, length 1 feature dimension</center></th>\n",
    "    </tr>\n",
    "    <tr>\n",
    "        <td><img src=\"images/Conv2d_multifeature_shape_1.png\" width=100%></td>\n",
    "    </tr>\n",
    "</table>"
   ]
  },
  {
   "cell_type": "markdown",
   "metadata": {
    "slideshow": {
     "slide_type": "subslide"
    }
   },
   "source": [
    "We can imagine using *multiple patterns* to try to identify the \"smiling face\"\n",
    "- one pattern to match the \"eyes\"\n",
    "- one pattern to match the left corner of the smile\n",
    "- one pattern to match the right corner of the smile\n",
    "\n",
    "<br>\n",
    "<br>\n",
    "<table>\n",
    "    <tr>\n",
    "        <th><center>Convolution: 1 input feature to 3 output features</center></th>\n",
    "    </tr>\n",
    "    <tr>\n",
    "        <td><img src=\"images/Conv2d_multifeature_shape.png\" width=80%></td>\n",
    "    </tr>\n",
    "</table>"
   ]
  },
  {
   "cell_type": "markdown",
   "metadata": {
    "slideshow": {
     "slide_type": "subslide"
    }
   },
   "source": [
    "In the above diagram\n",
    "- the length of the patterns is smaller (in the non-feature dimensions) than the input\n",
    "    - each pattern is $(2 \\times 2)$\n",
    "- allowing us to find the presence of \"small\" patterns (sub-regions) within a larger $(8 \\times 8)$ region\n",
    "- by \"sliding\" the small pattern over the entire region\n",
    "    - allowing us to associate an intensity of match at even location in the larger region\n",
    "- creating 3 output *feature maps*, one each for each output feature\n",
    "    - an eye\n",
    "    - a left corner of a smile\n",
    "    - a right corner of a smile"
   ]
  },
  {
   "cell_type": "markdown",
   "metadata": {
    "slideshow": {
     "slide_type": "subslide"
    }
   },
   "source": [
    "The above is an introduction to a method call a *Convolution*.\n",
    "\n",
    "This method will be explained in greater detail below.\n",
    "\n",
    "It will form the basis for a new layer type: the *Convolutional Neural Network (CNN)*\n",
    "- that is a layer type typically used with data that has non-feature dimensions\n",
    "    - e.g., images, timeseries\n"
   ]
  },
  {
   "cell_type": "markdown",
   "metadata": {
    "slideshow": {
     "slide_type": "subslide"
    }
   },
   "source": [
    "The non-feature dimensions are sometimes given names that identify their purpose\n",
    "\n",
    "- temporal dimension\n",
    "    - a timeseries with temporal dimension of length 1\n",
    "        - where $\\x_{[\\tt],j}$ denotes feature $j$ at time step $\\tt$ \n",
    "    - a timeseries with a temporal dimension of length 2\n",
    "        - $\\x_{[d, \\tt],j}$: temporal dimension of length 2 (date `d`, time `t`)\n",
    "- spatial dimension\n",
    "    - a 2D grid with spatial dimension of length 2\n",
    "        - where $\\x_{[\\text{row}, \\text{col}], j}$ denotes feature $j$ at row `row`, column `col` of the grid\n",
    "- mixed dimension: \n",
    "    - a timeseries of 2D grids (e.g., a movie) with a temporal dimension of length 1 and spatial dimension of length 2\n",
    "        - where $\\x_{[\\tt, \\text{row}, \\text{col}], j}$ denotes feature $j$ at location $(\\text{row}, \\text{col})$ of frame $\\tt$ of the movie"
   ]
  },
  {
   "cell_type": "markdown",
   "metadata": {
    "slideshow": {
     "slide_type": "subslide"
    }
   },
   "source": [
    "For clarity\n",
    "- we have surrounded the non-feature dimensions with brackets\n",
    "    - writing  $\\x_{[\\tt],j}$  rather than  $\\x_{\\tt,j}$ \n",
    "        - rather than a vector as it has been up to this point\n",
    "-  Dropping the brackets\n",
    "    - $\\x_\\tt$ is a vector with $n$ dimensions\n",
    "        - rather than a scalar (element $\\tt$ of the vector $\\x$ whose length is $n$"
   ]
  },
  {
   "cell_type": "markdown",
   "metadata": {
    "slideshow": {
     "slide_type": "subslide"
    }
   },
   "source": [
    "\n",
    "Going forward:\n",
    "- we may drop the brackets when the context is clear\n",
    "- our convention is that the *last* dimension in a multi-dimensional object is the *feature* dimension\n",
    "   - this is called the *channel last* convention\n",
    "   - when the feature dimension is written as the first dimension: that is called *channel first*\n",
    "   - TensorFlow layers assume channel last\n",
    "       - but other toolkits and data providers may not\n",
    "       - always check !"
   ]
  },
  {
   "cell_type": "markdown",
   "metadata": {
    "slideshow": {
     "slide_type": "slide"
    }
   },
   "source": [
    "# How is the Feature dimension different from non-feature dimensions ?\n",
    "\n",
    "The feature dimension has some key differences from the non-feature dimensions\n",
    "- the indices of the feature dimension are *unordered*\n",
    "    - permuting the features from `Price, Volume, Open, Close` to `Open, Close, Price, Volume` does not change the meaning of the example\n",
    "- the indices of the temporal dimension are totally ordered\n",
    "    - reversing the indices makes time flow backwards rather than forwards\n",
    "    - changing the meaning of the example\n",
    "- the indices of the spatial dimension are (at least, partially) *ordered*\n",
    "    - there is a spatial relationship between elements whose spatial indices differ by 1\n",
    "    - row 5 occurs between rows 4 and 6\n",
    "    - permuting the row order from 4, 5, 6 to 5, 4, 6 changes the meaning of the example\n",
    " "
   ]
  },
  {
   "cell_type": "markdown",
   "metadata": {
    "slideshow": {
     "slide_type": "subslide"
    }
   },
   "source": [
    "Because of this ordering, the behavior of certain layer types may\n",
    "not respect the order.\n",
    "\n",
    "For example, consider a sequence of words and its permutation\n",
    "- $\\x  = $ [ Machine, Learning, is, easy, not, hard ]\n",
    "- $\\x' = $ [ Machine, Learning, is, hard, not, easy ]\n",
    "\n",
    "The example is a $(6 \\times 1)$ vector with a one temporal dimension of length 6 and a single feature `word`.\n",
    "- $\\x_{[0]}$ is a feature vector of one element: 'Machine'\n",
    "    - $\\x_{[0],0} = $ 'Machine'\n",
    "    \n",
    "Clearly, the \"meaning\" of the two sequences are different."
   ]
  },
  {
   "cell_type": "markdown",
   "metadata": {
    "slideshow": {
     "slide_type": "subslide"
    }
   },
   "source": [
    "But suppose we tried to represent this $(6 \\times 1)$ vector as vector $\\x''$ of length $6$\n",
    "- no non-feature dimensions\n",
    "- a single feature dimension of length 6 with features `word1, word2, ..., word6`\n",
    "\n",
    "    - $\\x''$ is a vector of features of length $n=6$\n",
    "        - $\\x''_0$ = 'Machine'\n",
    "        \n",
    "How would a Fully Connected (`Dense`) layer deal with the two permutations when they were represented without non-feature dimensions."
   ]
  },
  {
   "cell_type": "markdown",
   "metadata": {
    "slideshow": {
     "slide_type": "subslide"
    }
   },
   "source": [
    "It would **not** be able to distinguish between the two permutations !\n",
    "- A Fully Connected layer computes the dot product of features $\\x$ and associated weights $\\w$\n",
    "    - where $\\x, \\w$ are vectors of length $n$ containing *only* feature dimensions\n",
    "- Let `perm` denote an ordering of indices that is a permutation of $[1, 2, \\ldots, 6 ]$\n",
    "- The dot product of the example and its permutation are the same\n",
    "\n",
    "$$\n",
    "\\x \\cdot \\w =  \\x [ \\text{perm} ] \\cdot \\w[ \\text{perm} ] \n",
    "$$\n",
    "\n",
    "Our attempt at representing the $(6 \\times 1)$ example as 6 features was not successful\n",
    "as it did not respect the ordering of the temporal dimension"
   ]
  },
  {
   "cell_type": "markdown",
   "metadata": {
    "slideshow": {
     "slide_type": "subslide"
    }
   },
   "source": [
    "Layers transform the *feature* dimension\n",
    "- transforming raw features into synthetic features\n",
    "- transforming synthetic features into new synthetic features of increasing complexity\n",
    "\n",
    "Thus, we need new layer types that\n",
    "- transform the feature dimension\n",
    "- for *each element* of the non-feature dimensions"
   ]
  },
  {
   "cell_type": "markdown",
   "metadata": {
    "slideshow": {
     "slide_type": "slide"
    }
   },
   "source": [
    "# Why are the patterns smaller (in non-feature dimension) ?\n",
    "\n",
    "The essence of Neural Networks (as evidenced by the Fully Connected Layer) is pattern matching\n",
    "- a vector of features from the example\n",
    "- is matched against a pattern (weights)\n",
    "- via the dot product\n",
    "- resulting in a scalar intensity measuring the degree of the match"
   ]
  },
  {
   "cell_type": "markdown",
   "metadata": {
    "slideshow": {
     "slide_type": "subslide"
    }
   },
   "source": [
    "But the dot product is defined on vectors of features\n",
    "- no non-feature dimensions\n",
    "- just a  feature dimension of length $n$\n",
    "\n",
    "We need to expand the definition of dot product to account for the non-feature dimensions.\n",
    "\n",
    "We will do this in a subsequent section."
   ]
  },
  {
   "cell_type": "markdown",
   "metadata": {
    "slideshow": {
     "slide_type": "slide"
    }
   },
   "source": [
    "Given a generalized dot product to match features even in the presence of non-feature dimensions\n",
    "- what would be the best way to use it ?\n",
    "\n",
    "It would be natural \n",
    "- to use patterns with non-feature dimensions that were identical\n",
    "in number and length to those of the input."
   ]
  },
  {
   "cell_type": "markdown",
   "metadata": {
    "slideshow": {
     "slide_type": "slide"
    }
   },
   "source": [
    "That is\n",
    "- we seek to match a pattern against the entire non-feature dimensions of the input.\n",
    "\n",
    "Consider the following pattern which is of identical dimension to the input\n",
    "\n",
    "<table>\n",
    "    <tr>\n",
    "        <th><center>Pattern spanning entire non-feature dimensions, single feature</center></th>\n",
    "    </tr>\n",
    "    <tr>\n",
    "        <td><img src=\"images/Conv2d_multifeature_shape_1.png\" width=100%></td>\n",
    "    </tr>\n",
    "</table>\n",
    "\n",
    "In fact: this pattern is identical to the input and matches it perfectly !\n",
    "- the generalized dot product of the input and the pattern results in a high activation"
   ]
  },
  {
   "cell_type": "markdown",
   "metadata": {
    "slideshow": {
     "slide_type": "subslide"
    }
   },
   "source": [
    "But what about inputs similar to this one but\n",
    "- shifted right/left or up/down\n",
    "    - we week \"translational invariance\"\n",
    "- a smaller smile\n",
    "- different distance between the eyes\n",
    "\n",
    "The pattern would not be as good a match\n",
    "- lower activation\n",
    "- even though the \"meaning\" of the similar input is the same as the original: \"smiling face\""
   ]
  },
  {
   "cell_type": "markdown",
   "metadata": {
    "slideshow": {
     "slide_type": "subslide"
    }
   },
   "source": [
    "It would be more powerful to match patterns against a *sub-region* of the input\n",
    "- we could look for a small pattern within the input\n",
    "- while ignoring parts of the input beyond the size of the pattern\n",
    "\n",
    "For example, suppose\n",
    "- we want to create an output feature (i.e., match a pattern) that is active when the input contains a pattern matching\n",
    "    - an \"eye\"\n",
    "    - part of the \"smile\"\n",
    "\n",
    "We can't use the dot product of the input and a pattern spanning the full input to create these output features\n",
    "- These patterns are much smaller than the entire input\n",
    "- The \"eye\" can occur in any sub-region of the input\n",
    "- An \"eye\" can be present regardless of the presence/absence of any other parts of the input"
   ]
  },
  {
   "cell_type": "markdown",
   "metadata": {
    "slideshow": {
     "slide_type": "subslide"
    }
   },
   "source": [
    "The solution\n",
    "- define patterns whose non-feature dimensions are *smaller* than that of the entire input\n",
    "- match these patterns against *every sub-region* of the input of equal size\n",
    "- producing an output that is a *feature map*\n",
    "    - an object with non-feature dimensions equal in number and length to that of the input\n",
    "    - with a single feature\n",
    "    - that is active at a particular location of the feature map\n",
    "    - when the pattern matches a sub-region of the input centered at that location\n",
    "\n",
    "The operation to produce the feature map is called *Convolution*"
   ]
  },
  {
   "cell_type": "markdown",
   "metadata": {
    "slideshow": {
     "slide_type": "subslide"
    }
   },
   "source": [
    "In the diagram below we show a Convolution\n",
    "that is performed by a CNN Layer type that is layer $\\ll$ of a Sequent NN\n",
    "\n",
    "- the input is $\\y_{(\\ll-1)}$ (the output of layer $(\\ll-1)$ in a multi-layer NN)\n",
    "- there are 3 patterns with non-spatial dimensions $(2 \\times 2)$\n",
    "    - $\\kernel_{\\llp,1}$ is the pattern for an \"eye\"\n",
    "    - $\\kernel_{\\llp,2}$ and $\\kernel_{\\llp,3}$ are patterns for the left/right corner of the smile\n",
    "- the output feature map $\\y_\\llp$ (the layer output)\n",
    "    - has non-feature dimensions equal in number and length to those of $\\y_{(\\ll-1)}$\n",
    "    - shows the locations within input $\\y_{(\\ll-1)}$ where the pattern is matched"
   ]
  },
  {
   "cell_type": "markdown",
   "metadata": {
    "slideshow": {
     "slide_type": "subslide"
    }
   },
   "source": [
    "<table>\n",
    "    <tr>\n",
    "        <th><center>Convolution: 1 input feature to 3 output features</center></th>\n",
    "    </tr>\n",
    "    <tr>\n",
    "        <td><img src=\"images/Conv2d_multifeature_shape.png\" width=80%></td>\n",
    "    </tr>\n",
    "</table>"
   ]
  },
  {
   "cell_type": "markdown",
   "metadata": {
    "slideshow": {
     "slide_type": "subslide"
    }
   },
   "source": [
    "# Generalizing the dot product to include non-feature dimensions\n",
    "\n",
    "\n",
    "\n",
    "We can generalize the dot product to higher dimensions\n",
    "- let the two arguments $\\x, \\kernel$ of the dot product have identical dimensions (both non-feature and feature)\n",
    "- the point-wise product of the values in corresponding locations of the two arguments\n",
    "- summed\n",
    "- to yield a single value\n",
    "\n",
    "    \n",
    "The dot product is\n",
    "$$\n",
    "\\sum_{\\idxb \\in I} { \\x_\\idxb * \\kernel_\\idxb }\n",
    "$$\n",
    "\n",
    "where\n",
    "$I$ is an enumeration of the index set of $\\x$ (and $\\kernel$ since they are of the same dimension)\n",
    "- each element $\\idxb$ of $I$ is in $D_0 \\times \\ldots D_{d-1}\\times F$\n",
    "    - $\\idxb$ is a vector of length $d +1 $\n",
    "- where there are $d$ non-feature dimensions\n",
    "    - $D_l$ are the set of indices in non-feature dimension $l$\n",
    "    - $F$ is the set of indices (size $n$) of the feature dimension\n"
   ]
  },
  {
   "cell_type": "markdown",
   "metadata": {
    "slideshow": {
     "slide_type": "subslide"
    }
   },
   "source": [
    "This point-wise multiplication is mathematically equivalent to a multiplication described\n",
    "in a way that highlights the feature dimension of the arguments.\n",
    "\n",
    "- taking sub-vector $\\x_{[\\idxb]}$ of example $\\x$\n",
    "    - located a single location $\\idxb$ in the non-feature dimensions of example $\\x$\n",
    "        $\\idxb$ is a vector of length $N$\n",
    "    - which is a vector of length $n$ features\n",
    "- and the sub-pattern $\\kernel_{[\\idxb]}$ of the pattern  $\\kernel$\n",
    "    - located at the same location $\\idxb$ in the non-feature dimensions of pattern $\\kernel$\n",
    "    - which is a vector of length $n$ features\n",
    "- taking the dot product\n",
    "\n",
    "$$\n",
    " \\x_{[\\idxb]} \\cdot \\kernel_{[\\idxb]}\n",
    "$$\n",
    "- adding the dot products computed over *all* the locations $i$ in the non-feature dimensions of $\\x$ (and $\\kernel$ since they are of same dimension)"
   ]
  },
  {
   "cell_type": "markdown",
   "metadata": {
    "slideshow": {
     "slide_type": "subslide"
    }
   },
   "source": [
    "That is, we re-write the point-wise multiplication and sum as\n",
    "- the dot product at each location in the non-feature dimensions\n",
    "    - each argument is a vector of $n$ featurs\n",
    "- summed\n",
    "\n",
    "$$\n",
    "\\sum_{\\idxb \\in D} { \\x_{[\\idxb]} \\cdot \\kernel_{[\\idxb]} }\n",
    "$$\n",
    "where \n",
    "$$\n",
    "D =  D_0 \\times \\ldots D_{d-1}\n",
    "$$ \n",
    "is an enumeration of the locations in the non-feature dimensions of $\\x$ (and $\\kernel$)\n",
    "\n",
    "We are matching feature vectors (just as in the one-dimensional case)\n",
    "- but there is one pair of feature vectors to match for each location in the non-feature dimensions\n",
    "- so we need to average the pair-wise dot products over the multiple locations"
   ]
  },
  {
   "cell_type": "markdown",
   "metadata": {
    "slideshow": {
     "slide_type": "subslide"
    }
   },
   "source": [
    "With the addition of non-feature dimensions, we will generalize the pattern matching.\n",
    "\n",
    "The patterns will now *also* have non-feature dimensions\n",
    "- same number of dimensions as the example $\\x$'s non-feature dimensions\n",
    "- but the length $f$ of each dimension in the pattern $\\kernel$ will be *smaller* than the length of the corresponding dimension in the example"
   ]
  },
  {
   "cell_type": "markdown",
   "metadata": {
    "slideshow": {
     "slide_type": "slide"
    }
   },
   "source": [
    "# Convolution: definition\n",
    "\n",
    "A convolution involves an example $\\x$ and pattern $\\kernel$\n",
    "- The *number* of dimensions of $\\x$ and $\\kernel$ are the same\n",
    "- The *length* of the feature dimension of $\\x$ and $\\kernel$ are the same\n",
    "- The *length* of each *non-feature* dimensions of $\\kernel$ is *less than or equal* to the length of the c\n",
    "corresponding non-feature dimension of $\\x$\n",
    "    - customarily, each non-feature dimension of $\\kernel$ is the same length: $f$\n",
    "        - but this is not necessary"
   ]
  },
  {
   "cell_type": "markdown",
   "metadata": {
    "slideshow": {
     "slide_type": "slide"
    }
   },
   "source": [
    "The pattern $\\kernel$, since the length of the non-feature dimensions may be smaller than the corresponding\n",
    "non-feature dimensions of $\\x$\n",
    "- can only be matched against a sub-region of $\\x$ whose non-feature dimensions have length $f$\n",
    "    - so that the dimensions of the sub-region match those of the pattern\n",
    "\n",
    "For example suppose the non-feature dimensions $\\x$ and $\\kernel$ are $(5 \\times 5)$ and $(3 \\times 3)$ respectively.\n",
    "\n",
    "One can take the dot product of $\\kernel$ with any sub-region of $\\x$ of size $(3 \\times 3)$.\n",
    "\n",
    "There are many such sub-regions of $\\x$.\n"
   ]
  },
  {
   "cell_type": "markdown",
   "metadata": {
    "slideshow": {
     "slide_type": "subslide"
    }
   },
   "source": [
    "*Convolution* is an operation that computes the dot product of $\\kernel$ and each sub-region of $\\x$.\n",
    "\n",
    "Let there be $N$ non-feature dimensions in $\\x$ and $\\kernel$\n",
    "- $D_l$ are the set of indices in non-feature dimension $l$ of $\\x$\n",
    "- $D'_l$ are the set of indices in non-feature dimension $l$ of $\\kernel$\n",
    "    - length of each $D'_l$ is $f$\n",
    "- $F$ is the set of indices (size $n$) of the feature dimension of both $\\x$ and $\\kernel$\n",
    "\n",
    "    \n",
    "The index set of\n",
    "- $\\x$ is $(D_0 \\times \\ldots D_{d-1} \\times F)$\n",
    "- the non-feature dimensions of $\\x$ is\n",
    "$$\n",
    "D =  D_0 \\times \\ldots D_{d-1}\n",
    "$$ \n",
    "- $\\kernel$ is $(D'_0 \\times \\ldots D'_{d-1} \\times F)$\n",
    "    - length of each $D'_l$ is $f$\n",
    "    - $f \\le | D_l |$ for each $0 \\le l \\le (N-1)$"
   ]
  },
  {
   "cell_type": "markdown",
   "metadata": {
    "slideshow": {
     "slide_type": "subslide"
    }
   },
   "source": [
    "We will create sub-regions of $\\x$.\n",
    "\n",
    "Let $\\x_{[ \\idxb ] }$ be the sub-region of $\\x$ centered at index $\\idxb \\in D$\n",
    "- whose non-feature dimensions are of length $f$\n",
    "- with feature dimension of length $n$\n",
    "\n",
    "The dimensions of $\\x_{[ \\idxb ] }$ and $\\kernel$ are identical\n",
    "- so we can compute the dot product\n"
   ]
  },
  {
   "cell_type": "markdown",
   "metadata": {
    "slideshow": {
     "slide_type": "subslide"
    }
   },
   "source": [
    "Let \n",
    "- $\\text{Conv}(\\x, \\kernel)$ denote the operation performing the convolution of example $\\x$\n",
    "and pattern $\\kernel$\n",
    "- let $\\y = \\text{Conv}(\\x, \\kernel)$ be the output of the convolution operation\n",
    "    - the non-feature dimensions of $\\y$ and $\\x$ are identical in number and length\n",
    "    - the feature dimension of $\\y$ is length $1$\n",
    "    \n",
    "Convolution is defined as\n",
    "$$\n",
    "\\y_{[\\idxb], 0} = \\x_{[ \\idxb ] } \\cdot \\kernel\n",
    "$$"
   ]
  },
  {
   "cell_type": "markdown",
   "metadata": {
    "slideshow": {
     "slide_type": "subslide"
    }
   },
   "source": [
    "That is\n",
    "- the non-feature dimensions of $\\y$ and $\\x$ are equal in number and length\n",
    "- location $\\idxb$ in the non-feature dimension of $\\y$ is the result of matching\n",
    "    - the pattern $\\kernel$\n",
    "    - against the sub-region of $\\x$\n",
    "        - centered at $\\idxb$\n",
    "        - whose length of non-feature dimensions matches those of $\\kernel$"
   ]
  },
  {
   "cell_type": "markdown",
   "metadata": {
    "slideshow": {
     "slide_type": "slide"
    }
   },
   "source": [
    "Just as a Fully Connected layer can create more than one output feature\n",
    "- using a different pattern for each output feature\n",
    "- we can define Convolution to output more than one feature\n",
    "    - using a different pattern for each feature\n",
    "    - the patterns are higher-dimensional for the Convolution compare to Fully Connected\n",
    "        - since the Convolutional patters contain non-feature dimensions\n",
    "        - as well as the feature dimension\n",
    "        "
   ]
  },
  {
   "cell_type": "markdown",
   "metadata": {
    "slideshow": {
     "slide_type": "slide"
    }
   },
   "source": [
    "Let $\\kernel_j$ denote the pattern used for output feature $j$.\n",
    "\n",
    "Then\n",
    "$$\n",
    "\\y_{[\\idxb], j} = \\x_{[ \\idxb ] } \\cdot \\kernel_j\n",
    "$$\n",
    "\n",
    "The output for feature $j$, denoted as $\\y_{\\ldots,j}$ is called *feature map* j\n",
    "- shows how each location in the non-feature dimensions of $\\x$\n",
    "- is matched against pattern $\\kernel_j$"
   ]
  },
  {
   "cell_type": "markdown",
   "metadata": {
    "slideshow": {
     "slide_type": "slide"
    }
   },
   "source": [
    "# Examples\n",
    "\n",
    "It may be easier to grasp the working of a CNN layer\n",
    "- by starting with simple cases of $\\x$ and $\\kernel$\n",
    "- and working up to more complex cases\n",
    "- using pictures to illustrate\n",
    "\n",
    "We do this in the next module\n"
   ]
  },
  {
   "cell_type": "markdown",
   "metadata": {
    "slideshow": {
     "slide_type": "slide"
    }
   },
   "source": [
    "# Where do the patterns come from ? Training a CNN\n",
    "\n",
    "Hopefully you understand how patterns (kernels) are \"feature recognizers\".\n",
    "\n",
    "But you may be wondering: how do we determine the weights in each kernel ?\n",
    "\n",
    "Answer: a Convolutional Layer is \"just another\" layer in a multi-layer network\n",
    "- The kernels are just weights (like the weights in Fully Connected layers)\n",
    "- We solve for all the weights $\\W$ in the multi-layer network in the same way\n"
   ]
  },
  {
   "cell_type": "markdown",
   "metadata": {
    "slideshow": {
     "slide_type": "subslide"
    }
   },
   "source": [
    "The answer is: exactly as we did in Classical Machine Learning\n",
    "- Define a loss function that is parameterized by $\\W$: \n",
    "$$\\loss = L(\\hat{\\y},\\y; \\W)$$\n",
    "\n",
    "- The kernel weights are just part of $\\W$\n",
    "- Our goal is to find $\\W^*$ the \"best\" set of weights\n",
    "$$\n",
    "\\W^* = \\argmin{W} L(\\hat{\\y},\\y; \\W)\n",
    "$$\n",
    "- Using Gradient Descent !\n",
    "\n",
    "In other words: their is nothing special about finding the \"best\" kernels."
   ]
  },
  {
   "cell_type": "code",
   "execution_count": null,
   "metadata": {
    "slideshow": {
     "slide_type": "slide"
    }
   },
   "outputs": [],
   "source": [
    "print(\"Done\")"
   ]
  },
  {
   "cell_type": "markdown",
   "metadata": {
    "slideshow": {
     "slide_type": "slide"
    }
   },
   "source": [
    "# PREVIOUS VERSION OF THIS NOTEBOOK\n",
    "\n",
    "The remainder of this notebook is a previous version\n",
    "- the newer version (sections above) are hopefully improved\n",
    "- the sections below are kept only for historic reference and will soon be delted"
   ]
  },
  {
   "cell_type": "markdown",
   "metadata": {
    "slideshow": {
     "slide_type": "subslide"
    }
   },
   "source": [
    "# Convolutional Neural Networks\n",
    "\n",
    "\n",
    "A Fully Connected/Dense Layer with a single unit producing a single feature at layer $\\ll$ computes\n",
    "$$\n",
    "\\y_{\\llp,1} = a_\\llp( \\y_{(\\ll-1)} \\cdot \\W_{\\llp,1} )\n",
    "$$"
   ]
  },
  {
   "cell_type": "markdown",
   "metadata": {
    "slideshow": {
     "slide_type": "subslide"
    }
   },
   "source": [
    "<div>\n",
    "    <br>\n",
    "    <center><strong>Fully connected, single feature</strong></center>\n",
    "    <br>\n",
    "<img src=images/FC_1feature.png width=\"60%\">\n",
    "    <br>\n",
    "    </div>"
   ]
  },
  {
   "cell_type": "markdown",
   "metadata": {
    "slideshow": {
     "slide_type": "subslide"
    }
   },
   "source": [
    "That is: \n",
    "- It recognizes one new synthetic feature\n",
    "- In the entirety (\"fully\" connected) of $\\y_{(\\ll-1)}$\n",
    "- Using pattern $\\W_{\\llp,1}$ (same size as $\\y_{(\\ll-1)}$)\n",
    "- To reduce $\\y_{(\\ll-1)}$ to a single feature."
   ]
  },
  {
   "cell_type": "markdown",
   "metadata": {
    "slideshow": {
     "slide_type": "subslide"
    }
   },
   "source": [
    "The pattern being matched spans the entirety of the input\n",
    "- Might it be useful to recognize a smaller feature that spanned only *part* of the input ?\n",
    "- What if this smaller feature could occur *anywhere* in the input rather than at a fixed location ?\n",
    "\n",
    "For example\n",
    "- A \"spike\" in a time series\n",
    "- The eye in a face\n",
    "\n",
    "A pattern whose length was that of the entire input could recognize the smaller feature only in a *specific* place"
   ]
  },
  {
   "cell_type": "markdown",
   "metadata": {
    "slideshow": {
     "slide_type": "subslide"
    }
   },
   "source": [
    "This motivates some of the key ideas behind a Convolutional Layer.\n",
    "- Recognize smaller features within the whole\n",
    "- Using small patterns\n",
    "- That are \"slid\" over the entire input\n",
    "- Localizing the specific part of the input containing the smaller feature"
   ]
  },
  {
   "cell_type": "markdown",
   "metadata": {
    "slideshow": {
     "slide_type": "slide"
    }
   },
   "source": [
    "## The spatial dimension\n",
    "\n",
    "A small pattern (less than full length of input) can match a sub-section of input at any location.\n",
    "\n",
    "We can imagine centering the pattern on each input element and applying the match.\n",
    "\n",
    "The output, therefore, will be a vector of length equal to the input length."
   ]
  },
  {
   "cell_type": "markdown",
   "metadata": {
    "slideshow": {
     "slide_type": "slide"
    }
   },
   "source": [
    "Here is the connectivity diagram of a Convolutional Layer producing a **single** feature  at layer $\\ll$\n",
    "- Using a pattern of length $3$\n",
    "- Eventually we will show how to produce *multiple* features\n",
    "- Hence the subscript \"1\" in $\\y_{\\llp,1}$ to denote the first output feature"
   ]
  },
  {
   "cell_type": "markdown",
   "metadata": {
    "slideshow": {
     "slide_type": "subslide"
    }
   },
   "source": [
    "<div>\n",
    "    <br>\n",
    "    <center><strong>Convolutional layer, single feature</strong></center>\n",
    "    <br>\n",
    "<img src=images/Conv1d_1feature_diag.png width=\"30%\">\n",
    "    <br>\n",
    "    </div>"
   ]
  },
  {
   "cell_type": "markdown",
   "metadata": {
    "slideshow": {
     "slide_type": "subslide"
    }
   },
   "source": [
    "The output vector $\\y_{\\llp,1}$ is called the first **feature map** as it attempts to match the first feature at each input location.\n",
    "\n",
    "We refer to the indices of the feature map as the **spatial dimensions**\n",
    "\n",
    "Thus, the output of layer $\\ll$ is 2 (or higher !) dimensional when layer $\\ll$ is a CNN\n",
    "- a number of features\n",
    "    - we have only shown a single feature thus far\n",
    "- each feature producing a feature map\n",
    "    - a feature map dimensions are called the spatial dimensions\n"
   ]
  },
  {
   "cell_type": "markdown",
   "metadata": {
    "slideshow": {
     "slide_type": "subslide"
    }
   },
   "source": [
    "The output of a CNN layer is a collection of\n",
    "- $n_\\llp$ feature maps (one per feature)\n",
    "- each feature map having the same spatial dimension as its inputs\n",
    "\n",
    "We can connect multiple CNN layers in sequence\n",
    "- preserving the spatial dimensions across layers\n",
    "- but creating more complex features as we get deeper"
   ]
  },
  {
   "cell_type": "markdown",
   "metadata": {
    "slideshow": {
     "slide_type": "subslide"
    }
   },
   "source": [
    "**Technical note: special case**\n",
    "- The input to the first CNN layer $\\ll$ is often a one-dimensional vector of $n_{(\\ll-1)}$ features\n",
    "- A CNN treats this as a $(n_{(\\ll-1)} \\times 1)$ vector\n",
    "    - 1 feature of a 1D spatial dimensions of shape $((n_{(\\ll-1)},)$ "
   ]
  },
  {
   "cell_type": "markdown",
   "metadata": {
    "slideshow": {
     "slide_type": "subslide"
    }
   },
   "source": [
    "\n",
    "Our convention will be that the **feature dimension** will appear as the **final** dimension of the output of layer $\\ll$.\n",
    "- all prior dimensions will be part of the **spatial dimension**\n",
    "\n",
    "We need to distinguish which dimension is the feature dimension because\n",
    "- **A convolution finds small patterns in the spatial dimension, not the feature dimension**\n",
    "\n",
    "To be clear\n",
    "- the vector of shape $(1 \\times \\dim)$ denotes $\\dim$ features at a single spatial location\n",
    "- the vector of shape $(\\dim \\times 1)$ denotes  a single features at  $\\dim$ spatial locations"
   ]
  },
  {
   "cell_type": "markdown",
   "metadata": {
    "slideshow": {
     "slide_type": "subslide"
    }
   },
   "source": [
    "\n",
    "**Notation**\n",
    "- the feature dimension will be the last index\n",
    "- $n_\\llp$ will always denote the *number of features* of a layer $\\ll$\n",
    "- $\\y_{\\llp, j', j}$ denotes feature $j$ of layer $\\ll$ at spatial location $j'$\n",
    "\n",
    "We say that the above convolutional layer $\\ll$\n",
    "- Maps a single feature (defined over a 1D spatial dimension with $\\dim_\\llp = \\dim_{(\\ll-1)}$ locations) of layer $(\\ll-1)$\n",
    "- To a single feature, defined over an identical number of spatial locations in layer $\\ll$"
   ]
  },
  {
   "cell_type": "markdown",
   "metadata": {
    "slideshow": {
     "slide_type": "subslide"
    }
   },
   "source": [
    "## The importance of the spatial dimension\n",
    "\n",
    "Let's contrast the CNN layer with a Fully Connected layer.\n",
    "\n",
    "- The Fully Connected layer we depicted matches a pattern over the full *feature* dimension\n",
    "    - There is no ordering (or spatial relationship) between features\n",
    "- The CNN layer we depicted matches a pattern over the full *spatial* dimensions\n",
    "\n",
    "Spatial dimensions are different than feature dimensions\n",
    "- They have \"order\" (spatial relationships)"
   ]
  },
  {
   "cell_type": "markdown",
   "metadata": {
    "slideshow": {
     "slide_type": "subslide"
    }
   },
   "source": [
    "To see this, we show that a FC layer is insensitive to ordering of inputs\n",
    "- Consider a vector $\\x$ of $n$ features (input to the Fully Connected layer)\n",
    "- Let $\\text{perm}$ be permutation of the indices of $\\x$: $[1 \\ldots n]$.\n",
    "\n",
    "If we permute both $\\x$ and weights $\\Theta$, the dot product remains unchanged\n",
    "\n",
    "$$\n",
    "\\Theta^T \\cdot \\x =  \\Theta[ \\text{perm} ]^T \\cdot \\x[ \\text{perm} ] ]\n",
    "$$\n",
    "\n",
    "So shuffling inputs to a FC layer does not affect its outputs\n",
    "- assuming they are shuffled the same way during training and inference"
   ]
  },
  {
   "cell_type": "markdown",
   "metadata": {
    "slideshow": {
     "slide_type": "subslide"
    }
   },
   "source": [
    "But for certain types of inputs (e.g. images) it is easy to imagine that spatial locality is important.\n",
    "- Consider a 2D pixel grid depicting a face\n",
    "- The relative ordering of pixels may be what **defines** a pattern to be recognized\n",
    "    - The relative location of the pixels within the left eye are important\n",
    "    - The relative location of the pixels constituting the left eye, right eye, nose and mouth are important\n",
    "\n",
    "By using a small pattern (and restricting connectivity) we **emphasize the relative locations** of elements\n",
    "- neighboring elements more important than far away elements.\n",
    "\n"
   ]
  },
  {
   "cell_type": "markdown",
   "metadata": {
    "slideshow": {
     "slide_type": "subslide"
    }
   },
   "source": [
    "The \"spatial\" dimension implies an ordering of elements\n",
    "- but the ordering does not have to be in space\n",
    "    - e.g., can be ordered in time\n",
    "\n",
    "Consider the time series of prices of a single ticker over $\\dim$ days.\n",
    "\n",
    "Two representations\n",
    "- $(\\dim \\times 1)$: 1 feature (\"price\") over $\\dim$ spatial (\"date\") locations \n",
    "- $( 1 \\times \\dim)$: 1 ticker with $\\dim$ features $( \\text{price} \\, 1, \\ldots, \\text{price} \\, \\dim)$\n",
    "\n",
    "The choice of where the singleton dimension appears is sometimes a matter of interpretation.\n",
    "- but the last index always denotes the feature dimension\n"
   ]
  },
  {
   "cell_type": "markdown",
   "metadata": {
    "slideshow": {
     "slide_type": "subslide"
    }
   },
   "source": [
    "Mathematically, the One Dimensional Convolutional Layer (Conv1d) we have shown computes $\\y_\\llp$\n",
    "\n",
    "$$\n",
    "\\y_{\\llp,1} = \n",
    "\\begin{pmatrix}\n",
    "a_\\llp \\left( \\; N(\\y_{(\\ll-1)}, \\W_{\\llp,1}, 1) \\cdot \\W_{\\llp,1} \\; \\right) \\\\\n",
    "a_\\llp \\left( \\; N(\\y_{(\\ll-1)}, \\W_{\\llp,1}, 2) \\cdot \\W_{\\llp,1} \\; \\right) \\\\\n",
    "\\vdots \\\\\n",
    "a_\\llp \\left( \\; N(\\y_{(\\ll-1)}, \\W_{\\llp,1}, \\dim_{(\\ll-1)} \\cdot \\W_{\\llp,1} \\; \\right) \\\\\n",
    "\\end{pmatrix}\n",
    "$$"
   ]
  },
  {
   "cell_type": "markdown",
   "metadata": {
    "slideshow": {
     "slide_type": "subslide"
    }
   },
   "source": [
    "where\n",
    "$N( \\; \\y_{(\\ll-1)}, \\W_{\\llp,1}, j \\; )$\n",
    "- selects a subsequence of $\\y_{(\\ll-1),\\dots, 1}$ centered at $\\y_{(\\ll-1), j ,1}$\n",
    "    - Note the extra spatial dimension in the subscripting; \"$\\ldots$\" denotes the full spatial dimension\n",
    "    - Centered at the $j^{th}$ element in the spatial dimension of feature $1$ of layer $(\\ll-1)$\n",
    "\n",
    "Note that\n",
    "- The *same* weight matrix $\\W_{\\llp,1}$ is used for the first feature at *all* locations $j$\n",
    "- The size of $\\W_{\\llp,1}$ is the same as the size of the subsequence $N( \\; \\y_{(\\ll-1)}, \\W_{\\llp,1}, j )$\n",
    "    - Since dot product is element-wise multiplication\n",
    "- The spatial dimension $\\dim_\\llp$ of $\\y_{\\llp,1}$ is equal to $\\dim_{(\\ll-1)}$"
   ]
  },
  {
   "cell_type": "markdown",
   "metadata": {
    "slideshow": {
     "slide_type": "subslide"
    }
   },
   "source": [
    "## Kernel, Filter\n",
    "\n",
    "The vector $\\W_{\\llp,1}$ above\n",
    "\n",
    "- Is a smaller pattern\n",
    "- That is applied to *each* spatial location $j$ in $\\y_{(\\ll-1)}$\n",
    "- $\\y_{\\llp, j,1}$ recognizes the match/non-match of the smaller first feature at the spatial locations centered at  $\\y_{(\\ll-1),j,1}$"
   ]
  },
  {
   "cell_type": "markdown",
   "metadata": {
    "slideshow": {
     "slide_type": "subslide"
    }
   },
   "source": [
    "$\\W_{\\llp,1}$ is called the first convolutional *filter* or *kernel*\n",
    "- We will often denote it $\\kernel_{\\llp, 1}$\n",
    "- But it is just a part of the weights $\\W$ of the multi-layer NN.\n",
    "- We use $f_\\llp$ to denote the size of the smaller pattern called the *filter size*\n",
    "  "
   ]
  },
  {
   "cell_type": "markdown",
   "metadata": {
    "slideshow": {
     "slide_type": "subslide"
    }
   },
   "source": [
    "A *Convolution* is often depicted as\n",
    "- A filter/kernel\n",
    "- That is slid over each location in the input\n",
    "- Producing a corresponding output for that location\n",
    "\n",
    "Here's a picture with a kernel of size $f_\\llp = 3$\n"
   ]
  },
  {
   "cell_type": "markdown",
   "metadata": {
    "slideshow": {
     "slide_type": "subslide"
    }
   },
   "source": [
    "<div><br>\n",
    "    <center><strong>Conv 1D, single feature: sliding the filter</strong></center>\n",
    "    <br>\n",
    "<img src=images/W9_L1_S19_Conv1d_sliding.png width=\"80%\">\n",
    "    <!-- edX: Original: <img src=\"images/Conv1d_sliding.png\"> replace by EdX created image --> \n",
    "</div>"
   ]
  },
  {
   "cell_type": "markdown",
   "metadata": {
    "slideshow": {
     "slide_type": "subslide"
    }
   },
   "source": [
    "After sliding the Kernel over the whole $\\y_{(\\ll-1)}$ we get:"
   ]
  },
  {
   "cell_type": "markdown",
   "metadata": {
    "slideshow": {
     "slide_type": "subslide"
    }
   },
   "source": [
    "<div>\n",
    "    <br>\n",
    "    <center><strong>Conv 1D, single feature: output feature map</strong></center>\n",
    "    <br>\n",
    "<img src=images/W9_L1_S22_Conv1d.png width=\"80%\">\n",
    "    <!-- edX: Original: <img src=\"images/Conv1d.png\"> replace by EdX created image --> \n",
    "    </div>"
   ]
  },
  {
   "cell_type": "markdown",
   "metadata": {
    "slideshow": {
     "slide_type": "subslide"
    }
   },
   "source": [
    "Element $j$ of output $\\y_{\\llp, \\ldots, 1}$ (i.e., $\\y_{\\llp,j,1}$)\n",
    "- Is colored (e.g., $j=1$ is colored Red)\n",
    "- Is computed by applying the *same* $\\W_{\\llp,1}$ to \n",
    "    - The $f_\\llp$ elements of $\\y_{(\\ll-1),1}$, centered at $\\y_{(\\ll-1),j,1}$\n",
    "    - Which have the same color as the output"
   ]
  },
  {
   "cell_type": "markdown",
   "metadata": {
    "slideshow": {
     "slide_type": "subslide"
    }
   },
   "source": [
    "Note however that,  at the \"ends\" of $\\y_{(\\ll-1)}$\n",
    "the kernel\n",
    "may extend beyond the input vector.\n",
    "\n",
    "In that case $\\y_{(\\ll-1)}$ may be extended with *padding* (elements with $0$ value typically)"
   ]
  },
  {
   "cell_type": "markdown",
   "metadata": {
    "slideshow": {
     "slide_type": "slide"
    }
   },
   "source": [
    "## Activation of a CNN layer\n",
    "\n",
    "Just like the Fully Connected layer, a CNN layer is usually paired with an activation.\n",
    "\n",
    "The default activation $a_\\llp$ in Keras is \"linear\"\n",
    "- That is: it returns the dot product input unchanged\n",
    "- Always know what is the default activation for a layer; better yet: always specify !"
   ]
  },
  {
   "cell_type": "markdown",
   "metadata": {
    "slideshow": {
     "slide_type": "slide"
    }
   },
   "source": [
    "# Conv2d in action\n",
    "\n",
    "We have thus far depicted a spatial dimension of length $1$.\n",
    "\n",
    "We can easily expand this into $2$ spatial dimensions\n",
    "- each feature map is 2 dimensional\n",
    "- each location in the feature map corresponds to a position in a 2D grid"
   ]
  },
  {
   "cell_type": "markdown",
   "metadata": {
    "slideshow": {
     "slide_type": "slide"
    }
   },
   "source": [
    "Pre-Deep Learning: manually specified filters have a rich history for image recognition.\n",
    "\n",
    "Here is a list of manually constructed kernels (templates) that have proven useful\n",
    "- [list of filter matrices](https://en.wikipedia.org/wiki/Kernel_(image_processing))\n",
    "\n",
    "Let's see some in action to get a better intuition."
   ]
  },
  {
   "cell_type": "code",
   "execution_count": 4,
   "metadata": {
    "slideshow": {
     "slide_type": "subslide"
    }
   },
   "outputs": [
    {
     "data": {
      "image/png": "[encoded data removed]",
      "text/plain": [
       "<Figure size 864x864 with 15 Axes>"
      ]
     },
     "metadata": {
      "needs_background": "light"
     },
     "output_type": "display_data"
    }
   ],
   "source": [
    "_= cnnh.plot_convs()"
   ]
  },
  {
   "cell_type": "markdown",
   "metadata": {
    "slideshow": {
     "slide_type": "subslide"
    }
   },
   "source": [
    "- A bright element in the output indicates a high, positive dot product\n",
    "- A dark element in the output indicates a low (or highly negative) dot product\n",
    "\n",
    "In our example\n",
    "- $N = 2$: Two spatial dimensions\n",
    "- One input feature: $n_{(\\ll-1)} = 1$ \n",
    "- One output feature $n_\\llp = 1$\n",
    "- $f_\\llp = 3$\n",
    "    - Kernel is $(3 \\times 3 \\times 1)$."
   ]
  },
  {
   "cell_type": "markdown",
   "metadata": {
    "slideshow": {
     "slide_type": "subslide"
    }
   },
   "source": [
    "The template match will be maximized when\n",
    "- high values in the input correspond to high values in the matching location of the template\n",
    "- low values in the input correspond to low values in the matching locations of the template"
   ]
  },
  {
   "cell_type": "markdown",
   "metadata": {
    "slideshow": {
     "slide_type": "subslide"
    }
   },
   "source": [
    "We can have \"spatial\" dimensions of length even greater than 2\n",
    "\n",
    "When we want to emphasize the number of features $n_\\llp$ rather than the number of spatial dimensions,\n",
    "we will use ellipsis (dots)\n",
    "$$\\y_{\\ldots, n_\\llp}$$\n",
    "\n",
    "where the ellipsis ($\\ldots$) is a place-holder for the spatial dimension shape."
   ]
  },
  {
   "cell_type": "code",
   "execution_count": 5,
   "metadata": {
    "slideshow": {
     "slide_type": "slide"
    }
   },
   "outputs": [
    {
     "name": "stdout",
     "output_type": "stream",
     "text": [
      "Done\n"
     ]
    }
   ],
   "source": [
    "print(\"Done\")"
   ]
  }
 ],
 "metadata": {
  "celltoolbar": "Slideshow",
  "kernelspec": {
   "display_name": "Python 3",
   "language": "python",
   "name": "python3"
  },
  "language_info": {
   "codemirror_mode": {
    "name": "ipython",
    "version": 3
   },
   "file_extension": ".py",
   "mimetype": "text/x-python",
   "name": "python",
   "nbconvert_exporter": "python",
   "pygments_lexer": "ipython3",
   "version": "3.7.4"
  },
  "toc": {
   "base_numbering": 1,
   "nav_menu": {},
   "number_sections": true,
   "sideBar": true,
   "skip_h1_title": false,
   "title_cell": "Table of Contents",
   "title_sidebar": "Contents",
   "toc_cell": false,
   "toc_position": {
    "height": "calc(100% - 180px)",
    "left": "10px",
    "top": "150px",
    "width": "370px"
   },
   "toc_section_display": true,
   "toc_window_display": true
  }
 },
 "nbformat": 4,
 "nbformat_minor": 2
}
