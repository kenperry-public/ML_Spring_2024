{
 "cells": [
  {
   "cell_type": "code",
   "execution_count": 1,
   "metadata": {
    "slideshow": {
     "slide_type": "notes"
    }
   },
   "outputs": [
    {
     "data": {
      "text/latex": [
       "$$\n",
       "\\newcommand{\\x}{\\mathbf{x}}\n",
       "\\newcommand{\\tx}{\\tilde{\\x}}\n",
       "\\newcommand{\\y}{\\mathbf{y}}\n",
       "\\newcommand{\\b}{\\mathbf{b}}\n",
       "\\newcommand{\\c}{\\mathbf{c}}\n",
       "\\newcommand{\\e}{\\mathbf{e}}\n",
       "\\newcommand{\\z}{\\mathbf{z}}\n",
       "\\newcommand{\\h}{\\mathbf{h}}\n",
       "\\newcommand{\\u}{\\mathbf{u}}\n",
       "\\newcommand{\\v}{\\mathbf{v}}\n",
       "\\newcommand{\\w}{\\mathbf{w}}\n",
       "\\newcommand{\\W}{\\mathbf{W}}\n",
       "\\newcommand{\\X}{\\mathbf{X}}\n",
       "\\newcommand{\\KL}{\\mathbf{KL}}\n",
       "\\newcommand{\\E}{{\\mathbb{E}}}\n",
       "\\newcommand{\\ip}{\\mathbf{{(i)}}}\n",
       "%\n",
       "% Test set\n",
       "\\newcommand{\\xt}{\\underline{\\x}}\n",
       "\\newcommand{\\yt}{\\underline{\\y}}\n",
       "\\newcommand{\\Xt}{\\underline{\\X}}\n",
       "\\newcommand{\\perfm}{\\mathcal{P}}\n",
       "%\n",
       "% \\ll indexes a layer; we can change the actual letter\n",
       "\\newcommand{\\ll}{l}\n",
       "\\newcommand{\\llp}{{(\\ll)}}\n",
       "%\n",
       "\\newcommand{Thetam}{\\Theta_{-0}}\n",
       "\n",
       "% CNN\n",
       "\\newcommand{\\kernel}{\\mathbf{k}} \n",
       "\\newcommand{\\dim}{d}\n",
       "%\n",
       "%\n",
       "% \\tt indexes a time step\n",
       "\\newcommand{\\tt}{t}\n",
       "\\newcommand{\\tp}{{(\\tt)}}\n",
       "%\n",
       "\\newcommand{\\loss}{\\mathcal{L}}\n",
       "\\newcommand{\\cost}{\\mathcal{L}}\n",
       "%\n",
       "%                     \n",
       "\\newcommand{\\pdata}{p_\\text{data}}\n",
       "\\newcommand{\\pmodel}{p_\\text{model}}\n",
       "%\n",
       "% SVM\n",
       "\\newcommand{\\margin}{{\\mathbb{m}}}\n",
       "\\newcommand{\\lmk}{\\boldsymbol{\\ell}}\n",
       "%\n",
       "% Functions with arguments\n",
       "\\def\\xsy#1#2{#1^#2}\n",
       "\\def\\rand#1{\\tilde{#1}}\n",
       "\\def\\randx{\\rand{\\x}}\n",
       "\\def\\randy{\\rand{\\y}}\n",
       "\\def\\trans#1{\\dot{#1}}\n",
       "\\def\\transx{\\trans{\\x}}\n",
       "\\def\\transy{\\trans{\\y}}\n",
       "%\n",
       "\\def\\argmax#1{\\underset{#1} {\\operatorname{argmax}} }\n",
       "\\def\\argmin#1{\\underset{#1} {\\operatorname{argmin}} }\n",
       "\\def\\max#1{\\underset{#1} {\\operatorname{max}} }\n",
       "\\def\\min#1{\\underset{#1} {\\operatorname{min}} }\n",
       "%\n",
       "\\def\\pr#1{\\mathcal{p}(#1)}\n",
       "\\def\\prc#1#2{\\mathcal{p}(#1 \\; | \\; #2)}\n",
       "\\def\\cnt#1{\\mathcal{count}_{#1}}\n",
       "\\def\\node#1{\\mathbb{#1}}\n",
       "%\n",
       "\\newcommand{\\floor}[1]{\\left\\lfloor #1 \\right\\rfloor}\n",
       "\\newcommand{\\ceil}[1]{\\left\\lceil #1 \\right\\rceil}\n",
       "%\n",
       "\\def\\loc#1{{\\text{##} {#1}}}\n",
       "%\n",
       "$$\n"
      ],
      "text/plain": [
       "<IPython.core.display.Latex object>"
      ]
     },
     "metadata": {},
     "output_type": "display_data"
    }
   ],
   "source": [
    "%run Latex_macros.ipynb"
   ]
  },
  {
   "cell_type": "markdown",
   "metadata": {
    "slideshow": {
     "slide_type": "slide"
    }
   },
   "source": [
    "# Back propagation through time (BPTT)\n",
    "\n",
    "A Recurrent Neural Network (RNN)\n",
    "- Can be viewed as a loop\n",
    "- That can be unrolled\n",
    "- Resulting in a multi-layer network\n",
    "- One layer per time step"
   ]
  },
  {
   "cell_type": "markdown",
   "metadata": {
    "slideshow": {
     "slide_type": "subslide"
    }
   },
   "source": [
    "Here are the final layers of an unrolled RNN with input sequence\n",
    "$$\n",
    "\\x_{(1)}, \\ldots, \\x_{(T)}\n",
    "$$\n"
   ]
  },
  {
   "cell_type": "markdown",
   "metadata": {
    "slideshow": {
     "slide_type": "subslide"
    }
   },
   "source": [
    "<table>\n",
    "    <tr>\n",
    "        <th><center>RNN many to many API</center></th>\n",
    "    </tr>\n",
    "    <tr>\n",
    "        <td><img src=\"images/RNN_layer_API_many_to_many.jpg\"></td>\n",
    "    </tr>\n",
    "</table>\n"
   ]
  },
  {
   "cell_type": "markdown",
   "metadata": {
    "slideshow": {
     "slide_type": "subslide"
    }
   },
   "source": [
    "Given enough space: we would continue unrolling on the left to the Input layer\n",
    "- Resulting in a network with $T$ unrolled layers\n",
    "- Plus a Loss layer\n",
    "\n",
    "To compute the derivatives of the Loss with respect to weights\n",
    "- We could, in theory, use Back Propagation\n",
    "- Which is the weight update step of Gradient Descent"
   ]
  },
  {
   "cell_type": "markdown",
   "metadata": {
    "slideshow": {
     "slide_type": "subslide"
    }
   },
   "source": [
    "<div>\n",
    "<center>Backward pass: Loss to Weights</center>\n",
    "<br>\n",
    "<img src=\"images/NN_Layers_plus_Loss_backward.png\">\n",
    "</div>"
   ]
  },
  {
   "cell_type": "markdown",
   "metadata": {
    "slideshow": {
     "slide_type": "subslide"
    }
   },
   "source": [
    "When dealing with unrolled RNN's\n",
    "- We will index the \"unrolled layers\" with time steps, denoted by the label $t$\n",
    "- Rather than $\\ll$, which we use to index layers"
   ]
  },
  {
   "cell_type": "markdown",
   "metadata": {
    "slideshow": {
     "slide_type": "subslide"
    }
   },
   "source": [
    "This process is called *Back Propagation Through Time* (BPTT).\n",
    "\n",
    "The only special thing to note about BPTT is that the Loss function is more complex\n",
    "- There is a Loss\n",
    "- Per example (as in non-recurrent layers)\n",
    "- **and Per time-step** (unique to recurrent layers)"
   ]
  },
  {
   "cell_type": "markdown",
   "metadata": {
    "slideshow": {
     "slide_type": "subslide"
    }
   },
   "source": [
    "<table>\n",
    "    <tr>\n",
    "        <th><center>RNN Loss: Forward pass</center></th>\n",
    "    </tr>\n",
    "    <tr>\n",
    "        <td><img src=images/RNN_layer_loss.png></td>\n",
    "    </tr>\n",
    "</table>"
   ]
  },
  {
   "cell_type": "markdown",
   "metadata": {
    "slideshow": {
     "slide_type": "subslide"
    }
   },
   "source": [
    "<table>\n",
    "    <tr>\n",
    "        <th><center>RNN Loss: Backward pass</center></th>\n",
    "    </tr>\n",
    "    <tr>\n",
    "        <td><img src=\"images/RNN_layer_loss_gradient.png\"></td>\n",
    "    </tr>\n",
    "</table>"
   ]
  },
  {
   "cell_type": "markdown",
   "metadata": {
    "slideshow": {
     "slide_type": "slide"
    }
   },
   "source": [
    "# Truncated back propagation through time (TBPTT)\n",
    "\n",
    "An unrolled RNN layer turns into a $T$ layer network where $T$ is the number of elements in the input sequence.\n",
    "\n",
    "For long sequences (large $T$) this may not be practical."
   ]
  },
  {
   "cell_type": "markdown",
   "metadata": {
    "slideshow": {
     "slide_type": "subslide"
    }
   },
   "source": [
    "First, there is the computation *time*\n",
    "- $t$ steps to compute $\\loss^\\ip_\\tp$, the loss due to the $t^{th}$ output $\\y^\\ip_\\tp$ of example $i$\n",
    "- For each $1 \\le t \\le T$"
   ]
  },
  {
   "cell_type": "markdown",
   "metadata": {
    "slideshow": {
     "slide_type": "subslide"
    }
   },
   "source": [
    "Less obvious is the *space* requirement\n",
    "- As we saw in the module \"How a Neural Network Toolkit works\"\n",
    "- We may store information in each layer of the Forward pass (so storage for $T$ layers)\n",
    "- To facilitate computation of analytical derivatives on the Backward pass\n",
    "    - For example: the Multiply layer stored the multiplicands in the forward pass\n",
    "    - Because they are needed for the derivatives"
   ]
  },
  {
   "cell_type": "markdown",
   "metadata": {
    "slideshow": {
     "slide_type": "subslide"
    }
   },
   "source": [
    "Moreover, as we shall shortly see\n",
    "- Derivatives may vanish or explode as we proceed further backwards from the Loss layer to the Input layer"
   ]
  },
  {
   "cell_type": "markdown",
   "metadata": {
    "slideshow": {
     "slide_type": "subslide"
    }
   },
   "source": [
    "So, in theory, the weights $\\W_\\tp$ for small $\\tt$ (close to the input) may not get updated.\n",
    "- This is certainly a problem in a non-recurrent network\n",
    "- But is **fatal** in a recurrent layer\n",
    "- Since there is a **single** weight matrix $\\W$ that is shared across *all time steps*\n",
    "    $$\\W_\\tp = \\W \\; \\text{ for all } 1 \\le t \\le T$$"
   ]
  },
  {
   "cell_type": "markdown",
   "metadata": {
    "slideshow": {
     "slide_type": "subslide"
    }
   },
   "source": [
    "The solution to these difficulties\n",
    "- Is to *truncate* the unrolled RNN\n",
    "- To a fixed number of time steps\n",
    "- From the loss layer backwards\n",
    "- The truncated graph is a suffix of the fully unrolled graph\n",
    "\n",
    "This process is known as *Truncated Back Propagation Through Time* (TBPTT).\n"
   ]
  },
  {
   "cell_type": "markdown",
   "metadata": {
    "slideshow": {
     "slide_type": "subslide"
    }
   },
   "source": [
    "Note that *truncation only occurs in the backward pass*.\n",
    "\n",
    "There is *no truncation* of the forward pass of the RNN !\n"
   ]
  },
  {
   "cell_type": "markdown",
   "metadata": {
    "slideshow": {
     "slide_type": "subslide"
    }
   },
   "source": [
    "Because the unrolled graph is less than $T$ steps\n",
    "- Gradient computation takes fewer steps \n",
    "- So weight updates can occur more often"
   ]
  },
  {
   "cell_type": "markdown",
   "metadata": {
    "slideshow": {
     "slide_type": "subslide"
    }
   },
   "source": [
    "The obvious downside to truncation is that\n",
    "- Gradients are only approximate\n",
    "\n",
    "But there is a subtle and more impactful difference\n",
    "- The RNN layer *cannot capture long-term dependencies*"
   ]
  },
  {
   "cell_type": "markdown",
   "metadata": {
    "slideshow": {
     "slide_type": "subslide"
    }
   },
   "source": [
    "Suppose we unrolled the layer for only $\\tau$ time steps (the \"window\" size)\n",
    "- The loss for the $\\tt^{th}$ time step ($\\loss^\\ip_\\tp$)\n",
    "- Flows backwards only to steps \n",
    "$$(\\tt - \\tau+1), \\ldots, t$$\n",
    "\n",
    "So the \"error signal\" from time $\\tt$ does not affect time steps $\\tt' \\lt (\\tt - \\tau+1)$\n"
   ]
  },
  {
   "cell_type": "markdown",
   "metadata": {
    "slideshow": {
     "slide_type": "subslide"
    }
   },
   "source": [
    "Consider a long sentence or document (sequence of words)\n",
    "- If the gender of the subject is defined by the early words in the sentence\n",
    "- An incorrect \"prediction\" late in the sentence\n",
    "- May not be able to be corrected\n",
    "\n",
    "\"Z was the first woman who ...  **he** said ...\"\n"
   ]
  },
  {
   "cell_type": "markdown",
   "metadata": {
    "slideshow": {
     "slide_type": "subslide"
    }
   },
   "source": [
    "In other words\n",
    "- Truncation may affect the ability of an RNN to encode *long-term* dependencies\n",
    "- Vanishing gradients may cause a similar impact\n"
   ]
  },
  {
   "cell_type": "markdown",
   "metadata": {
    "slideshow": {
     "slide_type": "slide"
    }
   },
   "source": [
    "## TBPTT variants\n",
    "\n",
    "There are several common ways to decide on how many unrolled time steps to keep.\n",
    "\n",
    "Let $\\tt''$ denote the index of the *smallest* time step in the unrolled layer for step $\\tt$.\n",
    "- $\\tt'' = (\\tt - \\tau +1)$\n",
    "\n"
   ]
  },
  {
   "cell_type": "markdown",
   "metadata": {
    "slideshow": {
     "slide_type": "subslide"
    }
   },
   "source": [
    "Plain, untruncated BPTT defines\n",
    "- $\\tt'' = 0$\n",
    "- Unroll all the way to the Input Layer"
   ]
  },
  {
   "cell_type": "markdown",
   "metadata": {
    "slideshow": {
     "slide_type": "subslide"
    }
   },
   "source": [
    "$k$-truncated BPTT defines window size $\\tau = k$\n",
    "- $\\tt'' = \\max{}(0, \\tt -k)$"
   ]
  },
  {
   "cell_type": "markdown",
   "metadata": {
    "slideshow": {
     "slide_type": "subslide"
    }
   },
   "source": [
    "Subsequence truncated BPTT defines\n",
    "- $\\tt'' = k * \\floor{\\tt/k}$\n",
    "\n",
    "That is, it breaks the sequence into \"chunks\" of size $k$\n",
    "\n",
    "$$\n",
    "\\begin{array}[lll]\\\\\n",
    "\\x^\\ip_{(1)}, \\ldots, \\x^\\ip_{(k )} \\\\\n",
    "\\x^\\ip_{(k+1)}, \\ldots, \\x^\\ip_{( 2*k )} \\\\\n",
    "\\vdots \\\\\n",
    "\\x^\\ip_{( (i'*k) +1)}, \\ldots, \\x^\\ip_{( (i'+1)*k )} \\\\\n",
    "\\vdots\n",
    "\\end{array}\n",
    "$$"
   ]
  },
  {
   "cell_type": "markdown",
   "metadata": {
    "slideshow": {
     "slide_type": "subslide"
    }
   },
   "source": [
    "- Gradients flow *within* chunks\n",
    "- But *not between* chunks"
   ]
  },
  {
   "cell_type": "markdown",
   "metadata": {
    "slideshow": {
     "slide_type": "subslide"
    }
   },
   "source": [
    "\n",
    "Subsequence TBPTT is very common as it fits well into the design of current toolkits\n",
    "\n",
    "See the Deep Dive on [How to deal with long sequences](RNN_Long_Sequences.ipynb)\n",
    "for how to arrange your training examples."
   ]
  },
  {
   "cell_type": "markdown",
   "metadata": {
    "slideshow": {
     "slide_type": "slide"
    }
   },
   "source": [
    "# Calculating gradients in an RNN\n",
    "\n",
    "There is an important subtlety we have ignored regarding Back Propagation in an unrolled RNN\n",
    "- There is a **single** weight matrix $\\W$ that is shared across *all time steps*\n",
    "    $$\\W_\\tp = \\W \\; \\text{ for all } 1 \\le t \\le T$$\n",
    "    "
   ]
  },
  {
   "cell_type": "markdown",
   "metadata": {
    "slideshow": {
     "slide_type": "slide"
    }
   },
   "source": [
    "This \n",
    "- Makes the derivative computation slightly more complex\n",
    "- Creates an *additional* exposure to the problem of vanishing/exploding gradients"
   ]
  },
  {
   "cell_type": "markdown",
   "metadata": {
    "slideshow": {
     "slide_type": "subslide"
    }
   },
   "source": [
    "A simple picture will illustrate.\n",
    "\n",
    "Consider the loss at time step $\\tt$ of example $i$\n",
    "- $\\loss^\\ip_\\tp = L(\\hat{\\y}^\\ip_\\tp, \\y^\\ip_\\tp; \\W)$\n",
    "- The loss is a function of \n",
    "    -  $\\hat{\\y}^\\ip_\\tp$: The $\\tt^{th}$ element of the output sequence $\\hat{\\y}^\\ip = \\y_{(T)}$ for example $i$\n",
    "    - The $\\y^\\ip_\\tp$: The $\\tt^{th}$ element of the **target** sequence $\\y^\\ip$ for example $i$"
   ]
  },
  {
   "cell_type": "markdown",
   "metadata": {
    "slideshow": {
     "slide_type": "subslide"
    }
   },
   "source": [
    "Recall from the module on back propagation that $\\W$ is updated in proportion to\n",
    "$$\n",
    "\\frac{\\partial \\loss_\\tp}{\\partial \\W}\n",
    "$$\n",
    "\n",
    "and this quantity is obtained from\n",
    " $$\n",
    "\\begin{array}[lll] \\\\\n",
    "\\frac{\\partial \\loss}{\\partial \\W_\\llp} & = & \\frac{\\partial \\loss}{\\partial \\y_\\llp} \\frac{\\partial \\y_\\llp}{\\partial \\W_\\llp} & = & \\loss'_\\llp \\frac{\\partial \\y_\\llp}{\\partial \\W_\\llp}\n",
    "\\end{array}\n",
    "$$\n",
    "\n",
    "where $\\y_\\tp$ is the output of layer $\\tp$ (i.e., that which is fed as input to layer $(\\tt+1)$\n",
    "\n",
    "In the case of an RNN:\n",
    "$$\n",
    "\\y_\\tp = \\h_\\tp\n",
    "$$\n"
   ]
  },
  {
   "cell_type": "markdown",
   "metadata": {
    "slideshow": {
     "slide_type": "subslide"
    }
   },
   "source": [
    "<table>\n",
    "    <tr>\n",
    "        <th><center>RNN Time step</center></th>\n",
    "    </tr>\n",
    "    <tr>\n",
    "        <td><img src=\"images/RNN_layer.png\"></td>\n",
    "    </tr>\n",
    "</table>"
   ]
  },
  {
   "cell_type": "markdown",
   "metadata": {
    "slideshow": {
     "slide_type": "subslide"
    }
   },
   "source": [
    "<table>\n",
    "    <tr>\n",
    "        <th><center>RNN multiple dependence on W</center></th>\n",
    "    </tr>\n",
    "    <tr>\n",
    "        <td><img src=\"images/RNN_layer_gradient.png\"></td>\n",
    "    </tr>\n",
    "</table>"
   ]
  },
  {
   "cell_type": "markdown",
   "metadata": {
    "slideshow": {
     "slide_type": "subslide"
    }
   },
   "source": [
    "The red lines show **two** different ways that $\\W$ (in particular: $\\W_{hh}$) affects $\\h_\\tp$\n",
    "- And thus $\\hat{\\y}_\\tp = \\W_{hy} \\h_\\tp + \\b_y$\n",
    "- By its indirect effect on $\\h_\\tp$ **through** $\\h_{(\\tt-1)}$ (lower line)\n",
    "- By its direct effect on $\\h_\\tp$ (upper line)\n",
    "- Both using the part of $\\W$ denoted by $\\W_{hh}$"
   ]
  },
  {
   "cell_type": "markdown",
   "metadata": {
    "slideshow": {
     "slide_type": "subslide"
    }
   },
   "source": [
    "So\n",
    "\n",
    "$$\n",
    "\\begin{array}\\\\\n",
    "\\frac{\\partial \\h^\\ip_\\tp}{\\partial \\W_{hh}} & = & \\frac{d \\h^\\ip_\\tp}{d \\W_{hh}} \n",
    "    + \\frac{\\partial \\h^\\ip_\\tp}{\\partial \\h^\\ip_{(\\tt-1)}} \\frac{\\partial \\h^\\ip_{(\\tt-1)} }{\\partial \\W_{hh}} \\\\\n",
    "& = & \\frac{d (\\W_{hh} \\h^\\ip_{(\\tt-1)})}{d \\W_{hh}} \n",
    "    + \\frac{\\partial \\h^\\ip_\\tp}{\\partial \\h^\\ip_{(\\tt-1)}} \\frac{\\partial \\h^\\ip_{(\\tt-1)} }{\\partial \\W_{hh}} \\\\\n",
    "\\end{array}\n",
    "$$\n",
    "\n",
    "(Each addend reflect a different path through which $\\W_{hh}$ affects $\\h_\\tp$)\n",
    "- There is a direct dependence of $\\h^\\ip_\\tp$ on $\\W_{hh}$\n",
    "- There is an indirect dependence $\\h^\\ip_\\tp$ on $\\W_{hh}$ through $\\h^\\ip_{(\\tt-1)}$\n",
    "    - and all prior $\\h^\\ip_{(\\tt')}$ for $ \\tt' \\lt \\tt$ (since $\\h^\\ip_{(\\tt')}$ in turn depends on $\\h^\\ip_{(\\tt'-1)}$)"
   ]
  },
  {
   "cell_type": "markdown",
   "metadata": {
    "slideshow": {
     "slide_type": "subslide"
    }
   },
   "source": [
    "So \n",
    "\n",
    "$$\n",
    "\\frac{\\partial \\loss^\\ip_\\tp}{\\partial \\W} = \\loss'_\\tp \\frac{\\partial \\y^\\ip_\\tp}{\\partial \\W}\n",
    "$$\n",
    "\n",
    "and\n",
    "$$\\frac{\\partial \\y^\\ip_\\tp}{\\partial \\W}$$\n",
    "*depends* on all time steps from $1$ to $t$.\n",
    "\n",
    "Thus, the derivative update for $\\W$ cannot be computed without the gradient (for each time step $t$)\n",
    "flowing all the way back to time step $0$.\n"
   ]
  },
  {
   "cell_type": "markdown",
   "metadata": {
    "slideshow": {
     "slide_type": "slide"
    }
   },
   "source": [
    "# Conclusion\n",
    "\n",
    "Updating the weights of a Recurrent layer appears, at first glance, to be straight forward\n",
    "- Unroll the loop\n",
    "- Use ordinary Back Propagation\n",
    "\n",
    "We have discovered some complexity\n",
    "- Full unrolling is expensive\n",
    "- Gradient computation is complicated by shared weights\n",
    "\n",
    "Fortunately, we have solutions to these complexities."
   ]
  },
  {
   "cell_type": "code",
   "execution_count": 3,
   "metadata": {
    "slideshow": {
     "slide_type": "slide"
    }
   },
   "outputs": [
    {
     "name": "stdout",
     "output_type": "stream",
     "text": [
      "Done\n"
     ]
    }
   ],
   "source": [
    "print(\"Done\")"
   ]
  }
 ],
 "metadata": {
  "celltoolbar": "Slideshow",
  "kernelspec": {
   "display_name": "Python 3",
   "language": "python",
   "name": "python3"
  },
  "language_info": {
   "codemirror_mode": {
    "name": "ipython",
    "version": 3
   },
   "file_extension": ".py",
   "mimetype": "text/x-python",
   "name": "python",
   "nbconvert_exporter": "python",
   "pygments_lexer": "ipython3",
   "version": "3.7.4"
  },
  "toc": {
   "base_numbering": 1,
   "nav_menu": {},
   "number_sections": true,
   "sideBar": true,
   "skip_h1_title": false,
   "title_cell": "Table of Contents",
   "title_sidebar": "Contents",
   "toc_cell": false,
   "toc_position": {
    "height": "calc(100% - 180px)",
    "left": "10px",
    "top": "150px",
    "width": "370.582px"
   },
   "toc_section_display": true,
   "toc_window_display": false
  }
 },
 "nbformat": 4,
 "nbformat_minor": 2
}
