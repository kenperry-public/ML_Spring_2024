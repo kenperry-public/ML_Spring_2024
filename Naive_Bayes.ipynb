{
 "cells": [
  {
   "cell_type": "code",
   "execution_count": 1,
   "metadata": {
    "slideshow": {
     "slide_type": "notes"
    }
   },
   "outputs": [
    {
     "data": {
      "text/latex": [
       "$$\n",
       "\\newcommand{\\x}{\\mathbf{x}}\n",
       "\\newcommand{\\tx}{\\tilde{\\x}}\n",
       "\\newcommand{\\y}{\\mathbf{y}}\n",
       "\\newcommand{\\b}{\\mathbf{b}}\n",
       "\\newcommand{\\c}{\\mathbf{c}}\n",
       "\\newcommand{\\e}{\\mathbf{e}}\n",
       "\\newcommand{\\z}{\\mathbf{z}}\n",
       "\\newcommand{\\h}{\\mathbf{h}}\n",
       "\\newcommand{\\u}{\\mathbf{u}}\n",
       "\\newcommand{\\v}{\\mathbf{v}}\n",
       "\\newcommand{\\w}{\\mathbf{w}}\n",
       "\\newcommand{\\W}{\\mathbf{W}}\n",
       "\\newcommand{\\X}{\\mathbf{X}}\n",
       "\\newcommand{\\KL}{\\mathbf{KL}}\n",
       "\\newcommand{\\E}{{\\mathbb{E}}}\n",
       "\\newcommand{\\ip}{\\mathbf{{(i)}}}\n",
       "%\n",
       "% Test set\n",
       "\\newcommand{\\xt}{\\underline{\\x}}\n",
       "\\newcommand{\\yt}{\\underline{\\y}}\n",
       "\\newcommand{\\Xt}{\\underline{\\X}}\n",
       "\\newcommand{\\perfm}{\\mathcal{P}}\n",
       "%\n",
       "% \\ll indexes a layer; we can change the actual letter\n",
       "\\newcommand{\\ll}{l}\n",
       "\\newcommand{\\llp}{{(\\ll)}}\n",
       "%\n",
       "\\newcommand{Thetam}{\\Theta_{-0}}\n",
       "\n",
       "% CNN\n",
       "\\newcommand{\\kernel}{\\mathbf{k}} \n",
       "\\newcommand{\\dim}{d}\n",
       "\\newcommand{\\idxspatial}{{\\text{idx}}}\n",
       "\\newcommand{\\summaxact}{\\text{max}}\n",
       "%\n",
       "%\n",
       "\n",
       "% RNN\n",
       "% \\tt indexes a time step\n",
       "\\newcommand{\\tt}{t}\n",
       "\\newcommand{\\tp}{{(\\tt)}}\n",
       "%\n",
       "%\n",
       "\n",
       "% LSTM\n",
       "\\newcommand{\\g}{\\mathbf{g}}\n",
       "\\newcommand{\\remember}{\\mathbf{remember}}\n",
       "\\newcommand{\\save}{\\mathbf{save}}\n",
       "\\newcommand{\\focus}{\\mathbf{focus}}\n",
       "%\n",
       "%\n",
       "% NLP\n",
       "\\newcommand{\\Vocab}{\\mathbf{V}}\n",
       "\\newcommand{\\v}{\\mathbf{v}}\n",
       "\\newcommand{\\offset}{o}\n",
       "\\newcommand{\\o}{o}\n",
       "\\newcommand{\\E}{\\mathbf{E}}\n",
       "%\n",
       "%\n",
       "\\newcommand{\\loss}{\\mathcal{L}}\n",
       "\\newcommand{\\cost}{\\mathcal{L}}\n",
       "%\n",
       "%                     \n",
       "\\newcommand{\\pdata}{p_\\text{data}}\n",
       "\\newcommand{\\pmodel}{p_\\text{model}}\n",
       "%\n",
       "% SVM\n",
       "\\newcommand{\\margin}{{\\mathbb{m}}}\n",
       "\\newcommand{\\lmk}{\\boldsymbol{\\ell}}\n",
       "%\n",
       "% Functions with arguments\n",
       "\\def\\xsy#1#2{#1^#2}\n",
       "\\def\\rand#1{\\tilde{#1}}\n",
       "\\def\\randx{\\rand{\\x}}\n",
       "\\def\\randy{\\rand{\\y}}\n",
       "\\def\\trans#1{\\dot{#1}}\n",
       "\\def\\transx{\\trans{\\x}}\n",
       "\\def\\transy{\\trans{\\y}}\n",
       "%\n",
       "\\def\\argmax#1{\\underset{#1} {\\operatorname{argmax}} }\n",
       "\\def\\argmin#1{\\underset{#1} {\\operatorname{argmin}} }\n",
       "\\def\\max#1{\\underset{#1} {\\operatorname{max}} }\n",
       "\\def\\min#1{\\underset{#1} {\\operatorname{min}} }\n",
       "%\n",
       "\\def\\pr#1{\\mathcal{p}(#1)}\n",
       "\\def\\prc#1#2{\\mathcal{p}(#1 \\; | \\; #2)}\n",
       "\\def\\cnt#1{\\mathcal{count}_{#1}}\n",
       "\\def\\node#1{\\mathbb{#1}}\n",
       "%\n",
       "\\newcommand{\\floor}[1]{\\left\\lfloor #1 \\right\\rfloor}\n",
       "\\newcommand{\\ceil}[1]{\\left\\lceil #1 \\right\\rceil}\n",
       "%\n",
       "\\def\\loc#1{{\\text{##} {#1}}}\n",
       "%\n",
       "$$\n"
      ],
      "text/plain": [
       "<IPython.core.display.Latex object>"
      ]
     },
     "metadata": {},
     "output_type": "display_data"
    }
   ],
   "source": [
    "%run Latex_macros.ipynb\n",
    "%run beautify_plots.py"
   ]
  },
  {
   "cell_type": "code",
   "execution_count": 2,
   "metadata": {
    "slideshow": {
     "slide_type": "notes"
    }
   },
   "outputs": [],
   "source": [
    "# My standard magic !  You will see this in almost all my notebooks.\n",
    "\n",
    "from IPython.core.interactiveshell import InteractiveShell\n",
    "InteractiveShell.ast_node_interactivity = \"all\"\n",
    "\n",
    "# Reload all modules imported with %aimport\n",
    "%load_ext autoreload\n",
    "%autoreload 1\n",
    "\n",
    "%matplotlib inline"
   ]
  },
  {
   "cell_type": "code",
   "execution_count": 3,
   "metadata": {
    "slideshow": {
     "slide_type": "notes"
    }
   },
   "outputs": [],
   "source": [
    "# Standard imports\n",
    "import pandas as pd\n",
    "import numpy as np\n",
    "import matplotlib.pyplot as plt\n",
    "\n",
    "# Common imports\n",
    "import os\n",
    "\n",
    "idx = pd.IndexSlice\n",
    "\n",
    "import mnist_helper\n",
    "%aimport mnist_helper\n",
    "\n",
    "mnh = mnist_helper.MNIST_Helper()\n",
    "\n",
    "import class_helper\n",
    "%aimport class_helper\n",
    "\n",
    "clh= class_helper.Classification_Helper()\n",
    "\n",
    "import training_models_helper as tmh\n",
    "%aimport training_models_helper\n",
    "\n",
    "tm = tmh.TrainingModelsHelper()\n",
    "\n",
    "nbh = class_helper.NB_Helper()"
   ]
  },
  {
   "cell_type": "markdown",
   "metadata": {
    "slideshow": {
     "slide_type": "slide"
    }
   },
   "source": [
    "# Classification via counting\n",
    "\n",
    "A model for the Classification task constructs a probability distribution\n",
    "$\\hat{\\y} = \\pr{\\y | \\x}$ \n",
    "- Given feature vector $\\x$\n",
    "- Construct *vector*  $\\hat{\\y}$ (of length $| C |$, where $C$ are the distinct values for the target)\n",
    "- Whose elements are probabilities: \n",
    "$\\hat{\\y}_c$ is the probability that $\\x$ is in class $c$\n",
    "\n",
    "\n",
    "**Notation abuse alert:**\n",
    "- Subscripts of of vectors should be integers rather than class names\n",
    "- So technically we should write $\\hat{\\y}_\\loc{c}$ where $\\loc{c}$ is the integer index of class named $c$"
   ]
  },
  {
   "cell_type": "markdown",
   "metadata": {
    "slideshow": {
     "slide_type": "subslide"
    }
   },
   "source": [
    "This sounds difficult at first glance.\n",
    "\n",
    "Let's start with something simpler: counting.\n",
    "\n",
    "We will show to to construct this probability using nothing more than counting the features and targets\n",
    "of the training set!"
   ]
  },
  {
   "cell_type": "markdown",
   "metadata": {
    "slideshow": {
     "slide_type": "subslide"
    }
   },
   "source": [
    "## From counting to probability\n",
    "\n",
    "We introduce the topic by assuming all our variables (features and target) are discrete.\n",
    "\n",
    "We will subsequently adapt this to continuous variables."
   ]
  },
  {
   "cell_type": "markdown",
   "metadata": {
    "slideshow": {
     "slide_type": "subslide"
    }
   },
   "source": [
    "First, let's compute the distribution of target classes.\n",
    "\n",
    "Let $\\X = \\{ (\\x^\\ip, \\y^\\ip) | 1 \\le i \\le m \\}$ be our $m$ training examples.\n",
    "\n",
    "Then \n",
    "$$\\cnt{\\y = \\y'} = \\left| \\{ i \\, | \\, \\y^\\ip = \\y' \\} \\right|$$\n",
    "\n",
    "is the number of training examples with target $\\y'$.\n",
    "\n",
    "We can easily convert this into an unconditional probability\n",
    "$$\n",
    "\\pr{\\y = \\y'} = \\frac{\\cnt{\\y=\\y'}}{m}\n",
    "$$"
   ]
  },
  {
   "cell_type": "markdown",
   "metadata": {
    "slideshow": {
     "slide_type": "subslide"
    }
   },
   "source": [
    "We can similarly compute the *joint* probability of any two features.\n",
    "\n",
    "First we count the co-occurrences of the two variables\n",
    "\n",
    "$$\n",
    "\\cnt{\\x_j = \\x'_j, \\x_k = \\x'_k} = \\left| \\, \\{ i | \\x^\\ip_j = \\x'_j, \\x^\\ip_k = \\x'_k \\} \\, \\right|\n",
    "$$\n",
    "\n",
    "And the the joint probability is\n",
    "$$\n",
    "\\pr{\\x_j = \\x'_j, \\x_k = \\x'_k} = \\frac{\\cnt{\\x_j = \\x'_j, \\x_k = \\x'_k}}{m}\n",
    "$$\n",
    "\n",
    "Our illustration is with two features but the notation generalizes for \n",
    "- Any number of variables\n",
    "- Any kind of variables: feature or target"
   ]
  },
  {
   "cell_type": "markdown",
   "metadata": {
    "slideshow": {
     "slide_type": "subslide"
    }
   },
   "source": [
    "Finally, we can define *conditional* probability\n",
    "$$\n",
    "\\pr{\\y = \\y' | \\x = \\x'} = \\frac{ \\pr{\\y = \\y' , \\x = \\x'} }{\\pr{\\x=\\x'}}\n",
    "$$\n",
    "\n",
    "That is, the conditional probability\n",
    "- Is the joint probability\n",
    "- As a fraction, relative to the unconditional probability of $\\x = \\x'$\n"
   ]
  },
  {
   "cell_type": "markdown",
   "metadata": {
    "slideshow": {
     "slide_type": "slide"
    }
   },
   "source": [
    "# Bayes theorem\n",
    "\n",
    "The key for converting counts (really, associated probabilities) to predictions lies in\n",
    "Bayes Theorem.\n",
    "\n",
    "\n",
    "Bayes Theorem relates conditional and unconditional probabilities.\n",
    "\n",
    "**Bayes Theorem**\n",
    "\n",
    "$$\n",
    "\\pr{\\y = \\y' | \\x = \\x'} = \\frac{ \\pr{ \\x = \\x' | \\y = \\y' } * \\pr{\\y=\\y'} }{\\pr{\\x=\\x'}}\n",
    "$$\n"
   ]
  },
  {
   "cell_type": "markdown",
   "metadata": {
    "slideshow": {
     "slide_type": "subslide"
    }
   },
   "source": [
    "Let's think about Bayes Theorem in terms of our classification task:\n",
    "- The left hand side is our prediction for the class probabilities, given the features\n",
    "- The right hand side involves\n",
    "    - The conditional probability of seeing examples with features $\\x'$ and target $\\y'$.\n",
    "    - The unconditional probability of seeing examples with label $\\y'$\n",
    "    - The unconditional probability of seeing examples with feature vector $\\x'$.\n",
    "\n",
    "All these elements can be obtained by counting (and filtering) the training set !\n",
    "\n",
    "Hence, we can build an extremely simple classifier using nothing more than counting."
   ]
  },
  {
   "cell_type": "markdown",
   "metadata": {
    "slideshow": {
     "slide_type": "subslide"
    }
   },
   "source": [
    "## Posterior, Prior Probability, Evidence\n",
    "\n",
    "Let's break down the parts of Bayes theorem and give them some names:\n",
    "- $\\pr{\\y = \\y' | \\x = \\x'}$: *posterior probability*\n",
    "    - Our prediction\n",
    "    - This is the probability distribution of $\\y$ *conditional* on the features being $\\x$\n",
    "- $\\pr{\\y=\\y'}$: *prior probability*\n",
    "    - This is the unconditional distribution of $\\y$\n",
    " \n",
    "- $\\pr{\\x = \\x '| \\y = \\y'}$: *likelihood*\n",
    "    - Given that $\\y = \\y'$, what is the probability that $\\x = \\x'$ ?\n",
    "    - This is the counting part: how often does the label $\\y'$ occur when the features are $\\x'$ ?\n",
    "- $\\pr{\\x = \\x'}$: *evidence*\n",
    "    - How often do we see the features $\\x'$ ?"
   ]
  },
  {
   "cell_type": "markdown",
   "metadata": {
    "slideshow": {
     "slide_type": "subslide"
    }
   },
   "source": [
    "We can re-state Bayes Theorem as\n",
    "$$\n",
    "\\begin{array}{lll}\n",
    "\\text{posterior} = \\frac{ \\text{prior} * \\text{likelihood}} { \\text{evidence} } \n",
    "\\end{array}\n",
    "$$\n",
    "\n",
    "That is: \n",
    "- Starting from an uninformed *prior* distribution of $\\y$\n",
    "- Derive\n",
    "a conditional *posterior* distribution (i.e., informed by *evidence* $\\x$) by updating via\n",
    "the *likelihood* of seeing $\\x, \\y$ together."
   ]
  },
  {
   "cell_type": "markdown",
   "metadata": {
    "slideshow": {
     "slide_type": "subslide"
    }
   },
   "source": [
    "## Proof of Bayes Theorem\n",
    "\n",
    "$$\n",
    "\\begin{array}[llll]\\\\\n",
    "\\pr{\\y = \\y' | \\x = \\x'} & = &  \\frac{\\pr{\\y = \\y' ,\\x = \\x'}} {\\pr{\\x = \\x'} } & \\text{(def. of conditional probability)}\\\\\n",
    " & = & \\frac{ \\pr{\\y = \\y' ,\\x = \\x'}} {\\pr{\\x = \\x'} } * \\frac{ \\frac{1}{\\pr{\\y = \\y'}}}{\\frac{1}{\\pr{\\y = \\y'}}} & \\text{(multiply by identity)} \\\\\n",
    " & = & \\frac{\\pr{\\x = \\x' | \\y = \\y'}}{\\pr{\\x = \\x'}} *  \\frac{1}{\\frac{1}{\\pr{\\y = \\y'}}} & \\text{(def. of conditional probability)} \\\\\n",
    " & = & \\frac{\\pr{\\x = \\x' | \\y = \\y'}}{\\pr{\\x = \\x'}} * \\pr{\\y = \\y'}\n",
    "\\end{array}\n",
    "$$\n"
   ]
  },
  {
   "cell_type": "markdown",
   "metadata": {
    "slideshow": {
     "slide_type": "slide"
    }
   },
   "source": [
    "## Length of $\\x$ is $n$\n",
    "\n",
    "Remember that $\\x$ is a vector, so that $\\pr{\\x = \\x' \\, | \\,\\y = \\y'}$ is\n",
    "a *joint* probability of $n$ terms\n",
    "$$\n",
    "\\pr{\\x_1 = \\x'_1, \\x_2 = \\x'_2, \\ldots, \\x_n = \\x'_n \\,| \\, \\y = \\y'}\n",
    "$$\n",
    "\n",
    "We an obtain this by counting (as described above) \n",
    "- Let $| \\x_j |$ denote the number of distinct values for the $j^{th}$ feature\n",
    "- There are $$\\prod_{1 \\le j \\le n} | \\x_j | $$ potential combinations for $\\x$\n",
    "\n",
    "That's a lot of counting !\n",
    "\n",
    "More importantly, it's a lot of parameters to remember (i.e, size of $\\Theta$ is big).\n",
    "\n",
    "We need a short-cut."
   ]
  },
  {
   "cell_type": "markdown",
   "metadata": {
    "slideshow": {
     "slide_type": "slide"
    }
   },
   "source": [
    "## The Naive part of Naive Bayes\n",
    "\n",
    "We will assume that each feature is *conditionally* independent of one another\n",
    "$$\n",
    "\\pr{\\x_j = \\x'_j, \\x_k = \\x'_k, | \\y = \\y' } \\, =  \\,\\pr{\\x_j = \\x'_j | \\y = \\y' } * \\pr{\\x_k = \\x'_k | \\y = \\y' }\n",
    "$$\n",
    "\n",
    "That is\n",
    "- $\\x_j$ an $\\x_k$ are **not** independent unconditionally\n",
    "- They **are** independent *conditional* on $\\y = \\y'$\n",
    "\n",
    "Think of $\\x_j$ and $\\x_k$ being correlated through their individual relationships with $\\y$.\n",
    "\n",
    "Excluding that mutual dependence, they may be uncorrelated."
   ]
  },
  {
   "cell_type": "markdown",
   "metadata": {
    "slideshow": {
     "slide_type": "subslide"
    }
   },
   "source": [
    "Generalizing the assumption to feature vectors $\\x$ of length $n$:\n",
    "\n",
    "$$\n",
    "\\pr{ \\x = \\x' | \\y = \\y' } = \\prod_{i=1}^n { \\pr{\\x_i = \\x'_i | \\y = \\y'} }\n",
    "$$\n",
    "\n",
    "That is\n",
    "- The joint conditional probability of the vector of length $n$ \n",
    "- Is **assumed** to be the product of\n",
    "the individual conditional probabilities of each element of the vector.\n"
   ]
  },
  {
   "cell_type": "markdown",
   "metadata": {
    "slideshow": {
     "slide_type": "subslide"
    }
   },
   "source": [
    "This  assumption is probably not true but\n",
    "- Makes $\\pr{ \\x = \\x' | \\y = \\y' }$ very easy to compute\n",
    "    - Don't have to compute it for possible combination of values for $\\x$\n",
    "- Uses few parameters\n",
    "- May be close enough\n",
    "\n",
    "Thus the \"naive\" assumption has many benefits !"
   ]
  },
  {
   "cell_type": "markdown",
   "metadata": {
    "slideshow": {
     "slide_type": "subslide"
    }
   },
   "source": [
    "What about computing the *unconditional* $\\pr{\\x = \\x'}$ ?\n",
    "                           \n",
    "We can obtain this from conditional probabilities as well\n",
    "$$\n",
    "\\pr{\\x = \\x'} = \\sum_{c \\in C} { \\pr{\\x = \\x' | \\y = c} } * \\pr{ \\y = c }\n",
    "$$\n",
    "\n",
    "That is, the unconditional probability follows from the\n",
    "- Conditional probability given $\\y$\n",
    "- Weighted by the probability $\\pr{\\y}$ for each possible value of $\\y$\n",
    "\n",
    "This follows from the definition of conditional probability."
   ]
  },
  {
   "cell_type": "markdown",
   "metadata": {
    "slideshow": {
     "slide_type": "subslide"
    }
   },
   "source": [
    "What this means is that the only parameters we need to remember are\n",
    "- The unconditional probabilities $\\pr{\\y}$\n",
    "    - Depends on number of classes $|C|$\n",
    "- Probabilities conditional on $\\y$: $\\pr{\\x | \\y}$\n",
    "    - Depends on length of $\\x$: $n$"
   ]
  },
  {
   "cell_type": "markdown",
   "metadata": {
    "slideshow": {
     "slide_type": "slide"
    }
   },
   "source": [
    "# Example\n",
    "\n",
    "Here is a hypothetical trading example for equities\n",
    "- There are two categorical features\n",
    "    - Valuation: possible values $\\{ \\text{Rich}, \\text{Cheap} \\}$\n",
    "        - Is the current stock price expensive (Rich) or inexpensive (Cheap) ?\n",
    "    - Yield: possible values $\\{ \\text{High}, \\text{Low} \\}$ \n",
    "        - Is the dividend yield of the stock desirable (High) or undesirable (Low) ?\n",
    "- Target: An Action with possible values $\\{ \\text{Long}, \\text{Short}, \\text{Neutral} \\}$\n",
    "    - What should our position be ?\n",
    "    "
   ]
  },
  {
   "cell_type": "markdown",
   "metadata": {
    "slideshow": {
     "slide_type": "subslide"
    }
   },
   "source": [
    "We are given a number of examples (on which to train).\n",
    "\n",
    "Our Classification task is \n",
    "- Given an equity (test example) with values for the two features Valuation and Yield\n",
    "- Decide what our position (Long/Short/Neutral) should be\n"
   ]
  },
  {
   "cell_type": "markdown",
   "metadata": {
    "slideshow": {
     "slide_type": "subslide"
    }
   },
   "source": [
    "Here are our training examples"
   ]
  },
  {
   "cell_type": "code",
   "execution_count": 4,
   "metadata": {
    "slideshow": {
     "slide_type": "subslide"
    }
   },
   "outputs": [
    {
     "data": {
      "text/html": [
       "<div>\n",
       "<style scoped>\n",
       "    .dataframe tbody tr th:only-of-type {\n",
       "        vertical-align: middle;\n",
       "    }\n",
       "\n",
       "    .dataframe tbody tr th {\n",
       "        vertical-align: top;\n",
       "    }\n",
       "\n",
       "    .dataframe thead th {\n",
       "        text-align: right;\n",
       "    }\n",
       "</style>\n",
       "<table border=\"1\" class=\"dataframe\">\n",
       "  <thead>\n",
       "    <tr style=\"text-align: right;\">\n",
       "      <th></th>\n",
       "      <th>Valuation</th>\n",
       "      <th>Yield</th>\n",
       "      <th>Action</th>\n",
       "    </tr>\n",
       "  </thead>\n",
       "  <tbody>\n",
       "    <tr>\n",
       "      <td>0</td>\n",
       "      <td>Cheap</td>\n",
       "      <td>High</td>\n",
       "      <td>Long</td>\n",
       "    </tr>\n",
       "    <tr>\n",
       "      <td>1</td>\n",
       "      <td>Cheap</td>\n",
       "      <td>High</td>\n",
       "      <td>Long</td>\n",
       "    </tr>\n",
       "    <tr>\n",
       "      <td>2</td>\n",
       "      <td>Cheap</td>\n",
       "      <td>High</td>\n",
       "      <td>Long</td>\n",
       "    </tr>\n",
       "    <tr>\n",
       "      <td>3</td>\n",
       "      <td>Cheap</td>\n",
       "      <td>High</td>\n",
       "      <td>Neutral</td>\n",
       "    </tr>\n",
       "    <tr>\n",
       "      <td>4</td>\n",
       "      <td>Rich</td>\n",
       "      <td>Low</td>\n",
       "      <td>Short</td>\n",
       "    </tr>\n",
       "    <tr>\n",
       "      <td>5</td>\n",
       "      <td>Rich</td>\n",
       "      <td>Low</td>\n",
       "      <td>Short</td>\n",
       "    </tr>\n",
       "    <tr>\n",
       "      <td>6</td>\n",
       "      <td>Rich</td>\n",
       "      <td>Low</td>\n",
       "      <td>Short</td>\n",
       "    </tr>\n",
       "    <tr>\n",
       "      <td>7</td>\n",
       "      <td>Rich</td>\n",
       "      <td>Low</td>\n",
       "      <td>Short</td>\n",
       "    </tr>\n",
       "    <tr>\n",
       "      <td>8</td>\n",
       "      <td>Rich</td>\n",
       "      <td>Low</td>\n",
       "      <td>Neutral</td>\n",
       "    </tr>\n",
       "    <tr>\n",
       "      <td>9</td>\n",
       "      <td>Cheap</td>\n",
       "      <td>Low</td>\n",
       "      <td>Neutral</td>\n",
       "    </tr>\n",
       "    <tr>\n",
       "      <td>10</td>\n",
       "      <td>Cheap</td>\n",
       "      <td>Low</td>\n",
       "      <td>Long</td>\n",
       "    </tr>\n",
       "    <tr>\n",
       "      <td>11</td>\n",
       "      <td>Cheap</td>\n",
       "      <td>Low</td>\n",
       "      <td>Short</td>\n",
       "    </tr>\n",
       "    <tr>\n",
       "      <td>12</td>\n",
       "      <td>Cheap</td>\n",
       "      <td>Low</td>\n",
       "      <td>Neutral</td>\n",
       "    </tr>\n",
       "    <tr>\n",
       "      <td>13</td>\n",
       "      <td>Rich</td>\n",
       "      <td>High</td>\n",
       "      <td>Long</td>\n",
       "    </tr>\n",
       "    <tr>\n",
       "      <td>14</td>\n",
       "      <td>Rich</td>\n",
       "      <td>High</td>\n",
       "      <td>Short</td>\n",
       "    </tr>\n",
       "    <tr>\n",
       "      <td>15</td>\n",
       "      <td>Rich</td>\n",
       "      <td>High</td>\n",
       "      <td>Neutral</td>\n",
       "    </tr>\n",
       "    <tr>\n",
       "      <td>16</td>\n",
       "      <td>Fair</td>\n",
       "      <td>Low</td>\n",
       "      <td>Long</td>\n",
       "    </tr>\n",
       "    <tr>\n",
       "      <td>17</td>\n",
       "      <td>Fair</td>\n",
       "      <td>Low</td>\n",
       "      <td>Short</td>\n",
       "    </tr>\n",
       "    <tr>\n",
       "      <td>18</td>\n",
       "      <td>Fair</td>\n",
       "      <td>Low</td>\n",
       "      <td>Neutral</td>\n",
       "    </tr>\n",
       "    <tr>\n",
       "      <td>19</td>\n",
       "      <td>Fair</td>\n",
       "      <td>High</td>\n",
       "      <td>Long</td>\n",
       "    </tr>\n",
       "    <tr>\n",
       "      <td>20</td>\n",
       "      <td>Fair</td>\n",
       "      <td>High</td>\n",
       "      <td>Short</td>\n",
       "    </tr>\n",
       "    <tr>\n",
       "      <td>21</td>\n",
       "      <td>Fair</td>\n",
       "      <td>High</td>\n",
       "      <td>Neutral</td>\n",
       "    </tr>\n",
       "    <tr>\n",
       "      <td>22</td>\n",
       "      <td>Cheap</td>\n",
       "      <td>Low</td>\n",
       "      <td>Long</td>\n",
       "    </tr>\n",
       "    <tr>\n",
       "      <td>23</td>\n",
       "      <td>Fair</td>\n",
       "      <td>Low</td>\n",
       "      <td>Short</td>\n",
       "    </tr>\n",
       "    <tr>\n",
       "      <td>24</td>\n",
       "      <td>Fair</td>\n",
       "      <td>High</td>\n",
       "      <td>Long</td>\n",
       "    </tr>\n",
       "  </tbody>\n",
       "</table>\n",
       "</div>"
      ],
      "text/plain": [
       "   Valuation Yield   Action\n",
       "0      Cheap  High     Long\n",
       "1      Cheap  High     Long\n",
       "2      Cheap  High     Long\n",
       "3      Cheap  High  Neutral\n",
       "4       Rich   Low    Short\n",
       "5       Rich   Low    Short\n",
       "6       Rich   Low    Short\n",
       "7       Rich   Low    Short\n",
       "8       Rich   Low  Neutral\n",
       "9      Cheap   Low  Neutral\n",
       "10     Cheap   Low     Long\n",
       "11     Cheap   Low    Short\n",
       "12     Cheap   Low  Neutral\n",
       "13      Rich  High     Long\n",
       "14      Rich  High    Short\n",
       "15      Rich  High  Neutral\n",
       "16      Fair   Low     Long\n",
       "17      Fair   Low    Short\n",
       "18      Fair   Low  Neutral\n",
       "19      Fair  High     Long\n",
       "20      Fair  High    Short\n",
       "21      Fair  High  Neutral\n",
       "22     Cheap   Low     Long\n",
       "23      Fair   Low    Short\n",
       "24      Fair  High     Long"
      ]
     },
     "execution_count": 4,
     "metadata": {},
     "output_type": "execute_result"
    }
   ],
   "source": [
    "d_df = pd.read_csv(\"valuation_yield_action.csv\")\n",
    "target_name = \"Action\"\n",
    "d_df"
   ]
  },
  {
   "cell_type": "markdown",
   "metadata": {
    "slideshow": {
     "slide_type": "subslide"
    }
   },
   "source": [
    "And a quick look at the data, sliced by Action"
   ]
  },
  {
   "cell_type": "code",
   "execution_count": 5,
   "metadata": {
    "slideshow": {
     "slide_type": "subslide"
    }
   },
   "outputs": [
    {
     "name": "stdout",
     "output_type": "stream",
     "text": [
      "Long \n",
      "\n",
      "   Valuation Yield Action\n",
      "0      Cheap  High   Long\n",
      "1      Cheap  High   Long\n",
      "2      Cheap  High   Long\n",
      "10     Cheap   Low   Long\n",
      "13      Rich  High   Long\n",
      "\n",
      "\n",
      "\n",
      "Neutral \n",
      "\n",
      "   Valuation Yield   Action\n",
      "3      Cheap  High  Neutral\n",
      "8       Rich   Low  Neutral\n",
      "9      Cheap   Low  Neutral\n",
      "12     Cheap   Low  Neutral\n",
      "15      Rich  High  Neutral\n",
      "\n",
      "\n",
      "\n",
      "Short \n",
      "\n",
      "   Valuation Yield Action\n",
      "4       Rich   Low  Short\n",
      "5       Rich   Low  Short\n",
      "6       Rich   Low  Short\n",
      "7       Rich   Low  Short\n",
      "11     Cheap   Low  Short\n",
      "\n",
      "\n",
      "\n"
     ]
    }
   ],
   "source": [
    "grouped_by_target = d_df.groupby(target_name)\n",
    "for gp in grouped_by_target.groups.keys():\n",
    "    print(gp, \"\\n\")\n",
    "    print(grouped_by_target.get_group(gp).head())\n",
    "    print(\"\\n\\n\")\n",
    " "
   ]
  },
  {
   "cell_type": "markdown",
   "metadata": {
    "slideshow": {
     "slide_type": "subslide"
    }
   },
   "source": [
    "Looks like we\n",
    "- Go Long if the stock is Cheap (Valuation) and High (Yield)\n",
    "- Go Short if the stock is Rich (expensive Valuation) and Low (Yield)"
   ]
  },
  {
   "cell_type": "markdown",
   "metadata": {
    "slideshow": {
     "slide_type": "subslide"
    }
   },
   "source": [
    "Here's the empirical distribution of the training examples"
   ]
  },
  {
   "cell_type": "code",
   "execution_count": 6,
   "metadata": {
    "slideshow": {
     "slide_type": "subslide"
    }
   },
   "outputs": [
    {
     "data": {
      "text/html": [
       "<div>\n",
       "<style scoped>\n",
       "    .dataframe tbody tr th:only-of-type {\n",
       "        vertical-align: middle;\n",
       "    }\n",
       "\n",
       "    .dataframe tbody tr th {\n",
       "        vertical-align: top;\n",
       "    }\n",
       "\n",
       "    .dataframe thead tr th {\n",
       "        text-align: left;\n",
       "    }\n",
       "\n",
       "    .dataframe thead tr:last-of-type th {\n",
       "        text-align: right;\n",
       "    }\n",
       "</style>\n",
       "<table border=\"1\" class=\"dataframe\">\n",
       "  <thead>\n",
       "    <tr>\n",
       "      <th></th>\n",
       "      <th colspan=\"7\" halign=\"left\">count</th>\n",
       "    </tr>\n",
       "    <tr>\n",
       "      <th>Valuation</th>\n",
       "      <th colspan=\"2\" halign=\"left\">Cheap</th>\n",
       "      <th colspan=\"2\" halign=\"left\">Fair</th>\n",
       "      <th colspan=\"2\" halign=\"left\">Rich</th>\n",
       "      <th>All</th>\n",
       "    </tr>\n",
       "    <tr>\n",
       "      <th>Yield</th>\n",
       "      <th>High</th>\n",
       "      <th>Low</th>\n",
       "      <th>High</th>\n",
       "      <th>Low</th>\n",
       "      <th>High</th>\n",
       "      <th>Low</th>\n",
       "      <th></th>\n",
       "    </tr>\n",
       "    <tr>\n",
       "      <th>Action</th>\n",
       "      <th></th>\n",
       "      <th></th>\n",
       "      <th></th>\n",
       "      <th></th>\n",
       "      <th></th>\n",
       "      <th></th>\n",
       "      <th></th>\n",
       "    </tr>\n",
       "  </thead>\n",
       "  <tbody>\n",
       "    <tr>\n",
       "      <td>Long</td>\n",
       "      <td>3.0</td>\n",
       "      <td>2.0</td>\n",
       "      <td>2.0</td>\n",
       "      <td>1.0</td>\n",
       "      <td>1.0</td>\n",
       "      <td>NaN</td>\n",
       "      <td>9</td>\n",
       "    </tr>\n",
       "    <tr>\n",
       "      <td>Neutral</td>\n",
       "      <td>1.0</td>\n",
       "      <td>2.0</td>\n",
       "      <td>1.0</td>\n",
       "      <td>1.0</td>\n",
       "      <td>1.0</td>\n",
       "      <td>1.0</td>\n",
       "      <td>7</td>\n",
       "    </tr>\n",
       "    <tr>\n",
       "      <td>Short</td>\n",
       "      <td>NaN</td>\n",
       "      <td>1.0</td>\n",
       "      <td>1.0</td>\n",
       "      <td>2.0</td>\n",
       "      <td>1.0</td>\n",
       "      <td>4.0</td>\n",
       "      <td>9</td>\n",
       "    </tr>\n",
       "    <tr>\n",
       "      <td>All</td>\n",
       "      <td>4.0</td>\n",
       "      <td>5.0</td>\n",
       "      <td>4.0</td>\n",
       "      <td>4.0</td>\n",
       "      <td>3.0</td>\n",
       "      <td>5.0</td>\n",
       "      <td>25</td>\n",
       "    </tr>\n",
       "  </tbody>\n",
       "</table>\n",
       "</div>"
      ],
      "text/plain": [
       "          count                             \n",
       "Valuation Cheap      Fair      Rich      All\n",
       "Yield      High  Low High  Low High  Low    \n",
       "Action                                      \n",
       "Long        3.0  2.0  2.0  1.0  1.0  NaN   9\n",
       "Neutral     1.0  2.0  1.0  1.0  1.0  1.0   7\n",
       "Short       NaN  1.0  1.0  2.0  1.0  4.0   9\n",
       "All         4.0  5.0  4.0  4.0  3.0  5.0  25"
      ]
     },
     "execution_count": 6,
     "metadata": {},
     "output_type": "execute_result"
    }
   ],
   "source": [
    "d_df[\"dummy\"] = 1  # Need to aggregate on something\n",
    "t = d_df.pivot_table(index=target_name, columns=[\"Valuation\", \"Yield\"], values=\"dummy\", aggfunc=[\"count\"],\n",
    "                 margins=True)\n",
    "\n",
    "t"
   ]
  },
  {
   "cell_type": "markdown",
   "metadata": {
    "slideshow": {
     "slide_type": "subslide"
    }
   },
   "source": [
    "This gives us everything we need for the Naive Bayes algorithm\n",
    "- These are counts\n",
    "- We can easily turn the counts into unconditional probabilities by dividing by total number of examples\n",
    "- Will leave them as counts for now"
   ]
  },
  {
   "cell_type": "markdown",
   "metadata": {
    "slideshow": {
     "slide_type": "subslide"
    }
   },
   "source": [
    "Let's parse this table:\n",
    "- Columns: $\\cnt{\\y | \\x}$\n",
    "    - A column (defined by concrete values for each of the two attributes)\n",
    "    - Defines a distribution over the target (Action)\n",
    "- Column Sum: $\\cnt{\\x} = \\sum_{a \\in \\text{Action}}{ \\cnt{ \\x | a} }$\n",
    "    - Total number of examples with attribute pair $\\x$\n",
    "- Rows: $\\cnt{ \\x | \\y }$\n",
    "    - A row (defined by a concrete value for the Action)\n",
    "    - Defines a distribution over the attributes pairs for which this action is taken\n",
    "- Row sums: $\\cnt{a} = \\sum_{\\x} { \\cnt{\\x|a } }$\n",
    "    - Total number of examples with Action $a$"
   ]
  },
  {
   "cell_type": "markdown",
   "metadata": {
    "slideshow": {
     "slide_type": "subslide"
    }
   },
   "source": [
    "Let's simplify the table by looking at the marginal with respect to each attribute\n",
    "- Distribution over a single attribute rather than the pair\n",
    "\n",
    "First, by Valuation"
   ]
  },
  {
   "cell_type": "code",
   "execution_count": 7,
   "metadata": {
    "slideshow": {
     "slide_type": "subslide"
    }
   },
   "outputs": [
    {
     "data": {
      "text/html": [
       "<div>\n",
       "<style scoped>\n",
       "    .dataframe tbody tr th:only-of-type {\n",
       "        vertical-align: middle;\n",
       "    }\n",
       "\n",
       "    .dataframe tbody tr th {\n",
       "        vertical-align: top;\n",
       "    }\n",
       "\n",
       "    .dataframe thead tr th {\n",
       "        text-align: left;\n",
       "    }\n",
       "\n",
       "    .dataframe thead tr:last-of-type th {\n",
       "        text-align: right;\n",
       "    }\n",
       "</style>\n",
       "<table border=\"1\" class=\"dataframe\">\n",
       "  <thead>\n",
       "    <tr>\n",
       "      <th></th>\n",
       "      <th colspan=\"4\" halign=\"left\">count</th>\n",
       "    </tr>\n",
       "    <tr>\n",
       "      <th></th>\n",
       "      <th colspan=\"4\" halign=\"left\">Yield</th>\n",
       "    </tr>\n",
       "    <tr>\n",
       "      <th>Valuation</th>\n",
       "      <th>Cheap</th>\n",
       "      <th>Fair</th>\n",
       "      <th>Rich</th>\n",
       "      <th>All</th>\n",
       "    </tr>\n",
       "    <tr>\n",
       "      <th>Action</th>\n",
       "      <th></th>\n",
       "      <th></th>\n",
       "      <th></th>\n",
       "      <th></th>\n",
       "    </tr>\n",
       "  </thead>\n",
       "  <tbody>\n",
       "    <tr>\n",
       "      <td>Long</td>\n",
       "      <td>5</td>\n",
       "      <td>3</td>\n",
       "      <td>1</td>\n",
       "      <td>9</td>\n",
       "    </tr>\n",
       "    <tr>\n",
       "      <td>Neutral</td>\n",
       "      <td>3</td>\n",
       "      <td>2</td>\n",
       "      <td>2</td>\n",
       "      <td>7</td>\n",
       "    </tr>\n",
       "    <tr>\n",
       "      <td>Short</td>\n",
       "      <td>1</td>\n",
       "      <td>3</td>\n",
       "      <td>5</td>\n",
       "      <td>9</td>\n",
       "    </tr>\n",
       "    <tr>\n",
       "      <td>All</td>\n",
       "      <td>9</td>\n",
       "      <td>8</td>\n",
       "      <td>8</td>\n",
       "      <td>25</td>\n",
       "    </tr>\n",
       "  </tbody>\n",
       "</table>\n",
       "</div>"
      ],
      "text/plain": [
       "          count              \n",
       "          Yield              \n",
       "Valuation Cheap Fair Rich All\n",
       "Action                       \n",
       "Long          5    3    1   9\n",
       "Neutral       3    2    2   7\n",
       "Short         1    3    5   9\n",
       "All           9    8    8  25"
      ]
     },
     "execution_count": 7,
     "metadata": {},
     "output_type": "execute_result"
    }
   ],
   "source": [
    "# Single feature (Valuation), rather than pair\n",
    "d_df.drop(columns=[\"dummy\"]).pivot_table(index=target_name, columns=[\"Valuation\"], aggfunc=[\"count\"], \n",
    "                  fill_value=0, margins=True)"
   ]
  },
  {
   "cell_type": "markdown",
   "metadata": {
    "slideshow": {
     "slide_type": "subslide"
    }
   },
   "source": [
    "And by Yield"
   ]
  },
  {
   "cell_type": "code",
   "execution_count": 8,
   "metadata": {
    "slideshow": {
     "slide_type": "subslide"
    }
   },
   "outputs": [
    {
     "data": {
      "text/html": [
       "<div>\n",
       "<style scoped>\n",
       "    .dataframe tbody tr th:only-of-type {\n",
       "        vertical-align: middle;\n",
       "    }\n",
       "\n",
       "    .dataframe tbody tr th {\n",
       "        vertical-align: top;\n",
       "    }\n",
       "\n",
       "    .dataframe thead tr th {\n",
       "        text-align: left;\n",
       "    }\n",
       "\n",
       "    .dataframe thead tr:last-of-type th {\n",
       "        text-align: right;\n",
       "    }\n",
       "</style>\n",
       "<table border=\"1\" class=\"dataframe\">\n",
       "  <thead>\n",
       "    <tr>\n",
       "      <th></th>\n",
       "      <th colspan=\"3\" halign=\"left\">count</th>\n",
       "    </tr>\n",
       "    <tr>\n",
       "      <th></th>\n",
       "      <th colspan=\"3\" halign=\"left\">Valuation</th>\n",
       "    </tr>\n",
       "    <tr>\n",
       "      <th>Yield</th>\n",
       "      <th>High</th>\n",
       "      <th>Low</th>\n",
       "      <th>All</th>\n",
       "    </tr>\n",
       "    <tr>\n",
       "      <th>Action</th>\n",
       "      <th></th>\n",
       "      <th></th>\n",
       "      <th></th>\n",
       "    </tr>\n",
       "  </thead>\n",
       "  <tbody>\n",
       "    <tr>\n",
       "      <td>Long</td>\n",
       "      <td>6</td>\n",
       "      <td>3</td>\n",
       "      <td>9</td>\n",
       "    </tr>\n",
       "    <tr>\n",
       "      <td>Neutral</td>\n",
       "      <td>3</td>\n",
       "      <td>4</td>\n",
       "      <td>7</td>\n",
       "    </tr>\n",
       "    <tr>\n",
       "      <td>Short</td>\n",
       "      <td>2</td>\n",
       "      <td>7</td>\n",
       "      <td>9</td>\n",
       "    </tr>\n",
       "    <tr>\n",
       "      <td>All</td>\n",
       "      <td>11</td>\n",
       "      <td>14</td>\n",
       "      <td>25</td>\n",
       "    </tr>\n",
       "  </tbody>\n",
       "</table>\n",
       "</div>"
      ],
      "text/plain": [
       "            count        \n",
       "        Valuation        \n",
       "Yield        High Low All\n",
       "Action                   \n",
       "Long            6   3   9\n",
       "Neutral         3   4   7\n",
       "Short           2   7   9\n",
       "All            11  14  25"
      ]
     },
     "execution_count": 8,
     "metadata": {},
     "output_type": "execute_result"
    }
   ],
   "source": [
    "# Single feature (Yield), rather than pair\n",
    "d_df.drop(columns=[\"dummy\"]).pivot_table(index=target_name, columns=[\"Yield\"], aggfunc=[\"count\"], \n",
    "                  fill_value=0, margins=True)"
   ]
  },
  {
   "cell_type": "markdown",
   "metadata": {
    "slideshow": {
     "slide_type": "subslide"
    }
   },
   "source": [
    "And the target (Action) distribution"
   ]
  },
  {
   "cell_type": "code",
   "execution_count": 9,
   "metadata": {
    "slideshow": {
     "slide_type": "subslide"
    }
   },
   "outputs": [
    {
     "data": {
      "text/html": [
       "<div>\n",
       "<style scoped>\n",
       "    .dataframe tbody tr th:only-of-type {\n",
       "        vertical-align: middle;\n",
       "    }\n",
       "\n",
       "    .dataframe tbody tr th {\n",
       "        vertical-align: top;\n",
       "    }\n",
       "\n",
       "    .dataframe thead tr th {\n",
       "        text-align: left;\n",
       "    }\n",
       "\n",
       "    .dataframe thead tr:last-of-type th {\n",
       "        text-align: right;\n",
       "    }\n",
       "</style>\n",
       "<table border=\"1\" class=\"dataframe\">\n",
       "  <thead>\n",
       "    <tr>\n",
       "      <th></th>\n",
       "      <th>count</th>\n",
       "    </tr>\n",
       "    <tr>\n",
       "      <th>Valuation</th>\n",
       "      <th>All</th>\n",
       "    </tr>\n",
       "    <tr>\n",
       "      <th>Yield</th>\n",
       "      <th></th>\n",
       "    </tr>\n",
       "    <tr>\n",
       "      <th>Action</th>\n",
       "      <th></th>\n",
       "    </tr>\n",
       "  </thead>\n",
       "  <tbody>\n",
       "    <tr>\n",
       "      <td>Long</td>\n",
       "      <td>9</td>\n",
       "    </tr>\n",
       "    <tr>\n",
       "      <td>Neutral</td>\n",
       "      <td>7</td>\n",
       "    </tr>\n",
       "    <tr>\n",
       "      <td>Short</td>\n",
       "      <td>9</td>\n",
       "    </tr>\n",
       "    <tr>\n",
       "      <td>All</td>\n",
       "      <td>25</td>\n",
       "    </tr>\n",
       "  </tbody>\n",
       "</table>\n",
       "</div>"
      ],
      "text/plain": [
       "          count\n",
       "Valuation   All\n",
       "Yield          \n",
       "Action         \n",
       "Long          9\n",
       "Neutral       7\n",
       "Short         9\n",
       "All          25"
      ]
     },
     "execution_count": 9,
     "metadata": {},
     "output_type": "execute_result"
    }
   ],
   "source": [
    "t.loc[:, idx[\"count\",\"All\",:]]"
   ]
  },
  {
   "cell_type": "markdown",
   "metadata": {
    "slideshow": {
     "slide_type": "subslide"
    }
   },
   "source": [
    "Here is the target distribution as probabilities rather than counts"
   ]
  },
  {
   "cell_type": "code",
   "execution_count": 10,
   "metadata": {
    "slideshow": {
     "slide_type": "subslide"
    }
   },
   "outputs": [
    {
     "name": "stdout",
     "output_type": "stream",
     "text": [
      "There are 25 training examples\n"
     ]
    },
    {
     "data": {
      "text/html": [
       "<div>\n",
       "<style scoped>\n",
       "    .dataframe tbody tr th:only-of-type {\n",
       "        vertical-align: middle;\n",
       "    }\n",
       "\n",
       "    .dataframe tbody tr th {\n",
       "        vertical-align: top;\n",
       "    }\n",
       "\n",
       "    .dataframe thead tr th {\n",
       "        text-align: left;\n",
       "    }\n",
       "\n",
       "    .dataframe thead tr:last-of-type th {\n",
       "        text-align: right;\n",
       "    }\n",
       "</style>\n",
       "<table border=\"1\" class=\"dataframe\">\n",
       "  <thead>\n",
       "    <tr>\n",
       "      <th></th>\n",
       "      <th>count</th>\n",
       "    </tr>\n",
       "    <tr>\n",
       "      <th>Valuation</th>\n",
       "      <th>All</th>\n",
       "    </tr>\n",
       "    <tr>\n",
       "      <th>Yield</th>\n",
       "      <th></th>\n",
       "    </tr>\n",
       "    <tr>\n",
       "      <th>Action</th>\n",
       "      <th></th>\n",
       "    </tr>\n",
       "  </thead>\n",
       "  <tbody>\n",
       "    <tr>\n",
       "      <td>Long</td>\n",
       "      <td>0.36</td>\n",
       "    </tr>\n",
       "    <tr>\n",
       "      <td>Neutral</td>\n",
       "      <td>0.28</td>\n",
       "    </tr>\n",
       "    <tr>\n",
       "      <td>Short</td>\n",
       "      <td>0.36</td>\n",
       "    </tr>\n",
       "    <tr>\n",
       "      <td>All</td>\n",
       "      <td>1.00</td>\n",
       "    </tr>\n",
       "  </tbody>\n",
       "</table>\n",
       "</div>"
      ],
      "text/plain": [
       "          count\n",
       "Valuation   All\n",
       "Yield          \n",
       "Action         \n",
       "Long       0.36\n",
       "Neutral    0.28\n",
       "Short      0.36\n",
       "All        1.00"
      ]
     },
     "execution_count": 10,
     "metadata": {},
     "output_type": "execute_result"
    }
   ],
   "source": [
    "num_examples = t.loc[\"All\", idx[\"count\",\"All\",:]][0]\n",
    "\n",
    "print(\"There are {e:d} training examples\".format(e=int(num_examples)) )\n",
    "\n",
    "# Class probabilities\n",
    "t.loc[:, idx[\"count\",\"All\",:]]/t.loc[\"All\", idx[\"count\",\"All\",:]]"
   ]
  },
  {
   "cell_type": "markdown",
   "metadata": {
    "slideshow": {
     "slide_type": "slide"
    }
   },
   "source": [
    "# Features with continuous rather than discrete values\n",
    "\n",
    "The counting approach works well when a feature's values are discrete rather than continuous\n",
    "- countable\n",
    "\n",
    "The simplest way to deal with a continuous feature $\\x_j$\n",
    "- make it discrete by replacing them with categorical indicator features\n"
   ]
  },
  {
   "cell_type": "markdown",
   "metadata": {
    "slideshow": {
     "slide_type": "subslide"
    }
   },
   "source": [
    "For example\n",
    "- Divide the range of values into two intervals defined by threshold value $t_j$\n",
    "    $$\\text{Is}_{\\x_j < t_j}$$\n",
    "- Divide the range of values into multiple intervals (\"buckets\") by a sequence of thresholds defining boundaries\n",
    "    $$\\text{Is}_{ t_{j, l-1} \\le \\x_j \\le t_{j,l}}$$\n",
    "\n",
    "The thresholds are a *hyper-parameters*\n",
    "- not parameters that are optimized with the Loss function\n",
    "- The Fine-tuning part of the Recipe is the place where we search for alternative values\n",
    "    "
   ]
  },
  {
   "cell_type": "markdown",
   "metadata": {
    "slideshow": {
     "slide_type": "subslide"
    }
   },
   "source": [
    "Unfortunately\n",
    "- the *ordering relationship* between continuous values is lost when converting them into binary indicators\n",
    "\n",
    "We mention this technique\n",
    "- because we have seen it used in Decision Trees\n",
    "- but there are alternatives that preserve the features as continuous rather than making them discrete\n"
   ]
  },
  {
   "cell_type": "markdown",
   "metadata": {
    "slideshow": {
     "slide_type": "slide"
    }
   },
   "source": [
    "# Beyond counting\n",
    "\n",
    "The assumption of conditional independence (the Naive part) makes prediction based on Bayes Theorem practical.\n",
    "\n",
    "The most obvious way: less to count (and store)\n",
    "- We only need the marginal probability of each features\n",
    "- Rather than the join probability of each pair, triple, etc. of features\n",
    "- The joint probability can be derived from the marginals under the assumption of conditional independence"
   ]
  },
  {
   "cell_type": "markdown",
   "metadata": {
    "slideshow": {
     "slide_type": "subslide"
    }
   },
   "source": [
    "For two features $\\x_1, \\x_2$\n",
    "- we store the counts for each possible value (in the training set) of $\\x_1$ and $\\x_2$ individually (for each \\y')\n",
    "- rather than a count for every possible pair of values $\\x_1, \\x_2$\n",
    "\n",
    "$$\n",
    "\\begin{array} \\\\\n",
    "& \\text{number of stored values} \\\\\n",
    "\\text{independence}     &  | \\text{distinct}(\\x_1) | + | \\text{distinct}(\\x_2) | \\\\\n",
    "\\text{NO independence}  &  | \\text{distinct}(\\x_1) | * | \\text{distinct}(\\x_2) | \n",
    "\\\\\n",
    "&  \\text{where } \\text{distinct}(x_j) = \\{ v | \\x_j^\\ip =v \\text{ for some example } i \\} \\\\\n",
    "\\end{array}\n",
    "$$"
   ]
  },
  {
   "cell_type": "markdown",
   "metadata": {
    "slideshow": {
     "slide_type": "subslide"
    }
   },
   "source": [
    "The less obvious answer:\n",
    "\n",
    "It facilitates *extrapolation* beyond training examples.\n",
    "\n",
    "Suppose \n",
    "- there is a non-training example with concrete values $\\x'_1, \\x'_2$ for features $\\x_1, \\x_2$\n",
    "- but there is **no** training example $i$ where $\\x_1^\\ip = \\x'_1, \\x_2^\\ip = \\x'_2$"
   ]
  },
  {
   "cell_type": "markdown",
   "metadata": {
    "slideshow": {
     "slide_type": "subslide"
    }
   },
   "source": [
    "In that case, a joint probability obtained from counting yields\n",
    "$$\n",
    "\\pr{\\x_1 = \\x'_1, \\x_2= \\x'_2, | \\y = \\y' } \\, =  0\n",
    "$$\n",
    "\n",
    "But a joint probability derived from the assumption of conditional independence yields\n",
    "$$\n",
    "\\pr{\\x_1 = \\x'_1, \\x_2= \\x'_2, | \\y = \\y' } \\, =  \\pr{\\x_1 = \\x'_1 | \\y = \\y' } * \\pr{\\x_2 = \\x'_2 | \\y = \\y' }\n",
    "$$\n",
    "\n",
    "Thus, we can predict for test examples not represented in the training dataset."
   ]
  },
  {
   "cell_type": "markdown",
   "metadata": {
    "slideshow": {
     "slide_type": "subslide"
    }
   },
   "source": [
    "## Representing the marginal probability by a function\n",
    "\n",
    "But this still does not completely solve the problem of extrapolation beyond training data.\n",
    "\n",
    "The issue we previously raised was when\n",
    "- the value\n",
    "for more than one feature did not co-occur in the training examples.\n",
    "\n",
    "But what about the case where there are **no** training examples with the value $\\x'_1$ for a *single* feature $\\x_1$?"
   ]
  },
  {
   "cell_type": "markdown",
   "metadata": {
    "slideshow": {
     "slide_type": "subslide"
    }
   },
   "source": [
    "This is an illustration of the *zero frequency* problem.\n",
    "\n",
    "It is especially problematic because\n",
    "$$\n",
    "\\pr{\\x_1} = 0\n",
    "$$\n",
    "\n",
    "can occur both in the numerator and the denominator\n",
    "- divide by zero issue"
   ]
  },
  {
   "cell_type": "markdown",
   "metadata": {
    "slideshow": {
     "slide_type": "subslide"
    }
   },
   "source": [
    "### Additive smoothing\n",
    "\n",
    "[additive smoothing](https://en.wikipedia.org/wiki/Additive_smoothing)\n",
    "\n",
    "A simple (but unsatisfying) solution to the division by zero  and other zero frequency related problems\n",
    "- Artificially inflate all counts by some parameter $\\alpha$.\n",
    "\n",
    "This eliminates zero counts at the cost of biasing all counts.\n",
    "\n",
    "Note that when converting counts to probabilities\n",
    "- We have increased the count of each of the $|C|$ classes by $\\alpha$\n",
    "- So the total count for the denominator is $m + |C| * \\alpha$\n"
   ]
  },
  {
   "cell_type": "markdown",
   "metadata": {
    "slideshow": {
     "slide_type": "slide"
    }
   },
   "source": [
    "### Replace empirical distributions by functional forms\n",
    "\n",
    "The more common way to address the zero frequency problem\n",
    "- **assume** that the empirical marginal distribution for each feature follows some functional form\n",
    "- For example\n",
    "    - Normal distribution for continuous features\n",
    "    - Bernoulli distribution for binary categorical variables\n",
    "    - Multinomial distribution for categorical variables with more than two classes\n",
    "\n",
    "One can fit the parameters of the assumed distribution (e.g., mean, frequency) from the empirical training data."
   ]
  },
  {
   "cell_type": "markdown",
   "metadata": {
    "slideshow": {
     "slide_type": "subslide"
    }
   },
   "source": [
    "There is an additional benefit to using a functional form\n",
    "- We can treating features with *continuous* values **directly**\n",
    "- Rather than converting them into *discrete* values by \"bucketing\" with indicators\n",
    "    "
   ]
  },
  {
   "cell_type": "markdown",
   "metadata": {
    "slideshow": {
     "slide_type": "subslide"
    }
   },
   "source": [
    "There is also a benefit of reduced storage\n",
    "- since we only need to store parameters of the distribution rather\n",
    "than the entire empirical.\n",
    "\n",
    "In `sklearn`'s implementation of Naive Bayes\n",
    "- one must specify empirical distributions (?)\n"
   ]
  },
  {
   "cell_type": "markdown",
   "metadata": {
    "slideshow": {
     "slide_type": "slide"
    }
   },
   "source": [
    "# Assumption of conditional independence\n",
    "\n",
    "This is a questionable assumption.\n",
    "\n",
    "In its defense: \n",
    "- If $n$ (the number of features) is very large\n",
    "    - The conditional independence assumption\n",
    "is more likely to hold."
   ]
  },
  {
   "cell_type": "code",
   "execution_count": 11,
   "metadata": {
    "slideshow": {
     "slide_type": "slide"
    }
   },
   "outputs": [
    {
     "name": "stdout",
     "output_type": "stream",
     "text": [
      "Done\n"
     ]
    }
   ],
   "source": [
    "print(\"Done\")"
   ]
  }
 ],
 "metadata": {
  "celltoolbar": "Slideshow",
  "kernelspec": {
   "display_name": "Python 3",
   "language": "python",
   "name": "python3"
  },
  "language_info": {
   "codemirror_mode": {
    "name": "ipython",
    "version": 3
   },
   "file_extension": ".py",
   "mimetype": "text/x-python",
   "name": "python",
   "nbconvert_exporter": "python",
   "pygments_lexer": "ipython3",
   "version": "3.7.4"
  },
  "toc": {
   "base_numbering": 1,
   "nav_menu": {},
   "number_sections": true,
   "sideBar": true,
   "skip_h1_title": false,
   "title_cell": "Table of Contents",
   "title_sidebar": "Contents",
   "toc_cell": false,
   "toc_position": {
    "height": "calc(100% - 180px)",
    "left": "10px",
    "top": "150px",
    "width": "370.594px"
   },
   "toc_section_display": true,
   "toc_window_display": true
  }
 },
 "nbformat": 4,
 "nbformat_minor": 2
}
