{
 "cells": [
  {
   "cell_type": "code",
   "execution_count": 1,
   "metadata": {
    "slideshow": {
     "slide_type": "notes"
    }
   },
   "outputs": [
    {
     "data": {
      "text/latex": [
       "$$\n",
       "\\newcommand{\\x}{\\mathbf{x}}\n",
       "\\newcommand{\\tx}{\\tilde{\\x}}\n",
       "\\newcommand{\\y}{\\mathbf{y}}\n",
       "\\newcommand{\\b}{\\mathbf{b}}\n",
       "\\newcommand{\\c}{\\mathbf{c}}\n",
       "\\newcommand{\\e}{\\mathbf{e}}\n",
       "\\newcommand{\\z}{\\mathbf{z}}\n",
       "\\newcommand{\\h}{\\mathbf{h}}\n",
       "\\newcommand{\\u}{\\mathbf{u}}\n",
       "\\newcommand{\\v}{\\mathbf{v}}\n",
       "\\newcommand{\\w}{\\mathbf{w}}\n",
       "\\newcommand{\\W}{\\mathbf{W}}\n",
       "\\newcommand{\\X}{\\mathbf{X}}\n",
       "\\newcommand{\\KL}{\\mathbf{KL}}\n",
       "\\newcommand{\\E}{{\\mathbb{E}}}\n",
       "\\newcommand{\\ip}{\\mathbf{{(i)}}}\n",
       "%\n",
       "% Test set\n",
       "\\newcommand{\\xt}{\\underline{\\x}}\n",
       "\\newcommand{\\yt}{\\underline{\\y}}\n",
       "\\newcommand{\\Xt}{\\underline{\\X}}\n",
       "\\newcommand{\\perfm}{\\mathcal{P}}\n",
       "%\n",
       "% \\ll indexes a layer; we can change the actual letter\n",
       "\\newcommand{\\ll}{l}\n",
       "\\newcommand{\\llp}{{(\\ll)}}\n",
       "%\n",
       "\\newcommand{Thetam}{\\Theta_{-0}}\n",
       "\n",
       "% CNN\n",
       "\\newcommand{\\kernel}{\\mathbf{k}} \n",
       "\\newcommand{\\dim}{d}\n",
       "\\newcommand{\\idxspatial}{{\\text{idx}}}\n",
       "\\newcommand{\\summaxact}{\\text{max}}\n",
       "%\n",
       "%\n",
       "\n",
       "% RNN\n",
       "% \\tt indexes a time step\n",
       "\\newcommand{\\tt}{t}\n",
       "\\newcommand{\\tp}{{(\\tt)}}\n",
       "%\n",
       "%\n",
       "\n",
       "% LSTM\n",
       "\\newcommand{\\g}{\\mathbf{g}}\n",
       "\\newcommand{\\remember}{\\mathbf{remember}}\n",
       "\\newcommand{\\save}{\\mathbf{save}}\n",
       "\\newcommand{\\focus}{\\mathbf{focus}}\n",
       "%\n",
       "%\n",
       "% NLP\n",
       "\\newcommand{\\Vocab}{\\mathbf{V}}\n",
       "\\newcommand{\\v}{\\mathbf{v}}\n",
       "\\newcommand{\\offset}{o}\n",
       "\\newcommand{\\o}{o}\n",
       "\\newcommand{\\E}{\\mathbf{E}}\n",
       "%\n",
       "%\n",
       "\\newcommand{\\loss}{\\mathcal{L}}\n",
       "\\newcommand{\\cost}{\\mathcal{L}}\n",
       "%\n",
       "%                     \n",
       "\\newcommand{\\pdata}{p_\\text{data}}\n",
       "\\newcommand{\\pmodel}{p_\\text{model}}\n",
       "%\n",
       "% SVM\n",
       "\\newcommand{\\margin}{{\\mathbb{m}}}\n",
       "\\newcommand{\\lmk}{\\boldsymbol{\\ell}}\n",
       "%\n",
       "% Functions with arguments\n",
       "\\def\\xsy#1#2{#1^#2}\n",
       "\\def\\rand#1{\\tilde{#1}}\n",
       "\\def\\randx{\\rand{\\x}}\n",
       "\\def\\randy{\\rand{\\y}}\n",
       "\\def\\trans#1{\\dot{#1}}\n",
       "\\def\\transx{\\trans{\\x}}\n",
       "\\def\\transy{\\trans{\\y}}\n",
       "%\n",
       "\\def\\argmax#1{\\underset{#1} {\\operatorname{argmax}} }\n",
       "\\def\\argmin#1{\\underset{#1} {\\operatorname{argmin}} }\n",
       "\\def\\max#1{\\underset{#1} {\\operatorname{max}} }\n",
       "\\def\\min#1{\\underset{#1} {\\operatorname{min}} }\n",
       "%\n",
       "\\def\\pr#1{\\mathcal{p}(#1)}\n",
       "\\def\\prc#1#2{\\mathcal{p}(#1 \\; | \\; #2)}\n",
       "\\def\\cnt#1{\\mathcal{count}_{#1}}\n",
       "\\def\\node#1{\\mathbb{#1}}\n",
       "%\n",
       "\\newcommand{\\floor}[1]{\\left\\lfloor #1 \\right\\rfloor}\n",
       "\\newcommand{\\ceil}[1]{\\left\\lceil #1 \\right\\rceil}\n",
       "%\n",
       "\\def\\loc#1{{\\text{##} {#1}}}\n",
       "%\n",
       "$$\n"
      ],
      "text/plain": [
       "<IPython.core.display.Latex object>"
      ]
     },
     "metadata": {},
     "output_type": "display_data"
    }
   ],
   "source": [
    "%run Latex_macros.ipynb"
   ]
  },
  {
   "cell_type": "code",
   "execution_count": 2,
   "metadata": {
    "slideshow": {
     "slide_type": "notes"
    }
   },
   "outputs": [],
   "source": [
    "# My standard magic !  You will see this in almost all my notebooks.\n",
    "\n",
    "from IPython.core.interactiveshell import InteractiveShell\n",
    "InteractiveShell.ast_node_interactivity = \"all\"\n",
    "\n",
    "# Reload all modules imported with %aimport\n",
    "%load_ext autoreload\n",
    "%autoreload 1\n",
    "\n",
    "%matplotlib inline"
   ]
  },
  {
   "cell_type": "code",
   "execution_count": 3,
   "metadata": {
    "slideshow": {
     "slide_type": "notes"
    }
   },
   "outputs": [],
   "source": [
    "import numpy as np\n",
    "import pandas as pd\n",
    "import matplotlib.pyplot as plt\n",
    "\n",
    "import neural_net_helper\n",
    "%aimport neural_net_helper\n",
    "\n",
    "nnh = neural_net_helper.NN_Helper()"
   ]
  },
  {
   "cell_type": "markdown",
   "metadata": {
    "slideshow": {
     "slide_type": "slide"
    }
   },
   "source": [
    "# Notation review\n",
    "- Layer $\\ll$:\n",
    "$ 0 \\le \\ll \\le (L-1)$\n",
    "$$\n",
    "\\y_\\llp = a_\\llp \\left( f_\\llp( \\y_{(\\ll-1)}, \\W_\\llp ) \\right)\n",
    "$$\n",
    "- Layer $0$ is input\n",
    "$$\n",
    "\\y_{(0)} = \\x\n",
    "$$\n",
    "- Layer $L$ is *head* (Classifier/Regression)\n",
    "- Layer $(L+1)$ is Loss layer\n",
    "- We omit writing a separate bias term $\\b_\\llp$: we fold it into the weights $\\W_\\llp$\n"
   ]
  },
  {
   "cell_type": "markdown",
   "metadata": {
    "slideshow": {
     "slide_type": "subslide"
    }
   },
   "source": [
    "<div>\n",
    "    <center>Layer notation</center>\n",
    "    <br>\n",
    "<img src=\"images/NN_Layers_select.png\"> <!Image source: NN_Layers.drawio; select only one box for export>\n",
    "    </div>"
   ]
  },
  {
   "cell_type": "markdown",
   "metadata": {
    "slideshow": {
     "slide_type": "slide"
    }
   },
   "source": [
    "# Back propagation\n",
    "\n",
    "Gradient Descent updates weights $\\W$ using the derivative of the loss $\\loss$ with respect to $\\W_\\llp$.\n",
    "\n",
    "$$\n",
    "\\W = \\W - \\alpha * \\frac{\\partial \\loss}{\\partial \\W}\n",
    "$$\n",
    "\n",
    "where $\\alpha \\le 1$ is the learning rate."
   ]
  },
  {
   "cell_type": "markdown",
   "metadata": {
    "slideshow": {
     "slide_type": "subslide"
    }
   },
   "source": [
    "Since each layer $\\ll$ has its own weights $\\W_\\llp$ the derivatives needed are\n",
    "\n",
    "$$\n",
    "\\begin{array}[lll] \\\\\n",
    "\\frac{\\partial \\loss}{\\partial \\W_\\llp} \\,\\text{for} \\; \\ll=1, \\ldots, L\n",
    "\\end{array}\n",
    "$$\n",
    "\n",
    "We will show how to compute these derivatives via a procedure known as *Back propagation*.\n",
    "\n",
    "It is really nothing more than an *iterated* application of the Chain Rule of Calculus."
   ]
  },
  {
   "cell_type": "markdown",
   "metadata": {
    "slideshow": {
     "slide_type": "subslide"
    }
   },
   "source": [
    "Recall that we created layer $(L+1)$ to compute the Loss function\n",
    "$$\n",
    " \\y_{(L+1)} = \\mathcal{L}\n",
    "$$\n",
    "\n",
    "where layer $L$ is the \"head\" (Classifier/Regression).\n",
    "\n",
    "Our computation  thus looks like:"
   ]
  },
  {
   "cell_type": "markdown",
   "metadata": {
    "slideshow": {
     "slide_type": "subslide"
    }
   },
   "source": [
    "<div>\n",
    "<center>Additional Loss Layer (L+1)</center>\n",
    "<br>\n",
    "<img src=\"images/NN_Layers_plus_Loss.png\">\n",
    "</div>"
   ]
  },
  {
   "cell_type": "markdown",
   "metadata": {
    "slideshow": {
     "slide_type": "subslide"
    }
   },
   "source": [
    "We will compute the derivative of the Loss with respect to $\\y_\\llp$, for each $1 \\le \\ll \\le (L+1)$\n",
    "\n",
    "Let\n",
    "$$\\loss'_\\llp = \\frac{\\partial \\loss}{\\partial \\y_\\llp}$$ \n",
    "denote the derivative of $\\loss$ with respect to the output of layer $\\ll$, i.e., $\\y_\\llp$.\n",
    "\n",
    "This is called the **loss gradient**.\n"
   ]
  },
  {
   "cell_type": "markdown",
   "metadata": {
    "slideshow": {
     "slide_type": "subslide"
    }
   },
   "source": [
    "The loss gradient can be computed for each layer sequentially in *reverse order*.\n",
    "\n",
    "That is why the procedure is called *Backwards propagation:*\n",
    "\n",
    "Starting at the end\n",
    "$$\n",
    "\\begin{array}[lll]\\\\\n",
    "\\loss'_{(L+1)} & = & \\frac{\\partial{\\loss}}{\\partial \\y_{(L+1)}} \\\\\n",
    "& = & \\frac{\\partial{\\y_{(L+1)}}}{\\partial \\y_{(L+1)}} \\\\\n",
    "& = & 1\n",
    "\\end{array}\n",
    "$$"
   ]
  },
  {
   "cell_type": "markdown",
   "metadata": {
    "slideshow": {
     "slide_type": "subslide"
    }
   },
   "source": [
    "We inductively work our way backwards\n",
    "- Given $\\loss'_\\llp$\n",
    "- Compute $\\loss'_{(\\ll-1)}$\n",
    "- Using the chain rule\n",
    "\n",
    "$$\n",
    "\\begin{array}[lll] \\\\\n",
    "\\loss'_{(\\ll-1)} & = & \\frac{\\partial \\loss}{\\partial \\y_{(\\ll-1)}} \\\\\n",
    "         & = & \\frac{\\partial \\loss}{\\partial \\y_\\llp} \\frac{\\partial \\y_\\llp}{\\partial \\y_{(\\ll-1)}} \\\\\n",
    "         & = & \\loss'_\\llp \\frac{\\partial \\y_\\llp}{\\partial \\y_{(\\ll-1)}}\n",
    "\\end{array}\n",
    "$$\n",
    "\n",
    "The loss gradient \"flows backward\", from $\\y_{(L+1)}$ to $\\y_{(1)}$.\n",
    "\n",
    "This is referred to as the *backward pass*."
   ]
  },
  {
   "cell_type": "markdown",
   "metadata": {
    "slideshow": {
     "slide_type": "subslide"
    }
   },
   "source": [
    "<div>\n",
    "<center><strong>Backward pass: Loss to Weights</strong></center>\n",
    "<br>\n",
    "<img src=\"images/NN_Layers_plus_Loss_backward.png\">\n",
    "</div>"
   ]
  },
  {
   "cell_type": "markdown",
   "metadata": {
    "slideshow": {
     "slide_type": "subslide"
    }
   },
   "source": [
    "Contrast this to the information flow that leads to prediction $\\hat{\\y} = \\y_{(L)}$\n",
    "- Information flows forward, from input $\\x$ to $\\y_{(L)}$\n",
    "- This is called the *forward pass*"
   ]
  },
  {
   "cell_type": "markdown",
   "metadata": {
    "slideshow": {
     "slide_type": "subslide"
    }
   },
   "source": [
    "<div>\n",
    "<center><strong>Forward Pass: Input to Loss</strong></center>\n",
    "<br>\n",
    "<img src=\"images/NN_Layers_plus_Loss_forward.png\">\n",
    "</div>"
   ]
  },
  {
   "cell_type": "markdown",
   "metadata": {
    "slideshow": {
     "slide_type": "subslide"
    }
   },
   "source": [
    "The purpose of flowing the loss gradient backwards is to find the optimal value for $\\W_\\llp$, the weights for each layer $\\ll$, $1 \\le \\ll \\le L$\n",
    "- Via Gradient Descent, which modifies the current estimate of $\\W_\\llp$\n",
    "- Using the derivative of the loss with respect to $\\W_\\llp$\n",
    "- Which can be obtained via another application of the Chain Rule\n",
    "\n",
    "\n",
    "$$\n",
    "\\begin{array}[lll] \\\\\n",
    "\\frac{\\partial \\loss}{\\partial \\W_\\llp} & = & \\frac{\\partial \\loss}{\\partial \\y_\\llp} \\frac{\\partial \\y_\\llp}{\\partial \\W_\\llp} & = & \\loss'_\\llp \\frac{\\partial \\y_\\llp}{\\partial \\W_\\llp}\n",
    "\\end{array}\n",
    "$$"
   ]
  },
  {
   "cell_type": "markdown",
   "metadata": {
    "slideshow": {
     "slide_type": "subslide"
    }
   },
   "source": [
    "Here is a larger picture of the flow during the Forward and Backward pass at layer $\\ll$."
   ]
  },
  {
   "cell_type": "markdown",
   "metadata": {
    "slideshow": {
     "slide_type": "subslide"
    }
   },
   "source": [
    "<div>\n",
    "<center>Forward and Backward pass: Detail</center>\n",
    "<br>\n",
    "<img src=\"images/Backward_pass_detail.png\">\n",
    "</div>"
   ]
  },
  {
   "cell_type": "markdown",
   "metadata": {
    "slideshow": {
     "slide_type": "subslide"
    }
   },
   "source": [
    "Since $\\y_\\llp$ is a function of\n",
    "- $\\y_{(\\ll-1)}$, the previous layer's output\n",
    "- And $\\W_\\llp$, the weights of layer $\\ll$.\n",
    "\n",
    "$$\n",
    "\\y_\\llp = a_\\llp \\left( f_\\llp( \\y_{(\\ll-1)}, \\W_{\\llp}) \\right) \n",
    "$$\n",
    "\n",
    "the computation of $\\frac{\\partial \\y_\\llp}{\\partial \\W_\\llp}$ depends on the functional form of $a_\\llp$\n",
    "and can be obtained via the rules of Calculus."
   ]
  },
  {
   "cell_type": "markdown",
   "metadata": {
    "slideshow": {
     "slide_type": "subslide"
    }
   },
   "source": [
    "The derivatives of $\\y_\\llp$ with respect to each of its inputs\n",
    "- $\\frac{\\partial \\y_\\llp}{\\partial \\y_{(\\ll-1)}}$\n",
    "- $\\frac{\\partial \\y_\\llp}{\\partial \\W_\\llp}$\n",
    "\n",
    "are called **local gradients**"
   ]
  },
  {
   "cell_type": "markdown",
   "metadata": {
    "slideshow": {
     "slide_type": "subslide"
    }
   },
   "source": [
    "Note that we can compute the local gradients\n",
    "- During the **forward pass** \n",
    "- Since the derivatives only depend on inputs and not on any value subsequent to layer $\\ll$\n",
    "\n",
    "We will take advantage of this fact when we demonstrate some pseudo-code for the Forward and Backward passes."
   ]
  },
  {
   "cell_type": "markdown",
   "metadata": {
    "slideshow": {
     "slide_type": "subslide"
    }
   },
   "source": [
    "So we say that the loss gradient of the preceding layer is the product of\n",
    "- The loss gradient of the current layer\n",
    "- The local gradient with respect to the layer's inputs"
   ]
  },
  {
   "cell_type": "markdown",
   "metadata": {
    "slideshow": {
     "slide_type": "slide"
    }
   },
   "source": [
    "# Conclusion\n",
    "\n",
    "Gradient Descent depends on the ability to compute\n",
    "- The derivative of the Loss with respect to the weights\n",
    "\n",
    "We demonstrated a procedure called Back Propagation to compute these derivatives.\n",
    "\n",
    "The forward pass of a Neural Network is the process of computing outputs (predictions) from inputs.\n",
    "\n",
    "Back propagation is what happens in the backward pass, which maps loss to weights.\n"
   ]
  },
  {
   "cell_type": "code",
   "execution_count": 4,
   "metadata": {
    "slideshow": {
     "slide_type": "slide"
    }
   },
   "outputs": [
    {
     "name": "stdout",
     "output_type": "stream",
     "text": [
      "Done\n"
     ]
    }
   ],
   "source": [
    "print(\"Done\")"
   ]
  }
 ],
 "metadata": {
  "celltoolbar": "Slideshow",
  "kernelspec": {
   "display_name": "Python 3",
   "language": "python",
   "name": "python3"
  },
  "language_info": {
   "codemirror_mode": {
    "name": "ipython",
    "version": 3
   },
   "file_extension": ".py",
   "mimetype": "text/x-python",
   "name": "python",
   "nbconvert_exporter": "python",
   "pygments_lexer": "ipython3",
   "version": "3.7.4"
  },
  "toc": {
   "base_numbering": 1,
   "nav_menu": {},
   "number_sections": true,
   "sideBar": true,
   "skip_h1_title": false,
   "title_cell": "Table of Contents",
   "title_sidebar": "Contents",
   "toc_cell": false,
   "toc_position": {
    "height": "calc(100% - 180px)",
    "left": "10px",
    "top": "150px",
    "width": "370.547px"
   },
   "toc_section_display": true,
   "toc_window_display": false
  }
 },
 "nbformat": 4,
 "nbformat_minor": 2
}
