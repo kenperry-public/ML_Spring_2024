{
 "cells": [
  {
   "cell_type": "code",
   "execution_count": 1,
   "metadata": {
    "slideshow": {
     "slide_type": "notes"
    }
   },
   "outputs": [
    {
     "data": {
      "text/latex": [
       "$$\n",
       "\\newcommand{\\x}{\\mathbf{x}}\n",
       "\\newcommand{\\tx}{\\tilde{\\x}}\n",
       "\\newcommand{\\y}{\\mathbf{y}}\n",
       "\\newcommand{\\b}{\\mathbf{b}}\n",
       "\\newcommand{\\c}{\\mathbf{c}}\n",
       "\\newcommand{\\e}{\\mathbf{e}}\n",
       "\\newcommand{\\z}{\\mathbf{z}}\n",
       "\\newcommand{\\h}{\\mathbf{h}}\n",
       "\\newcommand{\\u}{\\mathbf{u}}\n",
       "\\newcommand{\\v}{\\mathbf{v}}\n",
       "\\newcommand{\\w}{\\mathbf{w}}\n",
       "\\newcommand{\\W}{\\mathbf{W}}\n",
       "\\newcommand{\\X}{\\mathbf{X}}\n",
       "\\newcommand{\\KL}{\\mathbf{KL}}\n",
       "\\newcommand{\\E}{{\\mathbb{E}}}\n",
       "\\newcommand{\\ip}{\\mathbf{{(i)}}}\n",
       "%\n",
       "% Test set\n",
       "\\newcommand{\\xt}{\\underline{\\x}}\n",
       "\\newcommand{\\yt}{\\underline{\\y}}\n",
       "\\newcommand{\\Xt}{\\underline{\\X}}\n",
       "\\newcommand{\\perfm}{\\mathcal{P}}\n",
       "%\n",
       "% \\ll indexes a layer; we can change the actual letter\n",
       "\\newcommand{\\ll}{l}\n",
       "\\newcommand{\\llp}{{(\\ll)}}\n",
       "%\n",
       "\\newcommand{Thetam}{\\Theta_{-0}}\n",
       "\n",
       "% CNN\n",
       "\\newcommand{\\kernel}{\\mathbf{k}} \n",
       "\\newcommand{\\dim}{d}\n",
       "\\newcommand{\\idxspatial}{{\\text{idx}}}\n",
       "\\newcommand{\\summaxact}{\\text{max}}\n",
       "%\n",
       "%\n",
       "\n",
       "% RNN\n",
       "% \\tt indexes a time step\n",
       "\\newcommand{\\tt}{t}\n",
       "\\newcommand{\\tp}{{(\\tt)}}\n",
       "%\n",
       "%\n",
       "\n",
       "% LSTM\n",
       "\\newcommand{\\g}{\\mathbf{g}}\n",
       "\\newcommand{\\remember}{\\mathbf{remember}}\n",
       "\\newcommand{\\save}{\\mathbf{save}}\n",
       "\\newcommand{\\focus}{\\mathbf{focus}}\n",
       "%\n",
       "%\n",
       "% NLP\n",
       "\\newcommand{\\Vocab}{\\mathbf{V}}\n",
       "\\newcommand{\\v}{\\mathbf{v}}\n",
       "\\newcommand{\\offset}{o}\n",
       "\\newcommand{\\o}{o}\n",
       "\\newcommand{\\E}{\\mathbf{E}}\n",
       "%\n",
       "%\n",
       "\\newcommand{\\loss}{\\mathcal{L}}\n",
       "\\newcommand{\\cost}{\\mathcal{L}}\n",
       "%\n",
       "%                     \n",
       "\\newcommand{\\pdata}{p_\\text{data}}\n",
       "\\newcommand{\\pmodel}{p_\\text{model}}\n",
       "%\n",
       "% SVM\n",
       "\\newcommand{\\margin}{{\\mathbb{m}}}\n",
       "\\newcommand{\\lmk}{\\boldsymbol{\\ell}}\n",
       "%\n",
       "% Functions with arguments\n",
       "\\def\\xsy#1#2{#1^#2}\n",
       "\\def\\rand#1{\\tilde{#1}}\n",
       "\\def\\randx{\\rand{\\x}}\n",
       "\\def\\randy{\\rand{\\y}}\n",
       "\\def\\trans#1{\\dot{#1}}\n",
       "\\def\\transx{\\trans{\\x}}\n",
       "\\def\\transy{\\trans{\\y}}\n",
       "%\n",
       "\\def\\argmax#1{\\underset{#1} {\\operatorname{argmax}} }\n",
       "\\def\\argmin#1{\\underset{#1} {\\operatorname{argmin}} }\n",
       "\\def\\max#1{\\underset{#1} {\\operatorname{max}} }\n",
       "\\def\\min#1{\\underset{#1} {\\operatorname{min}} }\n",
       "%\n",
       "\\def\\pr#1{\\mathcal{p}(#1)}\n",
       "\\def\\prc#1#2{\\mathcal{p}(#1 \\; | \\; #2)}\n",
       "\\def\\cnt#1{\\mathcal{count}_{#1}}\n",
       "\\def\\node#1{\\mathbb{#1}}\n",
       "%\n",
       "\\newcommand{\\floor}[1]{\\left\\lfloor #1 \\right\\rfloor}\n",
       "\\newcommand{\\ceil}[1]{\\left\\lceil #1 \\right\\rceil}\n",
       "%\n",
       "\\def\\loc#1{{\\text{##} {#1}}}\n",
       "%\n",
       "$$\n"
      ],
      "text/plain": [
       "<IPython.core.display.Latex object>"
      ]
     },
     "metadata": {},
     "output_type": "display_data"
    }
   ],
   "source": [
    "%run Latex_macros.ipynb\n",
    "%run beautify_plots.py"
   ]
  },
  {
   "cell_type": "code",
   "execution_count": 2,
   "metadata": {
    "slideshow": {
     "slide_type": "notes"
    }
   },
   "outputs": [],
   "source": [
    "# My standard magic !  You will see this in almost all my notebooks.\n",
    "\n",
    "from IPython.core.interactiveshell import InteractiveShell\n",
    "InteractiveShell.ast_node_interactivity = \"all\"\n",
    "\n",
    "# Reload all modules imported with %aimport\n",
    "%load_ext autoreload\n",
    "%autoreload 1\n",
    "\n",
    "%matplotlib inline"
   ]
  },
  {
   "cell_type": "code",
   "execution_count": 3,
   "metadata": {
    "slideshow": {
     "slide_type": "notes"
    }
   },
   "outputs": [],
   "source": [
    "import numpy as np\n",
    "import os\n",
    "\n",
    "import matplotlib.pyplot as plt\n",
    "\n",
    "import class_helper\n",
    "%aimport class_helper\n",
    "\n",
    "import unsupervised_helper\n",
    "%aimport unsupervised_helper\n"
   ]
  },
  {
   "cell_type": "code",
   "execution_count": 4,
   "metadata": {
    "slideshow": {
     "slide_type": "notes"
    }
   },
   "outputs": [],
   "source": [
    "# Create files containing charts\n",
    "create = False\n",
    "\n",
    "if create:\n",
    "    pca_h = unsupervised_helper.PCA_Helper(visible=False)\n",
    "    file_map = pca_h.corr_features_charts()\n",
    "    print(file_map)"
   ]
  },
  {
   "cell_type": "markdown",
   "metadata": {
    "slideshow": {
     "slide_type": "slide"
    }
   },
   "source": [
    "# Correlated features\n",
    "Consider the following set of examples with $2$ features"
   ]
  },
  {
   "cell_type": "markdown",
   "metadata": {
    "slideshow": {
     "slide_type": "subslide"
    }
   },
   "source": [
    "<table>\n",
    "    <tr>\n",
    "        <th><center>Two features: perfect correlation</center></th>\n",
    "    </tr>\n",
    "    <tr>\n",
    "        <td><img src=\"images/features_perf_corr.png\"></td>\n",
    "    </tr>\n",
    "</table>\n"
   ]
  },
  {
   "cell_type": "markdown",
   "metadata": {
    "slideshow": {
     "slide_type": "subslide"
    }
   },
   "source": [
    "As you can see\n",
    "- $\\x_2$ is perfectly correlated with $\\x_1$\n",
    "$$\n",
    "\\x_2^\\ip = 2 * \\x_1^\\ip\n",
    "$$"
   ]
  },
  {
   "cell_type": "markdown",
   "metadata": {
    "slideshow": {
     "slide_type": "subslide"
    }
   },
   "source": [
    "**Linear algebra**\n",
    "\n",
    "A way to conceptualize $\\x^\\ip$\n",
    "- As a point in the space spanned by unit basis vectors parallel to the horizontal and vertical axes.\n",
    "$$\\begin{array}[lll]\\\\\n",
    "\\u_{(1)} = (1,0) \\\\\n",
    "\\u_{(2)} = (0,1) \\\\\n",
    "\\end{array}\n",
    "$$\n",
    "- With $\\x^\\ip$ having exposure \n",
    "\n",
    "$$\n",
    "\\begin{array}[lll]\\\\\n",
    "\\x^\\ip_1 \\text{ to } \\u_{(1)} \\\\\n",
    "\\x^\\ip_2 \\text{ to } \\u_{(2)} \\\\\n",
    "\\end{array}\n",
    "$$\n",
    "\n",
    "\n",
    "So example $\\x^\\ip$ is\n",
    "$$\n",
    "\\x^\\ip = \\sum_{j'=1}^2 { \\x^\\ip_{j'} * \\u_{(j')} }\n",
    "$$\n"
   ]
  },
  {
   "cell_type": "markdown",
   "metadata": {
    "slideshow": {
     "slide_type": "subslide"
    }
   },
   "source": [
    "That is:\n",
    "- Our feature space is defined by the basis vectors (\"axes\")\n",
    "$$\\begin{array}[lll]\\\\\n",
    "\\u_{(1)} = (1,0) \\\\\n",
    "\\u_{(2)} = (0,1) \\\\\n",
    "\\end{array}\n",
    "$$\n",
    "- $\\x^\\ip$ describes a point in the span of the basis vectors\n",
    "    - $\\x^\\ip_1$ is the displacement of observation $\\x^\\ip$ along basis vector $\\u_{(1)}$\n",
    "    - $\\x^\\ip_2$ is the displacement of observation $\\x^\\ip$ along basis vector $\\u_{(2)}$\n",
    "- In general, for any length $n$ vector of features\n",
    "$$\n",
    "\\x^\\ip = \\sum_{j'=1}^n { \\tilde\\x^\\ip_{j'} * \\u_{(j')} }\n",
    "$$"
   ]
  },
  {
   "cell_type": "markdown",
   "metadata": {
    "slideshow": {
     "slide_type": "subslide"
    }
   },
   "source": [
    "One could easily imagine a *different* set of basis vectors to describe the feature space\n",
    "- For example: a rotation of basis vectors $\\u_{(1)}, \\ldots,  \\u_{(n)}$\n",
    "- Let this alternate set of basis vectors be denoted by $\\tilde{\\v}_{(1)}, \\ldots, \\tilde{\\v}_{(n)}$\n",
    "- The basis vectors are mutually orthogonal\n",
    "$$\n",
    "\\tilde{\\v}_{(1)} \\cdot \\tilde{\\v}_{(2)} = 0\n",
    "$$\n",
    "- The displacements $\\x^\\ip_j$ need to be adjusted relative to the alternate basis\n",
    "\n",
    "$$\n",
    "\\x^\\ip = \\sum_{j'=1}^n { \\tilde\\x^\\ip_{j'} * \\tilde{\\v}_{(j')} }\n",
    "$$"
   ]
  },
  {
   "cell_type": "markdown",
   "metadata": {
    "slideshow": {
     "slide_type": "subslide"
    }
   },
   "source": [
    "PCA is a technique for finding particularly interesting alternate basis vectors.\n",
    "\n",
    "The alternate basis is motivated by the fact that, for a given set of examples, there may be\n",
    "pairwise correlation among features.\n",
    "\n",
    "- If the correlation is *perfect* for some pair of features, they are redundant\n",
    "    - May drop one feature\n"
   ]
  },
  {
   "cell_type": "markdown",
   "metadata": {
    "slideshow": {
     "slide_type": "subslide"
    }
   },
   "source": [
    "Consider the set of examples above.  Features 1 and 2 are perfectly correlated.\n",
    "$$\n",
    "\\x_2^\\ip = 2 * \\x_1^\\ip\n",
    "$$\n",
    "\n",
    "We can create an *alternate* basis vector (no longer parallel to the axes)\n",
    "$$\n",
    "\\tilde{\\v}_{(1)} = (1,2)\n",
    "$$\n",
    "\n",
    "such that example $\\x^\\ip$ is\n",
    "$$\n",
    "\\x^\\ip = \\tilde\\x^\\ip_1 * \\tilde{\\v}_{(1)}\n",
    "$$\n",
    "where $\\tilde\\x^\\ip_1 = \\x^\\ip_1$"
   ]
  },
  {
   "cell_type": "markdown",
   "metadata": {
    "slideshow": {
     "slide_type": "subslide"
    }
   },
   "source": [
    "That is, $\\x^\\ip$ has exposure $\\tilde\\x^\\ip_1$ to the new, single basis vector.\n",
    "\n",
    "So \n",
    "- Rather than representing $\\x^\\ip$ as a vector with 2 features (in the original basis)\n",
    "- We can represent it as $\\tilde\\x^\\ip$, a vector with 1 feature (in the new basis)\n",
    "\n",
    "This is the essence of dimensionality reduction\n",
    "- Changing bases to one with fewer basis vectors"
   ]
  },
  {
   "cell_type": "markdown",
   "metadata": {
    "slideshow": {
     "slide_type": "subslide"
    }
   },
   "source": [
    "It is rarely the case for features to be perfectly correlated\n",
    "\n",
    "Let's modify the set of examples just a bit."
   ]
  },
  {
   "cell_type": "markdown",
   "metadata": {
    "slideshow": {
     "slide_type": "subslide"
    }
   },
   "source": [
    "<table>\n",
    "    <tr>\n",
    "        <th><center>Two features: imperfect correlation</center></th>\n",
    "    </tr>\n",
    "    <tr>\n",
    "        <td><img src=\"images/features_imperf_corr.png\"></td>\n",
    "    </tr>\n",
    "</table>\n"
   ]
  },
  {
   "cell_type": "markdown",
   "metadata": {
    "slideshow": {
     "slide_type": "subslide"
    }
   },
   "source": [
    "We can still find an alternate basis of $2$ vectors to perfectly describe the set of examples.\n",
    "\n",
    "$$\n",
    "\\x^\\ip = \\sum_{j'=1}^2 { \\tilde\\x^\\ip_{j'} * \\tilde{\\v}_{(j')} }\n",
    "$$\n",
    "\n",
    "- The dark black line is the first alternate basis vector $\\tilde{\\v}_{(1)}$"
   ]
  },
  {
   "cell_type": "markdown",
   "metadata": {
    "slideshow": {
     "slide_type": "subslide"
    }
   },
   "source": [
    "<table>\n",
    "    <tr>\n",
    "        <th><center>Two features: imperfect correlation, alternate basis</center></th>\n",
    "    </tr>\n",
    "    <tr>\n",
    "        <td><img src=\"images/features_basis.png\"></td>\n",
    "    </tr>\n",
    "</table>\n"
   ]
  },
  {
   "cell_type": "markdown",
   "metadata": {
    "slideshow": {
     "slide_type": "subslide"
    }
   },
   "source": [
    "As you can see:\n",
    "- The variation along $\\tilde{\\v}_{(1)}$ is much greater than that around $\\tilde{\\v}_{(2)}$\n",
    "- Capturing the notion that the \"main\" relationship is along $\\tilde{\\u}_{(1)}$\n",
    "\n",
    "In fact, if we dropped $\\tilde{\\v}_{(2)}$ such that $|| \\tilde\\x || = 1$\n",
    "- The examples would be projected onto the line $\\tilde{\\v}_{(1)}$\n",
    "- With little information being lost"
   ]
  },
  {
   "cell_type": "markdown",
   "metadata": {
    "slideshow": {
     "slide_type": "subslide"
    }
   },
   "source": [
    "PCA finds alternate basis vectors and *orders them* in order of decreasing variation."
   ]
  },
  {
   "cell_type": "markdown",
   "metadata": {
    "slideshow": {
     "slide_type": "slide"
    }
   },
   "source": [
    "# Subsets of correlated features\n",
    "\n",
    "It may not be the case that a group of features is correlated across *all* examples\n",
    "\n",
    "Consider the MNIST digits\n",
    "- The subset of examples corresponding to the digit \"1\"\n",
    "- Have a particular set of correlated features (forming a vertical column of pixels near the middle of the image)\n",
    "- Which *may not* be correlated with the same features in examples corresponding to *other* digits"
   ]
  },
  {
   "cell_type": "markdown",
   "metadata": {
    "slideshow": {
     "slide_type": "slide"
    }
   },
   "source": [
    "Thus, a synthetic feature encodes a \"concept\" that occurs in many but not all examples\n",
    "\n",
    "We will present a method to *discover* \"concepts\"\n",
    "- It may not necessarily be the pattern of features that corresponds to an entire digit\n",
    "- It may be a partial pattern common to several digits\n",
    "    - Vertical band (0, 1, 4, 7)\n",
    "    - Horizontal band at top (5, 7, 9)"
   ]
  },
  {
   "cell_type": "code",
   "execution_count": 5,
   "metadata": {
    "slideshow": {
     "slide_type": "slide"
    }
   },
   "outputs": [
    {
     "name": "stdout",
     "output_type": "stream",
     "text": [
      "Done\n"
     ]
    }
   ],
   "source": [
    "print(\"Done\")"
   ]
  }
 ],
 "metadata": {
  "celltoolbar": "Slideshow",
  "kernelspec": {
   "display_name": "Python 3",
   "language": "python",
   "name": "python3"
  },
  "language_info": {
   "codemirror_mode": {
    "name": "ipython",
    "version": 3
   },
   "file_extension": ".py",
   "mimetype": "text/x-python",
   "name": "python",
   "nbconvert_exporter": "python",
   "pygments_lexer": "ipython3",
   "version": "3.7.4"
  },
  "toc": {
   "base_numbering": 1,
   "nav_menu": {},
   "number_sections": true,
   "sideBar": true,
   "skip_h1_title": false,
   "title_cell": "Table of Contents",
   "title_sidebar": "Contents",
   "toc_cell": false,
   "toc_position": {},
   "toc_section_display": true,
   "toc_window_display": false
  }
 },
 "nbformat": 4,
 "nbformat_minor": 2
}
