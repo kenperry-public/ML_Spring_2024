{
 "cells": [
  {
   "cell_type": "code",
   "execution_count": 1,
   "metadata": {
    "slideshow": {
     "slide_type": "notes"
    }
   },
   "outputs": [
    {
     "data": {
      "text/latex": [
       "$$\n",
       "\\newcommand{\\x}{\\mathbf{x}}\n",
       "\\newcommand{\\tx}{\\tilde{\\x}}\n",
       "\\newcommand{\\y}{\\mathbf{y}}\n",
       "\\newcommand{\\b}{\\mathbf{b}}\n",
       "\\newcommand{\\c}{\\mathbf{c}}\n",
       "\\newcommand{\\e}{\\mathbf{e}}\n",
       "\\newcommand{\\z}{\\mathbf{z}}\n",
       "\\newcommand{\\h}{\\mathbf{h}}\n",
       "\\newcommand{\\u}{\\mathbf{u}}\n",
       "\\newcommand{\\v}{\\mathbf{v}}\n",
       "\\newcommand{\\w}{\\mathbf{w}}\n",
       "\\newcommand{\\W}{\\mathbf{W}}\n",
       "\\newcommand{\\X}{\\mathbf{X}}\n",
       "\\newcommand{\\KL}{\\mathbf{KL}}\n",
       "\\newcommand{\\E}{{\\mathbb{E}}}\n",
       "\\newcommand{\\ip}{\\mathbf{{(i)}}}\n",
       "%\n",
       "% Test set\n",
       "\\newcommand{\\xt}{\\underline{\\x}}\n",
       "\\newcommand{\\yt}{\\underline{\\y}}\n",
       "\\newcommand{\\Xt}{\\underline{\\X}}\n",
       "\\newcommand{\\perfm}{\\mathcal{P}}\n",
       "%\n",
       "% \\ll indexes a layer; we can change the actual letter\n",
       "\\newcommand{\\ll}{l}\n",
       "\\newcommand{\\llp}{{(\\ll)}}\n",
       "%\n",
       "\\newcommand{Thetam}{\\Theta_{-0}}\n",
       "\n",
       "% CNN\n",
       "\\newcommand{\\kernel}{\\mathbf{k}} \n",
       "\\newcommand{\\dim}{d}\n",
       "%\n",
       "%\n",
       "% \\tt indexes a time step\n",
       "\\newcommand{\\tt}{t}\n",
       "\\newcommand{\\tp}{{(\\tt)}}\n",
       "%\n",
       "\\newcommand{\\loss}{\\mathcal{L}}\n",
       "\\newcommand{\\cost}{\\mathcal{L}}\n",
       "%\n",
       "%                     \n",
       "\\newcommand{\\pdata}{p_\\text{data}}\n",
       "\\newcommand{\\pmodel}{p_\\text{model}}\n",
       "%\n",
       "% SVM\n",
       "\\newcommand{\\margin}{{\\mathbb{m}}}\n",
       "\\newcommand{\\lmk}{\\boldsymbol{\\ell}}\n",
       "%\n",
       "% Functions with arguments\n",
       "\\def\\xsy#1#2{#1^#2}\n",
       "\\def\\rand#1{\\tilde{#1}}\n",
       "\\def\\randx{\\rand{\\x}}\n",
       "\\def\\randy{\\rand{\\y}}\n",
       "\\def\\trans#1{\\dot{#1}}\n",
       "\\def\\transx{\\trans{\\x}}\n",
       "\\def\\transy{\\trans{\\y}}\n",
       "%\n",
       "\\def\\argmax#1{\\underset{#1} {\\operatorname{argmax}} }\n",
       "\\def\\argmin#1{\\underset{#1} {\\operatorname{argmin}} }\n",
       "\\def\\max#1{\\underset{#1} {\\operatorname{max}} }\n",
       "\\def\\min#1{\\underset{#1} {\\operatorname{min}} }\n",
       "%\n",
       "\\def\\pr#1{\\mathcal{p}(#1)}\n",
       "\\def\\prc#1#2{\\mathcal{p}(#1 \\; | \\; #2)}\n",
       "\\def\\cnt#1{\\mathcal{count}_{#1}}\n",
       "\\def\\node#1{\\mathbb{#1}}\n",
       "%\n",
       "\\newcommand{\\floor}[1]{\\left\\lfloor #1 \\right\\rfloor}\n",
       "\\newcommand{\\ceil}[1]{\\left\\lceil #1 \\right\\rceil}\n",
       "%\n",
       "\\def\\loc#1{{\\text{##} {#1}}}\n",
       "%\n",
       "$$\n"
      ],
      "text/plain": [
       "<IPython.core.display.Latex object>"
      ]
     },
     "metadata": {},
     "output_type": "display_data"
    }
   ],
   "source": [
    "%run Latex_macros.ipynb"
   ]
  },
  {
   "cell_type": "markdown",
   "metadata": {
    "slideshow": {
     "slide_type": "slide"
    }
   },
   "source": [
    "# Long sequences in TensorFlow/Keras\n",
    "\n",
    "Dealing with something as \"simple\" as sequences can be surprisingly difficult in TensorFlow/Keras.\n",
    "- One is required to manually break up long sequences into multiple, shorter subsequences\n",
    "- The ordering of the examples in a mini-batch now becomes relevant\n"
   ]
  },
  {
   "cell_type": "markdown",
   "metadata": {
    "slideshow": {
     "slide_type": "subslide"
    }
   },
   "source": [
    "Consider a long sequence $\\x^\\ip$ of length $T$.\n",
    "\n",
    "The \"natural\" way to represent this $\\X$ is"
   ]
  },
  {
   "cell_type": "markdown",
   "metadata": {
    "slideshow": {
     "slide_type": "subslide"
    }
   },
   "source": [
    "$$\n",
    "\\X = \n",
    "\\begin{pmatrix}\n",
    "\\x^{(1)}_{(1)} & \\x^{(1)}_{(2)} & \\ldots & \\x^{(1)}_{(T^{(1)})} \\\\\n",
    "\\x^{(2)}_{(1)} & \\x^{(2)}_{(2)} & \\ldots & \\x^{(2)}_{(T^{(2)})} \\\\\n",
    "\\vdots\n",
    "\\end{pmatrix}\n",
    "$$\n",
    "\n",
    "for equal example sequence lengths $T = T^{(1)} = T^{(2)} \\ldots$"
   ]
  },
  {
   "cell_type": "markdown",
   "metadata": {
    "slideshow": {
     "slide_type": "subslide"
    }
   },
   "source": [
    "Suppose that the example  sequence lengths $T$ is too long (e.g., exhausts resources)\n",
    "\n",
    "In that case, each example needs to be broken into *multiple* \"child-examples\" of shorter length $T'$.\n",
    "\n",
    "There will be $T/T'$ such child examples, each having a subsequence of length $T'$ of the parent example's sequence."
   ]
  },
  {
   "cell_type": "markdown",
   "metadata": {
    "slideshow": {
     "slide_type": "subslide"
    }
   },
   "source": [
    "We write $\\x^{(i, \\alpha)}$ to denote child example  number $\\alpha$ of parent examples $i$.\n",
    "- The elements of  $\\x^{(i,\\alpha)}_\\tp$ are $[ \\; \\x^\\ip_\\tp \\, | \\,  ( (\\alpha-1) * T/T')+1 \\le \\tt \\le (\\alpha * T/T') \\; ]$.\n",
    "- The subsequence $\\x^{(i,\\alpha +1)}_\\tp$ starts right after the end of subsequence $\\x^{(i,\\alpha)}_\\tp$"
   ]
  },
  {
   "cell_type": "markdown",
   "metadata": {
    "slideshow": {
     "slide_type": "subslide"
    }
   },
   "source": [
    "**Great care** must be taken when arranging child examples into a new training set $\\X'$.\n",
    "\n",
    "This is because of the relationship between examples that TensorFlow implements (as of the time of this writing)"
   ]
  },
  {
   "cell_type": "markdown",
   "metadata": {
    "slideshow": {
     "slide_type": "subslide"
    }
   },
   "source": [
    "- Examples *within* a mini batch are considered independent\n",
    "    - May be evaluated in parallel\n",
    "    - So *not* suitable to place two children of the same parent in the same mini batch\n",
    "- Example $i$ of consecutive mini-batches *can* be made dependent\n",
    "    - With an optional flag\n"
   ]
  },
  {
   "cell_type": "markdown",
   "metadata": {
    "slideshow": {
     "slide_type": "subslide"
    }
   },
   "source": [
    "To get adjacent subsequences of one sequence to be treated in the proper order by TensorFlow:\n",
    "- Define the number of mini batches to be $T/T'$, which is the number of subsequences\n",
    "- Each subsequence of example $i$ should be at the *same position* within each of the $n/n'$ mini batches\n",
    "- Set RNN optional parameter `stateful=True`\n",
    "- When fitting the model: set `shuffle=False`"
   ]
  },
  {
   "cell_type": "markdown",
   "metadata": {
    "slideshow": {
     "slide_type": "subslide"
    }
   },
   "source": [
    "Perhaps a picture will help.\n",
    "\n",
    "Minibatches are divided *horizontally* (across time) as well as *vertically* (across examples)"
   ]
  },
  {
   "cell_type": "markdown",
   "metadata": {
    "slideshow": {
     "slide_type": "subslide"
    }
   },
   "source": [
    "$$\n",
    "\\text{Minibatch 1} = \n",
    "\\begin{pmatrix}\n",
    "\\x^{(1)}_{(1)} & \\x^{(1)}_{(2)} & \\ldots & \\x^{(1)}_{(T')} \\\\\n",
    "\\x^{(2)}_{(1)} & \\x^{(2)}_{(2)} & \\ldots & \\x^{(2)}_{(T')} \\\\\n",
    "\\vdots\n",
    "\\end{pmatrix} \\,\\,\\,\\,\n",
    "\\text{Minibatch 2} = \n",
    "\\begin{pmatrix}\n",
    "\\x^{(1)}_{(T' +1)} & \\x^{(1)}_{(T' +2)} & \\ldots & \\x^{(1)}_{(T' +T')} \\\\\n",
    "\\x^{(2)}_{(T' +1)} & \\x^{(2)}_{(T' +2)} & \\ldots & \\x^{(2)}_{(T' +T')} \\\\\n",
    "\\vdots\n",
    "\\end{pmatrix}\n",
    "$$\n",
    "rather than\n",
    "$$\n",
    "\\X = \n",
    "\\begin{pmatrix}\n",
    "\\x^{(1)}_{(1)} & \\x^{(1)}_{(2)} & \\ldots & \\x^{(1)}_{(T^{(1)})} \\\\\n",
    "\\x^{(2)}_{(1)} & \\x^{(2)}_{(2)} & \\ldots & \\x^{(2)}_{(T^{(2)})} \\\\\n",
    "\\vdots\n",
    "\\end{pmatrix}\n",
    "$$"
   ]
  },
  {
   "cell_type": "markdown",
   "metadata": {
    "slideshow": {
     "slide_type": "subslide"
    }
   },
   "source": [
    "Thus, row $i$ of mini batch $b$ corresponds to child $\\alpha$ of parent example $i$"
   ]
  },
  {
   "cell_type": "markdown",
   "metadata": {
    "slideshow": {
     "slide_type": "subslide"
    }
   },
   "source": [
    "Why does this work ?\n",
    "\n",
    "The flag\n",
    "`stateful=True`\n",
    "- Tells TensorFlow to **not** reset the latent state of the RNN at the start of a new mini batch\n",
    "    - When examples across batches are *independent*, the RNN should begin from step $1$\n",
    "    - And therefore re-initialize the latent state"
   ]
  },
  {
   "cell_type": "markdown",
   "metadata": {
    "slideshow": {
     "slide_type": "subslide"
    }
   },
   "source": [
    "By arranging the mini batches as we have\n",
    "- The latent state of the RNN when processing child $(\\alpha+1)$ of example $i$\n",
    "- Is the latent state of the RNN after having process the subsequence of child $\\alpha$ of example $i$"
   ]
  },
  {
   "cell_type": "markdown",
   "metadata": {
    "slideshow": {
     "slide_type": "subslide"
    }
   },
   "source": [
    "The flag `shuffle=False`\n",
    "- Tells TensorFlow to **not** shuffle the examples in the mini batches\n",
    "- In order to preserve the fact that row $i$ of each mini batch is a different child of the same parent\n"
   ]
  },
  {
   "cell_type": "markdown",
   "metadata": {
    "slideshow": {
     "slide_type": "slide"
    }
   },
   "source": [
    "# Conclusion\n",
    "\n",
    "Long sequences present some technical issues in Keras and other frameworks.\n",
    "\n",
    "We recognize that mitigating the issues was a highly technical topic that might take some effort to absorb.\n",
    "\n",
    "We hope that, eventually, a better API might alleviate the burden for the end user.\n"
   ]
  },
  {
   "cell_type": "code",
   "execution_count": 3,
   "metadata": {
    "slideshow": {
     "slide_type": "slide"
    }
   },
   "outputs": [
    {
     "name": "stdout",
     "output_type": "stream",
     "text": [
      "Done\n"
     ]
    }
   ],
   "source": [
    "print(\"Done\")"
   ]
  }
 ],
 "metadata": {
  "celltoolbar": "Slideshow",
  "kernelspec": {
   "display_name": "Python 3",
   "language": "python",
   "name": "python3"
  },
  "language_info": {
   "codemirror_mode": {
    "name": "ipython",
    "version": 3
   },
   "file_extension": ".py",
   "mimetype": "text/x-python",
   "name": "python",
   "nbconvert_exporter": "python",
   "pygments_lexer": "ipython3",
   "version": "3.7.4"
  },
  "toc": {
   "base_numbering": 1,
   "nav_menu": {},
   "number_sections": true,
   "sideBar": true,
   "skip_h1_title": false,
   "title_cell": "Table of Contents",
   "title_sidebar": "Contents",
   "toc_cell": false,
   "toc_position": {
    "height": "calc(100% - 180px)",
    "left": "10px",
    "top": "150px",
    "width": "370.594px"
   },
   "toc_section_display": true,
   "toc_window_display": false
  }
 },
 "nbformat": 4,
 "nbformat_minor": 2
}
