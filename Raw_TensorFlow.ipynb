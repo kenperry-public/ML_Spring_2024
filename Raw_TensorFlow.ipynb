{
 "cells": [
  {
   "cell_type": "code",
   "execution_count": 1,
   "metadata": {
    "colab": {
     "base_uri": "https://localhost:8080/",
     "height": 34
    },
    "colab_type": "code",
    "id": "gGyVWMqqPWh_",
    "outputId": "ff9fe528-29bb-4fed-e18a-c7ec41c499d1"
   },
   "outputs": [
    {
     "name": "stdout",
     "output_type": "stream",
     "text": [
      "We're running Colab\n"
     ]
    }
   ],
   "source": [
    "try:\n",
    "  from google.colab import drive\n",
    "  IN_COLAB=True\n",
    "except:\n",
    "  IN_COLAB=False\n",
    "\n",
    "if IN_COLAB:\n",
    "  print(\"We're running Colab\")"
   ]
  },
  {
   "cell_type": "code",
   "execution_count": 2,
   "metadata": {
    "colab": {
     "base_uri": "https://localhost:8080/",
     "height": 34
    },
    "colab_type": "code",
    "id": "Gavi_pARVy4w",
    "outputId": "95640a67-5b8f-43f7-cd5f-bc2aacc1f2cc"
   },
   "outputs": [
    {
     "name": "stdout",
     "output_type": "stream",
     "text": [
      "TensorFlow 1.x selected.\n"
     ]
    }
   ],
   "source": [
    "# Show behavior in Tensorflow 1 (i.e.,  NO eager execution)\n",
    "%tensorflow_version 1.x"
   ]
  },
  {
   "cell_type": "code",
   "execution_count": 3,
   "metadata": {
    "colab": {
     "base_uri": "https://localhost:8080/",
     "height": 34
    },
    "colab_type": "code",
    "id": "pj1uBF8Yv8Wc",
    "outputId": "b835935b-7572-4af9-e543-ff07c8b6268c"
   },
   "outputs": [
    {
     "name": "stdout",
     "output_type": "stream",
     "text": [
      "Running TensorFlow version  1.15.2\n"
     ]
    }
   ],
   "source": [
    "import tensorflow as tf\n",
    "\n",
    "print(\"Running TensorFlow version \",tf.__version__)"
   ]
  },
  {
   "cell_type": "code",
   "execution_count": 4,
   "metadata": {
    "colab": {
     "base_uri": "https://localhost:8080/",
     "height": 34
    },
    "colab_type": "code",
    "id": "CazoIC8YTjm1",
    "outputId": "2e3bce2d-0770-41fb-f061-9ef8ce49d9a7"
   },
   "outputs": [
    {
     "name": "stdout",
     "output_type": "stream",
     "text": [
      "Version 1, minor 15\n"
     ]
    }
   ],
   "source": [
    "# Parse tensorflow version\n",
    "import re\n",
    "\n",
    "version_match = re.match(\"([0-9]+)\\.([0-9]+)\", tf.__version__)\n",
    "tf_major, tf_minor = int(version_match.group(1)) , int(version_match.group(2))\n",
    "print(\"Version {v:d}, minor {m:d}\".format(v=tf_major, m=tf_minor) )"
   ]
  },
  {
   "cell_type": "markdown",
   "metadata": {
    "colab_type": "text",
    "id": "0gPB8QwD7hAk"
   },
   "source": [
    "# We will explain \"eager execution\" shortly"
   ]
  },
  {
   "cell_type": "code",
   "execution_count": 0,
   "metadata": {
    "colab": {},
    "colab_type": "code",
    "id": "b-BS0QYm6jLO"
   },
   "outputs": [],
   "source": [
    "def show_eager(set_eager=None):\n",
    "  if set_eager is not None:\n",
    "    if set_eager:\n",
    "      tf.enable_eager_execution()\n",
    "    else:\n",
    "      tf.disable_eager_execution()\n",
    "      \n",
    "  eager_status=\"ARE\" if tf.executing_eagerly() else \"ARE NOT\"\n",
    "  print(\"We {status:s} using TensorFlow eager execution\".format(status=eager_status))\n"
   ]
  },
  {
   "cell_type": "code",
   "execution_count": 6,
   "metadata": {
    "colab": {
     "base_uri": "https://localhost:8080/",
     "height": 34
    },
    "colab_type": "code",
    "id": "jmgQ1WDc7_l0",
    "outputId": "903c30e1-2c6b-49c9-8ab6-1f40d2fa7000"
   },
   "outputs": [
    {
     "name": "stdout",
     "output_type": "stream",
     "text": [
      "We ARE NOT using TensorFlow eager execution\n"
     ]
    }
   ],
   "source": [
    "show_eager()"
   ]
  },
  {
   "cell_type": "code",
   "execution_count": 7,
   "metadata": {
    "colab": {
     "base_uri": "https://localhost:8080/",
     "height": 51
    },
    "colab_type": "code",
    "id": "kU4L34gI8-R4",
    "outputId": "2d62c139-8bb0-4da9-f1e7-3d36b7ff64f2"
   },
   "outputs": [
    {
     "name": "stdout",
     "output_type": "stream",
     "text": [
      "Tensor(\"Add:0\", shape=(), dtype=int32)\n",
      "c value: 3\n"
     ]
    }
   ],
   "source": [
    "a = tf.Variable(2)\n",
    "b = tf.Variable(1)\n",
    "c= tf.add(a,b)\n",
    "\n",
    "print(c)\n",
    "\n",
    "init = tf.global_variables_initializer()\n",
    "with tf.Session() as sess:\n",
    "  init.run()\n",
    " \n",
    "  c_value = sess.run(c)\n",
    "  print(\"c value:\", c_value)"
   ]
  },
  {
   "cell_type": "code",
   "execution_count": 8,
   "metadata": {
    "colab": {
     "base_uri": "https://localhost:8080/",
     "height": 34
    },
    "colab_type": "code",
    "id": "Z6nzbpGK_Ztl",
    "outputId": "3ef66a19-2f37-40fb-bf29-88feff091b4c"
   },
   "outputs": [
    {
     "data": {
      "text/plain": [
       "<function tensorflow.python.framework.ops.disable_eager_execution>"
      ]
     },
     "execution_count": 8,
     "metadata": {
      "tags": []
     },
     "output_type": "execute_result"
    }
   ],
   "source": [
    "tf.disable_eager_execution"
   ]
  },
  {
   "cell_type": "code",
   "execution_count": 9,
   "metadata": {
    "colab": {
     "base_uri": "https://localhost:8080/",
     "height": 34
    },
    "colab_type": "code",
    "id": "RDIvIfIHv_L3",
    "outputId": "d8de881b-091b-4244-8fbb-25f0c7607d69"
   },
   "outputs": [
    {
     "name": "stdout",
     "output_type": "stream",
     "text": [
      "Tensor(\"add_1:0\", shape=(), dtype=int32)\n"
     ]
    }
   ],
   "source": [
    "a = tf.Variable(1)\n",
    "b = tf.Variable(2)\n",
    "c = a + b\n",
    "\n",
    "print(c)\n"
   ]
  },
  {
   "cell_type": "code",
   "execution_count": 10,
   "metadata": {
    "colab": {
     "base_uri": "https://localhost:8080/",
     "height": 34
    },
    "colab_type": "code",
    "id": "nJ0g8X2qwKfO",
    "outputId": "55239ea2-09a3-4e35-96ec-378d63b5e7b0"
   },
   "outputs": [
    {
     "name": "stdout",
     "output_type": "stream",
     "text": [
      "a (1.00) + b (2.00) = 3.00\n"
     ]
    }
   ],
   "source": [
    "init = tf.global_variables_initializer()\n",
    "\n",
    "with tf.Session() as sess:\n",
    "  # Without initialization, Variables a,b won't be assigned\n",
    "  init.run()\n",
    "  \n",
    "  a_value, b_value, c_value = sess.run([a,b,c])\n",
    "  print(\"a ({a:3.2f}) + b ({b:3.2f}) = {c:3.2f}\".format(a=a_value, b=b_value, c=c_value) )"
   ]
  },
  {
   "cell_type": "code",
   "execution_count": 11,
   "metadata": {
    "colab": {
     "base_uri": "https://localhost:8080/",
     "height": 34
    },
    "colab_type": "code",
    "id": "PeIdbOPvxpJr",
    "outputId": "5f91c94c-2832-4245-a700-d6121eb1ab5f"
   },
   "outputs": [
    {
     "name": "stdout",
     "output_type": "stream",
     "text": [
      "Tensor(\"add_2:0\", dtype=float32)\n"
     ]
    }
   ],
   "source": [
    "d = tf.placeholder(tf.float32,  name=\"d\")\n",
    "e = tf.placeholder(tf.float32,  name=\"d\")\n",
    "\n",
    "f= d + e\n",
    "print(f)\n",
    "\n"
   ]
  },
  {
   "cell_type": "code",
   "execution_count": 12,
   "metadata": {
    "colab": {
     "base_uri": "https://localhost:8080/",
     "height": 51
    },
    "colab_type": "code",
    "id": "NqjV1_aY4wAH",
    "outputId": "a45f3ebd-79d4-45d1-ef8f-2a6f8b6b9b6f"
   },
   "outputs": [
    {
     "name": "stdout",
     "output_type": "stream",
     "text": [
      "a (1.00) + b (2.00) = 3.00\n",
      "d (10.00) + e (20.00) = 30.00\n"
     ]
    }
   ],
   "source": [
    "init = tf.global_variables_initializer()\n",
    "\n",
    "with tf.Session() as sess:\n",
    "  # Without initialization, Variables a,b won't be assigned\n",
    "  init.run()\n",
    "  \n",
    "  # All previous nodes (a,b, c) still exist in the default graph\n",
    "  a_value, b_value, c_value = sess.run([a,b,c])\n",
    "  print(\"a ({a:3.2f}) + b ({b:3.2f}) = {c:3.2f}\".format(a=a_value, b=b_value, c=c_value) )\n",
    "  \n",
    "  # d,e are now placeholders: formal parameters whose value must be passed in on the call using the \"feed_dict\"\n",
    "  d_value, e_value, f_value = sess.run([d,e,f], feed_dict={ d:10, e:20})\n",
    "  print(\"d ({d:3.2f}) + e ({e:3.2f}) = {f:3.2f}\".format(d=d_value, e=e_value, f=f_value) )"
   ]
  },
  {
   "cell_type": "markdown",
   "metadata": {
    "colab_type": "text",
    "id": "ROxvm7vv70mo"
   },
   "source": [
    "# Eager execution"
   ]
  },
  {
   "cell_type": "markdown",
   "metadata": {
    "colab_type": "text",
    "id": "9YHgEi5M8qBO"
   },
   "source": [
    "[Eager execution](https://www.tensorflow.org/guide/eager) makes TensorFlow behave more like a familiar imperative language:\n",
    "- no need to create a session\n",
    "- all expressions are immediately evaluated"
   ]
  },
  {
   "cell_type": "code",
   "execution_count": 13,
   "metadata": {
    "colab": {
     "base_uri": "https://localhost:8080/",
     "height": 34
    },
    "colab_type": "code",
    "id": "ycM5hBo973Wk",
    "outputId": "6896da64-1750-4e0b-cf78-4710c799ec71"
   },
   "outputs": [
    {
     "name": "stdout",
     "output_type": "stream",
     "text": [
      "We ARE using TensorFlow eager execution\n"
     ]
    }
   ],
   "source": [
    "# Really should turn eager on at the very start, to avoid confusion.  At the least, reset the default graph\n",
    "tf.reset_default_graph()\n",
    "\n",
    "show_eager(set_eager=True)"
   ]
  },
  {
   "cell_type": "markdown",
   "metadata": {
    "colab_type": "text",
    "id": "Q609Wzyp8izC"
   },
   "source": [
    "Compared to non-eager execution, c has been evaluated\n",
    "\n",
    "(It is still a Tensor, but notice it has a value)"
   ]
  },
  {
   "cell_type": "code",
   "execution_count": 14,
   "metadata": {
    "colab": {
     "base_uri": "https://localhost:8080/",
     "height": 68
    },
    "colab_type": "code",
    "id": "WMZm4TFr8ZIM",
    "outputId": "3ccd4992-2a53-48d2-c29f-b456b6f7c47c"
   },
   "outputs": [
    {
     "name": "stdout",
     "output_type": "stream",
     "text": [
      "tf.Tensor(3, shape=(), dtype=int32)\n",
      "Type of c:  <class 'tensorflow.python.framework.ops.EagerTensor'>\n",
      "c = 3.00\n"
     ]
    }
   ],
   "source": [
    "a = tf.constant(1)\n",
    "b = tf.constant(2)\n",
    "c = a + b\n",
    "\n",
    "print(c)\n",
    "\n",
    "# Note the automatic conversion of EagerTensor in format\n",
    "print(\"Type of c: \", type(c))\n",
    "print(\"c = {c:3.2f}\".format(c=c))\n"
   ]
  }
 ],
 "metadata": {
  "colab": {
   "name": "Raw_TensorFlow.ipynb",
   "provenance": []
  },
  "kernelspec": {
   "display_name": "Python 3",
   "language": "python",
   "name": "python3"
  },
  "language_info": {
   "codemirror_mode": {
    "name": "ipython",
    "version": 3
   },
   "file_extension": ".py",
   "mimetype": "text/x-python",
   "name": "python",
   "nbconvert_exporter": "python",
   "pygments_lexer": "ipython3",
   "version": "3.7.4"
  },
  "toc": {
   "base_numbering": 1,
   "nav_menu": {},
   "number_sections": true,
   "sideBar": true,
   "skip_h1_title": false,
   "title_cell": "Table of Contents",
   "title_sidebar": "Contents",
   "toc_cell": false,
   "toc_position": {},
   "toc_section_display": true,
   "toc_window_display": false
  }
 },
 "nbformat": 4,
 "nbformat_minor": 1
}
