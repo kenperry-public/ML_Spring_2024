{
 "cells": [
  {
   "cell_type": "code",
   "execution_count": 1,
   "metadata": {
    "slideshow": {
     "slide_type": "notes"
    }
   },
   "outputs": [
    {
     "data": {
      "text/latex": [
       "$$\n",
       "\\newcommand{\\x}{\\mathbf{x}}\n",
       "\\newcommand{\\tx}{\\tilde{\\x}}\n",
       "\\newcommand{\\y}{\\mathbf{y}}\n",
       "\\newcommand{\\b}{\\mathbf{b}}\n",
       "\\newcommand{\\c}{\\mathbf{c}}\n",
       "\\newcommand{\\e}{\\mathbf{e}}\n",
       "\\newcommand{\\z}{\\mathbf{z}}\n",
       "\\newcommand{\\h}{\\mathbf{h}}\n",
       "\\newcommand{\\u}{\\mathbf{u}}\n",
       "\\newcommand{\\v}{\\mathbf{v}}\n",
       "\\newcommand{\\w}{\\mathbf{w}}\n",
       "\\newcommand{\\V}{\\mathbf{V}}\n",
       "\\newcommand{\\W}{\\mathbf{W}}\n",
       "\\newcommand{\\X}{\\mathbf{X}}\n",
       "\\newcommand{\\KL}{\\mathbf{KL}}\n",
       "\\newcommand{\\E}{{\\mathbb{E}}}\n",
       "\\newcommand{\\Reals}{{\\mathbb{R}}}\n",
       "\\newcommand{\\ip}{\\mathbf{{(i)}}}\n",
       "%\n",
       "% Test set\n",
       "\\newcommand{\\xt}{\\underline{\\x}}\n",
       "\\newcommand{\\yt}{\\underline{\\y}}\n",
       "\\newcommand{\\Xt}{\\underline{\\X}}\n",
       "\\newcommand{\\perfm}{\\mathcal{P}}\n",
       "%\n",
       "% \\ll indexes a layer; we can change the actual letter\n",
       "\\newcommand{\\ll}{l}\n",
       "\\newcommand{\\llp}{{(\\ll)}}\n",
       "%\n",
       "\\newcommand{Thetam}{\\Theta_{-0}}\n",
       "\n",
       "% CNN\n",
       "\\newcommand{\\kernel}{\\mathbf{k}} \n",
       "\\newcommand{\\dim}{d}\n",
       "\\newcommand{\\idxspatial}{{\\text{idx}}}\n",
       "\\newcommand{\\summaxact}{\\text{max}}\n",
       "%\n",
       "%\n",
       "\n",
       "% RNN\n",
       "% \\tt indexes a time step\n",
       "\\newcommand{\\tt}{t}\n",
       "\\newcommand{\\tp}{{(\\tt)}}\n",
       "%\n",
       "%\n",
       "\n",
       "% LSTM\n",
       "\\newcommand{\\g}{\\mathbf{g}}\n",
       "\\newcommand{\\remember}{\\mathbf{remember}}\n",
       "\\newcommand{\\save}{\\mathbf{save}}\n",
       "\\newcommand{\\focus}{\\mathbf{focus}}\n",
       "%\n",
       "%\n",
       "% NLP\n",
       "\\newcommand{\\Vocab}{\\mathbf{V}}\n",
       "\\newcommand{\\v}{\\mathbf{v}}\n",
       "\\newcommand{\\offset}{o}\n",
       "\\newcommand{\\o}{o}\n",
       "\\newcommand{\\Emb}{\\mathbf{E}}\n",
       "%\n",
       "%\n",
       "\\newcommand{\\loss}{\\mathcal{L}}\n",
       "\\newcommand{\\cost}{\\mathcal{L}}\n",
       "%\n",
       "%                     \n",
       "\\newcommand{\\pdata}{p_\\text{data}}\n",
       "\\newcommand{\\pmodel}{p_\\text{model}}\n",
       "%\n",
       "% SVM\n",
       "\\newcommand{\\margin}{{\\mathbb{m}}}\n",
       "\\newcommand{\\lmk}{\\boldsymbol{\\ell}}\n",
       "%\n",
       "% Functions with arguments\n",
       "\\def\\xsy#1#2{#1^#2}\n",
       "\\def\\rand#1{\\tilde{#1}}\n",
       "\\def\\randx{\\rand{\\x}}\n",
       "\\def\\randy{\\rand{\\y}}\n",
       "\\def\\trans#1{\\dot{#1}}\n",
       "\\def\\transx{\\trans{\\x}}\n",
       "\\def\\transy{\\trans{\\y}}\n",
       "%\n",
       "\\def\\argmax#1{\\underset{#1} {\\operatorname{argmax}} }\n",
       "\\def\\argmin#1{\\underset{#1} {\\operatorname{argmin}} }\n",
       "\\def\\max#1{\\underset{#1} {\\operatorname{max}} }\n",
       "\\def\\min#1{\\underset{#1} {\\operatorname{min}} }\n",
       "%\n",
       "\\def\\pr#1{\\mathcal{p}(#1)}\n",
       "\\def\\prc#1#2{\\mathcal{p}(#1 \\; | \\; #2)}\n",
       "\\def\\cnt#1{\\mathcal{count}_{#1}}\n",
       "\\def\\node#1{\\mathbb{#1}}\n",
       "%\n",
       "\\def\\loc#1{{\\text{##} {#1}}}\n",
       "%\n",
       "\\def\\OrderOf#1{\\mathcal{O}\\left( #1 \\right)}\n",
       "%\n",
       "% Expectation operator\n",
       "\\def\\Exp#1{\\underset{#1} {\\operatorname{\\mathbb{E}}} }\n",
       "%\n",
       "% Reinforcement learning\n",
       "\\newcommand{\\Actions}{{\\mathcal{A}}} \n",
       "\\newcommand{\\actseq}{A}\n",
       "\\newcommand{\\act}{a}\n",
       "\\newcommand{\\States}{{\\mathcal{S}}}   \n",
       "\\newcommand{\\stateseq}{S}  \n",
       "\\newcommand{\\state}{s}\n",
       "\\newcommand{\\Rewards}{{\\mathcal{R}}}\n",
       "\\newcommand{\\rewseq}{R}\n",
       "\\newcommand{\\rew}{r}\n",
       "\\newcommand{\\transp}{P}\n",
       "\\newcommand{\\statevalfun}{v}\n",
       "\\newcommand{\\actvalfun}{q}\n",
       "\\newcommand{\\disc}{\\gamma}\n",
       "%\n",
       "%\n",
       "\\newcommand{\\floor}[1]{\\left\\lfloor #1 \\right\\rfloor}\n",
       "\\newcommand{\\ceil}[1]{\\left\\lceil #1 \\right\\rceil}\n",
       "%\n",
       "%\n",
       "$$\n"
      ],
      "text/plain": [
       "<IPython.core.display.Latex object>"
      ]
     },
     "metadata": {},
     "output_type": "display_data"
    }
   ],
   "source": [
    "%run Latex_macros.ipynb"
   ]
  },
  {
   "cell_type": "markdown",
   "metadata": {
    "slideshow": {
     "slide_type": "slide"
    }
   },
   "source": [
    "# Warning: Higher dimensions ahead !"
   ]
  },
  {
   "cell_type": "markdown",
   "metadata": {},
   "source": [
    "A Fully Connected/Dense layer is insensitive to the order of features.\n",
    "\n",
    "This is just a property of the dot product\n",
    "$$\n",
    "\\Theta^T \\cdot \\x =  \\Theta[ \\text{perm} ]^T \\cdot \\x[ \\text{perm} ] \n",
    "$$\n",
    "\n",
    "where  $\\Theta[ \\text{perm} ]^T$ and $\\x[ \\text{perm} ]$ are permutations of $\\Theta, \\x$.\n",
    "\n",
    "\n",
    "\n",
    "$$\n",
    "\\begin{matrix}\n",
    "\\sum{\n",
    "\\begin{cases}\n",
    "\\text{Machine} & \\text{Learning} & \\text{is} & \\text{easy} & \\text{not} & \\text{hard} \\\\\n",
    "\\cdot & \\cdot & \\cdot & \\cdot & \\cdot & \\cdot \\\\\n",
    "\\Theta_\\text{Machine} & \\Theta_\\text{Learning} & \\Theta_\\text{is} & \\Theta_\\text{easy} & \\Theta_\\text{not} & \\Theta_\\text{hard} \\\\\n",
    "\\end{cases}\n",
    "}\n",
    "\\\\\n",
    "= \\\\\n",
    "\\sum{\n",
    "\\begin{cases}\n",
    "\\text{Machine} & \\text{Learning} & \\text{is} & \\text{hard}& \\text{not} & \\text{easy}  \\\\\n",
    "\\cdot & \\cdot & \\cdot & \\cdot & \\cdot & \\cdot \\\\\n",
    "\\Theta_\\text{Machine} & \\Theta_\\text{Learning} & \\Theta_\\text{is} & \\Theta_\\text{hard}& \\Theta_\\text{not} & \\Theta_\\text{easy} \\\\\n",
    "\\end{cases}\n",
    "}\n",
    "\\end{matrix}\n",
    "$$"
   ]
  },
  {
   "cell_type": "markdown",
   "metadata": {
    "slideshow": {
     "slide_type": "subslide"
    }
   },
   "source": [
    "But there are many problems in which order is important.\n",
    "\n",
    "Consider the following examples"
   ]
  },
  {
   "cell_type": "markdown",
   "metadata": {
    "slideshow": {
     "slide_type": "subslide"
    }
   },
   "source": [
    "\n",
    "<table>\n",
    "    <tr>\n",
    "        <th><center>Same prices</center></th>\n",
    "    </tr>\n",
    "    <tr>\n",
    "        <td><img src=\"images/RNN_sequence_1.jpg\" width=800></td>\n",
    "    </tr>\n",
    "</table>"
   ]
  },
  {
   "cell_type": "markdown",
   "metadata": {
    "slideshow": {
     "slide_type": "subslide"
    }
   },
   "source": [
    "<center>Same words</center>\n",
    "$$\n",
    "\\begin{matrix}\n",
    "\\text{Machine} & \\text{Learning} & \\text{is} & \\text{easy} & \\text{not} & \\text{difficult} \\\\\n",
    "\\text{Machine} & \\text{Learning} & \\text{is} & \\text{difficult} & \\text{not} & \\text{easy} \\\\\n",
    "\\end{matrix}\n",
    "$$"
   ]
  },
  {
   "cell_type": "markdown",
   "metadata": {
    "slideshow": {
     "slide_type": "subslide"
    }
   },
   "source": [
    "\n",
    "<table>\n",
    "    <tr>\n",
    "        <th><center>Same pixels</center></th>\n",
    "    </tr>\n",
    "    <tr>\n",
    "        <td><img src=\"images/RNN_sequence_2.jpg\" width=800></td>\n",
    "    </tr>\n",
    "</table>"
   ]
  },
  {
   "cell_type": "markdown",
   "metadata": {
    "slideshow": {
     "slide_type": "subslide"
    }
   },
   "source": [
    "In this lecture, we will be dealing with examples that are *sequences*.\n",
    "\n",
    "That is, we will add a new dimension to each example which we will call the\n",
    "- *positional* dimension\n",
    "\n",
    "and we will denote $\\x_\\tp$ as position $\\tt$ in sequence $\\x$.\n",
    "\n",
    "Often, the position is equated with time.  In such cases we can also refer to the positional dimension as\n",
    "the *temporal* dimension*."
   ]
  },
  {
   "cell_type": "markdown",
   "metadata": {
    "slideshow": {
     "slide_type": "subslide"
    }
   },
   "source": [
    "To make this concrete, consider a movie\n",
    "- A movie is a sequence of snapshots\n",
    "- Frame $\\tt$ of the movie corresponds to position $\\tt$ of the sequence.\n",
    "\n",
    "Note the the snapshot has it's usual dimensions\n",
    "- spatial dimensions\n",
    "- feature dimension"
   ]
  },
  {
   "cell_type": "markdown",
   "metadata": {
    "slideshow": {
     "slide_type": "subslide"
    }
   },
   "source": [
    "Let $\\x^ip$ be a example that happens to be a movie.\n",
    "\n",
    "It is a sequence of items, at each of $T$ positions\n",
    "$$\n",
    "[ \\x^\\ip_\\tp \\; | \\; 1 \\le \\tt \\le T]\n",
    "$$\n",
    "\n",
    "where\n",
    "- $\\x^\\ip$ is a movie: a sequence of frames\n",
    "- $\\x^\\ip_\\tp$ is the $t^{th}$ frame in the movie\n",
    "- $\\x^\\ip_{\\tp, j, j'}$ is a particular pixel within the frame $\\x^\\ip_\\tp$\n",
    "    - The positional dimension is indexed by $\\tp$ and the spatial dimensions by $j,j'$\n"
   ]
  },
  {
   "cell_type": "markdown",
   "metadata": {
    "slideshow": {
     "slide_type": "subslide"
    }
   },
   "source": [
    "There is an important difference between the positional and spatial dimensions\n",
    "- spatial dimensions can often be permuted without changing meaning\n",
    "    - shifting or flipping a frame\n",
    "- positional dimensions often *can not* be permuted\n",
    "    - causal relationships are encoded by order\n",
    "    - frame $\\tt$ makes sense only if it occurs immediately after frame $(\\tt-1)$ in the sequence\n"
   ]
  },
  {
   "cell_type": "markdown",
   "metadata": {
    "slideshow": {
     "slide_type": "slide"
    }
   },
   "source": [
    "# Functions on sequence\n",
    "\n",
    "In the absence of a positional dimension, our multi-layer networks\n",
    "- Computed functions from vectors to vectors\n",
    "\n",
    "With a positional dimension, there are several variants of the function\n",
    "- Many to one\n",
    "    - Sequence as input, vector as output\n",
    "    - Examples:\n",
    "        - Predict next value in a time series (sequence of values)\n",
    "        - Summarize the sentiment of a sentence (sequence of words)"
   ]
  },
  {
   "cell_type": "markdown",
   "metadata": {
    "slideshow": {
     "slide_type": "subslide"
    }
   },
   "source": [
    "- Many to many\n",
    "    - Sequence as input, sequence of vectors as output\n",
    "    - Examples\n",
    "        - Translation of sentence in one language to sentence in second language\n",
    "        - Caption a movie: sequence of frames to sequence of words"
   ]
  },
  {
   "cell_type": "markdown",
   "metadata": {
    "slideshow": {
     "slide_type": "subslide"
    }
   },
   "source": [
    "- One to many\n",
    "    - Single input vector, sequence of vectors as output\n",
    "    - Examples\n",
    "        - Generating sentences from seed"
   ]
  },
  {
   "cell_type": "markdown",
   "metadata": {
    "slideshow": {
     "slide_type": "slide"
    }
   },
   "source": [
    "# Recurrent Neural Network (RNN) layer\n",
    "\n",
    "With a sequence $\\x^\\ip$ as input, and a sequence $\\y$ as a potential output,  the questions arises:\n",
    "- How does an RNN produce $\\y_\\tp$, the $t^{th}$ output ?\n",
    "\n",
    "Some choices\n",
    "- Predict $\\y_\\tp$ as a direct function of the prefix of $\\x$ of length $\\tt$: \n",
    "$$\\pr{\\y_\\tp | \\x_{(1)} \\dots \\x_\\tp} $$\n",
    "\n",
    "<br>\n",
    "<div>\n",
    "    <center><strong>Direct function</strong></center>\n",
    "    <img src=\"images/RNN_arch_parallel.png\" width=50%>\n",
    "</div>"
   ]
  },
  {
   "cell_type": "markdown",
   "metadata": {
    "slideshow": {
     "slide_type": "slide"
    }
   },
   "source": [
    "- Loop\n",
    "    - Uses a \"latent state\" that is updated with each element of the sequence, then predict the output\n",
    "\n",
    "$$\n",
    "\\begin{array}[lll] \\\\\n",
    "\\pr{\\h_\\tp | \\x_\\tp, \\h_{(\\tt-1)} } & \\text{latent variable } \\h_\\tp \\text{encodes } [ \\x_{(1)} \\dots \\x_\\tp ]\\\\\n",
    "\\pr{\\y_\\tp | \\h_\\tp }              & \\text{prediction contingent on latent variable} \\\\\n",
    "\\end{array}\n",
    "$$\n",
    "\n",
    "    \n",
    "<br>\n",
    "<div>\n",
    "    <center><strong>Loop with latent state</strong></center>\n",
    "    <img src=\"images/RNN_arch_loop.png\" width=70%>\n",
    "</div>\n"
   ]
  },
  {
   "cell_type": "markdown",
   "metadata": {
    "slideshow": {
     "slide_type": "subslide"
    }
   },
   "source": [
    "Since elements of the sequence are presented **one element at a time**\n",
    "- the latent state $\\h_\\tp$ must act as a **summary** of all prior elements $\\x_{(1)} \\dots \\x_\\tp$\n",
    "\n",
    "$$\n",
    "\\h_\\tp = \\text{summary}(\\x_{([1:\\tt])})\n",
    "$$\n",
    "\n",
    "Note that $\\h_\\tp$ is a *vector* of fixed length.\n",
    "\n",
    "Thus, it is a *fixed length* representation of the key aspects\n",
    "of a sequence $\\x$ of potentially *unbounded* length."
   ]
  },
  {
   "cell_type": "markdown",
   "metadata": {
    "slideshow": {
     "slide_type": "subslide"
    }
   },
   "source": [
    "**Example**\n",
    "\n",
    "Let's use an RNN to compute the sum of a sequence numbers\n",
    "- the latent state $\\h_\\tp$ can be maintained as \n",
    "$$\n",
    "\\h_\\tp = \\text{summary}(\\x_{([1:\\tt])}) = \\sum_{\\tt' =1}^\\tt { \\x_{(\\tt')} }\n",
    "$$\n",
    "- by updating $\\h_\\tp$ in the loop\n",
    "$$\n",
    "\\h_\\tp = \\h_{(\\tt-1)} + \\x_\\tp\n",
    "$$"
   ]
  },
  {
   "cell_type": "markdown",
   "metadata": {
    "slideshow": {
     "slide_type": "subslide"
    }
   },
   "source": [
    "\n",
    "The Recurrent Neural Network (RNN) adopts the \"latent state\" approach.\n",
    "\n",
    "A prime advantage of the latent state approach\n",
    "- it can handle sequences of *unbounded* length\n",
    "\n",
    "Here is some pseudo-code:"
   ]
  },
  {
   "cell_type": "code",
   "execution_count": 2,
   "metadata": {
    "slideshow": {
     "slide_type": "subslide"
    }
   },
   "outputs": [],
   "source": [
    "def RNN( input_sequence, state_size ):\n",
    "    state = np.random.uniform(size=state_size)\n",
    "    \n",
    "    for input in input_sequence:\n",
    "        # Consume one input, update the state\n",
    "        out, state = f(input, state)\n",
    "        \n",
    "    return out\n",
    "        "
   ]
  },
  {
   "cell_type": "markdown",
   "metadata": {
    "slideshow": {
     "slide_type": "subslide"
    }
   },
   "source": [
    "And the corresponding diagram, showing the output `out` ($\\y_\\tp$)\n",
    "\n",
    "<table>\n",
    "    <tr>\n",
    "        <th><center>RNN</center></th>\n",
    "    </tr>\n",
    "    <tr>\n",
    "        <td><img src=\"images/RNN_loop.png\"></td>\n",
    "    </tr>\n",
    "</table>"
   ]
  },
  {
   "cell_type": "markdown",
   "metadata": {
    "slideshow": {
     "slide_type": "subslide"
    }
   },
   "source": [
    "## Output $\\hat\\y_\\tp$ of an RNN\n",
    "\n",
    "According to our pseudo-code and diagram\n",
    "$$\n",
    "\\hat\\y_\\tp = \\h_\\tp\n",
    "$$\n",
    "\n",
    "That is: the output is the same as the latent state.\n",
    "\n",
    "It is easy to add another NN to transform $\\h_\\tp$ into a $\\hat\\y_\\tp$ that is different\n",
    "- we will omit this additional layer for clarity\n"
   ]
  },
  {
   "cell_type": "markdown",
   "metadata": {
    "slideshow": {
     "slide_type": "subslide"
    }
   },
   "source": [
    "## Unrolled RNN diagram\n",
    "\n",
    "We can \"unroll\" the loop into a kind of movie\n",
    "- a sequence of steps\n",
    "- step $\\tt-1$ arranged to the left of step $\\tt$"
   ]
  },
  {
   "cell_type": "markdown",
   "metadata": {
    "slideshow": {
     "slide_type": "subslide"
    }
   },
   "source": [
    "<table>\n",
    "    <tr>\n",
    "        <th><center>RNN many to many API</center></th>\n",
    "    </tr>\n",
    "    <tr>\n",
    "        <td><img src=\"images/RNN_layer_API_many_to_many.jpg\"></td>\n",
    "    </tr>\n",
    "</table>"
   ]
  },
  {
   "cell_type": "markdown",
   "metadata": {
    "slideshow": {
     "slide_type": "subslide"
    }
   },
   "source": [
    "At each time step $\\tt$\n",
    "- Input $\\x_\\tp$ is processed\n",
    "- Causes latent state $\\h$ to update from $\\h_{(\\tt-1)}$ to $\\h_\\tp$\n",
    "    - We use the same sequence notation to record the sequence of latent states $[ \\h_{(1)}, \\ldots, ]$\n",
    "- Optionally outputs $\\y_\\tp$ (for outputs that are of type sequence)"
   ]
  },
  {
   "cell_type": "markdown",
   "metadata": {
    "slideshow": {
     "slide_type": "subslide"
    }
   },
   "source": [
    "When processing $\\x_\\tp$\n",
    "- The function computed takes $\\h_{(t-1)}$ as input\n",
    "- Latent state $\\h_{(t-1)}$ has been derived by having processed $[\\x_{(1)} \\dots \\x_{(\\tt-1)}]$\n",
    "- And is thus a *summary* of the prefix of the input encountered thus far\n"
   ]
  },
  {
   "cell_type": "markdown",
   "metadata": {
    "slideshow": {
     "slide_type": "subslide"
    }
   },
   "source": [
    "One can look at this unrolled graph as being a dynamically-created computation graph.\n",
    "- A sequence of layers\n",
    "- One layer per time step\n",
    "- But with an **identical** computation for all layers\n",
    "\n",
    "The unrolled version will be crucial in understanding how Gradient Descent works when RNN layers are present.\n",
    "- Just conceptualize the unrolled loop as a sequence of layers\n",
    "- All our logic and intuition carries over\n"
   ]
  },
  {
   "cell_type": "markdown",
   "metadata": {
    "slideshow": {
     "slide_type": "subslide"
    }
   },
   "source": [
    "Note that $\\x, \\y, \\h$ are all vectors. \n",
    "\n",
    "In particular, the state $\\h$ *may have many* elements\n",
    "- it is a vector of \"synthesized\" features\n",
    "-  to record information about the entire prefix of the input."
   ]
  },
  {
   "cell_type": "markdown",
   "metadata": {
    "slideshow": {
     "slide_type": "subslide"
    }
   },
   "source": [
    "$\\h_\\tp$ is the latent state (sometimes called the *hidden state* as it is not visible outside the layer).\n",
    "\n",
    "It is essentially a *fixed length* encoding of the variable length sequence $[\\x_{(1)} \\dots \\x_\\tp]$\n",
    "- All essential information about the prefix of $\\x$ ending at step $\\tt$ is recorded in $\\h_\\tp$\n",
    "- Hence, the size of $\\h_\\tp$ may need to be large\n",
    "\n",
    "We will shortly attempt to gain some intuition as to what these synthesized features may be."
   ]
  },
  {
   "cell_type": "markdown",
   "metadata": {
    "slideshow": {
     "slide_type": "slide"
    }
   },
   "source": [
    "## All \"layers\" in the unrolled graph share weights\n",
    "\n",
    "One extremely important aspect that might not be apparent from the movie version:\n",
    "- Each unrolled \"frame\" in the movie shares the *same weights* and computes the *same* function $F$\n",
    "- In contrast to a true multi-layer network where each layer has its *own* weights\n",
    "<br>\n",
    "<br>\n",
    "<table>\n",
    "    <tr>\n",
    "        <th><center>RNN shared weights</center></th>\n",
    "    </tr>\n",
    "    <tr>\n",
    "        <td><img src=\"images/RNN_layer_API_shared_weights.png\" width=\"80%\"></td>\n",
    "    </tr>\n",
    "</table>"
   ]
  },
  {
   "cell_type": "markdown",
   "metadata": {
    "slideshow": {
     "slide_type": "subslide"
    }
   },
   "source": [
    "That is the unrolled RNN computes\n",
    "$$\n",
    "\\begin{array}[lll]\\\\\n",
    "\\y_\\tp & = & F( \\y_{(\\tt-1)}; \\W ) \\\\\n",
    "& = &  F( \\; F( \\y_{(\\tt-2)}; \\,\\W ); \\,\\W \\;) \\\\\n",
    "& = &  F( \\; F( \\; F( \\y_{(\\tt-3)}; \\,\\W ); \\,\\W \\;  ); \\W \\;) \\\\\n",
    "& = & \\vdots \\\\\n",
    "\\end{array}\n",
    "$$\n",
    "rather than\n",
    "$$\n",
    "\\begin{array}[lll]\\\\\n",
    "\\y_\\llp & = & F_\\llp( \\y_{(\\ll-1)}; \\W_\\llp ) \\\\\n",
    "& = &  F_\\llp( \\; F_{(\\ll-1)}( \\y_{(\\ll-2)}; \\,\\W_{(\\ll-1)} ); \\,\\W_\\llp \\;) \\\\\n",
    "& = &  F_\\llp( \\; F_{(\\ll-1)}( \\; F_{(\\ll-2)}( \\y_{(\\ll-3)}; \\,\\W_{(\\ll-2)} ); \\,\\W_{(\\ll-1)} \\;  ); \\W_\\llp \\;) \\\\\n",
    "& = & \\vdots \\\\\n",
    "\\end{array}\n",
    "$$"
   ]
  },
  {
   "cell_type": "markdown",
   "metadata": {
    "slideshow": {
     "slide_type": "subslide"
    }
   },
   "source": [
    "Note, in particular\n",
    "- The repeated occurrence of the term $\\W$ will complicate computing the derivative\n",
    "- As we will see in a subsequent lecture"
   ]
  },
  {
   "cell_type": "markdown",
   "metadata": {
    "slideshow": {
     "slide_type": "subslide"
    }
   },
   "source": [
    "RNN's are sometimes drawn without separate outputs $\\y_\\tp$\n",
    "- in that case, $\\h_\\tp$ may be considered the output. \n",
    "\n",
    "The computation of $\\y_\\tp$ will just be a transformation of $\\h_\\tp$ so there is no loss in omitting\n",
    "it from the RNN and creating a separate node in the computation graph.\n",
    "\n",
    "Geron does not distinguish between $\\y_\\tp$ and $\\h_\\tp$ and he uses the single $\\y_\\tp$ to denote the state.\n",
    "\n",
    "I will use $\\h$ rather than $\\y$ to denote the \"hidden state\".\n"
   ]
  },
  {
   "cell_type": "markdown",
   "metadata": {
    "slideshow": {
     "slide_type": "slide"
    }
   },
   "source": [
    "# Typical uses of RNN\n",
    "\n",
    "## Many to one: Creating a fixed length summary of a variable length sequence\n",
    "\n",
    "A typical Many to One task is predicting the next element in a sequence\n",
    "\n",
    "For example\n",
    "- Predict the next word in a sentence\n",
    "- Predict the next price in a timeseries of prices\n",
    "\n",
    "These are implemented by a NN (with RNN layers as components) followed by a Head Layer (Classifier or Regressor)\n",
    "\n",
    "\n",
    "But the Head Layers take **fixed length** inputs and our sequences are of potentially unbounded length !\n",
    "\n",
    "We first need to convert the variable length sequence into a fixed length representation."
   ]
  },
  {
   "cell_type": "markdown",
   "metadata": {
    "slideshow": {
     "slide_type": "slide"
    }
   },
   "source": [
    "Let's make this concrete with an example: a sequence of words\n",
    "\n",
    "<table>\n",
    "    <tr>\n",
    "        <th><center>RNN</center></th>\n",
    "    </tr>\n",
    "    <tr>\n",
    "        <td><img src=\"images/RNN_loop_NLP.png\" width=1000></td>\n",
    "    </tr>\n",
    "</table>"
   ]
  },
  {
   "cell_type": "markdown",
   "metadata": {
    "slideshow": {
     "slide_type": "subslide"
    }
   },
   "source": [
    "$\\h_\\tp$ is a **fixed length** vector that \"summarizes\" the prefix of sequence $\\x$ up to element $t$.\n",
    "\n",
    "The sequence is processed element by element, so order matters.\n",
    "\n",
    "\\begin{array} \\\\\n",
    "\\h_{(0)} & = & \\text{summary}( [ \\text{Machine} ]) \\\\\n",
    "\\h_{(1)} & = & \\text{summary}( [ \\text{Machine, Learning} ]) \\\\\n",
    "\\vdots \\\\\n",
    "\\h_\\tp & = & \\text{summary}( [ \\x_{(0)}, \\ldots \\x_\\tp ] ) \\\\\n",
    "\\vdots \\\\\n",
    "\\h_{(5)} & = & \\text{summary}( [ \\text{Machine, Learning, is, easy, not, hard} ]) \\\\\n",
    "\\end{array}"
   ]
  },
  {
   "cell_type": "markdown",
   "metadata": {
    "slideshow": {
     "slide_type": "subslide"
    }
   },
   "source": [
    "Turning an unbounded length sequence into a fixed length vector is very useful !\n",
    "- All our other layer types take fixed length input\n",
    "\n",
    "So we can feed $\\h_{(5)}$ into a Classifier to decide on the sentiment of the sentence.\n",
    "\n",
    "<table>\n",
    "    <tr>\n",
    "        <th><center><strong>RNN Many to one; followed by classifier</strong></center></th>\n",
    "    </tr>\n",
    "    <tr>\n",
    "        <td><img src=\"images/RNN_many_to_one_to_classifier.jpg\" width=870%></td>\n",
    "    </tr>\n",
    "</table>"
   ]
  },
  {
   "cell_type": "markdown",
   "metadata": {
    "slideshow": {
     "slide_type": "subslide"
    }
   },
   "source": [
    "## Many to many: Encoder-Decoder\n",
    "\n",
    "Another common paradigm using RNN's that we will encounter is the *Encoder-Decoder* which is useful for tasks mapping sequences to sequences\n",
    "- language translation\n",
    "- Output and input sequence elements do not have a one to one correspondence\n",
    "- The Encoder-Decoder decouples the sequences\n",
    "    - Encoder summarizes the input sequence $\\x_{([1:\\bar T])}$ with $\\bar \\h_{(\\bar T)}$\n",
    "    - Decoder generates output sequence $\\hat \\y_{([1:T])}$ from the summary\n",
    "    \n",
    "<table>\n",
    "    <tr>\n",
    "        <th><center><strong>Encoder-Decoder for language translation</strong></center></th>\n",
    "    </tr>\n",
    "    <tr>\n",
    "        <td><img src=\"images/RNN_layer_API_Encoder_Decoder_Language_Translation.png\" width=80%></td>\n",
    "    </tr>\n",
    "</table>"
   ]
  },
  {
   "cell_type": "markdown",
   "metadata": {
    "slideshow": {
     "slide_type": "subslide"
    }
   },
   "source": [
    "- The final latent state $\\bar\\h_{(T)}$ of the Encoder \"summarizes\" the source sentence (English)\n",
    "- It initializes the latent state of the Decoder which produces the target sentence (French)\n",
    "- The Decoder implements a one-to-many API\n",
    "    - source language \"summary\" as seed\n",
    "    \n",
    "Decoupling means that the length of $\\x$ (length $\\bar T)$ need not be equal to the length of $\\hat\\y$ (length $T$)."
   ]
  },
  {
   "cell_type": "markdown",
   "metadata": {
    "slideshow": {
     "slide_type": "slide"
    }
   },
   "source": [
    "## One to many: Generative ML (generating sequences from a seed)\n",
    "\n",
    "The two main Machine Learning Tasks we have studied thus far (Regression, Classification) are called *discriminative* tasks\n",
    "- they learn the relationship between features and targets of an example\n",
    "\n",
    "We can also use Machine Learning for the *generative* task of creating new examples\n",
    "- learns the distribution of features\n",
    "- can sample from the learned distribution to construct new examples\n",
    "\n"
   ]
  },
  {
   "cell_type": "markdown",
   "metadata": {
    "slideshow": {
     "slide_type": "subslide"
    }
   },
   "source": [
    "RNN's are often used for generative tasks. \n",
    "\n",
    "We generate a long sequence that is highly probable (from the learned distribution) given a short sequence as seed.\n",
    "\n",
    "- The model is initially input a short \"seed\" sequence.\n",
    "- The output is a prediction of the  **next** element of the sequence\n",
    "- The input sequence is extended by the prediction\n",
    "- Repeat !\n",
    "\n",
    "\n",
    "[Here](https://app.inferkit.com/demo) is a demo of creating an entire story from an initial idea comprised of a few words."
   ]
  },
  {
   "cell_type": "markdown",
   "metadata": {
    "slideshow": {
     "slide_type": "slide"
    }
   },
   "source": [
    "# Conclusion\n",
    "\n",
    "We have introduced the key concepts of Recurrent Neural Networks.\n",
    "- An unrolled RNN is just a multi-layer network\n",
    "- In which *all the layers are identical*\n",
    "- The latent state is a fixed length encoding of the prefix of the input\n",
    "\n",
    "A more detailed view of sequences and RNN's will be our next topic."
   ]
  },
  {
   "cell_type": "code",
   "execution_count": 3,
   "metadata": {
    "slideshow": {
     "slide_type": "slide"
    }
   },
   "outputs": [
    {
     "name": "stdout",
     "output_type": "stream",
     "text": [
      "Done\n"
     ]
    }
   ],
   "source": [
    "print(\"Done\")"
   ]
  }
 ],
 "metadata": {
  "celltoolbar": "Slideshow",
  "kernelspec": {
   "display_name": "Python 3",
   "language": "python",
   "name": "python3"
  },
  "language_info": {
   "codemirror_mode": {
    "name": "ipython",
    "version": 3
   },
   "file_extension": ".py",
   "mimetype": "text/x-python",
   "name": "python",
   "nbconvert_exporter": "python",
   "pygments_lexer": "ipython3",
   "version": "3.7.4"
  },
  "toc": {
   "base_numbering": 1,
   "nav_menu": {},
   "number_sections": true,
   "sideBar": true,
   "skip_h1_title": false,
   "title_cell": "Table of Contents",
   "title_sidebar": "Contents",
   "toc_cell": false,
   "toc_position": {
    "height": "calc(100% - 180px)",
    "left": "10px",
    "top": "150px",
    "width": "370.594px"
   },
   "toc_section_display": true,
   "toc_window_display": true
  }
 },
 "nbformat": 4,
 "nbformat_minor": 2
}
