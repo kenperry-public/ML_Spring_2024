{
 "cells": [
  {
   "cell_type": "code",
   "execution_count": 1,
   "metadata": {
    "slideshow": {
     "slide_type": "notes"
    }
   },
   "outputs": [
    {
     "data": {
      "text/latex": [
       "$$\n",
       "\\newcommand{\\x}{\\mathbf{x}}\n",
       "\\newcommand{\\tx}{\\tilde{\\x}}\n",
       "\\newcommand{\\y}{\\mathbf{y}}\n",
       "\\newcommand{\\b}{\\mathbf{b}}\n",
       "\\newcommand{\\c}{\\mathbf{c}}\n",
       "\\newcommand{\\e}{\\mathbf{e}}\n",
       "\\newcommand{\\z}{\\mathbf{z}}\n",
       "\\newcommand{\\h}{\\mathbf{h}}\n",
       "\\newcommand{\\u}{\\mathbf{u}}\n",
       "\\newcommand{\\v}{\\mathbf{v}}\n",
       "\\newcommand{\\w}{\\mathbf{w}}\n",
       "\\newcommand{\\W}{\\mathbf{W}}\n",
       "\\newcommand{\\X}{\\mathbf{X}}\n",
       "\\newcommand{\\KL}{\\mathbf{KL}}\n",
       "\\newcommand{\\E}{{\\mathbb{E}}}\n",
       "\\newcommand{\\ip}{\\mathbf{{(i)}}}\n",
       "%\n",
       "% Test set\n",
       "\\newcommand{\\xt}{\\underline{\\x}}\n",
       "\\newcommand{\\yt}{\\underline{\\y}}\n",
       "\\newcommand{\\Xt}{\\underline{\\X}}\n",
       "\\newcommand{\\perfm}{\\mathcal{P}}\n",
       "%\n",
       "% \\ll indexes a layer; we can change the actual letter\n",
       "\\newcommand{\\ll}{l}\n",
       "\\newcommand{\\llp}{{(\\ll)}}\n",
       "%\n",
       "\\newcommand{Thetam}{\\Theta_{-0}}\n",
       "\n",
       "% CNN\n",
       "\\newcommand{\\kernel}{\\mathbf{k}} \n",
       "\\newcommand{\\dim}{d}\n",
       "\\newcommand{\\idxspatial}{{\\text{idx}}}\n",
       "\\newcommand{\\summaxact}{\\text{max}}\n",
       "%\n",
       "%\n",
       "\n",
       "% RNN\n",
       "% \\tt indexes a time step\n",
       "\\newcommand{\\tt}{t}\n",
       "\\newcommand{\\tp}{{(\\tt)}}\n",
       "%\n",
       "%\n",
       "\n",
       "% LSTM\n",
       "\\newcommand{\\g}{\\mathbf{g}}\n",
       "\\newcommand{\\remember}{\\mathbf{remember}}\n",
       "\\newcommand{\\save}{\\mathbf{save}}\n",
       "\\newcommand{\\focus}{\\mathbf{focus}}\n",
       "%\n",
       "%\n",
       "% NLP\n",
       "\\newcommand{\\Vocab}{\\mathbf{V}}\n",
       "\\newcommand{\\v}{\\mathbf{v}}\n",
       "\\newcommand{\\offset}{o}\n",
       "\\newcommand{\\o}{o}\n",
       "\\newcommand{\\E}{\\mathbf{E}}\n",
       "%\n",
       "%\n",
       "\\newcommand{\\loss}{\\mathcal{L}}\n",
       "\\newcommand{\\cost}{\\mathcal{L}}\n",
       "%\n",
       "%                     \n",
       "\\newcommand{\\pdata}{p_\\text{data}}\n",
       "\\newcommand{\\pmodel}{p_\\text{model}}\n",
       "%\n",
       "% SVM\n",
       "\\newcommand{\\margin}{{\\mathbb{m}}}\n",
       "\\newcommand{\\lmk}{\\boldsymbol{\\ell}}\n",
       "%\n",
       "% Functions with arguments\n",
       "\\def\\xsy#1#2{#1^#2}\n",
       "\\def\\rand#1{\\tilde{#1}}\n",
       "\\def\\randx{\\rand{\\x}}\n",
       "\\def\\randy{\\rand{\\y}}\n",
       "\\def\\trans#1{\\dot{#1}}\n",
       "\\def\\transx{\\trans{\\x}}\n",
       "\\def\\transy{\\trans{\\y}}\n",
       "%\n",
       "\\def\\argmax#1{\\underset{#1} {\\operatorname{argmax}} }\n",
       "\\def\\argmin#1{\\underset{#1} {\\operatorname{argmin}} }\n",
       "\\def\\max#1{\\underset{#1} {\\operatorname{max}} }\n",
       "\\def\\min#1{\\underset{#1} {\\operatorname{min}} }\n",
       "%\n",
       "\\def\\pr#1{\\mathcal{p}(#1)}\n",
       "\\def\\prc#1#2{\\mathcal{p}(#1 \\; | \\; #2)}\n",
       "\\def\\cnt#1{\\mathcal{count}_{#1}}\n",
       "\\def\\node#1{\\mathbb{#1}}\n",
       "%\n",
       "\\newcommand{\\floor}[1]{\\left\\lfloor #1 \\right\\rfloor}\n",
       "\\newcommand{\\ceil}[1]{\\left\\lceil #1 \\right\\rceil}\n",
       "%\n",
       "\\def\\loc#1{{\\text{##} {#1}}}\n",
       "%\n",
       "$$\n"
      ],
      "text/plain": [
       "<IPython.core.display.Latex object>"
      ]
     },
     "metadata": {},
     "output_type": "display_data"
    }
   ],
   "source": [
    "%run Latex_macros.ipynb"
   ]
  },
  {
   "cell_type": "markdown",
   "metadata": {
    "slideshow": {
     "slide_type": "slide"
    }
   },
   "source": [
    "# RNN as a layer\n",
    "\n",
    "During one time step $\\tt$, the RNN\n",
    "- Takes element $\\tt$ of $\\x$ as input: $\\x_\\tp$\n",
    "- Computes a new latent state $\\h_\\tp$\n",
    "- Optionally outputs element $\\tt$ of the output: $\\y_\\tp$"
   ]
  },
  {
   "cell_type": "markdown",
   "metadata": {
    "slideshow": {
     "slide_type": "slide"
    }
   },
   "source": [
    "$$\n",
    "\\h_\\tp, \\y_\\tp = f(\\x_\\tp;  \\h_{(t-1)})\n",
    "$$\n",
    "\n",
    "$\\h_\\tp$ is used in the next time step of the RNN but may not be externally visible.\n",
    "\n",
    "Let's describe the inputs/outputs of an RNN layer from the perspective of what is and is not visible.\n",
    "\n",
    "\n",
    "If we draw a box around the unrolled RNN, we can see the \"API\":"
   ]
  },
  {
   "cell_type": "markdown",
   "metadata": {
    "scrolled": true,
    "slideshow": {
     "slide_type": "slide"
    }
   },
   "source": [
    "<table>\n",
    "    <tr>\n",
    "        <th><center><strong>RNN many to one API</strong></center></th>\n",
    "    </tr>\n",
    "    <tr>\n",
    "        <td><img src=\"images/RNN_layer_API_many_to_one.jpg\"></td>\n",
    "    </tr>\n",
    "</table>\n"
   ]
  },
  {
   "cell_type": "markdown",
   "metadata": {
    "slideshow": {
     "slide_type": "subslide"
    }
   },
   "source": [
    "- The input sequence $\\x$ of length $T$ is depicted as coming from below\n",
    "- The output of the layer is $\\y_{(T)}$ \n",
    "- Everything inside the box is *not visible*\n",
    "- Until the entire sequence $\\x$ has been processed"
   ]
  },
  {
   "cell_type": "markdown",
   "metadata": {
    "slideshow": {
     "slide_type": "subslide"
    }
   },
   "source": [
    "- Output $\\y$ is available to be fed to another layer (i.e., not the same RNN layer)\n",
    "- Latent state $\\h$ is retained by the RNN layer"
   ]
  },
  {
   "cell_type": "markdown",
   "metadata": {
    "slideshow": {
     "slide_type": "subslide"
    }
   },
   "source": [
    "## Many to one\n",
    "\n",
    "The above API was for an RNN layer computing a many to one function\n",
    "- Sequence input, single vector as output\n",
    "\n",
    "A many to one mapping is particularly useful\n",
    "- If one considers $\\y_{(T)}$ a fixed length summary of variable length sequence $[\\x_{(1)}, \\ldots, x_{(T)} ]$\n",
    "- Which is amenable for processing by a layer requiring a fixed length input\n",
    "\n"
   ]
  },
  {
   "cell_type": "markdown",
   "metadata": {
    "slideshow": {
     "slide_type": "slide"
    }
   },
   "source": [
    "## Many to many\n",
    "\n",
    "We can show the API for an RNN layer computing a many to many function\n",
    "- Sequence input, sequence of vector output\n",
    "\n",
    "Essentially, the \"internal\" (inside the box) workings are exposed to the user, rather than hidden."
   ]
  },
  {
   "cell_type": "markdown",
   "metadata": {
    "slideshow": {
     "slide_type": "subslide"
    }
   },
   "source": [
    "<table>\n",
    "    <tr>\n",
    "        <th><center>RNN many to many API</center></th>\n",
    "    </tr>\n",
    "    <tr>\n",
    "        <td><img src=\"images/RNN_layer_API_many_to_many.jpg\"></td>\n",
    "    </tr>\n",
    "</table>\n"
   ]
  },
  {
   "cell_type": "markdown",
   "metadata": {
    "slideshow": {
     "slide_type": "subslide"
    }
   },
   "source": [
    "In order to get Keras to implement the many to many API, \n",
    "optional arguments are used when constructing the layer\n",
    "- `return_sequences`\n",
    "- `return_states` \n",
    "- both default to `False` in Keras.\n",
    "\n",
    "These control  whether the RNN layer returns a sequence\n",
    "$$\n",
    "       [ \\h_{(1)}, \\ldots, \\h_{(T)} ] \\\\\n",
    "       [ \\y_{(1)}, \\ldots, \\y_{(T)} ]\n",
    "$$\n",
    "or just\n",
    "$$\n",
    "\\h_{(T)} \\\\\n",
    "\\y_{(T)}\n",
    "$$"
   ]
  },
  {
   "cell_type": "markdown",
   "metadata": {
    "slideshow": {
     "slide_type": "subslide"
    }
   },
   "source": [
    "## One to many\n",
    "\n",
    "It may seem strange to generate a sequence output from a single input, but consider\n",
    "- Feeding the output of step $(\\tt-1)$ as *input* to step $\\tt \\gt 1$\n",
    "$$\\x_\\tp = \\y_{(\\tt-1)}$$\n",
    "\n",
    "A picture should help"
   ]
  },
  {
   "cell_type": "markdown",
   "metadata": {},
   "source": [
    "<table>\n",
    "    <tr>\n",
    "        <th><center>RNN one to many API</center></th>\n",
    "    </tr>\n",
    "    <tr>\n",
    "        <td><img src=\"images/RNN_layer_API_one_to_many.png\"></td>\n",
    "    </tr>\n",
    "</table>"
   ]
  },
  {
   "cell_type": "markdown",
   "metadata": {
    "slideshow": {
     "slide_type": "subslide"
    }
   },
   "source": [
    "This will be particularly useful when the outputs $\\y_\\tp$ have an element of randomness\n",
    "- A new output sequence is generated even when the same input \"seed\" $\\x$ is used\n",
    "\n",
    "We will show how an architecture like this can be used to *generate*\n",
    "- A story (sequence of words)\n",
    "- From a single (or small length sequence) \"seed\" word"
   ]
  },
  {
   "cell_type": "markdown",
   "metadata": {
    "slideshow": {
     "slide_type": "slide"
    }
   },
   "source": [
    "# Combining RNN layers\n",
    "\n",
    "There are some typical paradigms in which layers are combined."
   ]
  },
  {
   "cell_type": "markdown",
   "metadata": {
    "slideshow": {
     "slide_type": "subslide"
    }
   },
   "source": [
    "## Stacked RNN layers\n",
    "\n",
    "By feeding the output sequence into another RNN layer, we can achieve stacked layers\n"
   ]
  },
  {
   "cell_type": "markdown",
   "metadata": {
    "slideshow": {
     "slide_type": "subslide"
    }
   },
   "source": [
    "\n",
    "<table>\n",
    "    <tr>\n",
    "        <th><center>RNN Stacked layers</center></th>\n",
    "    </tr>\n",
    "    <tr>\n",
    "        <td><img src=\"images/RNN_layers_stacked.jpg\" width=80%></td>\n",
    "    </tr>\n",
    "</table>\n",
    "​"
   ]
  },
  {
   "cell_type": "markdown",
   "metadata": {
    "slideshow": {
     "slide_type": "subslide"
    }
   },
   "source": [
    "## Encoder/Decoder architecture\n",
    "\n",
    "An Encoder/Decoder architecture has\n",
    "- An Encoder RNN layer, implementing a many to one relationship\n",
    "- Followed by a Decoder RNN layer, implementing a one to many relationship"
   ]
  },
  {
   "cell_type": "markdown",
   "metadata": {
    "slideshow": {
     "slide_type": "subslide"
    }
   },
   "source": [
    "\n",
    "<table>\n",
    "    <tr>\n",
    "        <th><center>RNN Encoder/Decoder</center></th>\n",
    "    </tr>\n",
    "    <tr>\n",
    "        <td><img src=\"images/RNN_layer_API_Encoder_Decoder.png\"</td>\n",
    "    </tr>\n",
    "</table>\n",
    "​\n"
   ]
  },
  {
   "cell_type": "markdown",
   "metadata": {
    "slideshow": {
     "slide_type": "subslide"
    }
   },
   "source": [
    "- The input sequence $[\\x_{(1)} \\dots \\x_{(\\bar{T})}]$\n",
    "- Is summarized by $\\bar{\\h}_{(\\bar{T})}$, the final latent state of the Encoder RNN\n",
    "- Which is used to seed the Decoder RNN\n",
    "- Producing new sequence $[\\hat{\\y}_{(1)} \\dots \\hat{\\y}_{(T)}]$"
   ]
  },
  {
   "cell_type": "markdown",
   "metadata": {
    "slideshow": {
     "slide_type": "subslide"
    }
   },
   "source": [
    "Note that $T$ is not neccesarily equal to $\\bar{T}$\n",
    "- The Decoder is seeded by a singleton\n",
    "- So the output length $T$ is no longer dependent on the length $\\bar{T}$ of input $\\x$\n",
    "- Language translation: not necessarily a one-to-one correspondence between word $\\tt$ of each language"
   ]
  },
  {
   "cell_type": "markdown",
   "metadata": {
    "slideshow": {
     "slide_type": "subslide"
    }
   },
   "source": [
    "Recall that $\\bar{\\h}_{(\\bar{\\tt})}$ is a fixed length encoding of the input prefix $\\x_{(1)}, \\ldots, \\x_{(\\bar{\\tt})}$\n",
    "\n",
    "So $\\bar{\\h}_{(\\bar{T})}$, which initializes the Decoder, is a summary of the entire input sequence $\\x$.\n",
    "                                                                           \n",
    "This fact enables us to decouple the Encoder from the Decoder\n",
    "- The consumption of input $\\x$ and product of output $\\hat{\\y}$ do not have to be synchronized\n",
    "- Allowing for the possibility that $T \\ne \\bar{T}$"
   ]
  },
  {
   "cell_type": "markdown",
   "metadata": {
    "slideshow": {
     "slide_type": "subslide"
    }
   },
   "source": [
    "\n",
    "The combination of the two is used to solve a class of problems called *Sequence to Sequence*\n",
    "- Transform one sequence to another \n",
    "- Language translation: sequence of English words to sequence of Mandarin symbols\n",
    "- Captioning: sequence of image frames to sequence of words describing the movie"
   ]
  },
  {
   "cell_type": "markdown",
   "metadata": {
    "slideshow": {
     "slide_type": "slide"
    }
   },
   "source": [
    "# Conclusion\n",
    "\n",
    "We explained how an RNN may compute several types of relationships\n",
    "- Many to one\n",
    "- Many to many\n",
    "- One to many\n",
    "\n",
    "This variety arises because both input and output may be sequences.\n",
    "\n",
    "Sequence to Sequence problems (a variant of \"many to many\") is a particularly important class of problems that can be solved with RNN's."
   ]
  },
  {
   "cell_type": "code",
   "execution_count": 2,
   "metadata": {
    "slideshow": {
     "slide_type": "slide"
    }
   },
   "outputs": [
    {
     "name": "stdout",
     "output_type": "stream",
     "text": [
      "Done\n"
     ]
    }
   ],
   "source": [
    "print(\"Done\")"
   ]
  }
 ],
 "metadata": {
  "celltoolbar": "Slideshow",
  "kernelspec": {
   "display_name": "Python 3",
   "language": "python",
   "name": "python3"
  },
  "language_info": {
   "codemirror_mode": {
    "name": "ipython",
    "version": 3
   },
   "file_extension": ".py",
   "mimetype": "text/x-python",
   "name": "python",
   "nbconvert_exporter": "python",
   "pygments_lexer": "ipython3",
   "version": "3.7.4"
  },
  "toc": {
   "base_numbering": 1,
   "nav_menu": {},
   "number_sections": true,
   "sideBar": true,
   "skip_h1_title": false,
   "title_cell": "Table of Contents",
   "title_sidebar": "Contents",
   "toc_cell": false,
   "toc_position": {
    "height": "calc(100% - 180px)",
    "left": "10px",
    "top": "150px",
    "width": "370.594px"
   },
   "toc_section_display": true,
   "toc_window_display": true
  }
 },
 "nbformat": 4,
 "nbformat_minor": 2
}
