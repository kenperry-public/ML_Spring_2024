{
 "cells": [
  {
   "cell_type": "markdown",
   "metadata": {},
   "source": [
    "Before you turn this problem in, make sure everything runs as expected. First, **restart the kernel** (in the menubar, select Kernel$\\rightarrow$Restart) and then **run all cells** (in the menubar, select Cell$\\rightarrow$Run All).\n",
    "\n",
    "Make sure you fill in any place that says `YOUR CODE HERE` or \"YOUR ANSWER HERE\", as well as your name and collaborators below:"
   ]
  },
  {
   "cell_type": "code",
   "execution_count": null,
   "metadata": {},
   "outputs": [],
   "source": [
    "NAME = \"\"\n",
    "COLLABORATORS = \"\""
   ]
  },
  {
   "cell_type": "markdown",
   "metadata": {},
   "source": [
    "---"
   ]
  },
  {
   "cell_type": "markdown",
   "metadata": {
    "colab_type": "text",
    "id": "6N2CBGINh8Pv"
   },
   "source": [
    "# Problem description\n",
    "\n",
    "To a large degree, financial data has traditionally been numeric in format.\n",
    "\n",
    "But in recent years, non-numeric formats like image, text and audio have been introduced.  \n",
    "\n",
    "Private companies have satellites orbiting the Earth taking photos and offering them to customers.  A financial analyst might be able to extract information from these photos that could aid in the prediction of the future price of a stock\n",
    "\n",
    "- Approximate number of customers visiting each store: count number of cars in parking lot\n",
    "- Approximate activity in a factory by counting number of supplier trucks arriving and number of delivery trucks leaving\n",
    "- Approximate demand for a commodity at each location: count cargo ships traveling between ports\n",
    "\n",
    "In this assignment, we will attempt to recognize ships in satellite photos.\n",
    "This would be a first step toward\n",
    "counting.\n",
    "\n",
    "As in any other domain: specific knowledge of the problem area will make you a better analyst.\n",
    "For this assignment, we will ignore domain-specific information and just try to use a labeled training set (photo plus a binary indicator for whether a ship is present/absent in the photo), assuming that the labels are perfect.\n",
    "\n"
   ]
  },
  {
   "cell_type": "markdown",
   "metadata": {
    "colab_type": "text",
    "id": "CeLXwiRUkM7E"
   },
   "source": [
    "## Goal: \n",
    "\n",
    "In this notebook, you will need to create a model in `sklearn` to classify satellite photos.\n",
    "- The features are images: 3 dimensional collection of pixels\n",
    "  - 2 spatial dimensions\n",
    "  - 1 dimension with 3 features for different parts of the color spectrum: Red, Green, Blue\n",
    "- The labels are either 1 (ship is present) or 0 (ship is not present)\n"
   ]
  },
  {
   "cell_type": "markdown",
   "metadata": {
    "colab_type": "text",
    "id": "0EI8sBAa9-u0"
   },
   "source": [
    "## Learning objectives\n",
    "- Learn how to implement a model to solve a Classification task\n"
   ]
  },
  {
   "cell_type": "markdown",
   "metadata": {
    "colab_type": "text",
    "id": "YxXiLgtXAdYS"
   },
   "source": [
    "# Imports modules"
   ]
  },
  {
   "cell_type": "code",
   "execution_count": null,
   "metadata": {
    "colab": {},
    "colab_type": "code",
    "deletable": false,
    "editable": false,
    "id": "OrjN4zPEAfQb",
    "nbgrader": {
     "cell_type": "code",
     "checksum": "131ee7d46e996bd213caaa0a5b3f39d3",
     "grade": false,
     "grade_id": "cell-070cebdd7ee912db",
     "locked": true,
     "schema_version": 3,
     "solution": false
    }
   },
   "outputs": [],
   "source": [
    "## Standard imports\n",
    "import numpy as np\n",
    "import pandas as pd\n",
    "import matplotlib.pyplot as plt\n",
    "\n",
    "import sklearn\n",
    "\n",
    "import os\n",
    "import math\n",
    "\n",
    "%matplotlib inline"
   ]
  },
  {
   "cell_type": "code",
   "execution_count": null,
   "metadata": {
    "colab": {},
    "colab_type": "code",
    "deletable": false,
    "editable": false,
    "id": "XaXsgtlc7sGV",
    "nbgrader": {
     "cell_type": "code",
     "checksum": "4dd6ed8ce458995946b65cc4d2bae53d",
     "grade": false,
     "grade_id": "cell-31941e636a7394ca",
     "locked": true,
     "schema_version": 3,
     "solution": false
    }
   },
   "outputs": [],
   "source": [
    "## Load the helper module\n",
    "from IPython.core.interactiveshell import InteractiveShell\n",
    "InteractiveShell.ast_node_interactivity = \"all\"\n",
    "\n",
    "# Reload all modules imported with %aimport\n",
    "%reload_ext autoreload\n",
    "%autoreload 1\n",
    "\n",
    "# Import nn_helper module\n",
    "import helper\n",
    "%aimport helper\n",
    "\n",
    "helper = helper.Helper()"
   ]
  },
  {
   "cell_type": "markdown",
   "metadata": {
    "colab_type": "text",
    "id": "O7LEiY7ilZpz"
   },
   "source": [
    "# API for students\n",
    "\n",
    "We have defined some utility routines in a file `helper.py`. There is a class named `Helper` in it.  \n",
    "\n",
    "This will simplify problem solving\n",
    "\n",
    "More importantly: it adds structure to your submission so that it may be easily graded\n",
    "\n",
    "`helper = helper.Helper()`\n",
    "\n",
    "- getData: Get a collection of labeled images, used as follows\n",
    "\n",
    "  >`data, labels = helper.getData()`\n",
    "- showData: Visualize labelled images, used as follows\n",
    "\n",
    "  >`helper.showData(data, labels)`\n",
    "- model_interpretation: Visualize the model parameters\n",
    "  \n",
    "  >`helper.model_interpretation(Classifier)`"
   ]
  },
  {
   "cell_type": "markdown",
   "metadata": {
    "colab_type": "text",
    "id": "lP3MARgb7sGX"
   },
   "source": [
    "# Get the data\n",
    "\n",
    "The first step in our Recipe is Get the Data.\n",
    "\n",
    "We have provided a utility method `getData` to simplify this for you"
   ]
  },
  {
   "cell_type": "code",
   "execution_count": null,
   "metadata": {
    "colab": {
     "base_uri": "https://localhost:8080/",
     "height": 102
    },
    "colab_type": "code",
    "id": "5TGSVUf6FVis",
    "outputId": "f529d119-8369-4b18-8d57-559333cb50cb"
   },
   "outputs": [],
   "source": [
    "# Get the data\n",
    "data, labels = helper.getData()\n",
    "n_samples, width, height, channel = data.shape\n",
    "\n",
    "print(\"Data shape: \", data.shape)\n",
    "print(\"Labels shape: \", labels.shape)\n",
    "print(\"Label values: \", np.unique(labels))\n"
   ]
  },
  {
   "cell_type": "markdown",
   "metadata": {},
   "source": [
    "Your expected outputs should be following      \n",
    "`Date shape: (4000, 80, 80, 3)`           \n",
    "`Labels shape: (4000,)`       \n",
    "`Label values: [0 1]`        "
   ]
  },
  {
   "cell_type": "markdown",
   "metadata": {
    "colab_type": "text",
    "id": "KbV9gut47sGb"
   },
   "source": [
    "We will shuffle the examples before doing anything else.\n",
    "\n",
    "This is usually a good idea\n",
    "- Many datasets are naturally arranged in a *non-random* order, e.g., examples with the sample label grouped together\n",
    "- You want to make sure that, when you split the examples into training and test examples, each split has a similar distribution of examples"
   ]
  },
  {
   "cell_type": "code",
   "execution_count": null,
   "metadata": {
    "colab": {},
    "colab_type": "code",
    "deletable": false,
    "editable": false,
    "id": "jLyx2K-xBBvr",
    "nbgrader": {
     "cell_type": "code",
     "checksum": "5a49e7f27c59fcd293de5264c7efaaae",
     "grade": false,
     "grade_id": "cell-9f1f107cbcd456da",
     "locked": true,
     "schema_version": 3,
     "solution": false
    }
   },
   "outputs": [],
   "source": [
    "# Shuffle the data first\n",
    "data, labels = sklearn.utils.shuffle(data, labels, random_state=42)"
   ]
  },
  {
   "cell_type": "markdown",
   "metadata": {
    "colab_type": "text",
    "id": "qJsL1nMH7sGe"
   },
   "source": [
    "## Have a look at the data\n",
    "\n",
    "We will not go through all steps in the Recipe, nor in depth.\n",
    "\n",
    "But here's a peek"
   ]
  },
  {
   "cell_type": "code",
   "execution_count": null,
   "metadata": {
    "colab": {
     "base_uri": "https://localhost:8080/",
     "height": 1000
    },
    "colab_type": "code",
    "deletable": false,
    "editable": false,
    "id": "0zuY0AOl_K1R",
    "nbgrader": {
     "cell_type": "code",
     "checksum": "8c4131ec53f7308cedbfacf445f24806",
     "grade": false,
     "grade_id": "cell-90cee4495de96935",
     "locked": true,
     "schema_version": 3,
     "solution": false
    },
    "outputId": "8e2ff048-a6b6-4919-e40d-8381aee59af7"
   },
   "outputs": [],
   "source": [
    "# Visualize the data samples\n",
    "helper.showData(data[:25], labels[:25])"
   ]
  },
  {
   "cell_type": "markdown",
   "metadata": {
    "colab_type": "text",
    "id": "hTglYDhj7sGh"
   },
   "source": [
    "## Eliminate the color dimension\n",
    "\n",
    "As a simplification, we will convert the image from color (RGB, with 3 \"color\" dimensions referred to as Red, Green and Blue) to gray scale.\n"
   ]
  },
  {
   "cell_type": "code",
   "execution_count": null,
   "metadata": {
    "colab": {},
    "colab_type": "code",
    "deletable": false,
    "editable": false,
    "id": "ACjfDj9H7sGh",
    "nbgrader": {
     "cell_type": "code",
     "checksum": "66c35d17cf68abdfeae8877d3a079a07",
     "grade": false,
     "grade_id": "cell-f5b3cb85e60d0d91",
     "locked": true,
     "schema_version": 3,
     "solution": false,
     "task": false
    },
    "outputId": "1dc784a0-6ef9-40ef-d76d-bd1eaf3ca78a"
   },
   "outputs": [],
   "source": [
    "print(\"Original shape of data: \", data.shape)\n",
    "\n",
    "w = (.299, .587, .114)\n",
    "data_bw = np.sum(data *w, axis=3)\n",
    "\n",
    "print(\"New shape of data: \", data_bw.shape)"
   ]
  },
  {
   "cell_type": "code",
   "execution_count": null,
   "metadata": {
    "colab": {},
    "colab_type": "code",
    "deletable": false,
    "editable": false,
    "id": "7VZjDoNw7sGk",
    "nbgrader": {
     "cell_type": "code",
     "checksum": "ca21d021fc4f2de5ddb3733cc265c998",
     "grade": false,
     "grade_id": "cell-f32e2dd733ff0184",
     "locked": true,
     "schema_version": 3,
     "solution": false,
     "task": false
    },
    "outputId": "575731e3-5380-4f2a-87c5-b43d7ec774f6"
   },
   "outputs": [],
   "source": [
    "# Visualize the data samples\n",
    "helper.showData(data_bw[:25], labels[:25], cmap=\"gray\")"
   ]
  },
  {
   "cell_type": "markdown",
   "metadata": {
    "colab_type": "text",
    "id": "6uCIcmcDmlkw"
   },
   "source": [
    "## Have  look at the data: Examine the image/label pairs\n",
    "\n",
    "Rather than viewing the examples in random order, let's group them by label.\n",
    "\n",
    "Perhaps we will learn something about the characteristics of images that contain ships.\n",
    "\n",
    "We have loaded and shuffled our dataset, now we will take a look at image/label pairs. \n",
    "\n",
    "Feel free to explore the data using your own ideas and techniques.\n"
   ]
  },
  {
   "cell_type": "code",
   "execution_count": null,
   "metadata": {
    "colab": {
     "base_uri": "https://localhost:8080/",
     "height": 1000
    },
    "colab_type": "code",
    "deletable": false,
    "editable": false,
    "id": "2k9YAbAZDbqE",
    "nbgrader": {
     "cell_type": "code",
     "checksum": "a1a74f7486c098e8000c8f4f2524bd0c",
     "grade": false,
     "grade_id": "cell-4f5e0d3c18f2d4b8",
     "locked": true,
     "schema_version": 3,
     "solution": false
    },
    "outputId": "c24286e7-6991-4b78-9716-bad69e27ccfd"
   },
   "outputs": [],
   "source": [
    "# Inspect some data (images)\n",
    "num_each_label = 10\n",
    "\n",
    "for lab in np.unique(labels):\n",
    "    # Fetch images with different labels\n",
    "    X_lab, y_lab = data_bw[ labels == lab ], labels[ labels == lab]\n",
    "    # Display images\n",
    "    fig = helper.showData( X_lab[:num_each_label], [ str(label) for label in y_lab[:num_each_label] ], cmap=\"gray\")\n",
    "    _= fig.suptitle(\"Label: \"+  str(lab), fontsize=14)\n",
    "    _= fig.show()\n",
    "    print(\"\\n\\n\")\n"
   ]
  },
  {
   "cell_type": "markdown",
   "metadata": {
    "colab_type": "text",
    "id": "TbTSC2dW7sGo"
   },
   "source": [
    "It appears that a photo is labeled as having a ship present only if the ship is in the **center** of the photo. \n",
    "\n",
    "Perhaps this prevents us from double-counting.\n",
    "\n",
    "In any event: we have learned something about the examples that may help us in building models\n",
    "- Perhaps there is some feature engineering that we can perform to better enable classification"
   ]
  },
  {
   "cell_type": "markdown",
   "metadata": {
    "colab_type": "text",
    "id": "aHnlcZ4WNN1T"
   },
   "source": [
    "## Create a test set\n",
    "\n",
    "To train and evaluate a model, we need to split the original dataset into\n",
    "a training subset (in-sample) and a test subset (out of sample).\n",
    "\n",
    "**Question:**\n",
    "\n",
    "Split the data\n",
    "- Set X_train, X_test, y_train and y_tests to match the description in the comment\n",
    "- 90% will be used for training the model\n",
    "- 10% will be used as validation (out of sample) examples\n",
    "\n",
    "**Hint:**\n",
    "- Use `train_test_split()` from `sklearn` to perform this split\n",
    "    -  Set the `random_state` parameter of `train_test_split()` to be 42\n",
    "\n",
    "We will help you by\n",
    "- Assigning the feature vectors to X and the labels to y\n",
    "- Flattening the two dimensional spatial dimensions of the features to a single dimension"
   ]
  },
  {
   "cell_type": "code",
   "execution_count": null,
   "metadata": {
    "colab": {},
    "colab_type": "code",
    "deletable": false,
    "id": "OhmoI5erNf7I",
    "nbgrader": {
     "cell_type": "code",
     "checksum": "d8040392cc5c6b3688588200bb2f0a40",
     "grade": false,
     "grade_id": "cell-833fa27d89a1170e",
     "locked": false,
     "schema_version": 3,
     "solution": true,
     "task": false
    }
   },
   "outputs": [],
   "source": [
    "from sklearn.model_selection import train_test_split\n",
    "\n",
    "y = labels\n",
    "X = data_bw\n",
    "\n",
    "X_train = None\n",
    "X_test = None\n",
    "y_train = None\n",
    "y_test = None\n",
    "\n",
    "### Flatten X\n",
    "X = X.reshape(X.shape[0], -1)\n",
    "\n",
    "# Split data into train and test\n",
    "# Create variables X_train, X_test, y_train, y_test\n",
    "#   X_train: training examples\n",
    "#   y_train: labels of the training examples\n",
    "#   X_test:  test examples\n",
    "#   y_test:  labels of test examples\n",
    "\n",
    "# YOUR CODE HERE\n",
    "raise NotImplementedError()\n",
    "\n",
    "print(\"X_train shape: \", X_train.shape)\n",
    "print(\"X_test shape: \", X_test.shape)\n",
    "print(\"y_train shape: \", y_train.shape)\n",
    "print(\"y_test shape: \", y_test.shape)"
   ]
  },
  {
   "cell_type": "markdown",
   "metadata": {},
   "source": [
    "Your expected outputs should be following        \n",
    "`X_train shape:  (3600, 6400)`      \n",
    "`X_test shape:  (400, 6400)`      \n",
    "`y_train shape:  (3600,)`       \n",
    "`y_test shape:  (400,)`      \n"
   ]
  },
  {
   "cell_type": "code",
   "execution_count": null,
   "metadata": {
    "deletable": false,
    "editable": false,
    "nbgrader": {
     "cell_type": "code",
     "checksum": "cbd785cfe34045e84e87d572479d1064",
     "grade": true,
     "grade_id": "check-split-data",
     "locked": true,
     "points": 10,
     "schema_version": 3,
     "solution": false
    }
   },
   "outputs": [],
   "source": []
  },
  {
   "cell_type": "markdown",
   "metadata": {
    "colab_type": "text",
    "id": "7JTJltPLJYp3"
   },
   "source": [
    "# Prepare the data and Classifier\n",
    "\n",
    "**Questions:**\n",
    "\n",
    "You will transform the data and create a Classifier.\n",
    "\n",
    "The requirements are as follows:\n",
    "\n",
    "- Transform the features (i.e., the pixel grids) into standardized values (mean 0, unit standard deviation)\n",
    "    - Set a variable `scaler` to be your scaler\n",
    "- Create an `sklearn` Classifier\n",
    "    - Set variable `clf` to be be your Classifier object\n",
    "    - We recommend trying Logistic Regression first\n",
    "        - `sklearn`'s implementation of Logistic Regression has many parameter choices\n",
    "        - We recommend starting with the single parameter `solver=\"liblinear\"`\n",
    "        - You may want to use the `sklearn` manual to learn about the other parameters\n",
    "\n",
    "**Hints:**\n",
    "\n",
    "- Look up `StandardScaler` in `sklearn`; this is a transformation to create standardized values\n",
    "- You will use transformed examples both for training and test examples\n",
    "    - So be sure that you can perform the transformation on both sets of examples\n",
    "- Using `Pipeline` in `sklearn`, whose last element is a model, is a very convenient way to\n",
    "    - Implement transformations and perform model fitting/prediction\n",
    "    - In a way that ensures that all examples, both training and test, are treated consistently\n",
    "    - Enables Cross Validation without cheating\n"
   ]
  },
  {
   "cell_type": "code",
   "execution_count": null,
   "metadata": {
    "colab": {},
    "colab_type": "code",
    "deletable": false,
    "id": "BUoDjyDg7sGs",
    "nbgrader": {
     "cell_type": "code",
     "checksum": "aabdfeab2d2a0dcb1abf0b29e4e2f1fd",
     "grade": false,
     "grade_id": "cell-0af1c285a32b0a98",
     "locked": false,
     "schema_version": 3,
     "solution": true,
     "task": false
    }
   },
   "outputs": [],
   "source": [
    "import time\n",
    "from sklearn.linear_model import LogisticRegression\n",
    "from sklearn.model_selection import train_test_split, cross_val_score\n",
    "from sklearn.preprocessing import StandardScaler\n",
    "\n",
    "from sklearn.pipeline import Pipeline\n",
    "\n",
    "\n",
    "## Data Scaler\n",
    "#  Create a StandardScaler object\n",
    "#    scaler: sklearn standard scaler\n",
    "scaler = None\n",
    "\n",
    "# YOUR CODE HERE\n",
    "raise NotImplementedError()\n",
    "\n",
    "\n",
    "## Classification Model\n",
    "#  Create a classifier\n",
    "#    clf: sklearn classifier\n",
    "#    name: string, name of your classifier\n",
    "#    model_pipeline: sklearn Pipeline, if you use pipeline, please use this variable\n",
    "clf = None\n",
    "name = None\n",
    "\n",
    "# YOUR CODE HERE\n",
    "raise NotImplementedError()"
   ]
  },
  {
   "cell_type": "code",
   "execution_count": null,
   "metadata": {
    "deletable": false,
    "editable": false,
    "nbgrader": {
     "cell_type": "code",
     "checksum": "c9d823b694752ca74b208f2abc56dfcd",
     "grade": true,
     "grade_id": "check-prepare-data",
     "locked": true,
     "points": 20,
     "schema_version": 3,
     "solution": false
    }
   },
   "outputs": [],
   "source": []
  },
  {
   "cell_type": "markdown",
   "metadata": {
    "colab_type": "text",
    "id": "L3jgDAXy7sGv"
   },
   "source": [
    "## Train model\n",
    "\n",
    "**Question:**\n",
    "- Use your Classifier or model pipeline to train your dataset and compute the in-sample accuracy\n",
    "    - Set a variable `score_in_sample` to store the in-sample accuracy \n",
    "\n",
    "**Hint:**\n",
    "- The `sklearn` function `accuracy_score` may be helpful\n"
   ]
  },
  {
   "cell_type": "code",
   "execution_count": null,
   "metadata": {
    "deletable": false,
    "nbgrader": {
     "cell_type": "code",
     "checksum": "2dd1b28b18831513de1de29c31a3cc41",
     "grade": false,
     "grade_id": "cell-77e72488f79849af",
     "locked": false,
     "schema_version": 3,
     "solution": true,
     "task": false
    }
   },
   "outputs": [],
   "source": [
    "from sklearn.metrics import accuracy_score\n",
    "# Set variable\n",
    "# score_in_sample: a scalar number, score for your in-sample examples\n",
    "score_in_sample = None\n",
    "\n",
    "# YOUR CODE HERE\n",
    "raise NotImplementedError()\n",
    "\n",
    "print(\"Model: {m:s} in sample score={s:3.2f}\\n\".format(m=name, s=score_in_sample))"
   ]
  },
  {
   "cell_type": "code",
   "execution_count": null,
   "metadata": {
    "deletable": false,
    "editable": false,
    "nbgrader": {
     "cell_type": "code",
     "checksum": "0a48e0f27216251560559b7a625eeb87",
     "grade": true,
     "grade_id": "check-train",
     "locked": true,
     "points": 20,
     "schema_version": 3,
     "solution": false
    }
   },
   "outputs": [],
   "source": []
  },
  {
   "cell_type": "markdown",
   "metadata": {},
   "source": [
    "## Train the model using Cross Validation\n",
    "\n",
    "Since we only have one test set, we want to use 5-fold cross validation check model performance.\n",
    "\n",
    "**Question:**\n",
    "- Use 5-fold Cross Validation\n",
    "    - Set `cross_val_scores` as your scores of k-fold results\n",
    "    - Set `k` as the number of folds\n",
    "    - Report the average score\n",
    "\n",
    "\n",
    "**Hint:**\n",
    "- `cross_val_score` in `sklearn` will be useful\n"
   ]
  },
  {
   "cell_type": "code",
   "execution_count": null,
   "metadata": {
    "colab": {},
    "colab_type": "code",
    "deletable": false,
    "id": "_OyTPu367sGw",
    "nbgrader": {
     "cell_type": "code",
     "checksum": "4a1b358081589d1d9fa7075eae0ea1e0",
     "grade": false,
     "grade_id": "cell-64ee37acbcd97995",
     "locked": false,
     "schema_version": 3,
     "solution": true,
     "task": false
    },
    "outputId": "5ba431a9-2837-4c6c-d288-5d7831e98e6c"
   },
   "outputs": [],
   "source": [
    "# Set variable \n",
    "#  scores: an array of scores (length 5), one for each fold that is out-of-sample during cross-validation\n",
    "#  k: number of folds\n",
    "cross_val_scores = None\n",
    "k = 5\n",
    "\n",
    "t0 = time.time()\n",
    "\n",
    "# YOUR CODE HERE\n",
    "raise NotImplementedError()\n",
    "\n",
    "print(\"Model: {m:s} avg cross validation score={s:3.2f}\\n\".format(m=name, s=cross_val_scores.mean()) )"
   ]
  },
  {
   "cell_type": "code",
   "execution_count": null,
   "metadata": {
    "deletable": false,
    "editable": false,
    "nbgrader": {
     "cell_type": "code",
     "checksum": "97e5545454ae5e965d976b3277d092c7",
     "grade": true,
     "grade_id": "check-cross-validatoin",
     "locked": true,
     "points": 20,
     "schema_version": 3,
     "solution": false
    }
   },
   "outputs": [],
   "source": []
  },
  {
   "cell_type": "markdown",
   "metadata": {
    "colab_type": "text",
    "id": "BHsceFTbpnvr"
   },
   "source": [
    "# How many parameters in the model ?\n",
    "\n",
    "**Question:** \n",
    "\n",
    "- Calculate the number of parameters in your model. Report only the number of *non-intercept* parameters. \n",
    "   - Set `num_parameters` to store the number of parameters\n",
    "\n",
    "**Hint:** \n",
    "\n",
    "- The model object may have a method to help you ! Remember that Jupyter can help you find the methods that an object implements.\n"
   ]
  },
  {
   "cell_type": "code",
   "execution_count": null,
   "metadata": {
    "colab": {},
    "colab_type": "code",
    "deletable": false,
    "id": "GtuF8Q_37sGy",
    "nbgrader": {
     "cell_type": "code",
     "checksum": "00250313ea724ae8425e106fe5d1d2bb",
     "grade": false,
     "grade_id": "cell-a6d57157907e7f21",
     "locked": false,
     "schema_version": 3,
     "solution": true,
     "task": false
    },
    "outputId": "68211822-cdb6-41c6-ee45-c74707b24961"
   },
   "outputs": [],
   "source": [
    "# Set num_parameters equal to the number of non-intercept parameters in the model\n",
    "num_parameters = None\n",
    "\n",
    "# YOUR CODE HERE\n",
    "raise NotImplementedError()\n",
    "\n",
    "print(\"\\nShape of intercept: {i}; shape of coefficients: {c}\".format(i=clf.intercept_.shape,\n",
    "                                                                   c=num_parameters) )"
   ]
  },
  {
   "cell_type": "code",
   "execution_count": null,
   "metadata": {
    "deletable": false,
    "editable": false,
    "nbgrader": {
     "cell_type": "code",
     "checksum": "5f2b37414496bd82f532f6236e784ba9",
     "grade": true,
     "grade_id": "check-parameters",
     "locked": true,
     "points": 10,
     "schema_version": 3,
     "solution": false
    }
   },
   "outputs": [],
   "source": []
  },
  {
   "cell_type": "markdown",
   "metadata": {
    "colab_type": "text",
    "id": "3hR7QB27Jhx8"
   },
   "source": [
    "# Evaluate the model\n",
    "\n",
    "**Question:**\n",
    "\n",
    "We have trained our model. We now need to  evaluate the model using the test dataset created in an earlier cell.\n",
    "\n",
    "Please store the model accuracy on the test set in a variable named `score_out_of_sample`.   \n",
    "\n",
    "**Hint:**\n",
    "- If you have transformed examples for training, you must perform the same transformation for test examples !\n",
    "\n",
    "- Remember: you *fit* the transformations only on the training examples, not on the test examples !"
   ]
  },
  {
   "cell_type": "code",
   "execution_count": null,
   "metadata": {
    "colab": {},
    "colab_type": "code",
    "deletable": false,
    "id": "7e6Zfj1Q7sG1",
    "nbgrader": {
     "cell_type": "code",
     "checksum": "afe52d28f5c89a3a45f3f2946f8abdc9",
     "grade": false,
     "grade_id": "cell-d570c0a2838335d5",
     "locked": false,
     "schema_version": 3,
     "solution": true,
     "task": false
    },
    "outputId": "bd213b01-963b-4f5d-e4ca-fedb457e775e"
   },
   "outputs": [],
   "source": [
    "# Set variable to store the model accuracy on the test set\n",
    "score_out_of_sample = None\n",
    "\n",
    "# YOUR CODE HERE\n",
    "raise NotImplementedError()\n",
    "\n",
    "print(\"Model: {m:s} out-of-sample score={s:3.2f}\\n\".format(m=name, s=score_out_of_sample))"
   ]
  },
  {
   "cell_type": "code",
   "execution_count": null,
   "metadata": {
    "deletable": false,
    "editable": false,
    "nbgrader": {
     "cell_type": "code",
     "checksum": "77133443ae1ee4de8d456d018215dbc4",
     "grade": true,
     "grade_id": "check-evaluation",
     "locked": true,
     "points": 10,
     "schema_version": 3,
     "solution": false
    }
   },
   "outputs": [],
   "source": []
  },
  {
   "cell_type": "markdown",
   "metadata": {
    "colab_type": "text",
    "id": "zykBPmub7sG3"
   },
   "source": [
    "# Visualize the parameters\n",
    "\n",
    "Remember: there is a one-to-one association between parameters and input features (pixels).\n",
    "\n",
    "So we can arrange the parameters into the same two dimensional grid structure as images.\n",
    "\n",
    "This might tell us what \"pattern\" of features the model is trying to match."
   ]
  },
  {
   "cell_type": "code",
   "execution_count": null,
   "metadata": {
    "colab": {},
    "colab_type": "code",
    "deletable": false,
    "editable": false,
    "id": "Aom7i5MO7sG3",
    "nbgrader": {
     "cell_type": "code",
     "checksum": "6b53710449995135a9292d04543a05f9",
     "grade": false,
     "grade_id": "cell-77256984ec793df7",
     "locked": true,
     "schema_version": 3,
     "solution": false,
     "task": false
    },
    "outputId": "679b09f0-2a04-437b-9921-75b3d1c661ed"
   },
   "outputs": [],
   "source": [
    "helper.model_interpretation(clf)"
   ]
  },
  {
   "cell_type": "markdown",
   "metadata": {
    "colab_type": "text",
    "collapsed": true,
    "id": "z0MUgbKP7sG6"
   },
   "source": [
    "# Further Exploration (Optional)\n",
    "Now you can build your own model using what you have learned from the course. Some ideas to try:\n",
    "- Was it a good idea to drop the \"color\" dimension by converting the 3 color channels to a single one ?\n",
    "- Can you interpret the coefficients of the model ?  Is there a discernible \"pattern\" being matched ?\n",
    "- Feature engineering !\n",
    "    - Come up with some ideas for features that may be predictive, e.g, patterns of pixels\n",
    "    - Test them\n",
    "- Use Error Analysis to guide your feature engineering\n",
    "- Add a *regularization penalty* to your loss function\n",
    "    - How does this affect\n",
    "        - The in-sample fit ?\n",
    "        - The visualization of the parameters\n",
    "    - **Hint**: The `sklearn` `LogisticRegression` model\n",
    "        - has several choices for the `penalty` parameter\n",
    "        - has a variable value for the regularization strength parameter `C`\n",
    "\n",
    "Observe the effect of each change on the Loss and Accuracy.\n"
   ]
  },
  {
   "cell_type": "code",
   "execution_count": null,
   "metadata": {},
   "outputs": [],
   "source": [
    "print(\"Done\")"
   ]
  }
 ],
 "metadata": {
  "accelerator": "GPU",
  "colab": {
   "collapsed_sections": [],
   "name": "Ships_in_satellite_images.ipynb",
   "provenance": [],
   "toc_visible": true
  },
  "kernelspec": {
   "display_name": "Python 3",
   "language": "python",
   "name": "python3"
  },
  "language_info": {
   "codemirror_mode": {
    "name": "ipython",
    "version": 3
   },
   "file_extension": ".py",
   "mimetype": "text/x-python",
   "name": "python",
   "nbconvert_exporter": "python",
   "pygments_lexer": "ipython3",
   "version": "3.7.4"
  },
  "toc": {
   "base_numbering": 1,
   "nav_menu": {},
   "number_sections": true,
   "sideBar": true,
   "skip_h1_title": false,
   "title_cell": "Table of Contents",
   "title_sidebar": "Contents",
   "toc_cell": false,
   "toc_position": {},
   "toc_section_display": true,
   "toc_window_display": true
  }
 },
 "nbformat": 4,
 "nbformat_minor": 1
}
