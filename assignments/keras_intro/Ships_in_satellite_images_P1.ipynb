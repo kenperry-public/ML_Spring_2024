{
 "cells": [
  {
   "cell_type": "markdown",
   "metadata": {},
   "source": [
    "Before you turn this problem in, make sure everything runs as expected. First, **restart the kernel** (in the menubar, select Kernel$\\rightarrow$Restart) and then **run all cells** (in the menubar, select Cell$\\rightarrow$Run All).\n",
    "\n",
    "Make sure you fill in any place that says `YOUR CODE HERE` or \"YOUR ANSWER HERE\", as well as your name and collaborators below:"
   ]
  },
  {
   "cell_type": "code",
   "execution_count": null,
   "metadata": {},
   "outputs": [],
   "source": [
    "NAME = \"\"\n",
    "COLLABORATORS = \"\""
   ]
  },
  {
   "cell_type": "markdown",
   "metadata": {},
   "source": [
    "---"
   ]
  },
  {
   "cell_type": "markdown",
   "metadata": {
    "colab_type": "text",
    "deletable": false,
    "editable": false,
    "id": "6N2CBGINh8Pv",
    "nbgrader": {
     "checksum": "bfc0fc5314fa465547b088cef9e401ca",
     "grade": false,
     "grade_id": "cell-781158b4d8582eff",
     "locked": true,
     "schema_version": 3,
     "solution": false
    }
   },
   "source": [
    "# Problem description\n",
    "\n",
    "To a large degree, financial data has traditionally been numeric in format.\n",
    "\n",
    "But in recent years, non-numeric formats like image, text and audio have been introduced.  \n",
    "\n",
    "Private companies have satellites orbiting the Earth taking photos and offering them to customers.  A financial analyst might be able to extract information from these photos that could aid in the prediction of the future price of a stock\n",
    "\n",
    "- Approximate number of customers visiting each store: count number of cars in parking lot\n",
    "- Approximate activity in a factory by counting number of supplier trucks arriving and number of delivery trucks leaving\n",
    "- Approximate demand for a commodity at each location: count cargo ships traveling between ports\n",
    "\n",
    "In this assignment, we will attempt to recognize ships in satellite photos.\n",
    "This would be a first step toward\n",
    "counting.\n",
    "\n",
    "As in any other domain: specific knowledge of the problem area will make you a better analyst.\n",
    "\n",
    "For this assignment, we will ignore domain-specific information and just try to use a labeled training set (photo plus a binary indicator for whether a ship is present/absent in the photo), assuming that the labels are perfect.\n",
    "\n"
   ]
  },
  {
   "cell_type": "markdown",
   "metadata": {
    "colab_type": "text",
    "deletable": false,
    "editable": false,
    "id": "CeLXwiRUkM7E",
    "nbgrader": {
     "checksum": "5e992797635a883e646ec17ca24a32f2",
     "grade": false,
     "grade_id": "cell-927d32994455c2a4",
     "locked": true,
     "schema_version": 3,
     "solution": false
    }
   },
   "source": [
    "## Goal: \n",
    "\n",
    "In this notebook, you will need to create a model in `TensorFlow/Keras` to classify satellite photos.\n",
    "- The features are images: 3 dimensional collection of pixels\n",
    "  - 2 spatial dimensions\n",
    "  - 1 dimension with 3 features for different parts of the color spectrum: Red, Green, Blue\n",
    "- The labels are either 1 (ship is present) or 0 (ship is not present)\n",
    "\n",
    "There are two notebook files in this assignment:\n",
    "- The one you are viewing now: First and only notebook you need to work on. \n",
    "    - Train your models here\n",
    "    - There are cells that will save your models to a file\n",
    "- **`Model_test.ipynb`**:\n",
    "    - PLEASE IGNORE    \n",
    "\n",
    "You will create several Keras `Sequential` models, of increasing complexity\n",
    "- A model that implements only a Classification Head (no transformations other than perhaps rearranging the image)\n",
    "- A model that adds a Dense layer before the head\n",
    "- (Later assignment) A model that adds Convolutional layers before the Head"
   ]
  },
  {
   "cell_type": "markdown",
   "metadata": {
    "colab_type": "text",
    "deletable": false,
    "editable": false,
    "id": "0EI8sBAa9-u0",
    "nbgrader": {
     "checksum": "aab93a817b14002208ee4b6f44299c05",
     "grade": false,
     "grade_id": "cell-bbc7640b0aa2f6b9",
     "locked": true,
     "schema_version": 3,
     "solution": false
    }
   },
   "source": [
    "## Learning objectives\n",
    "- Learn how to construct Neural Networks using Keras Sequential model\n",
    "- Appreciate how layer choices impact number of weights"
   ]
  },
  {
   "cell_type": "markdown",
   "metadata": {
    "colab_type": "text",
    "deletable": false,
    "editable": false,
    "id": "YxXiLgtXAdYS",
    "nbgrader": {
     "checksum": "e53ba51c39f2ffca153b2f341715db6a",
     "grade": false,
     "grade_id": "cell-3fe918b7fc402898",
     "locked": true,
     "schema_version": 3,
     "solution": false
    }
   },
   "source": [
    "# Imports modules"
   ]
  },
  {
   "cell_type": "code",
   "execution_count": null,
   "metadata": {
    "colab": {},
    "colab_type": "code",
    "deletable": false,
    "editable": false,
    "id": "OrjN4zPEAfQb",
    "nbgrader": {
     "checksum": "d18a8811925bc61afb1889b590b20f0f",
     "grade": false,
     "grade_id": "cell-070cebdd7ee912db",
     "locked": true,
     "schema_version": 3,
     "solution": false
    }
   },
   "outputs": [],
   "source": [
    "## Standard imports\n",
    "import numpy as np\n",
    "import pandas as pd\n",
    "import matplotlib.pyplot as plt\n",
    "\n",
    "import sklearn\n",
    "\n",
    "import os\n",
    "import math\n",
    "\n",
    "%matplotlib inline\n",
    "\n",
    "\n",
    "## Import tensorflow and check the version\n",
    "import tensorflow as tf\n",
    "from tensorflow.keras.utils import plot_model\n",
    "\n",
    "print(\"Running TensorFlow version \",tf.__version__)\n",
    "\n",
    "# Parse tensorflow version\n",
    "import re\n",
    "\n",
    "version_match = re.match(\"([0-9]+)\\.([0-9]+)\", tf.__version__)\n",
    "tf_major, tf_minor = int(version_match.group(1)) , int(version_match.group(2))\n",
    "print(\"Version {v:d}, minor {m:d}\".format(v=tf_major, m=tf_minor) )"
   ]
  },
  {
   "cell_type": "markdown",
   "metadata": {
    "colab_type": "text",
    "deletable": false,
    "editable": false,
    "id": "O7LEiY7ilZpz",
    "nbgrader": {
     "checksum": "2bd024b226b0ce2d9590e1d712c7e0d6",
     "grade": false,
     "grade_id": "cell-1005e0ae8cabee0e",
     "locked": true,
     "schema_version": 3,
     "solution": false
    }
   },
   "source": [
    "# API for students\n",
    "\n",
    "We have defined some utility routines in a file `helper.py`. There is a class named `Helper` in it.  \n",
    "\n",
    "This will simplify problem solving\n",
    "\n",
    "More importantly: it adds structure to your submission so that it may be easily graded\n",
    "\n",
    "`helper = helper.Helper()`\n",
    "\n",
    "- getData: Get a collection of labeled images, used as follows\n",
    "\n",
    "  >`data, labels = helper.getData()`\n",
    "- showData: Visualize labelled images, used as follows\n",
    "\n",
    "  >`helper.showData(data, labels)`\n",
    "- plot training results: Visualize training accuracy, loss and validation accuracy, loss\n",
    "\n",
    "  >`helper.plotTrain(history, modelName)`, where history is the result of model training\n",
    "- save model: save a model in `./models` directory\n",
    "\n",
    "  >`helper.saveModel(model, modelName)`\n",
    "- save history: save a model history in `./models` directory\n",
    "  >`helper.saveHistory(history, modelName)`"
   ]
  },
  {
   "cell_type": "code",
   "execution_count": null,
   "metadata": {
    "deletable": false,
    "editable": false,
    "nbgrader": {
     "checksum": "537c8b189afcf703e5b585be3ed293bf",
     "grade": false,
     "grade_id": "cell-31941e636a7394ca",
     "locked": true,
     "schema_version": 3,
     "solution": false
    }
   },
   "outputs": [],
   "source": [
    "# Load the helper module\n",
    "from IPython.core.interactiveshell import InteractiveShell\n",
    "InteractiveShell.ast_node_interactivity = \"all\"\n",
    "\n",
    "# Reload all modules imported with %aimport\n",
    "%reload_ext autoreload\n",
    "%autoreload 1\n",
    "\n",
    "# Import nn_helper module\n",
    "import helper\n",
    "%aimport helper\n",
    "\n",
    "helper = helper.Helper()\n"
   ]
  },
  {
   "cell_type": "markdown",
   "metadata": {
    "colab_type": "text",
    "deletable": false,
    "editable": false,
    "id": "6qfyKiQ3FTXu",
    "nbgrader": {
     "checksum": "71d2e5eb8a5cd27428c5ef7505e21f7d",
     "grade": false,
     "grade_id": "cell-e4d6b6651f9d5e13",
     "locked": true,
     "schema_version": 3,
     "solution": false
    }
   },
   "source": [
    "# Get the data\n",
    "\n",
    "The first step in our Recipe is Get the Data.\n",
    "\n",
    "We have provided a utility method `getData` to simplify this for you"
   ]
  },
  {
   "cell_type": "code",
   "execution_count": null,
   "metadata": {
    "colab": {
     "base_uri": "https://localhost:8080/",
     "height": 102
    },
    "colab_type": "code",
    "deletable": false,
    "editable": false,
    "id": "5TGSVUf6FVis",
    "nbgrader": {
     "checksum": "206023ebac88c2246711e72e860e60d9",
     "grade": false,
     "grade_id": "cell-0c6e43d865e98cc5",
     "locked": true,
     "schema_version": 3,
     "solution": false
    },
    "outputId": "f529d119-8369-4b18-8d57-559333cb50cb"
   },
   "outputs": [],
   "source": [
    "# Get the data\n",
    "data, labels = helper.getData()\n",
    "n_samples, width, height, channel = data.shape\n",
    "\n",
    "print(\"Data shape: \", data.shape)\n",
    "print(\"Labels shape: \", labels.shape)\n",
    "print(\"Label values: \", np.unique(labels))\n",
    "\n"
   ]
  },
  {
   "cell_type": "markdown",
   "metadata": {},
   "source": [
    "We will shuffle the examples before doing anything else.\n",
    "\n",
    "This is usually a good idea\n",
    "- Many datasets are naturally arranged in a *non-random* order, e.g., examples with the sample label grouped together\n",
    "- You want to make sure that, when you split the examples into training and test examples, each split has a similar distribution of examples"
   ]
  },
  {
   "cell_type": "code",
   "execution_count": null,
   "metadata": {
    "colab": {},
    "colab_type": "code",
    "deletable": false,
    "editable": false,
    "id": "jLyx2K-xBBvr",
    "nbgrader": {
     "checksum": "5a49e7f27c59fcd293de5264c7efaaae",
     "grade": false,
     "grade_id": "cell-9f1f107cbcd456da",
     "locked": true,
     "schema_version": 3,
     "solution": false
    }
   },
   "outputs": [],
   "source": [
    "# Shuffle the data first\n",
    "data, labels = sklearn.utils.shuffle(data, labels, random_state=42)"
   ]
  },
  {
   "cell_type": "markdown",
   "metadata": {},
   "source": [
    "## Have a look at the data\n",
    "\n",
    "We will not go through all steps in the Recipe, nor in depth.\n",
    "\n",
    "But here's a peek\n",
    "\n"
   ]
  },
  {
   "cell_type": "code",
   "execution_count": null,
   "metadata": {
    "colab": {
     "base_uri": "https://localhost:8080/",
     "height": 1000
    },
    "colab_type": "code",
    "deletable": false,
    "editable": false,
    "id": "0zuY0AOl_K1R",
    "nbgrader": {
     "checksum": "8c4131ec53f7308cedbfacf445f24806",
     "grade": false,
     "grade_id": "cell-90cee4495de96935",
     "locked": true,
     "schema_version": 3,
     "solution": false
    },
    "outputId": "8e2ff048-a6b6-4919-e40d-8381aee59af7"
   },
   "outputs": [],
   "source": [
    "# Visualize the data samples\n",
    "helper.showData(data[:25], labels[:25])"
   ]
  },
  {
   "cell_type": "markdown",
   "metadata": {},
   "source": [
    "## Eliminate the color dimension\n",
    "\n",
    "As a simplification, we will convert the image from color (RGB, with 3 \"color\" dimensions referred to as Red, Green and Blue) to gray scale.\n"
   ]
  },
  {
   "cell_type": "code",
   "execution_count": null,
   "metadata": {},
   "outputs": [],
   "source": [
    "print(\"Original shape of data: \", data.shape)\n",
    "\n",
    "w = (.299, .587, .114)\n",
    "data_bw = np.sum(data *w, axis=3)\n",
    "\n",
    "print(\"New shape of data: \", data_bw.shape)\n",
    "\n",
    "data_orig = data.copy()"
   ]
  },
  {
   "cell_type": "code",
   "execution_count": null,
   "metadata": {},
   "outputs": [],
   "source": [
    "# Visualize the data samples\n",
    "helper.showData(data_bw[:25], labels[:25], cmap=\"gray\")"
   ]
  },
  {
   "cell_type": "markdown",
   "metadata": {
    "colab_type": "text",
    "deletable": false,
    "editable": false,
    "id": "6uCIcmcDmlkw",
    "nbgrader": {
     "checksum": "69971bd52dd89d315a4178ec2b1a6875",
     "grade": false,
     "grade_id": "cell-cdda65487ad48f16",
     "locked": true,
     "schema_version": 3,
     "solution": false
    }
   },
   "source": [
    "## Have  look at the data: Examine the image/label pairs\n",
    "\n",
    "Rather than viewing the examples in random order, let's group them by label.\n",
    "\n",
    "Perhaps we will learn something about the characteristics of images that contain ships.\n",
    "\n",
    "We have loaded and shuffled our dataset, now we will take a look at image/label pairs. \n",
    "\n",
    "Feel free to explore the data using your own ideas and techniques.\n",
    "\n"
   ]
  },
  {
   "cell_type": "code",
   "execution_count": null,
   "metadata": {
    "colab": {
     "base_uri": "https://localhost:8080/",
     "height": 1000
    },
    "colab_type": "code",
    "deletable": false,
    "editable": false,
    "id": "2k9YAbAZDbqE",
    "nbgrader": {
     "checksum": "974d33fdf5602fb253893a018a76e45f",
     "grade": false,
     "grade_id": "cell-4f5e0d3c18f2d4b8",
     "locked": true,
     "schema_version": 3,
     "solution": false
    },
    "outputId": "c24286e7-6991-4b78-9716-bad69e27ccfd"
   },
   "outputs": [],
   "source": [
    "# Inspect some data (images)\n",
    "num_each_label = 10\n",
    "\n",
    "for lab in np.unique(labels):\n",
    "    # Fetch images with different labels\n",
    "    X_lab, y_lab = data_bw[ labels == lab ], labels[ labels == lab]\n",
    "    # Display images\n",
    "    fig = helper.showData( X_lab[:num_each_label], [ str(label) for label in y_lab[:num_each_label] ], cmap=\"gray\")\n",
    "    _ = fig.suptitle(\"Label: \"+  str(lab), fontsize=14)\n",
    "    print(\"\\n\\n\")\n"
   ]
  },
  {
   "cell_type": "markdown",
   "metadata": {
    "colab_type": "text",
    "deletable": false,
    "editable": false,
    "id": "i_418VKqmvwy",
    "nbgrader": {
     "checksum": "e9756d5625bcf177e6f4f3c85c18b7b4",
     "grade": false,
     "grade_id": "cell-34eb095f07300d27",
     "locked": true,
     "schema_version": 3,
     "solution": false
    }
   },
   "source": [
    "# Make sure the features are in the range [0,1]  \n",
    "\n",
    "**Warm up exercise:** When we want to train image data, the first thing we usually need to do is scaling. \n",
    "\n",
    "Since the feature values in our image data are between 0 and 255, to make them between 0 and 1, we need to divide them by 255.  \n",
    "\n",
    "We also need to consider how to represent our target values\n",
    "- If there are more than 2 possible target values, One Hot Encoding may be appropriate\n",
    "    - **Hint**: Lookup `tf.keras.utils.to_categorical`\n",
    "- If there are only 2 possible targets with values 0 and 1 we can use these targets without further encoding\n",
    "\n",
    "**Question**\n",
    "- Set variable `X` to be our gray-scale examples (`data_bw`), but with values in the range [0,1]\n",
    "- Set variable `y` to be the representation of our target values\n"
   ]
  },
  {
   "cell_type": "code",
   "execution_count": null,
   "metadata": {
    "colab": {},
    "colab_type": "code",
    "deletable": false,
    "id": "EBJaZ3qyDq65",
    "nbgrader": {
     "checksum": "a6d9e4b93a2f2c74eb059819631d00af",
     "grade": false,
     "grade_id": "Scale_the_data",
     "locked": false,
     "schema_version": 3,
     "solution": true,
     "task": false
    }
   },
   "outputs": [],
   "source": [
    "# Scale the data\n",
    "# Assign values for X, y\n",
    "#  X: the array of features\n",
    "#  y: the array of labels\n",
    "# The length of X and y should be identical and equal to the length of data.\n",
    "from tensorflow.keras.utils import to_categorical\n",
    "X, y = np.array([]), np.array([])\n",
    "\n",
    "# YOUR CODE HERE\n",
    "raise NotImplementedError()"
   ]
  },
  {
   "cell_type": "code",
   "execution_count": null,
   "metadata": {
    "deletable": false,
    "editable": false,
    "nbgrader": {
     "checksum": "a7641afc3e2aaa2cb7898ceeb4e28e5f",
     "grade": false,
     "grade_id": "cell-a80cad4b10d52d33",
     "locked": true,
     "schema_version": 3,
     "solution": false
    }
   },
   "outputs": [],
   "source": [
    "# Check if your solution is right \n",
    "\n",
    "assert X.shape == (4000, 80, 80)\n",
    "assert y.shape == (4000,)\n"
   ]
  },
  {
   "cell_type": "markdown",
   "metadata": {
    "colab_type": "text",
    "deletable": false,
    "editable": false,
    "id": "aHnlcZ4WNN1T",
    "nbgrader": {
     "checksum": "7292329e03fd9354da9f6e490e710040",
     "grade": false,
     "grade_id": "cell-96db16f7139d0dc5",
     "locked": true,
     "schema_version": 3,
     "solution": false
    }
   },
   "source": [
    "# Split data into training data and testing data\n",
    "To train and evaluate a model, we need to split the original dataset into\n",
    "a training subset (in-sample) and a test subset (out of sample).\n",
    "\n",
    "We will do this for you in the cell below.\n",
    "\n",
    "**DO NOT** shuffle the data until after we have performed the split into train/test sets\n",
    "- We want everyone to have the **identical** test set for grading\n",
    "- Do not change this cell\n"
   ]
  },
  {
   "cell_type": "code",
   "execution_count": null,
   "metadata": {
    "colab": {},
    "colab_type": "code",
    "deletable": false,
    "editable": false,
    "id": "OhmoI5erNf7I",
    "nbgrader": {
     "checksum": "64712b41f1274fc8f3fae0c384aa0744",
     "grade": false,
     "grade_id": "cell-833fa27d89a1170e",
     "locked": true,
     "schema_version": 3,
     "solution": false
    }
   },
   "outputs": [],
   "source": [
    "# Split data into train and test\n",
    "from sklearn.model_selection import train_test_split\n",
    "X_train, X_test, y_train, y_test = train_test_split(X, y, test_size=0.10, random_state=42)\n",
    "\n",
    "# Save X_train, X_test, y_train, y_test for final testing\n",
    "if not os.path.exists('./data'):\n",
    "    os.mkdir('./data')\n",
    "np.savez_compressed('./data/train_test_data.npz', X_train=X_train, X_test=X_test, y_train=y_train, y_test=y_test)"
   ]
  },
  {
   "cell_type": "markdown",
   "metadata": {
    "colab_type": "text",
    "deletable": false,
    "editable": false,
    "id": "7JTJltPLJYp3",
    "nbgrader": {
     "checksum": "b1a7457d3ff74b17d20660b16b0ef3c5",
     "grade": false,
     "grade_id": "cell-c3845037b6f7611c",
     "locked": true,
     "schema_version": 3,
     "solution": false
    }
   },
   "source": [
    "# Create a model using only Classification, no data transformation (other than reshaping)\n",
    "\n",
    "**Question:** You need to build a 1-layer (head layer only) network model with `tensorflow.keras`. Please name the head layer \"dense_head\".  \n",
    "\n",
    "Set variable `model0` to be a Keras `Sequential` model object that implements your model.\n",
    "\n",
    "**Hints:**\n",
    "1. Since the dataset is 2-dimensional, you may want to use `Flatten()` in `tensorflow.keras.layers` to make your input data 1 dimensional. \n",
    "    - The `input shape` argument of the `Flatten()` layer should be the shape of a single example\n",
    "2. The number of units in your head layer \n",
    "    - Depends on how you represented the target\n",
    "    - It should be equal to the final dimension of  `y`\n",
    "\n",
    "3. Activation function for the head layer: Since this is a classification problem\n",
    "    - Use  `sigmoid` if your target's final dimension equals 1\n",
    "    - Use  `softmax` if your target's final dimension is greater than 1\n",
    "\n",
    "- A Dropout layer maybe helpful to prevent overfitting and accelerate your training process. \n",
    "    - If you want to use a Dropout layer, you can use `Dropout()`, which is in  `tensorflow.keras.layers`. \n"
   ]
  },
  {
   "cell_type": "code",
   "execution_count": null,
   "metadata": {
    "colab": {
     "base_uri": "https://localhost:8080/",
     "height": 775
    },
    "colab_type": "code",
    "deletable": false,
    "id": "wFF00mA7PUYD",
    "nbgrader": {
     "checksum": "496b7c7c9683570db9b7566a07c1600e",
     "grade": false,
     "grade_id": "build_model_0",
     "locked": false,
     "schema_version": 3,
     "solution": true,
     "task": false
    },
    "outputId": "56c302a5-efba-4c2e-bb3e-08f58c6e4dd9"
   },
   "outputs": [],
   "source": [
    "# Get the number of unique labels\n",
    "num_cases = np.unique(labels).shape[0]\n",
    "if num_cases > 2:\n",
    "    activation = \"softmax\"\n",
    "    loss = 'categorical_crossentropy'\n",
    "else:\n",
    "    activation = \"sigmoid\"\n",
    "    num_cases = 1\n",
    "    loss = 'binary_crossentropy'\n",
    "    \n",
    "# Set model0 equal to a Keras Sequential model\n",
    "model0 = None\n",
    "\n",
    "# YOUR CODE HERE\n",
    "raise NotImplementedError()\n",
    "\n",
    "model0.summary()"
   ]
  },
  {
   "cell_type": "code",
   "execution_count": null,
   "metadata": {
    "deletable": false,
    "editable": false,
    "nbgrader": {
     "checksum": "ba001e3561de54b3ed7f79255eebf999",
     "grade": false,
     "grade_id": "cell-6a9c8bd396c77106",
     "locked": true,
     "schema_version": 3,
     "solution": false
    }
   },
   "outputs": [],
   "source": [
    "# We can plot our model here using plot_model()\n",
    "plot_model(model0)"
   ]
  },
  {
   "cell_type": "markdown",
   "metadata": {
    "deletable": false,
    "editable": false,
    "nbgrader": {
     "checksum": "46234c84d9ea666dc464a87822330172",
     "grade": false,
     "grade_id": "cell-30b12281f8b3ff4b",
     "locked": true,
     "schema_version": 3,
     "solution": false
    }
   },
   "source": [
    "## Train model\n",
    "\n",
    "**Question:**\n",
    "\n",
    "Now that you have built your first model, you will compile and train it. The requirements are as follows:\n",
    "\n",
    "- Split the **training** examples `X_train, y_train` again !\n",
    "    - 80% will be used for training the model\n",
    "    - 20% will be used as validation (out of sample) examples\n",
    "    - Use `train_test_split()` from `sklearn` to perform this split\n",
    "        -  Set the `random_state` parameter of `train_test_split()` to be 42\n",
    "\n",
    "- Loss function: \n",
    "    - `binary_crossentropy` if your target is one-dimensional\n",
    "    - `categorical_crossentropy`if your target is One Hot Encoded\n",
    "- Metric: \"accuracy\"\n",
    "- Use exactly 15  epochs for training\n",
    "- Save your training results in a variable named `history0`\n",
    "- Plot your training results using the`plotTrain` method described in the Student API above.\n"
   ]
  },
  {
   "cell_type": "code",
   "execution_count": null,
   "metadata": {
    "deletable": false,
    "nbgrader": {
     "checksum": "0c09cf3d37a6b41970765ea57a924ad1",
     "grade": false,
     "grade_id": "train_model_0",
     "locked": false,
     "schema_version": 3,
     "solution": true,
     "task": false
    }
   },
   "outputs": [],
   "source": [
    "model_name0 = \"Head only\"\n",
    "\n",
    "# YOUR CODE HERE\n",
    "raise NotImplementedError()"
   ]
  },
  {
   "cell_type": "markdown",
   "metadata": {
    "colab_type": "text",
    "deletable": false,
    "editable": false,
    "id": "BHsceFTbpnvr",
    "nbgrader": {
     "checksum": "5ba97ae5213806fb2515143575b5820a",
     "grade": false,
     "grade_id": "cell-e1886c4e415f795e",
     "locked": true,
     "schema_version": 3,
     "solution": false
    }
   },
   "source": [
    "## How many weights in the model ?\n",
    "\n",
    "**Question:** \n",
    "\n",
    "Calculate the number of parameters in your model.  \n",
    "\n",
    "Set variable `num_parameters0` to be equal to the number of parameters in your model.\n",
    "\n",
    "**Hint:** The model object may have a method to help you ! Remember that Jupyter can help you find the methods that an object implements.\n"
   ]
  },
  {
   "cell_type": "code",
   "execution_count": null,
   "metadata": {
    "colab": {},
    "colab_type": "code",
    "deletable": false,
    "id": "dgDetvgupt58",
    "nbgrader": {
     "checksum": "e57b9d8715dccf58ebe95c909ae50366",
     "grade": false,
     "grade_id": "num_of_parameters",
     "locked": false,
     "schema_version": 3,
     "solution": true,
     "task": false
    }
   },
   "outputs": [],
   "source": [
    "# Set num_parameters0 equal to the number of weights in the model\n",
    "num_parameters0 = None\n",
    "\n",
    "# YOUR CODE HERE\n",
    "raise NotImplementedError()\n",
    "\n",
    "print(\"Parameters number in model0: \", num_parameters0)"
   ]
  },
  {
   "cell_type": "markdown",
   "metadata": {
    "colab_type": "text",
    "deletable": false,
    "editable": false,
    "id": "3hR7QB27Jhx8",
    "nbgrader": {
     "checksum": "7b8d9891180d2506ce86f4dca27c36ec",
     "grade": false,
     "grade_id": "cell-89fa3731299113d7",
     "locked": true,
     "schema_version": 3,
     "solution": false
    }
   },
   "source": [
    "## Evaluate the model\n",
    "\n",
    "**Question:**\n",
    "\n",
    "We have trained our model. We now need to  evaluate the model using the test dataset created in an earlier cell.\n",
    "\n",
    "Please store the model score in a variable named `score0`.   \n",
    "\n",
    "**Hint:** The model object has a method  `evaluate`.  Use that to compute the score."
   ]
  },
  {
   "cell_type": "code",
   "execution_count": null,
   "metadata": {
    "colab": {
     "base_uri": "https://localhost:8080/",
     "height": 35
    },
    "colab_type": "code",
    "deletable": false,
    "id": "_y1rTpduJhkE",
    "nbgrader": {
     "checksum": "725a32e9ed3c93ca3e75e07434b9ca0b",
     "grade": false,
     "grade_id": "evaluate_model_0",
     "locked": false,
     "schema_version": 3,
     "solution": true,
     "task": false
    },
    "outputId": "8e8c0c99-2c80-4ec3-bab9-e08de97c3807"
   },
   "outputs": [],
   "source": [
    "score0 = []\n",
    "\n",
    "# YOUR CODE HERE\n",
    "raise NotImplementedError()\n",
    "\n",
    "print(\"{n:s}: Test loss: {l:3.2f} / Test accuracy: {a:3.2f}\".format(n=model_name0, l=score0[0], a=score0[1]))"
   ]
  },
  {
   "cell_type": "markdown",
   "metadata": {
    "colab_type": "text",
    "deletable": false,
    "editable": false,
    "id": "pNkyZ8VRd-d3",
    "nbgrader": {
     "checksum": "e892deef94afaba92aac77619938fee1",
     "grade": false,
     "grade_id": "cell-6aed77f4dd85c016",
     "locked": true,
     "schema_version": 3,
     "solution": false
    }
   },
   "source": [
    "## Save the trained model0 and history0 for submission\n",
    "\n",
    "Your fitted model can be saved for later use\n",
    "- In general: so you can resume training at a later time\n",
    "- In particular: to allow us to grade it !\n",
    "\n",
    "Execute the following cell to save your model, which you will submit to us for grading."
   ]
  },
  {
   "cell_type": "code",
   "execution_count": null,
   "metadata": {
    "colab": {
     "base_uri": "https://localhost:8080/",
     "height": 51
    },
    "colab_type": "code",
    "deletable": false,
    "editable": false,
    "id": "OesE2_-gd-d4",
    "nbgrader": {
     "checksum": "d606c0cf160b9933361a145e1ec69f44",
     "grade": false,
     "grade_id": "cell-c9cde4b2b69397c4",
     "locked": true,
     "schema_version": 3,
     "solution": false
    },
    "outputId": "c4cf36e4-00bc-4d73-8aa2-7cae8724f4a8"
   },
   "outputs": [],
   "source": [
    "helper.saveModel(model0, model_name0)\n",
    "helper.saveHistory(history0, model_name0)"
   ]
  },
  {
   "cell_type": "markdown",
   "metadata": {},
   "source": [
    "**Question:**\n",
    "\n",
    "Make sure that the saved model can be successfully restored.\n",
    "- Set variable `model_loss` to the value of the loss parameter you used in the `compile` statement for your model\n",
    "- Set variable `model_metrics` to the value of the metrics parameter you used in the `compile` statement for  your model"
   ]
  },
  {
   "cell_type": "code",
   "execution_count": null,
   "metadata": {
    "colab": {},
    "colab_type": "code",
    "deletable": false,
    "id": "A_E8q6JBd-d7",
    "nbgrader": {
     "checksum": "ffcdcbf036218311cc69e9805b51f25e",
     "grade": false,
     "grade_id": "cell-a006ec4f99fbefdb",
     "locked": false,
     "schema_version": 3,
     "solution": true,
     "task": false
    }
   },
   "outputs": [],
   "source": [
    "## Restore the model (make sure that it works)\n",
    "\n",
    "model_loss=None\n",
    "model_metrics=None\n",
    "\n",
    "# YOUR CODE HERE\n",
    "raise NotImplementedError()\n",
    "\n",
    "model_loaded = helper.loadModel(model_name0, loss=model_loss, metrics=model_metrics)\n",
    "score_loaded = model_loaded.evaluate(X_test, y_test, verbose=0)\n",
    "\n",
    "assert score_loaded[0] == score0[0] and score_loaded[1] == score0[1]"
   ]
  },
  {
   "cell_type": "markdown",
   "metadata": {
    "colab_type": "text",
    "deletable": false,
    "editable": false,
    "id": "JXX-_3_SKsla",
    "nbgrader": {
     "checksum": "c0ebe7ceb5eba607c2ab623c2aeb2186",
     "grade": false,
     "grade_id": "cell-67c1b5674378d4f6",
     "locked": true,
     "schema_version": 3,
     "solution": false
    }
   },
   "source": [
    "# Create a new model with an additional Dense layer \n",
    "\n",
    "**Question:** \n",
    "\n",
    "We will add more layers to the original model0. \n",
    "\n",
    "- You need to add **AT LEAST ONE** Dense layer followed by an activation function (for example, ReLU)\n",
    "    - You can add more layers if you like\n",
    "    \n",
    "- The number of units in your very **FIRST** Dense layer should be equal to the value of variable `num_features_1`, as set below.\n",
    "    - Please name this Dense layer \"dense_1\" and the head layer \"dense_head\". \n",
    "\n",
    "**Hints:**\n",
    "- Don't forget to flatten your input data!\n",
    "- A Dropout layer maybe helpful to prevent overfitting and accelerate your training process. \n",
    "    - If you want to use a Dropout layer, you can use `Dropout()`, which is in  `tensorflow.keras.layers`. \n",
    "\n",
    "Hopefully your new model performs **better** than your first."
   ]
  },
  {
   "cell_type": "code",
   "execution_count": null,
   "metadata": {
    "colab": {},
    "colab_type": "code",
    "deletable": false,
    "id": "1Ga3U-syPaCz",
    "nbgrader": {
     "checksum": "f0cc8dcc75e6ae7ed167182ac58a72d8",
     "grade": false,
     "grade_id": "build_model_1",
     "locked": false,
     "schema_version": 3,
     "solution": true,
     "task": false
    }
   },
   "outputs": [],
   "source": [
    "# Set model1 equal to a Keras Sequential model\n",
    "model1 = None\n",
    "num_features_1 = 32\n",
    "\n",
    "# YOUR CODE HERE\n",
    "raise NotImplementedError()\n",
    "\n",
    "model1.summary()"
   ]
  },
  {
   "cell_type": "code",
   "execution_count": null,
   "metadata": {
    "deletable": false,
    "editable": false,
    "nbgrader": {
     "checksum": "132f85abb517e70b229f05e66d7aea77",
     "grade": false,
     "grade_id": "cell-49f7ed68ba2f5834",
     "locked": true,
     "schema_version": 3,
     "solution": false
    }
   },
   "outputs": [],
   "source": [
    "# Plot your model\n",
    "plot_model(model1)"
   ]
  },
  {
   "cell_type": "markdown",
   "metadata": {
    "deletable": false,
    "nbgrader": {
     "checksum": "003dcf2909584528dfaa2dcef36d0771",
     "grade": false,
     "grade_id": "cell-ad82889fc971e9fd",
     "locked": true,
     "schema_version": 3,
     "solution": false
    }
   },
   "source": [
    "## Train your new model\n",
    "\n",
    "**Question:**\n",
    "\n",
    "Now that you have built your new model1,  you will compile and train model1. The requirements are as follows:\n",
    "\n",
    "- Split the **training** examples `X_train, y_train` again !\n",
    "    - 80% will be used for training the model\n",
    "    - 20% will be used as validation (out of sample) examples\n",
    "    - Use `train_test_split()` from `sklearn` to perform this split\n",
    "        -  Set the `random_state` parameter of `train_test_split()` to be 42\n",
    "\n",
    "- Loss function and Metric as per first model's instructions.\n",
    "- Use exactly 15  epochs for training\n",
    "- Save your training results in a variable named `history1`\n",
    "- Plot your training results using the`plotTrain` method described in the Student API above.\n"
   ]
  },
  {
   "cell_type": "code",
   "execution_count": null,
   "metadata": {
    "deletable": false,
    "nbgrader": {
     "checksum": "64771c7f5f17b552d3e49ebcc79c64e6",
     "grade": false,
     "grade_id": "train_model_1",
     "locked": false,
     "schema_version": 3,
     "solution": true,
     "task": false
    }
   },
   "outputs": [],
   "source": [
    "# Train the model using the API\n",
    "model_name1 = \"Dense + Head\"\n",
    "\n",
    "# YOUR CODE HERE\n",
    "raise NotImplementedError()"
   ]
  },
  {
   "cell_type": "markdown",
   "metadata": {
    "colab_type": "text",
    "deletable": false,
    "editable": false,
    "id": "XzU2xKWcsEAo",
    "nbgrader": {
     "checksum": "3e56c0a547971ddbc967abdb1c51d733",
     "grade": false,
     "grade_id": "cell-a048e8f185c7dafe",
     "locked": true,
     "schema_version": 3,
     "solution": false
    }
   },
   "source": [
    "## How many weights in this model ?\n",
    "\n",
    "**Question:** Calculate the number of parameters in your new model.  \n",
    "\n",
    "Set variable `num_parameters1` to be equal to the number of parameters in your model."
   ]
  },
  {
   "cell_type": "code",
   "execution_count": null,
   "metadata": {
    "colab": {},
    "colab_type": "code",
    "deletable": false,
    "id": "gXs0EZZVsHqB",
    "nbgrader": {
     "checksum": "ec19e2f52d39525cd286d7a54c170f74",
     "grade": false,
     "grade_id": "num_parameters_model_1",
     "locked": false,
     "schema_version": 3,
     "solution": true,
     "task": false
    }
   },
   "outputs": [],
   "source": [
    "# Set num_parameters1 equal to the number of weights in the model\n",
    "num_parameters1 = None\n",
    "\n",
    "# YOUR CODE HERE\n",
    "raise NotImplementedError()\n",
    "\n",
    "print('Parameters number in model1:', num_parameters1)"
   ]
  },
  {
   "cell_type": "markdown",
   "metadata": {
    "colab_type": "text",
    "deletable": false,
    "editable": false,
    "id": "gfBjJLU7J7L4",
    "nbgrader": {
     "checksum": "5347a35355e5f9d5c36eb95521ba4e95",
     "grade": false,
     "grade_id": "cell-848f6eee66efac66",
     "locked": true,
     "schema_version": 3,
     "solution": false
    }
   },
   "source": [
    "## Evaluate the model\n",
    "\n",
    "**Question:**\n",
    "\n",
    "Evaluate the new model using the test dataset. Please store the model score in a variable named `score1`.   "
   ]
  },
  {
   "cell_type": "code",
   "execution_count": null,
   "metadata": {
    "colab": {},
    "colab_type": "code",
    "deletable": false,
    "id": "A5wFSFvwJ68n",
    "nbgrader": {
     "checksum": "fab09086bc48ea9626c354bacd9cff13",
     "grade": false,
     "grade_id": "evaluate_model_1",
     "locked": false,
     "schema_version": 3,
     "solution": true,
     "task": false
    }
   },
   "outputs": [],
   "source": [
    "score1 = []\n",
    "\n",
    "# YOUR CODE HERE\n",
    "raise NotImplementedError()\n",
    "\n",
    "print(\"{n:s}: Test loss: {l:3.2f} / Test accuracy: {a:3.2f}\".format(n=model_name1, l=score1[0], a=score1[1]))"
   ]
  },
  {
   "cell_type": "markdown",
   "metadata": {
    "deletable": false,
    "editable": false,
    "nbgrader": {
     "checksum": "aa58ff9a9fe6f218c5b2beec42123be0",
     "grade": false,
     "grade_id": "cell-f967fa336e8b8b82",
     "locked": true,
     "schema_version": 3,
     "solution": false
    }
   },
   "source": [
    "Your new test score should be at least 0.8"
   ]
  },
  {
   "cell_type": "markdown",
   "metadata": {
    "deletable": false,
    "editable": false,
    "nbgrader": {
     "checksum": "6b8cfe312cca136aeceb3a54a7a80361",
     "grade": false,
     "grade_id": "cell-32ebfba806e4cfd6",
     "locked": true,
     "schema_version": 3,
     "solution": false
    }
   },
   "source": [
    "# Save your trained model1 and history1"
   ]
  },
  {
   "cell_type": "code",
   "execution_count": null,
   "metadata": {
    "deletable": false,
    "editable": false,
    "nbgrader": {
     "checksum": "82f11493c01709c6689f0af2fc10f1cd",
     "grade": false,
     "grade_id": "cell-f7a3c4ef4265b014",
     "locked": true,
     "schema_version": 3,
     "solution": false
    }
   },
   "outputs": [],
   "source": [
    "helper.saveModel(model1, model_name1)\n",
    "helper.saveHistory(history1, model_name1)"
   ]
  },
  {
   "cell_type": "markdown",
   "metadata": {
    "collapsed": true,
    "deletable": false,
    "editable": false,
    "nbgrader": {
     "checksum": "80e0c6eebda69480ca4f800fbc2b3360",
     "grade": false,
     "grade_id": "cell-4a0132560885e887",
     "locked": true,
     "schema_version": 3,
     "solution": false
    }
   },
   "source": [
    "## Your own model (Optional)\n",
    "Now you can build your own model using what you have learned from the course. Some ideas to try:\n",
    "- Try more than one additional `Dense` layer \n",
    "- Change the number of units (features) of your `Dense` layers. \n",
    "- Add `Dropout` layers; vary the parameter \n",
    "- Change the activation function\n",
    "- Change the classifier\n",
    "- ...\n",
    "\n",
    "Observe the effect of each change on the Loss and Accuracy.\n",
    "\n",
    "- You may want to use early stopping in training\n",
    "    - In order to stop training when model metrics *worsen* rather than *improve*\n"
   ]
  }
 ],
 "metadata": {
  "accelerator": "GPU",
  "celltoolbar": "Edit Metadata",
  "colab": {
   "collapsed_sections": [],
   "name": "Ships_in_satellite_images.ipynb",
   "provenance": [],
   "toc_visible": true
  },
  "kernelspec": {
   "display_name": "Python 3",
   "language": "python",
   "name": "python3"
  },
  "language_info": {
   "codemirror_mode": {
    "name": "ipython",
    "version": 3
   },
   "file_extension": ".py",
   "mimetype": "text/x-python",
   "name": "python",
   "nbconvert_exporter": "python",
   "pygments_lexer": "ipython3",
   "version": "3.7.4"
  },
  "toc": {
   "base_numbering": 1,
   "nav_menu": {},
   "number_sections": true,
   "sideBar": true,
   "skip_h1_title": false,
   "title_cell": "Table of Contents",
   "title_sidebar": "Contents",
   "toc_cell": false,
   "toc_position": {},
   "toc_section_display": true,
   "toc_window_display": false
  }
 },
 "nbformat": 4,
 "nbformat_minor": 1
}
