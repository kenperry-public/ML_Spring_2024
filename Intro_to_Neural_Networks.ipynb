{
 "cells": [
  {
   "cell_type": "code",
   "execution_count": 1,
   "metadata": {
    "scrolled": true,
    "slideshow": {
     "slide_type": "notes"
    }
   },
   "outputs": [
    {
     "data": {
      "text/latex": [
       "$$\n",
       "\\newcommand{\\x}{\\mathbf{x}}\n",
       "\\newcommand{\\tx}{\\tilde{\\x}}\n",
       "\\newcommand{\\y}{\\mathbf{y}}\n",
       "\\newcommand{\\b}{\\mathbf{b}}\n",
       "\\newcommand{\\c}{\\mathbf{c}}\n",
       "\\newcommand{\\e}{\\mathbf{e}}\n",
       "\\newcommand{\\z}{\\mathbf{z}}\n",
       "\\newcommand{\\h}{\\mathbf{h}}\n",
       "\\newcommand{\\u}{\\mathbf{u}}\n",
       "\\newcommand{\\v}{\\mathbf{v}}\n",
       "\\newcommand{\\w}{\\mathbf{w}}\n",
       "\\newcommand{\\W}{\\mathbf{W}}\n",
       "\\newcommand{\\X}{\\mathbf{X}}\n",
       "\\newcommand{\\KL}{\\mathbf{KL}}\n",
       "\\newcommand{\\E}{{\\mathbb{E}}}\n",
       "\\newcommand{\\ip}{\\mathbf{{(i)}}}\n",
       "%\n",
       "% Test set\n",
       "\\newcommand{\\xt}{\\underline{\\x}}\n",
       "\\newcommand{\\yt}{\\underline{\\y}}\n",
       "\\newcommand{\\Xt}{\\underline{\\X}}\n",
       "\\newcommand{\\perfm}{\\mathcal{P}}\n",
       "%\n",
       "% \\ll indexes a layer; we can change the actual letter\n",
       "\\newcommand{\\ll}{l}\n",
       "\\newcommand{\\llp}{{(\\ll)}}\n",
       "%\n",
       "\\newcommand{Thetam}{\\Theta_{-0}}\n",
       "\n",
       "% CNN\n",
       "\\newcommand{\\kernel}{\\mathbf{k}} \n",
       "\\newcommand{\\dim}{d}\n",
       "\\newcommand{\\idxspatial}{{\\text{idx}}}\n",
       "\\newcommand{\\summaxact}{\\text{max}}\n",
       "%\n",
       "%\n",
       "\n",
       "% RNN\n",
       "% \\tt indexes a time step\n",
       "\\newcommand{\\tt}{t}\n",
       "\\newcommand{\\tp}{{(\\tt)}}\n",
       "%\n",
       "%\n",
       "\n",
       "% LSTM\n",
       "\\newcommand{\\g}{\\mathbf{g}}\n",
       "\\newcommand{\\remember}{\\mathbf{remember}}\n",
       "\\newcommand{\\save}{\\mathbf{save}}\n",
       "\\newcommand{\\focus}{\\mathbf{focus}}\n",
       "%\n",
       "%\n",
       "% NLP\n",
       "\\newcommand{\\Vocab}{\\mathbf{V}}\n",
       "\\newcommand{\\v}{\\mathbf{v}}\n",
       "\\newcommand{\\offset}{o}\n",
       "\\newcommand{\\o}{o}\n",
       "\\newcommand{\\E}{\\mathbf{E}}\n",
       "%\n",
       "%\n",
       "\\newcommand{\\loss}{\\mathcal{L}}\n",
       "\\newcommand{\\cost}{\\mathcal{L}}\n",
       "%\n",
       "%                     \n",
       "\\newcommand{\\pdata}{p_\\text{data}}\n",
       "\\newcommand{\\pmodel}{p_\\text{model}}\n",
       "%\n",
       "% SVM\n",
       "\\newcommand{\\margin}{{\\mathbb{m}}}\n",
       "\\newcommand{\\lmk}{\\boldsymbol{\\ell}}\n",
       "%\n",
       "% Functions with arguments\n",
       "\\def\\xsy#1#2{#1^#2}\n",
       "\\def\\rand#1{\\tilde{#1}}\n",
       "\\def\\randx{\\rand{\\x}}\n",
       "\\def\\randy{\\rand{\\y}}\n",
       "\\def\\trans#1{\\dot{#1}}\n",
       "\\def\\transx{\\trans{\\x}}\n",
       "\\def\\transy{\\trans{\\y}}\n",
       "%\n",
       "\\def\\argmax#1{\\underset{#1} {\\operatorname{argmax}} }\n",
       "\\def\\argmin#1{\\underset{#1} {\\operatorname{argmin}} }\n",
       "\\def\\max#1{\\underset{#1} {\\operatorname{max}} }\n",
       "\\def\\min#1{\\underset{#1} {\\operatorname{min}} }\n",
       "%\n",
       "\\def\\pr#1{\\mathcal{p}(#1)}\n",
       "\\def\\prc#1#2{\\mathcal{p}(#1 \\; | \\; #2)}\n",
       "\\def\\cnt#1{\\mathcal{count}_{#1}}\n",
       "\\def\\node#1{\\mathbb{#1}}\n",
       "%\n",
       "\\newcommand{\\floor}[1]{\\left\\lfloor #1 \\right\\rfloor}\n",
       "\\newcommand{\\ceil}[1]{\\left\\lceil #1 \\right\\rceil}\n",
       "%\n",
       "\\def\\loc#1{{\\text{##} {#1}}}\n",
       "%\n",
       "$$\n"
      ],
      "text/plain": [
       "<IPython.core.display.Latex object>"
      ]
     },
     "metadata": {},
     "output_type": "display_data"
    }
   ],
   "source": [
    "%run Latex_macros.ipynb"
   ]
  },
  {
   "cell_type": "code",
   "execution_count": 2,
   "metadata": {
    "scrolled": true,
    "slideshow": {
     "slide_type": "notes"
    }
   },
   "outputs": [],
   "source": [
    "# My standard magic !  You will see this in almost all my notebooks.\n",
    "\n",
    "from IPython.core.interactiveshell import InteractiveShell\n",
    "InteractiveShell.ast_node_interactivity = \"all\"\n",
    "\n",
    "# Reload all modules imported with %aimport\n",
    "%load_ext autoreload\n",
    "%autoreload 1\n",
    "\n",
    "%matplotlib inline"
   ]
  },
  {
   "cell_type": "code",
   "execution_count": 3,
   "metadata": {
    "scrolled": true,
    "slideshow": {
     "slide_type": "notes"
    }
   },
   "outputs": [],
   "source": [
    "import numpy as np\n",
    "import pandas as pd\n",
    "import matplotlib.pyplot as plt\n",
    "\n",
    "import neural_net_helper\n",
    "%aimport neural_net_helper\n",
    "\n",
    "nnh = neural_net_helper.NN_Helper()"
   ]
  },
  {
   "cell_type": "markdown",
   "metadata": {
    "slideshow": {
     "slide_type": "slide"
    }
   },
   "source": [
    "# Inside a layer: Units/Neurons\n",
    "\n",
    "## Notation 1\n",
    "Layer $\\ll$, for $1 \\le \\ll \\le L$:\n",
    "- Produces output vector $\\y_\\llp$\n",
    "- $\\y_\\llp$ is a vector of $n_\\llp$ synthetic features\n",
    "$$\n",
    "n_\\llp = || \\y_\\llp ||\n",
    "$$\n",
    "- Takes as input $\\y_{(\\ll-1)}$, the output of the preceding layer"
   ]
  },
  {
   "cell_type": "markdown",
   "metadata": {
    "slideshow": {
     "slide_type": "subslide"
    }
   },
   "source": [
    "- Layer $L$ will typically implement Regression or Classification\n",
    "- The first $(L-1)$ layers create synthetic features of increasing complexity\n",
    "- We will use layer $(L+1)$ to compute a Loss"
   ]
  },
  {
   "cell_type": "markdown",
   "metadata": {
    "slideshow": {
     "slide_type": "subslide"
    }
   },
   "source": [
    "<div>\n",
    "     <!-- edX: Original: <img src=\"images/NN_Layers_plus_Loss.png\"> replace by EdX created image -->\n",
    "    <img src=\"images/Addtl_Loss_Layer_W8_L5_Sl4.png\">\n",
    "</div>"
   ]
  },
  {
   "cell_type": "markdown",
   "metadata": {
    "slideshow": {
     "slide_type": "subslide"
    }
   },
   "source": [
    "The input $\\x$\n",
    "- Is called \"layer 0\"\n",
    "- $\\y_{(0)} = \\x$\n",
    "\n",
    "The output $\\y_{(L-1)}$ of the penultimate layer $(L-1)$\n",
    "- Becomes the input of a Classifier/Regression model at layer $L$\n"
   ]
  },
  {
   "cell_type": "markdown",
   "metadata": {
    "slideshow": {
     "slide_type": "subslide"
    }
   },
   "source": [
    "Let's look inside layer $\\ll$ (of a particular type called *Fully Connected* or *Dense*)"
   ]
  },
  {
   "cell_type": "markdown",
   "metadata": {
    "slideshow": {
     "slide_type": "subslide"
    }
   },
   "source": [
    "<div align=\"middle\">\n",
    "    <center>Layer</center>\n",
    "    <br>\n",
    "    <!-- edX: Original: <img src=\"images/NN_Layer_multi_unit.png\"> replace by EdX created image -->\n",
    "    <img src=images/Layers_W8_L3_Sl5.png width=60%>\n",
    "</div>"
   ]
  },
  {
   "cell_type": "markdown",
   "metadata": {
    "slideshow": {
     "slide_type": "subslide"
    }
   },
   "source": [
    "- Input vector of $n_{(\\ll-1)}$ features: $\\y_{(\\ll-1)}$\n",
    "- Produces output vector or $n_\\llp$ features $\\y_\\llp$\n",
    "- Feature $j$ defined by the function \n",
    "$$\\y_{\\llp,j} = \\sigma (\\y_{(\\ll-1)} \\cdot \\W_{\\llp,j} )$$"
   ]
  },
  {
   "cell_type": "markdown",
   "metadata": {
    "slideshow": {
     "slide_type": "subslide"
    }
   },
   "source": [
    "Each feature $\\y_{\\llp,j}$ is produced by a *unit* (*neuron*)\n",
    "- There are $n_\\llp$ units in layer $\\ll$\n",
    "- The units are *homogenous*\n",
    "    - same input $\\y_{(\\ll-1)}$ to every unit\n",
    "    - same functional form for every unit\n",
    "    - units differ only in $\\W_{\\llp,j}$"
   ]
  },
  {
   "cell_type": "markdown",
   "metadata": {
    "slideshow": {
     "slide_type": "subslide"
    }
   },
   "source": [
    "*Units* are also sometimes refered to as *Hidden Units*\n",
    "- They are internal to a layer.\n",
    "- From the standpoint of the Input/Output behavior of a layer, the units are \"hidden\""
   ]
  },
  {
   "cell_type": "markdown",
   "metadata": {
    "slideshow": {
     "slide_type": "subslide"
    }
   },
   "source": [
    "The functional form\n",
    "$$\\y_{\\llp,j} = \\sigma(\\y_{(\\ll-1)} \\cdot \\W_{\\llp,j} )$$\n",
    "\n",
    "is called a *Dense* or *Fully Connected* unit.\n",
    "\n",
    "It is called Fully connected since\n",
    "- each unit takes as input $\\y_{(\\ll-1)}$, **all** $n_{(\\ll-1)}$ outputs of the preceding layer\n",
    "\n"
   ]
  },
  {
   "cell_type": "markdown",
   "metadata": {
    "slideshow": {
     "slide_type": "subslide"
    }
   },
   "source": [
    "The *Fully Connected* part can be better appreciated by looking at a diagram of the connectivity\n",
    "of a *single* unit producing a *single* feature.\n",
    "\n",
    "A Fully Connected/Dense Layer producing a *single* feature at layer $\\ll$ computes\n",
    "$$\n",
    "\\y_{\\llp,1} = a_\\llp( \\y_{(\\ll-1)} \\cdot \\W_{\\llp,1} )\n",
    "$$\n",
    "\n",
    "A function, $a_\\llp$, is applied to the dot product\n",
    "- It is called an *activation function*\n",
    "- A very common choice for activation function is the sigmoid $\\sigma$"
   ]
  },
  {
   "cell_type": "markdown",
   "metadata": {
    "slideshow": {
     "slide_type": "subslide"
    }
   },
   "source": [
    "<div align=\"middle\">\n",
    "    <center><strong>Fully connected unit, single feature</strong></center>\n",
    "    <br>\n",
    "<img src=images/FC_1feature.png>\n",
    "    </div>"
   ]
  },
  {
   "cell_type": "markdown",
   "metadata": {
    "slideshow": {
     "slide_type": "subslide"
    }
   },
   "source": [
    "The edges into the single unit of layer $\\ll$ correspond to $\\W_{\\llp,1}$."
   ]
  },
  {
   "cell_type": "markdown",
   "metadata": {
    "slideshow": {
     "slide_type": "subslide"
    }
   },
   "source": [
    "\n",
    "A Fully Connected/Dense Layer\n",
    "with multiple units\n",
    "producing  *multiple* feature at layer $\\ll$ computes\n",
    "$$\n",
    "\\y_{\\llp,j} = a_\\llp( \\y_{(\\ll-1)} \\cdot \\W_{\\llp,j} )\n",
    "$$"
   ]
  },
  {
   "cell_type": "markdown",
   "metadata": {
    "slideshow": {
     "slide_type": "subslide"
    }
   },
   "source": [
    "<div align=\"middle\">\n",
    "    <center><strong>Fully connected, two features</strong></center>\n",
    "    <br>\n",
    "<img src=images/FC_2feature.png>\n",
    "    </div>"
   ]
  },
  {
   "cell_type": "markdown",
   "metadata": {
    "slideshow": {
     "slide_type": "subslide"
    }
   },
   "source": [
    "The edges into each unit of layer $\\ll$ correspond to\n",
    "- $\\W_{\\llp,1}, \\W_{\\llp,2} \\ldots$\n",
    "- Separate colors for each units/row of $\\W$\n",
    "\n",
    "Each unit  $\\y_{\\llp,j}$ in layer $\\ll$ creates a new feature using pattern$\\W_{\\llp,j}$\n"
   ]
  },
  {
   "cell_type": "markdown",
   "metadata": {
    "slideshow": {
     "slide_type": "subslide"
    }
   },
   "source": [
    "The functional form is of\n",
    "- A dot product $\\y_{(\\ll-1)} \\cdot \\W_{\\llp,j}$\n",
    "    - Which can be thought of matching input $\\y_{(\\ll-1)}$ against pattern $\\W_{\\llp,j}$\n",
    "- Fed into an activation function $a_\\llp$\n",
    "    - Here, $a_\\llp = \\sigma$, \n",
    "the *sigmoid* function we have previously encountered in Logistic Regression."
   ]
  },
  {
   "cell_type": "markdown",
   "metadata": {
    "slideshow": {
     "slide_type": "subslide"
    }
   },
   "source": [
    "Because the units are homogeneous, we can depict it as"
   ]
  },
  {
   "cell_type": "markdown",
   "metadata": {
    "slideshow": {
     "slide_type": "subslide"
    }
   },
   "source": [
    "<div>\n",
    "    <center><strong>Layer</strong></center>\n",
    "    <br>\n",
    "    <!-- edX: Original: <img src=\"images/NN_Layer_Dense.png\"> replace by EdX created image -->\n",
    "    <img src=\"images/Layers_W8_L3_Sl18.png\" width=60%>\n",
    "</div>"
   ]
  },
  {
   "cell_type": "markdown",
   "metadata": {
    "slideshow": {
     "slide_type": "subslide"
    }
   },
   "source": [
    "where\n",
    "- $\\y_\\llp$ is a vector of length $n_\\llp$\n",
    "- $\\W_\\llp$ is a matrix\n",
    "    - $n_\\llp$ rows\n",
    "    - $\\W_\\llp^{(j)} = \\W_{\\llp,j}$\n",
    "    \n",
    "Written with the shorthand `Dense(`$n_\\ll$`)`"
   ]
  },
  {
   "cell_type": "markdown",
   "metadata": {
    "slideshow": {
     "slide_type": "subslide"
    }
   },
   "source": [
    "We will introduce other types of layers.\n",
    "\n",
    "- Most will be homogeneous\n",
    "- Not all will be fully Connected\n",
    "- The dot product will play a similar role"
   ]
  },
  {
   "cell_type": "markdown",
   "metadata": {
    "slideshow": {
     "slide_type": "subslide"
    }
   },
   "source": [
    "The sigmoid  function $\\sigma$ may be the *most significant part* of the functional form\n",
    "- The dot product is a *linear* operation\n",
    "- The outputs of sigmoid are *non-linear* in its inputs\n",
    "\n",
    "So the sigmoid induces a non-linear transformation of the features $\\y_{(\\ll-1)}$"
   ]
  },
  {
   "cell_type": "markdown",
   "metadata": {
    "slideshow": {
     "slide_type": "subslide"
    }
   },
   "source": [
    "The outer function $a_\\llp$ which applies a non-linear transformation to linear inputs\n",
    "- Is called an *activation function*\n",
    "- Sigmoid is one of several activation functions we will study"
   ]
  },
  {
   "cell_type": "markdown",
   "metadata": {
    "slideshow": {
     "slide_type": "subslide"
    }
   },
   "source": [
    "- The operation of a layer does not always need to be a dot production\n",
    "- The activation function of a layer need not always be the sigmoid\n",
    "\n",
    "More generically we write a layer as"
   ]
  },
  {
   "cell_type": "markdown",
   "metadata": {
    "slideshow": {
     "slide_type": "subslide"
    }
   },
   "source": [
    "<div>\n",
    "    <center><strong>Layers<strong></center>\n",
    "    <br>\n",
    "    <div align=\"middle\">\n",
    "    <!-- edX: Original: <img src=\"images/NN_Layers.png\"> <!Image source: NN_Layers.drawio; select only one box for export>replace by EdX created image -->\n",
    "    <img src=\"images/Layers_W8_L2_Sl12_2.png\" width=50%>\n",
    "</div>"
   ]
  },
  {
   "cell_type": "markdown",
   "metadata": {
    "slideshow": {
     "slide_type": "subslide"
    }
   },
   "source": [
    "$$\n",
    "\\y_\\llp = a_\\llp \\left( f_\\llp( \\y_{(\\ll-1)}, \\W_{\\llp}) \\right) \n",
    "$$\n",
    "\n",
    "where\n",
    "- $f_\\llp$ is a function of $\\y_{(\\ll)-1}$ and $\\W_\\llp$\n",
    "- $a_\\llp$ is an activation function"
   ]
  },
  {
   "cell_type": "markdown",
   "metadata": {
    "slideshow": {
     "slide_type": "subslide"
    }
   },
   "source": [
    "So our multi-layer Neural Network (using Dense layers) looks like"
   ]
  },
  {
   "cell_type": "markdown",
   "metadata": {
    "slideshow": {
     "slide_type": "subslide"
    }
   },
   "source": [
    "<div>\n",
    "    <center><strong>Layers</strong></center>\n",
    "    <br>\n",
    "    <div>\n",
    "    <!-- edX: Original: <img src=\"images/NN_Layers.png\"> replace by EdX created image -->\n",
    "    <img src=\"images/W12_L1_NN_layers1920by1080.png\">\n",
    "</div>"
   ]
  },
  {
   "cell_type": "markdown",
   "metadata": {
    "slideshow": {
     "slide_type": "subslide"
    }
   },
   "source": [
    "In slightly more mathematical terms: Layer $\\ll$ is computing a function $\\y_\\llp  = F_\\llp$\n",
    "$$\n",
    "\\begin{array}[lll]\\\\\n",
    "F_\\llp( \\y_{(\\ll-1)}; \\W_\\llp ) = \\y_\\llp \\\\\n",
    "F_\\llp: \\mathcal{R}^{|| \\y_{(\\ll-1)} ||} \\mapsto \\mathcal{R}^{|| \\y_\\llp ||} \\\\\n",
    "\\end{array}\n",
    "$$\n"
   ]
  },
  {
   "cell_type": "markdown",
   "metadata": {
    "slideshow": {
     "slide_type": "subslide"
    }
   },
   "source": [
    "If we expand $F_\\llp$, we see that it is \n",
    "the $\\ll$-fold composition of functions $F_{(1)}, \\ldots, F_\\llp$\n",
    "$$\n",
    "\\begin{array}[lll]\\\\\n",
    "\\y_\\llp & = & F_\\llp( \\y_{(\\ll-1)}; \\W_\\llp ) \\\\\n",
    "& = &  F_\\llp( \\; F_{(\\ll-1)}( \\y_{(\\ll-2)}; \\,\\W_{(\\ll-1)} ); \\,\\W_\\llp \\;) \\\\\n",
    "& = &  F_\\llp( \\; F_{(\\ll-1)}( \\; F_{(\\ll-2)}( \\y_{(\\ll-3)}; \\,\\W_{(\\ll-2)} ); \\,\\W_{(\\ll-1)} \\;  ); \\W_\\llp \\;) \\\\\n",
    "& = & \\vdots \\\\\n",
    "\\end{array}\n",
    "$$"
   ]
  },
  {
   "cell_type": "markdown",
   "metadata": {
    "slideshow": {
     "slide_type": "subslide"
    }
   },
   "source": [
    "So the layer-wise architecture is nothing more than a way of computing a nested (composed) function.\n"
   ]
  },
  {
   "cell_type": "code",
   "execution_count": 4,
   "metadata": {
    "scrolled": true,
    "slideshow": {
     "slide_type": "slide"
    }
   },
   "outputs": [
    {
     "name": "stdout",
     "output_type": "stream",
     "text": [
      "Done\n"
     ]
    }
   ],
   "source": [
    "print(\"Done\")"
   ]
  }
 ],
 "metadata": {
  "celltoolbar": "Slideshow",
  "kernelspec": {
   "display_name": "Python 3",
   "language": "python",
   "name": "python3"
  },
  "language_info": {
   "codemirror_mode": {
    "name": "ipython",
    "version": 3
   },
   "file_extension": ".py",
   "mimetype": "text/x-python",
   "name": "python",
   "nbconvert_exporter": "python",
   "pygments_lexer": "ipython3",
   "version": "3.7.4"
  },
  "toc": {
   "base_numbering": 1,
   "nav_menu": {},
   "number_sections": true,
   "sideBar": true,
   "skip_h1_title": false,
   "title_cell": "Table of Contents",
   "title_sidebar": "Contents",
   "toc_cell": false,
   "toc_position": {
    "height": "calc(100% - 180px)",
    "left": "10px",
    "top": "150px",
    "width": "370.594px"
   },
   "toc_section_display": true,
   "toc_window_display": false
  }
 },
 "nbformat": 4,
 "nbformat_minor": 2
}
