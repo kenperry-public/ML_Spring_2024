{
 "cells": [
  {
   "cell_type": "code",
   "execution_count": 1,
   "metadata": {
    "slideshow": {
     "slide_type": "notes"
    }
   },
   "outputs": [
    {
     "data": {
      "text/latex": [
       "$$\n",
       "\\newcommand{\\x}{\\mathbf{x}}\n",
       "\\newcommand{\\tx}{\\tilde{\\x}}\n",
       "\\newcommand{\\y}{\\mathbf{y}}\n",
       "\\newcommand{\\b}{\\mathbf{b}}\n",
       "\\newcommand{\\c}{\\mathbf{c}}\n",
       "\\newcommand{\\e}{\\mathbf{e}}\n",
       "\\newcommand{\\z}{\\mathbf{z}}\n",
       "\\newcommand{\\h}{\\mathbf{h}}\n",
       "\\newcommand{\\u}{\\mathbf{u}}\n",
       "\\newcommand{\\v}{\\mathbf{v}}\n",
       "\\newcommand{\\w}{\\mathbf{w}}\n",
       "\\newcommand{\\V}{\\mathbf{V}}\n",
       "\\newcommand{\\W}{\\mathbf{W}}\n",
       "\\newcommand{\\X}{\\mathbf{X}}\n",
       "\\newcommand{\\KL}{\\mathbf{KL}}\n",
       "\\newcommand{\\E}{{\\mathbb{E}}}\n",
       "\\newcommand{\\Reals}{{\\mathbb{R}}}\n",
       "\\newcommand{\\ip}{\\mathbf{{(i)}}}\n",
       "%\n",
       "% Test set\n",
       "\\newcommand{\\xt}{\\underline{\\x}}\n",
       "\\newcommand{\\yt}{\\underline{\\y}}\n",
       "\\newcommand{\\Xt}{\\underline{\\X}}\n",
       "\\newcommand{\\perfm}{\\mathcal{P}}\n",
       "%\n",
       "% \\ll indexes a layer; we can change the actual letter\n",
       "\\newcommand{\\ll}{l}\n",
       "\\newcommand{\\llp}{{(\\ll)}}\n",
       "%\n",
       "\\newcommand{Thetam}{\\Theta_{-0}}\n",
       "\n",
       "% CNN\n",
       "\\newcommand{\\kernel}{\\mathbf{k}} \n",
       "\\newcommand{\\dim}{d}\n",
       "\\newcommand{\\idxspatial}{{\\text{idx}}}\n",
       "\\newcommand{\\summaxact}{\\text{max}}\n",
       "%\n",
       "%\n",
       "\n",
       "% RNN\n",
       "% \\tt indexes a time step\n",
       "\\newcommand{\\tt}{t}\n",
       "\\newcommand{\\tp}{{(\\tt)}}\n",
       "%\n",
       "%\n",
       "\n",
       "% LSTM\n",
       "\\newcommand{\\g}{\\mathbf{g}}\n",
       "\\newcommand{\\remember}{\\mathbf{remember}}\n",
       "\\newcommand{\\save}{\\mathbf{save}}\n",
       "\\newcommand{\\focus}{\\mathbf{focus}}\n",
       "%\n",
       "%\n",
       "% NLP\n",
       "\\newcommand{\\Vocab}{\\mathbf{V}}\n",
       "\\newcommand{\\v}{\\mathbf{v}}\n",
       "\\newcommand{\\offset}{o}\n",
       "\\newcommand{\\o}{o}\n",
       "\\newcommand{\\Emb}{\\mathbf{E}}\n",
       "%\n",
       "%\n",
       "\\newcommand{\\loss}{\\mathcal{L}}\n",
       "\\newcommand{\\cost}{\\mathcal{L}}\n",
       "%\n",
       "%                     \n",
       "\\newcommand{\\pdata}{p_\\text{data}}\n",
       "\\newcommand{\\pmodel}{p_\\text{model}}\n",
       "%\n",
       "% SVM\n",
       "\\newcommand{\\margin}{{\\mathbb{m}}}\n",
       "\\newcommand{\\lmk}{\\boldsymbol{\\ell}}\n",
       "%\n",
       "% Functions with arguments\n",
       "\\def\\xsy#1#2{#1^#2}\n",
       "\\def\\rand#1{\\tilde{#1}}\n",
       "\\def\\randx{\\rand{\\x}}\n",
       "\\def\\randy{\\rand{\\y}}\n",
       "\\def\\trans#1{\\dot{#1}}\n",
       "\\def\\transx{\\trans{\\x}}\n",
       "\\def\\transy{\\trans{\\y}}\n",
       "%\n",
       "\\def\\argmax#1{\\underset{#1} {\\operatorname{argmax}} }\n",
       "\\def\\argmin#1{\\underset{#1} {\\operatorname{argmin}} }\n",
       "\\def\\max#1{\\underset{#1} {\\operatorname{max}} }\n",
       "\\def\\min#1{\\underset{#1} {\\operatorname{min}} }\n",
       "%\n",
       "\\def\\pr#1{\\mathcal{p}(#1)}\n",
       "\\def\\prc#1#2{\\mathcal{p}(#1 \\; | \\; #2)}\n",
       "\\def\\cnt#1{\\mathcal{count}_{#1}}\n",
       "\\def\\node#1{\\mathbb{#1}}\n",
       "%\n",
       "\\def\\loc#1{{\\text{##} {#1}}}\n",
       "%\n",
       "\\def\\OrderOf#1{\\mathcal{O}\\left( #1 \\right)}\n",
       "%\n",
       "% Expectation operator\n",
       "\\def\\Exp#1{\\underset{#1} {\\operatorname{\\mathbb{E}}} }\n",
       "%\n",
       "% Reinforcement learning\n",
       "\\newcommand{\\Actions}{{\\mathcal{A}}} \n",
       "\\newcommand{\\actseq}{A}\n",
       "\\newcommand{\\act}{a}\n",
       "\\newcommand{\\States}{{\\mathcal{S}}}   \n",
       "\\newcommand{\\stateseq}{S}  \n",
       "\\newcommand{\\state}{s}\n",
       "\\newcommand{\\Rewards}{{\\mathcal{R}}}\n",
       "\\newcommand{\\rewseq}{R}\n",
       "\\newcommand{\\rew}{r}\n",
       "\\newcommand{\\transp}{P}\n",
       "\\newcommand{\\statevalfun}{v}\n",
       "\\newcommand{\\actvalfun}{q}\n",
       "\\newcommand{\\disc}{\\gamma}\n",
       "%\n",
       "%\n",
       "\\newcommand{\\floor}[1]{\\left\\lfloor #1 \\right\\rfloor}\n",
       "\\newcommand{\\ceil}[1]{\\left\\lceil #1 \\right\\rceil}\n",
       "%\n",
       "%\n",
       "$$\n"
      ],
      "text/plain": [
       "<IPython.core.display.Latex object>"
      ]
     },
     "metadata": {},
     "output_type": "display_data"
    }
   ],
   "source": [
    "%run Latex_macros.ipynb\n",
    "%run beautify_plots.py"
   ]
  },
  {
   "cell_type": "markdown",
   "metadata": {
    "slideshow": {
     "slide_type": "slide"
    }
   },
   "source": [
    "# The RNN API\n",
    "\n",
    "Sequences present several complexities.\n",
    "\n",
    "Let's begin by better understanding functions that have sequences as inputs and output.\n",
    "\n",
    "We call this the [RNN API](RNN_API.ipynb)\n"
   ]
  },
  {
   "cell_type": "markdown",
   "metadata": {
    "slideshow": {
     "slide_type": "slide"
    }
   },
   "source": [
    "# Inside an RNN layer\n",
    "By now you hopefully have a good intuitive understanding of a Recurrent Layer, but lack the details\n",
    "\n",
    "Let's open up the hood and [go inside an RNN](RNN_Workings.ipynb)\n"
   ]
  },
  {
   "cell_type": "markdown",
   "metadata": {
    "slideshow": {
     "slide_type": "slide"
    }
   },
   "source": [
    "# RNN in action\n",
    "\n",
    "A concrete example may help you to appreciate the power of an RNN.\n",
    "\n",
    "The task we solve is called Sentiment Analysis\n",
    "- Given a sequence of words\n",
    "- Is the sentiment express Positive or Negative ?\n",
    "\n",
    "In particular\n",
    "- The examples are movie reviews from IMdB"
   ]
  },
  {
   "cell_type": "markdown",
   "metadata": {
    "slideshow": {
     "slide_type": "subslide"
    }
   },
   "source": [
    "**IMdb examples**\n",
    "\n",
    "This notebook is from the (future) module on NLP.\n",
    "\n",
    "The beginning of this notebook addresses the aspects particular to dealing with Natural Language\n",
    "- [the input examples](Keras_examples_imdb_cnn.ipynb#Examine-the-text-data)\n",
    "- the pre-processing steps necessary for NLP:\n",
    "    - breaking character strings into words\n",
    "    - mapping words to integers (index within a finite vocabulary)\n",
    "\n",
    "To summarize our approach to dealing with words\n",
    "- We have a finite vocabulary $\\Vocab$\n",
    "- Words are One Hot Encoded\n",
    "- So the input sequence $\\x_{(1)} \\ldots \\x_{(T)}$ is \n",
    "    - a sequence of length $T$\n",
    "    - of OHE vectors of length $\\| \\Vocab \\|$"
   ]
  },
  {
   "cell_type": "markdown",
   "metadata": {
    "slideshow": {
     "slide_type": "subslide"
    }
   },
   "source": [
    "We also have the option of transforming the OHE word encodings into *Embeddings*\n",
    "- Embeddings are a transformation of the OHE into shorter vectors that *also* encode some \"meaning\" to words\n",
    "- Our initial pass: we just use an Identity transformation\n",
    "- This will be covered in detail in the NLP module.\n",
    "\n",
    "We will cover the NLP aspects in more detail in the NLP module.\n",
    "\n",
    "For now: we will focus on using an RNN to create a finite length representation of the (potentially unbouncded length) sequence of words."
   ]
  },
  {
   "cell_type": "markdown",
   "metadata": {
    "slideshow": {
     "slide_type": "subslide"
    }
   },
   "source": [
    "The model we create follows the paradigm in the introduction\n",
    "- Using an RNN to create a fixed length encoding of a variable length sequence\n",
    "- A Head Layer that is a Binary Classifier\n",
    "\n",
    "<table>\n",
    "    <tr>\n",
    "        <th><center><strong>RNN Many to one; followed by classifier</strong></center></th>\n",
    "    </tr>\n",
    "    <tr>\n",
    "        <td><img src=\"images/RNN_many_to_one_to_classifier.jpg\" width=80%></td>\n",
    "    </tr>\n",
    "</table>"
   ]
  },
  {
   "cell_type": "markdown",
   "metadata": {
    "slideshow": {
     "slide_type": "subslide"
    }
   },
   "source": [
    "Let's look at the code.  The main take-away\n",
    "- the RNN is a layer just like any other\n",
    "- we use it as the first layer in a Sequential model\n",
    "    - to reduce the sequence to a finite vector\n",
    "- once we have a finite vector, `Dense` layers further transform the representation\n",
    "- until we have a final binary Classifier \"head\"\n",
    "\n",
    "[RNN(LSTM) model](Keras_examples_imdb_cnn.ipynb#LSTM-w/o-One-Hot-Encoding-the-input:-what-happens-?)"
   ]
  },
  {
   "cell_type": "markdown",
   "metadata": {
    "slideshow": {
     "slide_type": "slide"
    }
   },
   "source": [
    "# What is *really* going on inside an RNN\n",
    "\n",
    "At this point\n",
    "- You appreciate the ability of an RNN to operate on sequences\n",
    "- Understand the mechanics of the internal workings\n",
    "\n",
    "But the update equations don't really convey an intuition about *how* the RNN achieves its power."
   ]
  },
  {
   "cell_type": "markdown",
   "metadata": {
    "slideshow": {
     "slide_type": "slide"
    }
   },
   "source": [
    "Let's try to visualize the latent state of an RNN in order to get a better grasp.\n",
    "\n",
    "[RNN Visualization](RNN_Visualization.ipynb)"
   ]
  },
  {
   "cell_type": "markdown",
   "metadata": {
    "slideshow": {
     "slide_type": "slide"
    }
   },
   "source": [
    "# RNN practicalities\n",
    "\n",
    "## Sequences: Variable length\n",
    "\n",
    "There are lots of small potholes one encounters with sequences.\n",
    "\n",
    "What if the examples of my training set have widely varying lengths ?"
   ]
  },
  {
   "cell_type": "markdown",
   "metadata": {
    "slideshow": {
     "slide_type": "subslide"
    }
   },
   "source": [
    "- Within a batch, short examples may behave differently than long examples:\n",
    "    - Maybe learn less in short examples, noisier gradient updates\n",
    "    \n",
    "- Padding sequences to make them equal length\n",
    "    - Pad at the start ? Or at the end ?\n",
    "\n",
    "The general advice is to arrange your data so that an epoch contains examples of similar lengths.\n",
    "- You may require multiple fittings, one per length"
   ]
  },
  {
   "cell_type": "markdown",
   "metadata": {
    "slideshow": {
     "slide_type": "subslide"
    }
   },
   "source": [
    "## Long sequences\n",
    "\n",
    "We will learn that long sequences present a challenge to training RNN's\n",
    "- vanishing gradients\n",
    "- back propagation of gradients takes a long time\n",
    "\n",
    "There is also the practical matter of long sequences (e.g., greater than the \"max\" length allocated to a variable).\n",
    "\n",
    "A Deeper Dive deals with the practicl treatment of [long sequences](RNN_Long_Sequences.ipynb)"
   ]
  },
  {
   "cell_type": "markdown",
   "metadata": {
    "slideshow": {
     "slide_type": "slide"
    }
   },
   "source": [
    "# Issues with RNN's\n",
    "\n",
    "Although an RNN layer seems powerful (and a little magical) we have glossed over some big issues\n",
    "- Can they handle *long* sequences or are they subject to \"forgetting\" ?\n",
    "    - Short term versus long term memory trade offs\n",
    "- Can we really unroll a computation over a long sequence ?\n",
    "    - Gradient computation potentially more difficult in very deep graphs\n",
    "- What are the practical difficulties in Keras with long sequences"
   ]
  },
  {
   "cell_type": "markdown",
   "metadata": {
    "slideshow": {
     "slide_type": "subslide"
    }
   },
   "source": [
    "These will be the topics of subsequent modules.\n",
    "- Some topics require an in-depth understanding of Gradient Computation (still to come !)"
   ]
  },
  {
   "cell_type": "markdown",
   "metadata": {
    "slideshow": {
     "slide_type": "slide"
    }
   },
   "source": [
    "# Conclusion\n",
    "\n",
    "The Recurrent layer was yet another layer type that we have introduced in rapid succession.\n",
    "\n",
    "We chose to do this as a \"sprint\" rather than a \"marathon\" so that you can start coding and experimenting.\n",
    "\n",
    "Use the opportunity !  This is where the real learning will happen.\n",
    "\n",
    "Our next topics will be a more in-depth exploration of issues that may not have come into view during the sprint."
   ]
  },
  {
   "cell_type": "code",
   "execution_count": 2,
   "metadata": {
    "slideshow": {
     "slide_type": "slide"
    }
   },
   "outputs": [
    {
     "name": "stdout",
     "output_type": "stream",
     "text": [
      "Done\n"
     ]
    }
   ],
   "source": [
    "print(\"Done\")"
   ]
  }
 ],
 "metadata": {
  "celltoolbar": "Slideshow",
  "kernelspec": {
   "display_name": "Python 3",
   "language": "python",
   "name": "python3"
  },
  "language_info": {
   "codemirror_mode": {
    "name": "ipython",
    "version": 3
   },
   "file_extension": ".py",
   "mimetype": "text/x-python",
   "name": "python",
   "nbconvert_exporter": "python",
   "pygments_lexer": "ipython3",
   "version": "3.7.4"
  },
  "toc": {
   "base_numbering": 1,
   "nav_menu": {},
   "number_sections": true,
   "sideBar": true,
   "skip_h1_title": false,
   "title_cell": "Table of Contents",
   "title_sidebar": "Contents",
   "toc_cell": false,
   "toc_position": {
    "height": "calc(100% - 180px)",
    "left": "10px",
    "top": "150px",
    "width": "370.6px"
   },
   "toc_section_display": true,
   "toc_window_display": true
  }
 },
 "nbformat": 4,
 "nbformat_minor": 2
}
