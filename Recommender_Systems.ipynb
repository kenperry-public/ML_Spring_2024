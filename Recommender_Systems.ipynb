{
 "cells": [
  {
   "cell_type": "code",
   "execution_count": 1,
   "metadata": {
    "slideshow": {
     "slide_type": "notes"
    }
   },
   "outputs": [
    {
     "data": {
      "text/latex": [
       "$$\n",
       "\\newcommand{\\x}{\\mathbf{x}}\n",
       "\\newcommand{\\tx}{\\tilde{\\x}}\n",
       "\\newcommand{\\y}{\\mathbf{y}}\n",
       "\\newcommand{\\b}{\\mathbf{b}}\n",
       "\\newcommand{\\c}{\\mathbf{c}}\n",
       "\\newcommand{\\e}{\\mathbf{e}}\n",
       "\\newcommand{\\z}{\\mathbf{z}}\n",
       "\\newcommand{\\h}{\\mathbf{h}}\n",
       "\\newcommand{\\u}{\\mathbf{u}}\n",
       "\\newcommand{\\v}{\\mathbf{v}}\n",
       "\\newcommand{\\w}{\\mathbf{w}}\n",
       "\\newcommand{\\V}{\\mathbf{V}}\n",
       "\\newcommand{\\W}{\\mathbf{W}}\n",
       "\\newcommand{\\X}{\\mathbf{X}}\n",
       "\\newcommand{\\KL}{\\mathbf{KL}}\n",
       "\\newcommand{\\E}{{\\mathbb{E}}}\n",
       "\\newcommand{\\Reals}{{\\mathbb{R}}}\n",
       "\\newcommand{\\ip}{\\mathbf{{(i)}}}\n",
       "%\n",
       "% Test set\n",
       "\\newcommand{\\xt}{\\underline{\\x}}\n",
       "\\newcommand{\\yt}{\\underline{\\y}}\n",
       "\\newcommand{\\Xt}{\\underline{\\X}}\n",
       "\\newcommand{\\perfm}{\\mathcal{P}}\n",
       "%\n",
       "% \\ll indexes a layer; we can change the actual letter\n",
       "\\newcommand{\\ll}{l}\n",
       "\\newcommand{\\llp}{{(\\ll)}}\n",
       "%\n",
       "\\newcommand{Thetam}{\\Theta_{-0}}\n",
       "\n",
       "% CNN\n",
       "\\newcommand{\\kernel}{\\mathbf{k}} \n",
       "\\newcommand{\\dim}{d}\n",
       "\\newcommand{\\idxspatial}{{\\text{idx}}}\n",
       "\\newcommand{\\summaxact}{\\text{max}}\n",
       "%\n",
       "%\n",
       "\n",
       "% RNN\n",
       "% \\tt indexes a time step\n",
       "\\newcommand{\\tt}{t}\n",
       "\\newcommand{\\tp}{{(\\tt)}}\n",
       "%\n",
       "%\n",
       "\n",
       "% LSTM\n",
       "\\newcommand{\\g}{\\mathbf{g}}\n",
       "\\newcommand{\\remember}{\\mathbf{remember}}\n",
       "\\newcommand{\\save}{\\mathbf{save}}\n",
       "\\newcommand{\\focus}{\\mathbf{focus}}\n",
       "%\n",
       "%\n",
       "% NLP\n",
       "\\newcommand{\\Vocab}{\\mathbf{V}}\n",
       "\\newcommand{\\v}{\\mathbf{v}}\n",
       "\\newcommand{\\offset}{o}\n",
       "\\newcommand{\\o}{o}\n",
       "\\newcommand{\\Emb}{\\mathbf{E}}\n",
       "%\n",
       "%\n",
       "\\newcommand{\\loss}{\\mathcal{L}}\n",
       "\\newcommand{\\cost}{\\mathcal{L}}\n",
       "%\n",
       "%                     \n",
       "\\newcommand{\\pdata}{p_\\text{data}}\n",
       "\\newcommand{\\pmodel}{p_\\text{model}}\n",
       "%\n",
       "% SVM\n",
       "\\newcommand{\\margin}{{\\mathbb{m}}}\n",
       "\\newcommand{\\lmk}{\\boldsymbol{\\ell}}\n",
       "%\n",
       "%\n",
       "% Functions with arguments\n",
       "\\def\\xsy#1#2{#1^#2}\n",
       "\\def\\rand#1{\\tilde{#1}}\n",
       "\\def\\randx{\\rand{\\x}}\n",
       "\\def\\randy{\\rand{\\y}}\n",
       "\\def\\trans#1{\\dot{#1}}\n",
       "\\def\\transx{\\trans{\\x}}\n",
       "\\def\\transy{\\trans{\\y}}\n",
       "%\n",
       "\\def\\argmax#1{\\underset{#1} {\\operatorname{argmax}} }\n",
       "\\def\\argmin#1{\\underset{#1} {\\operatorname{argmin}} }\n",
       "\\def\\max#1{\\underset{#1} {\\operatorname{max}} }\n",
       "\\def\\min#1{\\underset{#1} {\\operatorname{min}} }\n",
       "%\n",
       "\\def\\pr#1{\\mathcal{p}(#1)}\n",
       "\\def\\prc#1#2{\\mathcal{p}(#1 \\; | \\; #2)}\n",
       "\\def\\cnt#1{\\mathcal{count}_{#1}}\n",
       "\\def\\node#1{\\mathbb{#1}}\n",
       "%\n",
       "\\def\\loc#1{{\\text{##} {#1}}}\n",
       "%\n",
       "\\def\\OrderOf#1{\\mathcal{O}\\left( #1 \\right)}\n",
       "%\n",
       "% Expectation operator\n",
       "\\def\\Exp#1{\\underset{#1} {\\operatorname{\\mathbb{E}}} }\n",
       "%\n",
       "% VAE\n",
       "\\def\\prs#1#2{\\mathcal{p}_{#2}(#1)}\n",
       "\\def\\qr#1{\\mathcal{q}(#1)}\n",
       "\\def\\qrs#1#2{\\mathcal{q}_{#2}(#1)}\n",
       "%\n",
       "% Reinforcement learning\n",
       "\\newcommand{\\Actions}{{\\mathcal{A}}} \n",
       "\\newcommand{\\actseq}{A}\n",
       "\\newcommand{\\act}{a}\n",
       "\\newcommand{\\States}{{\\mathcal{S}}}   \n",
       "\\newcommand{\\stateseq}{S}  \n",
       "\\newcommand{\\state}{s}\n",
       "\\newcommand{\\Rewards}{{\\mathcal{R}}}\n",
       "\\newcommand{\\rewseq}{R}\n",
       "\\newcommand{\\rew}{r}\n",
       "\\newcommand{\\transp}{P}\n",
       "\\newcommand{\\statevalfun}{v}\n",
       "\\newcommand{\\actvalfun}{q}\n",
       "\\newcommand{\\disc}{\\gamma}\n",
       "%\n",
       "%\n",
       "\\newcommand{\\floor}[1]{\\left\\lfloor #1 \\right\\rfloor}\n",
       "\\newcommand{\\ceil}[1]{\\left\\lceil #1 \\right\\rceil}\n",
       "%\n",
       "%\n",
       "$$\n"
      ],
      "text/plain": [
       "<IPython.core.display.Latex object>"
      ]
     },
     "metadata": {},
     "output_type": "display_data"
    }
   ],
   "source": [
    "%run Latex_macros.ipynb\n",
    "%run beautify_plots.py"
   ]
  },
  {
   "cell_type": "code",
   "execution_count": 2,
   "metadata": {
    "slideshow": {
     "slide_type": "notes"
    }
   },
   "outputs": [],
   "source": [
    "# My standard magic !  You will see this in almost all my notebooks.\n",
    "\n",
    "from IPython.core.interactiveshell import InteractiveShell\n",
    "InteractiveShell.ast_node_interactivity = \"all\"\n",
    "\n",
    "# Reload all modules imported with %aimport\n",
    "%load_ext autoreload\n",
    "%autoreload 1\n",
    "\n",
    "%matplotlib inline"
   ]
  },
  {
   "cell_type": "markdown",
   "metadata": {
    "slideshow": {
     "slide_type": "slide"
    }
   },
   "source": [
    "# Recommender Systems: Pseudo SVD\n",
    "\n",
    "There is another interesting use of Matrix Factorization that we will briefly review.\n",
    "\n",
    "It will show both a case study and interesting extension of SVD."
   ]
  },
  {
   "cell_type": "markdown",
   "metadata": {
    "slideshow": {
     "slide_type": "subslide"
    }
   },
   "source": [
    "## Netflix Prize competition\n",
    "- Predict user ratings for movies\n",
    "- Dataset\n",
    "    - Ratings assigned by users to movies: 1 to 5 stars\n",
    "    - 480K users, 18K movies; 100MM ratings total\n",
    "- $1MM prize\n",
    "- Awarded to team that beat Netflix existing prediction system by at least 10 percentage points"
   ]
  },
  {
   "cell_type": "markdown",
   "metadata": {
    "slideshow": {
     "slide_type": "subslide"
    }
   },
   "source": [
    "## User preference matrix\n",
    "\n",
    "We will try to use same language as PCA (examples, features, synthetic features)\n",
    "- But map them to Netflix terms\n",
    "    - Examples: Viewers\n",
    "    - Features: Movies (\"items\")\n",
    "\n",
    "Matrix $\\X$: user rating of movies\n",
    "\n",
    "$\\X_j^{(i)}$ is $i^{\\text{th}}$ user's rating of movie $j$"
   ]
  },
  {
   "cell_type": "markdown",
   "metadata": {
    "slideshow": {
     "slide_type": "subslide"
    }
   },
   "source": [
    "$\\X$ is huge: $m *n$\n",
    "- $m = .5$ million viewers\n",
    "- $n = 18,000$ items (movies).\n",
    "\n",
    "About 9 billion entries for a full matrix !\n"
   ]
  },
  {
   "cell_type": "markdown",
   "metadata": {
    "slideshow": {
     "slide_type": "subslide"
    }
   },
   "source": [
    "## Idea: Linking Viewer to Movies via concepts\n",
    "\n",
    "- Come up with your own \"concepts\" (synthetic features)\n",
    "    - Concept = attribute of a movie\n",
    "        - Map user preference to concept\n",
    "        - Map movie style to concept\n",
    "        - Supply and demand: \n",
    "            - User demands concept, Movie provides concept"
   ]
  },
  {
   "cell_type": "markdown",
   "metadata": {
    "slideshow": {
     "slide_type": "subslide"
    }
   },
   "source": [
    "### Human defined concepts\n",
    "- Style: Action, Adventure, Comedy, Sci-fi\n",
    "- Actor\n",
    "- Typical audience segment"
   ]
  },
  {
   "cell_type": "markdown",
   "metadata": {
    "slideshow": {
     "slide_type": "subslide"
    }
   },
   "source": [
    "### Making recommendations based on concepts\n",
    "- Create user profile $P$: maps user to concept\n",
    "- Create item profile $Q$: maps movies (features, items) to concept\n",
    "- $\\X = P Q^T$"
   ]
  },
  {
   "cell_type": "markdown",
   "metadata": {
    "slideshow": {
     "slide_type": "subslide"
    }
   },
   "source": [
    "To \"recommend\" a movie to a new user\n",
    "- Given a sparse feature vector for the new user\n",
    "- Obtain a dense vector\n",
    "    - By mapping the sparse vector to concept space (synthetic features)\n",
    "    - Finding a cluster of similar synthetic feature vectors, summarizing\n",
    "    - Inverse transformation back to original features\n",
    "    \n",
    "The original features (movies) newly populated in the formerly sparse vector \n",
    "are the recommendations"
   ]
  },
  {
   "cell_type": "markdown",
   "metadata": {
    "slideshow": {
     "slide_type": "subslide"
    }
   },
   "source": [
    "One advantage of the $\\X = P Q^T$ approach is a big space reduction.\n",
    "\n",
    "With $k \\le n$ concepts:\n",
    "- $\\X$ is $m \\times n$\n",
    "- $P$ is $m \\times k$\n",
    "- $Q$ is $n \\times k$"
   ]
  },
  {
   "cell_type": "markdown",
   "metadata": {
    "slideshow": {
     "slide_type": "slide"
    }
   },
   "source": [
    "\n",
    "### SVD to discover concepts\n",
    "\n",
    "Why let a human guess concepts when Machine Learning can discover them ?  \n",
    "- Factor $\\X$ by SVD !\n",
    "    - Let SVD discovers the $k$ \"best\" synthetic features, rather than leaving it to a human\n",
    "\n",
    "\n"
   ]
  },
  {
   "cell_type": "markdown",
   "metadata": {
    "slideshow": {
     "slide_type": "subslide"
    }
   },
   "source": [
    "Here's how to use SVD to discover $P, Q$:\n",
    "\n",
    "$$\n",
    "\\begin{array}[lll]\\\\\n",
    "\\X & = & U \\Sigma  V^T & \\text{ SVD of } \\X \\\\\n",
    "& = & (U \\Sigma)  V^T \\\\\n",
    "& = & P Q & \\text{ Letting }, P = U \\Sigma, Q = V^T \\\\\n",
    "\\end{array}\n",
    "$$\n"
   ]
  },
  {
   "cell_type": "markdown",
   "metadata": {
    "slideshow": {
     "slide_type": "subslide"
    }
   },
   "source": [
    "Anyone spot the problem(s) ?"
   ]
  },
  {
   "cell_type": "markdown",
   "metadata": {
    "slideshow": {
     "slide_type": "subslide"
    }
   },
   "source": [
    "The matrix $\\X$ with 9 billion entries is a handful !\n",
    "\n",
    "But the problem is more acute than one of size.\n",
    "\n",
    "Each row $\\X^\\ip$ is *sparse*\n",
    "- Any single user views only a fraction of the $n$ movies\n",
    "\n",
    "How can we perform SVD on a matrix with missing values ?"
   ]
  },
  {
   "cell_type": "markdown",
   "metadata": {
    "slideshow": {
     "slide_type": "subslide"
    }
   },
   "source": [
    "Missing value imputation is not attractive\n",
    "- Of the $9$ billion potential entries in $\\X$, only $100$ million are defined\n",
    "- Would impute more missing values than actual values\n",
    "\n",
    "What can we do ?"
   ]
  },
  {
   "cell_type": "markdown",
   "metadata": {
    "slideshow": {
     "slide_type": "subslide"
    }
   },
   "source": [
    "**The ML mantra**\n",
    "- It's all about the Loss function\n",
    "- The essence of ML is finding a Loss function that describes a solution to your problem\n",
    "- Gradient Descent is the \"Swiss Army Knife\" used for optimization of Loss functions\n",
    "\n",
    "We will use \"Pseudo SVD\", a form of matrix decomposition based on minimizing a Loss."
   ]
  },
  {
   "cell_type": "markdown",
   "metadata": {
    "slideshow": {
     "slide_type": "slide"
    }
   },
   "source": [
    "## Pseudo SVD Loss function\n",
    "\n",
    "The Froebenius Norm \n",
    "- Used in PCA as a metric with which to find the \"best\" low rank approximation\n",
    "- Is modified to exclude missing values\n",
    "\n",
    "$$\n",
    "\\begin{array}\\\\\n",
    "\\loss(\\X',\\X) & = & \\sum\\limits_{\\substack{1 \\le i \\le m,\\\\ 1 \\le j \\le n \\\\ \\X_j^{(i)} \\text{defined}}} { \\left(  \\X_j^{(i)} - {\\X'}_j^{(i)} \\right)^2} \n",
    "\\end{array}\n",
    "$$\n",
    "\n",
    "That is: the loss is computed *only for the defined entries* of $\\X$.\n",
    "\n",
    "We can interpret the loss as a Reconstruction Error"
   ]
  },
  {
   "cell_type": "markdown",
   "metadata": {
    "slideshow": {
     "slide_type": "subslide"
    }
   },
   "source": [
    "Note that $\\loss(\\X',\\X)$ is parameterized by $P, Q$\n",
    "\n",
    "$$\n",
    "\\begin{array}\\\\\n",
    "\\loss(\\X',\\X) & = & \\sum\\limits_{\\substack{1 \\le i \\le m,\\\\ 1 \\le j \\le n \\\\ \\X_j^{(i)} \\text{defined}}} { \\left(  \\X_j^{(i)} - {\\X'}_j^{(i)} \\right)^2} \\\\\n",
    "& = & \\sum\\limits_{\\substack{1 \\le i \\le m,\\\\ 1 \\le j \\le n \\\\ \\X_j^{(i)} \\text{defined}}} { \\left(  \\X_j^{(i)} - (P Q^T)_j^{(i)} \\right)^2} & \\text{ since } \\X' = P Q^T \\\\\n",
    "\\end{array}\n",
    "$$"
   ]
  },
  {
   "cell_type": "markdown",
   "metadata": {
    "slideshow": {
     "slide_type": "subslide"
    }
   },
   "source": [
    "$P, Q$ are our *parameters* (e.g., $\\Theta$)\n",
    "\n",
    "So we search for the $P^*, Q^*$ that minimize $\\loss(\\X',\\X)$\n",
    "$$\n",
    "P^*, Q^* = \\argmin{P,Q} \\loss(\\X',\\X) \n",
    "$$\n",
    "\n",
    "How ? Gradient Descent !"
   ]
  },
  {
   "cell_type": "markdown",
   "metadata": {
    "slideshow": {
     "slide_type": "subslide"
    }
   },
   "source": [
    "### Pseudo SVD algorithm\n",
    "\n",
    "- Define $\\X' = P Q^T$\n",
    "\n",
    "- Initialize elements of $P, Q$ randomly.\n",
    "\n",
    "- Take analytic derivatives of $\\loss(\\X',\\X) $ with respect to\n",
    "    - $P_j^{(i)}$ for $1 \\le i \\le m, 1 \\le j \\le k$\n",
    "    - $Q_j^{(i)}$ for $1 \\le i \\le m, 1 \\le j \\le k$\n",
    "\n",
    "- Use Gradient Descent to solve for optimal entries of $P, Q$.\n",
    "    - Find entries of $P, Q$ such that product matches non-empty part of $\\X$"
   ]
  },
  {
   "cell_type": "markdown",
   "metadata": {
    "slideshow": {
     "slide_type": "subslide"
    }
   },
   "source": [
    "**Note**\n",
    "- No guarantee that the $P, Q$ obtained are\n",
    "    - Orthonormal, etc. (which SVD would give you)\n",
    "\n",
    "But SVD won't work for $\\X$ with missing values."
   ]
  },
  {
   "cell_type": "markdown",
   "metadata": {
    "slideshow": {
     "slide_type": "slide"
    }
   },
   "source": [
    "### Filling in missing values\n",
    "\n",
    "Once you have $P, Q$\n",
    "\n",
    "- to predict a missing rating for user $i$ movie $j$:\n",
    "\n",
    "$$\\hat{r}_{j,i} =  q^\\ip \\cdot p_j^T$$ \n",
    "- $q^\\ip$ is row $i$ of $Q$\n",
    "- $p_j$ is column $j$ of $P^T$"
   ]
  },
  {
   "cell_type": "markdown",
   "metadata": {
    "slideshow": {
     "slide_type": "subslide"
    }
   },
   "source": [
    "### Some intuition\n",
    "\n",
    "The rating vector of a user may have missing entries.\n",
    "\n",
    "But we can still project to synthetic feature space based on the non-empty entries.\n",
    "\n",
    "The projection winds up in a \"neighborhood\" of concepts.\n",
    "\n",
    "Inverse transformation \n",
    "- Gets us to a completely non-empty rating vector that is a resident of this neighborhood."
   ]
  },
  {
   "cell_type": "markdown",
   "metadata": {
    "slideshow": {
     "slide_type": "subslide"
    }
   },
   "source": [
    "**Example**\n",
    "\n",
    "User rates \n",
    "- Sci-Fi movies A and B very highly \n",
    "- Does not rate Sci-Fi movie C.\n",
    "\n",
    "Since A,B, C express same concept (Sci-Fi) they will be close in synthetic feature space.\n",
    "\n",
    "Hence, the implied rating of User for movie C will be close to what other users rate C."
   ]
  },
  {
   "cell_type": "code",
   "execution_count": 3,
   "metadata": {
    "slideshow": {
     "slide_type": "slide"
    }
   },
   "outputs": [
    {
     "name": "stdout",
     "output_type": "stream",
     "text": [
      "Done\n"
     ]
    }
   ],
   "source": [
    "print(\"Done\")"
   ]
  }
 ],
 "metadata": {
  "celltoolbar": "Slideshow",
  "kernelspec": {
   "display_name": "Python 3",
   "language": "python",
   "name": "python3"
  },
  "language_info": {
   "codemirror_mode": {
    "name": "ipython",
    "version": 3
   },
   "file_extension": ".py",
   "mimetype": "text/x-python",
   "name": "python",
   "nbconvert_exporter": "python",
   "pygments_lexer": "ipython3",
   "version": "3.7.4"
  },
  "toc": {
   "base_numbering": 1,
   "nav_menu": {},
   "number_sections": true,
   "sideBar": true,
   "skip_h1_title": false,
   "title_cell": "Table of Contents",
   "title_sidebar": "Contents",
   "toc_cell": false,
   "toc_position": {
    "height": "calc(100% - 180px)",
    "left": "10px",
    "top": "150px",
    "width": "368px"
   },
   "toc_section_display": true,
   "toc_window_display": true
  }
 },
 "nbformat": 4,
 "nbformat_minor": 2
}
