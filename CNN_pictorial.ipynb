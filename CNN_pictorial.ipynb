{
 "cells": [
  {
   "cell_type": "code",
   "execution_count": 1,
   "metadata": {
    "slideshow": {
     "slide_type": "notes"
    }
   },
   "outputs": [
    {
     "data": {
      "text/latex": [
       "$$\n",
       "\\newcommand{\\x}{\\mathbf{x}}\n",
       "\\newcommand{\\tx}{\\tilde{\\x}}\n",
       "\\newcommand{\\y}{\\mathbf{y}}\n",
       "\\newcommand{\\b}{\\mathbf{b}}\n",
       "\\newcommand{\\c}{\\mathbf{c}}\n",
       "\\newcommand{\\e}{\\mathbf{e}}\n",
       "\\newcommand{\\z}{\\mathbf{z}}\n",
       "\\newcommand{\\h}{\\mathbf{h}}\n",
       "\\newcommand{\\u}{\\mathbf{u}}\n",
       "\\newcommand{\\v}{\\mathbf{v}}\n",
       "\\newcommand{\\w}{\\mathbf{w}}\n",
       "\\newcommand{\\W}{\\mathbf{W}}\n",
       "\\newcommand{\\X}{\\mathbf{X}}\n",
       "\\newcommand{\\KL}{\\mathbf{KL}}\n",
       "\\newcommand{\\E}{{\\mathbb{E}}}\n",
       "\\newcommand{\\ip}{\\mathbf{{(i)}}}\n",
       "%\n",
       "% Test set\n",
       "\\newcommand{\\xt}{\\underline{\\x}}\n",
       "\\newcommand{\\yt}{\\underline{\\y}}\n",
       "\\newcommand{\\Xt}{\\underline{\\X}}\n",
       "\\newcommand{\\perfm}{\\mathcal{P}}\n",
       "%\n",
       "% \\ll indexes a layer; we can change the actual letter\n",
       "\\newcommand{\\ll}{l}\n",
       "\\newcommand{\\llp}{{(\\ll)}}\n",
       "%\n",
       "\\newcommand{Thetam}{\\Theta_{-0}}\n",
       "\n",
       "% CNN\n",
       "\\newcommand{\\kernel}{\\mathbf{k}} \n",
       "\\newcommand{\\dim}{d}\n",
       "\\newcommand{\\idxspatial}{{\\text{idx}}}\n",
       "\\newcommand{\\summaxact}{\\text{max}}\n",
       "%\n",
       "%\n",
       "\n",
       "% RNN\n",
       "% \\tt indexes a time step\n",
       "\\newcommand{\\tt}{t}\n",
       "\\newcommand{\\tp}{{(\\tt)}}\n",
       "%\n",
       "%\n",
       "\n",
       "% LSTM\n",
       "\\newcommand{\\g}{\\mathbf{g}}\n",
       "\\newcommand{\\remember}{\\mathbf{remember}}\n",
       "\\newcommand{\\save}{\\mathbf{save}}\n",
       "\\newcommand{\\focus}{\\mathbf{focus}}\n",
       "%\n",
       "%\n",
       "% NLP\n",
       "\\newcommand{\\Vocab}{\\mathbf{V}}\n",
       "\\newcommand{\\v}{\\mathbf{v}}\n",
       "\\newcommand{\\offset}{o}\n",
       "\\newcommand{\\o}{o}\n",
       "\\newcommand{\\E}{\\mathbf{E}}\n",
       "%\n",
       "%\n",
       "\\newcommand{\\loss}{\\mathcal{L}}\n",
       "\\newcommand{\\cost}{\\mathcal{L}}\n",
       "%\n",
       "%                     \n",
       "\\newcommand{\\pdata}{p_\\text{data}}\n",
       "\\newcommand{\\pmodel}{p_\\text{model}}\n",
       "%\n",
       "% SVM\n",
       "\\newcommand{\\margin}{{\\mathbb{m}}}\n",
       "\\newcommand{\\lmk}{\\boldsymbol{\\ell}}\n",
       "%\n",
       "% Functions with arguments\n",
       "\\def\\xsy#1#2{#1^#2}\n",
       "\\def\\rand#1{\\tilde{#1}}\n",
       "\\def\\randx{\\rand{\\x}}\n",
       "\\def\\randy{\\rand{\\y}}\n",
       "\\def\\trans#1{\\dot{#1}}\n",
       "\\def\\transx{\\trans{\\x}}\n",
       "\\def\\transy{\\trans{\\y}}\n",
       "%\n",
       "\\def\\argmax#1{\\underset{#1} {\\operatorname{argmax}} }\n",
       "\\def\\argmin#1{\\underset{#1} {\\operatorname{argmin}} }\n",
       "\\def\\max#1{\\underset{#1} {\\operatorname{max}} }\n",
       "\\def\\min#1{\\underset{#1} {\\operatorname{min}} }\n",
       "%\n",
       "\\def\\pr#1{\\mathcal{p}(#1)}\n",
       "\\def\\prc#1#2{\\mathcal{p}(#1 \\; | \\; #2)}\n",
       "\\def\\cnt#1{\\mathcal{count}_{#1}}\n",
       "\\def\\node#1{\\mathbb{#1}}\n",
       "%\n",
       "\\newcommand{\\floor}[1]{\\left\\lfloor #1 \\right\\rfloor}\n",
       "\\newcommand{\\ceil}[1]{\\left\\lceil #1 \\right\\rceil}\n",
       "%\n",
       "\\def\\loc#1{{\\text{##} {#1}}}\n",
       "%\n",
       "$$\n"
      ],
      "text/plain": [
       "<IPython.core.display.Latex object>"
      ]
     },
     "metadata": {},
     "output_type": "display_data"
    }
   ],
   "source": [
    "%run Latex_macros.ipynb"
   ]
  },
  {
   "cell_type": "code",
   "execution_count": 2,
   "metadata": {
    "slideshow": {
     "slide_type": "notes"
    }
   },
   "outputs": [],
   "source": [
    "# My standard magic !  You will see this in almost all my notebooks.\n",
    "\n",
    "from IPython.core.interactiveshell import InteractiveShell\n",
    "InteractiveShell.ast_node_interactivity = \"all\"\n",
    "\n",
    "# Reload all modules imported with %aimport\n",
    "%load_ext autoreload\n",
    "%autoreload 1\n",
    "\n",
    "%matplotlib inline"
   ]
  },
  {
   "cell_type": "markdown",
   "metadata": {
    "slideshow": {
     "slide_type": "slide"
    }
   },
   "source": [
    "# Conv 1D: One spatial dimension\n",
    "\n",
    "## Conv 1D: single feature\n",
    "\n",
    "\n",
    "<div><br>\n",
    "    <center><strong>Conv 1D, single feature: sliding the filter</strong></center>\n",
    "    <br>\n",
    "<img src=images/W9_L1_S19_Conv1d_sliding.png width=\"80%\">\n",
    "    <!-- edX: Original: <img src=\"images/Conv1d_sliding.png\"> replace by EdX created image --> \n",
    "</div>"
   ]
  },
  {
   "cell_type": "markdown",
   "metadata": {
    "slideshow": {
     "slide_type": "subslide"
    }
   },
   "source": [
    "<img src=\"images/Back_to_parent.jpg\">"
   ]
  },
  {
   "cell_type": "markdown",
   "metadata": {
    "slideshow": {
     "slide_type": "slide"
    }
   },
   "source": [
    "## Conv 1D: single feature to multiple features\n",
    "\n",
    "<div>\n",
    "    <br>\n",
    "    <center><strong>Conv 1D: single feature to multiple features</strong></center>\n",
    "    <br>\n",
    "<img src=images/Conv1d_2feature_diag.png>\n",
    "    <br>\n",
    "    </div>"
   ]
  },
  {
   "cell_type": "markdown",
   "metadata": {
    "slideshow": {
     "slide_type": "subslide"
    }
   },
   "source": [
    "<div>\n",
    "    <br>\n",
    "    <center><strong>Conv 1D, single feature to multiple features</strong></center>\n",
    "    <br>\n",
    "<img src=images/W9_L2_S10_Conv1d_2feature.png width=\"80%\">\n",
    "    <!-- edX: Original: <img src=\"images/Conv1d_2feature.png\"> replace by EdX created image --> \n",
    "    </div>"
   ]
  },
  {
   "cell_type": "markdown",
   "metadata": {
    "slideshow": {
     "slide_type": "subslide"
    }
   },
   "source": [
    "<img src=\"images/Back_to_parent.jpg\">"
   ]
  },
  {
   "cell_type": "markdown",
   "metadata": {
    "slideshow": {
     "slide_type": "slide"
    }
   },
   "source": [
    "## Conv 1D: Multiple features to multiple features\n",
    "\n",
    "When the input $\\y_{(\\ll-1)}$ has more than one feature ($n_{(\\ll-1)} > 1$)\n",
    "- the kernel for each output feature must have feature dimension of length $n_{(\\ll-1)}$\n",
    "\n",
    "Here is the kernel for the first output feature, assuming $n_{(\\ll-1)} = 2$\n",
    "- it's feature dimension is length 2.\n",
    "\n",
    "There would be a similar kernel for each of the output features.\n",
    "\n",
    "<div>\n",
    "    <br>\n",
    "    <center><strong>Conv 1D: 2 input features: kernel 1</strong></center>\n",
    "    <br>\n",
    "<img src=images/Conv1d_2feature_kernel.png width=\"35%\">\n",
    "    <!-- edX: obsolete:: <img src=\"images/W9_L2_S23_Conv1d_2feature_kernel.png \"> replace by EdX created image --> \n",
    "    <br>\n",
    "    </div>\n",
    "\n",
    "- $\\mathbf{W}_{\\llp, j', \\ldots,j}$\n",
    "    - layer $\\ll$\n",
    "    - output feature $j$\n",
    "    - spatial location: $\\ldots \\in \\{1,2,3\\}$\n",
    "    - input feature $j'$"
   ]
  },
  {
   "cell_type": "markdown",
   "metadata": {
    "slideshow": {
     "slide_type": "slide"
    }
   },
   "source": [
    "Let's illustrate how this works.\n",
    "- Output feature 1\n",
    "- Spatial location 1\n",
    "\n",
    "<div>\n",
    "    <br>\n",
    "    <center><strong>Conv 1D: 2 features to 3 features: kernel 1</strong></center>\n",
    "    <br>\n",
    "<img src=images/W9_L2_S27_Conv1d_2feature_to_3feature_1.png width=\"80%\">\n",
    "    <!-- edX: Original: <img src=\"images/Conv1d_2feature_to_3feature_1.png\"> replace by EdX created image --> \n",
    "    <br>\n",
    "    </div>"
   ]
  },
  {
   "cell_type": "markdown",
   "metadata": {
    "slideshow": {
     "slide_type": "subslide"
    }
   },
   "source": [
    "- Output feature 1\n",
    "- Spatial location 2\n",
    "\n",
    "<div>\n",
    "    <br>\n",
    "    <center><strong>Conv 1D: 2 features to 3 features: kernel 1</strong></center>\n",
    "    <br>\n",
    "<img src=images/W9_L2_S29_Conv1d_2feature_to_3feature_2.png width=\"80%\">\n",
    "    <!-- edX: Original: <img src=\"images/Conv1d_2feature_to_3feature_2.png\"> replace by EdX created image --> \n",
    "    <br>\n",
    "    </div>"
   ]
  },
  {
   "cell_type": "markdown",
   "metadata": {
    "slideshow": {
     "slide_type": "subslide"
    }
   },
   "source": [
    "- Output feature 2\n",
    "- Spatial location 1\n",
    "\n",
    "<div>\n",
    "    <br>\n",
    "    <center><strong>Conv 1D: 2 features to 3 features: kernel 2</strong></center>\n",
    "    <br>\n",
    "<img src=images/W9_L2_S31_Conv1d_2feature_to_3feature_3.png width=\"80%\">\n",
    "    <!-- edX: Original: <img src=\"images/Conv1d_2feature_to_3feature_3.png\"> replace by EdX created image --> \n",
    "    <br>\n",
    "    </div>"
   ]
  },
  {
   "cell_type": "markdown",
   "metadata": {
    "slideshow": {
     "slide_type": "subslide"
    }
   },
   "source": [
    "- Output feature 2\n",
    "- Spatial location 2\n",
    "\n",
    "<div>\n",
    "    <br>\n",
    "    <center><strong>Conv 1D: 2 features to 3 features: kernel 2</strong></center>\n",
    "    <br>\n",
    "<img src=images/W9_L2_S33_Conv1d_2feature_to_3feature_4.png width=\"80%\">\n",
    "    <!-- edX: Original: <img src=\"images/Conv1d_2feature_to_3feature_4.png\"> replace by EdX created image --> \n",
    "    <br>\n",
    "    </div>"
   ]
  },
  {
   "cell_type": "markdown",
   "metadata": {
    "slideshow": {
     "slide_type": "subslide"
    }
   },
   "source": [
    "<img src=\"images/Back_to_parent.jpg\">"
   ]
  },
  {
   "cell_type": "markdown",
   "metadata": {
    "slideshow": {
     "slide_type": "slide"
    }
   },
   "source": [
    "# Conv 2D: Two spatial dimensions"
   ]
  },
  {
   "cell_type": "markdown",
   "metadata": {
    "slideshow": {
     "slide_type": "subslide"
    }
   },
   "source": [
    "## Conv 2D: single feature to single feature\n",
    "\n",
    "<div>\n",
    "    <br>\n",
    "    <center><strong>Conv 2D, single feature to single feature: padding at border</strong></center>\n",
    "    <br>\n",
    "<img src=images/W9_L2_S39_Conv2d_2.png width=\"80%\">\n",
    "    <!-- edX: Original: <img src=\"images/Conv2d_2.png\"> replace by EdX created image --> \n",
    "    <br>\n",
    "    </div>"
   ]
  },
  {
   "cell_type": "markdown",
   "metadata": {
    "slideshow": {
     "slide_type": "subslide"
    }
   },
   "source": [
    "\n",
    "1\n",
    "<img src=\"images/Back_to_parent.jpg\">\n",
    "\n",
    "\n"
   ]
  },
  {
   "cell_type": "markdown",
   "metadata": {
    "slideshow": {
     "slide_type": "subslide"
    }
   },
   "source": [
    "## Conv 2D: single feature to multiple features\n",
    "\n",
    "<div>\n",
    "    <br>\n",
    "    <center><strong>Conv 2D, single feature to multiple features: padding at border</strong></center>\n",
    "    <br>\n",
    "<img src=images/W9_L2_S42_Conv2d_2feature.png width=\"80%\">\n",
    "    <!-- edX: Original: <img src=\"images/Conv2d_2feature.png\"> replace by EdX created image --> \n",
    "    <br>\n",
    "    </div>"
   ]
  },
  {
   "cell_type": "markdown",
   "metadata": {
    "slideshow": {
     "slide_type": "subslide"
    }
   },
   "source": [
    "<img src=\"images/Back_to_parent.jpg\">"
   ]
  },
  {
   "cell_type": "markdown",
   "metadata": {
    "slideshow": {
     "slide_type": "subslide"
    }
   },
   "source": [
    "## Conv 2D: multiple features to single feature\n",
    "\n",
    "<div>\n",
    "    <br>\n",
    "    <center><strong>Conv 2D, multiple input, single output feature: padding at border</strong></center>\n",
    "    <br>\n",
    "<img src=images/W9_L2_S49_Conv3d_1.png width=\"80%\">\n",
    "    <!-- edX: Original: <img src=\"images/Conv3d_1.png\"> replace by EdX created image -->\n",
    "    <br>\n",
    "    </div>"
   ]
  },
  {
   "cell_type": "markdown",
   "metadata": {
    "slideshow": {
     "slide_type": "subslide"
    }
   },
   "source": [
    "<img src=\"images/Back_to_parent.jpg\">"
   ]
  },
  {
   "cell_type": "markdown",
   "metadata": {
    "slideshow": {
     "slide_type": "subslide"
    }
   },
   "source": [
    "## Conv 2D: multiple features to multiple features\n",
    "\n",
    "<div>\n",
    "    <br>\n",
    "    <center><strong>Conv 2D, multiple input, multiple output features</strong></center>\n",
    "    <br>\n",
    "<img src=images/W9_L2_S53_Conv3d_2.png width=\"80%\">\n",
    "    <!-- edX: Original: <img src=\"images/Conv3d_2.png\"> replace by EdX created image -->\n",
    "    <br>\n",
    "    </div>"
   ]
  }
 ],
 "metadata": {
  "celltoolbar": "Slideshow",
  "kernelspec": {
   "display_name": "Python 3",
   "language": "python",
   "name": "python3"
  },
  "language_info": {
   "codemirror_mode": {
    "name": "ipython",
    "version": 3
   },
   "file_extension": ".py",
   "mimetype": "text/x-python",
   "name": "python",
   "nbconvert_exporter": "python",
   "pygments_lexer": "ipython3",
   "version": "3.7.4"
  },
  "toc": {
   "base_numbering": 1,
   "nav_menu": {},
   "number_sections": true,
   "sideBar": true,
   "skip_h1_title": false,
   "title_cell": "Table of Contents",
   "title_sidebar": "Contents",
   "toc_cell": false,
   "toc_position": {},
   "toc_section_display": true,
   "toc_window_display": false
  }
 },
 "nbformat": 4,
 "nbformat_minor": 2
}
