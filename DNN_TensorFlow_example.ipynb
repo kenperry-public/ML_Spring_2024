{
 "cells": [
  {
   "cell_type": "markdown",
   "metadata": {
    "id": "0IDpTj3R2War"
   },
   "source": [
    "# Derived from Geron 11_deep_learning.ipynb"
   ]
  },
  {
   "cell_type": "markdown",
   "metadata": {
    "id": "n0VTrSvDJlis"
   },
   "source": [
    "We will provide a quick introduction into programming with TensorFlow.\n",
    "\n",
    "We revist our old friend, MNIST digit classification and provide a solution using the high-level Keras API"
   ]
  },
  {
   "cell_type": "code",
   "execution_count": 1,
   "metadata": {
    "colab": {
     "base_uri": "https://localhost:8080/"
    },
    "id": "KrrkTenZMlKM",
    "outputId": "f5862ad1-c067-4364-a7c2-79de79110402"
   },
   "outputs": [
    {
     "name": "stdout",
     "output_type": "stream",
     "text": [
      "We're running Colab\n"
     ]
    }
   ],
   "source": [
    "try:\n",
    "  from google.colab import drive\n",
    "  IN_COLAB=True\n",
    "except:\n",
    "  IN_COLAB=False\n",
    "\n",
    "if IN_COLAB:\n",
    "  print(\"We're running Colab\")"
   ]
  },
  {
   "cell_type": "code",
   "execution_count": 2,
   "metadata": {
    "colab": {
     "base_uri": "https://localhost:8080/"
    },
    "id": "MLWUIhNDNJDw",
    "outputId": "b7221ac1-a42f-4976-da85-9645c02e22da"
   },
   "outputs": [
    {
     "name": "stdout",
     "output_type": "stream",
     "text": [
      "Running TensorFlow version  2.14.0\n",
      "Version 2, minor 14\n"
     ]
    }
   ],
   "source": [
    "import tensorflow as tf\n",
    "\n",
    "print(\"Running TensorFlow version \",tf.__version__)\n",
    "\n",
    "# Parse tensorflow version\n",
    "import re\n",
    "\n",
    "version_match = re.match(\"([0-9]+)\\.([0-9]+)\", tf.__version__)\n",
    "tf_major, tf_minor = int(version_match.group(1)) , int(version_match.group(2))\n",
    "print(\"Version {v:d}, minor {m:d}\".format(v=tf_major, m=tf_minor) )"
   ]
  },
  {
   "cell_type": "code",
   "execution_count": 3,
   "metadata": {
    "colab": {
     "base_uri": "https://localhost:8080/"
    },
    "id": "bVJFZ6SUNOLL",
    "outputId": "e71185ab-faac-4cab-93b8-a1bf77fca99c"
   },
   "outputs": [
    {
     "name": "stdout",
     "output_type": "stream",
     "text": [
      "Using GPU\n"
     ]
    }
   ],
   "source": [
    "gpu_devices = tf.config.experimental.list_physical_devices('GPU')\n",
    "if gpu_devices:\n",
    "    print('Using GPU')\n",
    "    tf.config.experimental.set_memory_growth(gpu_devices[0], True)\n",
    "else:\n",
    "    print('Using CPU')"
   ]
  },
  {
   "cell_type": "code",
   "execution_count": 4,
   "metadata": {
    "id": "PEkMfar38_Q7"
   },
   "outputs": [],
   "source": [
    "import tensorflow as tf\n",
    "\n",
    "import numpy as np\n",
    "import os\n",
    "\n",
    "import pdb\n",
    "\n",
    "from pprint import pprint"
   ]
  },
  {
   "cell_type": "markdown",
   "metadata": {
    "id": "T0RoR15U3N2_"
   },
   "source": [
    "# Get the MNIST dataset\n",
    "- data pre-split into training and test sets\n",
    "  - flatten the images from 2 dimensional to 1 dimensional (makes it easier to feed into first layer)\n",
    "  - create validation set from part of training\n",
    "- \"normalize\" the inputs: change pixel range from [0,255] to [0,1]"
   ]
  },
  {
   "cell_type": "code",
   "execution_count": 5,
   "metadata": {
    "colab": {
     "base_uri": "https://localhost:8080/"
    },
    "id": "g3Cdg32u3Lon",
    "outputId": "0e6d7f86-2c63-4c01-f3ef-fdd043a18981"
   },
   "outputs": [
    {
     "name": "stdout",
     "output_type": "stream",
     "text": [
      "Downloading data from https://storage.googleapis.com/tensorflow/tf-keras-datasets/mnist.npz\n",
      "11490434/11490434 [==============================] - 2s 0us/step\n"
     ]
    }
   ],
   "source": [
    "(X_train, y_train), (X_test, y_test) = tf.keras.datasets.mnist.load_data()\n",
    "\n",
    "# Determine\n",
    "# - the dimensions of the input by examining the first training example\n",
    "# - the dimensions of the output (number of classes) by examinimg the targets\n",
    "input_size = np.prod(X_train[0].shape)\n",
    "output_size = np.unique(y_train).shape[0]\n",
    "\n",
    "# input image dimensions\n",
    "img_rows, img_cols = X_train[0].shape[0:2]\n",
    "\n",
    "valid_size = X_train.shape[0] // 10\n",
    "\n",
    "# Flatten the data to one dimension and normalize to range [0,1]\n",
    "X_train = X_train.astype(np.float32).reshape(-1, input_size) / 255.0\n",
    "X_test = X_test.astype(np.float32).reshape(-1, input_size) / 255.0\n",
    "y_train = y_train.astype(np.int32)\n",
    "y_test = y_test.astype(np.int32)\n",
    "X_valid, X_train = X_train[:valid_size], X_train[valid_size:]\n",
    "y_valid, y_train = y_train[:valid_size], y_train[valid_size:]"
   ]
  },
  {
   "cell_type": "code",
   "execution_count": 6,
   "metadata": {
    "colab": {
     "base_uri": "https://localhost:8080/"
    },
    "id": "US5Qs7m7AA66",
    "outputId": "5799c31f-f785-4551-909c-cf2c4e47365b"
   },
   "outputs": [
    {
     "data": {
      "text/plain": [
       "(54000, 784)"
      ]
     },
     "execution_count": 6,
     "metadata": {},
     "output_type": "execute_result"
    }
   ],
   "source": [
    "X_train.shape"
   ]
  },
  {
   "cell_type": "code",
   "execution_count": 7,
   "metadata": {
    "id": "Gkk5r6kBOF_V"
   },
   "outputs": [],
   "source": [
    "n_epochs = 20\n",
    "batch_size = 50\n",
    "\n",
    "(n_hidden_1, n_hidden_2) = (100, 30)\n",
    "modelName = \"mnist_first\"\n"
   ]
  },
  {
   "cell_type": "markdown",
   "metadata": {
    "id": "BrvbOmCvMcgi"
   },
   "source": [
    "# Keras version\n",
    "\n",
    "That was very instructive (hopefully) but also a lot of detailed work.\n",
    "\n",
    "It's worthwhile studying the TensorFlow.layers to get a deeper understanding of\n",
    "- computation graph\n",
    "  -definition\n",
    "  - initialization\n",
    "  - evaluation\n",
    "- loss functions:\n",
    "  - computed per example and summed\n",
    "- the training loop\n",
    "\n",
    "Over the years, many people have created higher level abstractions (e.g., `tf.layers.dense` is an abstraction that saves you the trouble of multiplying inputs by weights, adding a bias, and applying an activation) to both simplify and reduce repeated code patterns.\n",
    "\n",
    "The Keras API is a very high level abstraction (that looks similar to `sklearn` in some regards) that simplifies things a great deal, and will be tightly integrated into TensorFlow 2.0\n",
    "\n",
    "Let's re-implement this classification problem in Keras"
   ]
  },
  {
   "cell_type": "markdown",
   "metadata": {
    "id": "hPeAgHXoKCex"
   },
   "source": [
    "## Boiler plate\n",
    "\n",
    "Here are some of our standard imports.\n",
    "\n",
    "Note that - `keras` and - `tensorflow.keras` are two very similar but **distinct** modules !  \n",
    "- `keras` is a  [project](https://keras.io/) that is separate and distinct from TensorFlow\n",
    "  - It is an API for Neural Network programming, not a library\n",
    "  - The API can be implemented for many different compute engines.  TensorFlow is just one engine\n",
    "  - The Keras project supplies a TensorFlow engine which is **not identical** to Google's tTensorFlow implementation\n",
    "  \n",
    "- `tensorflow.keras` is Google's implementation (and extension) of the Keras API\n",
    "\n",
    "For the most part they are similar, but you can create difficulty if you mix and match.\n",
    "We will deal exclusively with `tensorflow.keras`, as will be reflected in our import statements.\n"
   ]
  },
  {
   "cell_type": "code",
   "execution_count": 8,
   "metadata": {
    "id": "fuIxxo8DzrB4"
   },
   "outputs": [],
   "source": [
    "import tensorflow as tf\n",
    "from tensorflow.keras.models import Model, Sequential\n",
    "from tensorflow.keras import layers\n",
    "\n",
    "from tensorflow.keras.utils import plot_model\n",
    "import IPython\n"
   ]
  },
  {
   "cell_type": "markdown",
   "metadata": {
    "id": "JUsOYDS8MG4q"
   },
   "source": [
    "## Build the compuation graph in Keras"
   ]
  },
  {
   "cell_type": "code",
   "execution_count": 9,
   "metadata": {
    "id": "hpY4y5n6z-VA"
   },
   "outputs": [],
   "source": [
    "mnist_model = Sequential([ layers.Dense(n_hidden_1, activation=tf.nn.relu,    name=\"hidden1\", input_shape=(input_size,)),\n",
    "                           layers.Dense(n_hidden_2, activation=tf.nn.relu,    name=\"hidden2\"),\n",
    "                           layers.Dense(output_size,activation=tf.nn.softmax, name=\"outputs\")\n",
    "                         ]\n",
    "                        )\n",
    "\n"
   ]
  },
  {
   "cell_type": "markdown",
   "metadata": {
    "id": "vls6hFpTMM_2"
   },
   "source": [
    "That was easy !\n",
    "\n",
    "We used the same conceptual layers as in the TensorFlow.layers implementation and passed them as a list to the `Sequential` model.\n",
    "Note, however, that the \"layers\" now come from tf.keras rather than TensorFlow tf.\n",
    "\n",
    "The `Sequential` model will take the input, feed it to the first layer, and pass the output of layer $i$ to the input of layer $i+1$."
   ]
  },
  {
   "cell_type": "markdown",
   "metadata": {
    "id": "Pd6LOyYID7kR"
   },
   "source": [
    "Some things to point out\n",
    "- when you use the `Sequential` model, you don't supply an explicit `Input` layer (placeholders in TensorFlow.layers)\n",
    "  - instead: the first (and only the first) layer requires the `input_shape` argument to describe the shape of the input\n",
    "- Unlike in the TensorFlow.layers code, the  final layer (`outputs`) has an `softmax` activation\n",
    "  - In TensorFlow.layers, the loss function (`sparse_softmax_cross_entropy_with_logits`) performs its own `softmax`\n",
    "    - we couldn't find a similar loss function in Keras, so we perform the `softmax` ourself."
   ]
  },
  {
   "cell_type": "markdown",
   "metadata": {
    "id": "CkJoK62xN72s"
   },
   "source": [
    "### Creating a loss node  and training operation in Keras\n",
    "\n",
    "The `mnist_model` specifies the layers of the model, but doesn't actually build the computation graphs.\n",
    "For that, we need to \"compile\" the model.\n",
    "\n",
    "The compile step is also where we specify\n",
    "- the loss function\n",
    "- the optimizer step\n",
    "- other \"metrics\" (values to measure) to compute in the training loop"
   ]
  },
  {
   "cell_type": "markdown",
   "metadata": {
    "id": "wF6SVWpVD7kX"
   },
   "source": [
    "Below\n",
    "- we will use `sparse_categorical_crossentropy` as the loss (`sparse` because our labels are not one-hot encoded).\n",
    "- `adam` as our optimizer (could have easily chosen `sgd`in order to be more similar to the TensorFlow.layers code)\n",
    "- measure training accuracy (`acc`)"
   ]
  },
  {
   "cell_type": "code",
   "execution_count": 10,
   "metadata": {
    "id": "v6jzbbOi73iL"
   },
   "outputs": [],
   "source": [
    "metrics = [ \"accuracy\" ]\n",
    "mnist_model.compile(optimizer='adam',\n",
    "                    loss='sparse_categorical_crossentropy',\n",
    "                    metrics=metrics)\n"
   ]
  },
  {
   "cell_type": "markdown",
   "metadata": {
    "id": "OCuhn38TPyIU"
   },
   "source": [
    "## History and callbacks\n",
    "\n",
    "Strictly speaking, the next few cells are not absolutely necessary: they go far beyond what our TensorFlow.layers program accomplishes\n",
    "- call backs\n",
    "  - these are functions that are called automatically in the training loop\n",
    "    - `EarlyStopping`is a call back that will terminate the training loop when it is no longer productive to continue (e.g., when validation loss levels off)\n",
    "    - `ModelCheckpoint` is a call back that will create intermediate snapshots of our model (including the parameters/weights it has learned)\n",
    "      - We will create a checkpoint whenever accuracy improves.  So if further training reduces accuracy, we can restore back to the \"best\" parameter values.\n",
    "      - This means we can re-start the model and continue to train without losing the \"best\" values.\n",
    "      - In the TensorFlow.layers code, we only created a single checkpoint at the end of training\n",
    "  "
   ]
  },
  {
   "cell_type": "code",
   "execution_count": 11,
   "metadata": {
    "id": "4xA_buEbBORy"
   },
   "outputs": [],
   "source": [
    "import matplotlib.pyplot as plt\n",
    "\n",
    "def plot_training(history):\n",
    "    \"\"\"\n",
    "    Plot training and validation statistics\n",
    "    - accuracy vs epoch number\n",
    "    - loss     vs epoch number\n",
    "\n",
    "    From https://www.learnopencv.com/keras-tutorial-fine-tuning-using-pre-trained-models/\n",
    "    \"\"\"\n",
    "\n",
    "    metrics = list( history.history.keys() )\n",
    "\n",
    "    # Loss\n",
    "    loss = history.history['loss']\n",
    "\n",
    "    epochs = range(len(loss))\n",
    "\n",
    "    fig, axs = plt.subplots( len(metrics)// 2, 2, figsize=(9,6))\n",
    "    axs = axs.flatten()\n",
    "\n",
    "    for i, metric in enumerate(metrics):\n",
    "      ax = axs[i]\n",
    "      metric_value = history.history[metric]\n",
    "      ax.plot(epochs, metric_value, 'b', label=metric)\n",
    "      ax.set_title(metric)\n",
    "      ax.legend()\n",
    "\n",
    "    plt.show()"
   ]
  },
  {
   "cell_type": "code",
   "execution_count": 12,
   "metadata": {
    "id": "Odi6HQsH_yPs"
   },
   "outputs": [],
   "source": [
    "# Load the TensorBoard notebook extension\n",
    "%load_ext tensorboard\n",
    "\n",
    "import datetime\n",
    "\n",
    "import os\n",
    "\n",
    "logs_dir=\"logs/fit/\"\n",
    "os.makedirs( \".\", exist_ok=True)\n",
    "\n",
    "from tensorflow.keras.callbacks import EarlyStopping, ModelCheckpoint\n",
    "log_dir= os.path.join(logs_dir, datetime.datetime.now().strftime(\"%Y%m%d-%H%M%S\") )\n",
    "\n",
    "tensorboard_callback = tf.keras.callbacks.TensorBoard(log_dir=log_dir, histogram_freq=1)\n"
   ]
  },
  {
   "cell_type": "markdown",
   "metadata": {
    "id": "5m68M2RwRPJt"
   },
   "source": [
    "### Create call backs\n",
    "- Early Stopping\n",
    "- Model Checkpoint"
   ]
  },
  {
   "cell_type": "code",
   "execution_count": 13,
   "metadata": {
    "id": "ofX0fwl1_p-P"
   },
   "outputs": [],
   "source": [
    "es_callback = tf.keras.callbacks.EarlyStopping(monitor='val_loss', min_delta=.00005, patience=2, verbose=0, mode='auto', baseline=None, restore_best_weights=True)\n",
    "\n",
    "callbacks = [ es_callback,\n",
    "              ModelCheckpoint(filepath=modelName + \".ckpt\", monitor='val_accuracy', mode='max', save_best_only=True)\n",
    "          ]\n"
   ]
  },
  {
   "cell_type": "markdown",
   "metadata": {
    "id": "c1rXcjm9RbWl"
   },
   "source": [
    "## Run the training loop in Keras\n",
    "\n",
    "Now that the model is compiled, we can run `fit` on our training (and validation) data sets/\n",
    "\n",
    "This is very much  like `sklearn`.\n",
    "\n",
    "Note\n",
    "- We don't have to construct our own training loop\n",
    "- We don't have to create code to deliver mini-batches\n",
    "- We don't have to insert code to display metrics (like accuracy)\n",
    "- We don't have to run for the full set of epochs, because of Early Stopping\n",
    "\n",
    "See how much simpler this step is compared to TensorFlow.layers."
   ]
  },
  {
   "cell_type": "code",
   "execution_count": 14,
   "metadata": {
    "colab": {
     "base_uri": "https://localhost:8080/"
    },
    "id": "jgFahEm19KoJ",
    "outputId": "83ab023e-b9ba-40b4-890d-7976ea007efa"
   },
   "outputs": [
    {
     "name": "stdout",
     "output_type": "stream",
     "text": [
      "Epoch 1/20\n",
      "1080/1080 [==============================] - 16s 7ms/step - loss: 0.3149 - accuracy: 0.9107 - val_loss: 0.1646 - val_accuracy: 0.9495\n",
      "Epoch 2/20\n",
      "1080/1080 [==============================] - 4s 3ms/step - loss: 0.1351 - accuracy: 0.9595 - val_loss: 0.1134 - val_accuracy: 0.9647\n",
      "Epoch 3/20\n",
      "1080/1080 [==============================] - 4s 3ms/step - loss: 0.0961 - accuracy: 0.9710 - val_loss: 0.0991 - val_accuracy: 0.9708\n",
      "Epoch 4/20\n",
      "1080/1080 [==============================] - 4s 4ms/step - loss: 0.0736 - accuracy: 0.9774 - val_loss: 0.0920 - val_accuracy: 0.9705\n",
      "Epoch 5/20\n",
      "1080/1080 [==============================] - 4s 3ms/step - loss: 0.0587 - accuracy: 0.9824 - val_loss: 0.0925 - val_accuracy: 0.9715\n",
      "Epoch 6/20\n",
      "1080/1080 [==============================] - 4s 4ms/step - loss: 0.0498 - accuracy: 0.9846 - val_loss: 0.0894 - val_accuracy: 0.9735\n",
      "Epoch 7/20\n",
      "1080/1080 [==============================] - 6s 5ms/step - loss: 0.0391 - accuracy: 0.9879 - val_loss: 0.0889 - val_accuracy: 0.9733\n",
      "Epoch 8/20\n",
      "1080/1080 [==============================] - 5s 5ms/step - loss: 0.0337 - accuracy: 0.9886 - val_loss: 0.0948 - val_accuracy: 0.9725\n",
      "Epoch 9/20\n",
      "1080/1080 [==============================] - 5s 5ms/step - loss: 0.0275 - accuracy: 0.9912 - val_loss: 0.1004 - val_accuracy: 0.9723\n"
     ]
    }
   ],
   "source": [
    "history = mnist_model.fit(X_train, y_train, epochs=n_epochs, batch_size=batch_size, validation_data=(X_valid, y_valid), shuffle=True, callbacks=callbacks)\n",
    "\n"
   ]
  },
  {
   "cell_type": "markdown",
   "metadata": {
    "id": "LhfwC058SNMq"
   },
   "source": [
    "### Compute the accuracy on the test set"
   ]
  },
  {
   "cell_type": "code",
   "execution_count": 15,
   "metadata": {
    "colab": {
     "base_uri": "https://localhost:8080/"
    },
    "id": "VnunhN-fC29O",
    "outputId": "4c41b0ad-874d-4e32-87d0-aebfc2a9e675"
   },
   "outputs": [
    {
     "name": "stdout",
     "output_type": "stream",
     "text": [
      "313/313 [==============================] - 1s 3ms/step - loss: 0.0864 - accuracy: 0.9740\n",
      "Test dataset: loss=0.0864, accuracy=0.9740\n"
     ]
    }
   ],
   "source": [
    "test_loss, test_accuracy = mnist_model.evaluate(X_test, y_test)\n",
    "print(\"Test dataset: loss={tl:5.4f}, accuracy={ta:5.4f}\".format(tl=test_loss, ta=test_accuracy))"
   ]
  },
  {
   "cell_type": "markdown",
   "metadata": {
    "id": "kL10YmhkSa45"
   },
   "source": [
    "## See the training history\n",
    "\n",
    "The `fit` method returns a `history` object, which contains a time-series (across the epochs) of each metric.\n",
    "\n",
    "You automatically get a `loss` metric so you can see how quickly your training loss decreases.\n",
    "\n",
    "In the compile step, you can add other metric (like accuracy, both for training and validation).\n",
    "\n",
    "Because these metrics are time series, we can visualize them."
   ]
  },
  {
   "cell_type": "code",
   "execution_count": 16,
   "metadata": {
    "colab": {
     "base_uri": "https://localhost:8080/"
    },
    "id": "V7-1nlvrDJj4",
    "outputId": "152f2262-393a-4494-f248-60bf8a4f9ac4"
   },
   "outputs": [
    {
     "data": {
      "text/plain": [
       "dict_keys(['loss', 'accuracy', 'val_loss', 'val_accuracy'])"
      ]
     },
     "execution_count": 16,
     "metadata": {},
     "output_type": "execute_result"
    }
   ],
   "source": [
    "history.history.keys()"
   ]
  },
  {
   "cell_type": "code",
   "execution_count": 17,
   "metadata": {
    "colab": {
     "base_uri": "https://localhost:8080/",
     "height": 545
    },
    "id": "_3M6OWchC_cR",
    "outputId": "35bd3d47-36cd-41df-f474-1d2b68ae7cff"
   },
   "outputs": [
    {
     "data": {
      "image/png": "[encoded data removed]",
      "text/plain": [
       "<Figure size 900x600 with 4 Axes>"
      ]
     },
     "metadata": {},
     "output_type": "display_data"
    }
   ],
   "source": [
    "plot_training(history)"
   ]
  },
  {
   "cell_type": "markdown",
   "metadata": {
    "id": "MGIur_yGUc-K"
   },
   "source": [
    "## Use the model for prediction\n",
    "\n",
    "Just as with `sklearn`, once we have fit the model, we can use the `predict` method to map inputs to predictions.\n",
    "- Remember: the `outputs` layer has 10 elements, one per output class (so it is one-hot encoded)"
   ]
  },
  {
   "cell_type": "code",
   "execution_count": 18,
   "metadata": {
    "colab": {
     "base_uri": "https://localhost:8080/"
    },
    "id": "lGvVOjIGUgvc",
    "outputId": "1ce5e9a1-bd1b-4bc0-ae63-b36f96c72755"
   },
   "outputs": [
    {
     "name": "stdout",
     "output_type": "stream",
     "text": [
      "313/313 [==============================] - 1s 3ms/step\n"
     ]
    },
    {
     "data": {
      "text/plain": [
       "(10000, 10)"
      ]
     },
     "execution_count": 18,
     "metadata": {},
     "output_type": "execute_result"
    }
   ],
   "source": [
    "predictions = mnist_model.predict(X_test)\n",
    "predictions.shape"
   ]
  },
  {
   "cell_type": "markdown",
   "metadata": {
    "id": "2V6fW1zO3hkj"
   },
   "source": [
    "## Examine the model\n",
    "\n",
    "Observe the number of parameters (weights) that the model requires.  Is it larger than you thought ?"
   ]
  },
  {
   "cell_type": "code",
   "execution_count": 19,
   "metadata": {
    "colab": {
     "base_uri": "https://localhost:8080/"
    },
    "id": "ZZs3yFk_3d-Q",
    "outputId": "cba2b988-0452-4635-8b33-5b87664de7bb"
   },
   "outputs": [
    {
     "name": "stdout",
     "output_type": "stream",
     "text": [
      "Model: \"sequential\"\n",
      "_________________________________________________________________\n",
      " Layer (type)                Output Shape              Param #   \n",
      "=================================================================\n",
      " hidden1 (Dense)             (None, 100)               78500     \n",
      "                                                                 \n",
      " hidden2 (Dense)             (None, 30)                3030      \n",
      "                                                                 \n",
      " outputs (Dense)             (None, 10)                310       \n",
      "                                                                 \n",
      "=================================================================\n",
      "Total params: 81840 (319.69 KB)\n",
      "Trainable params: 81840 (319.69 KB)\n",
      "Non-trainable params: 0 (0.00 Byte)\n",
      "_________________________________________________________________\n"
     ]
    }
   ],
   "source": [
    "mnist_model.summary()"
   ]
  },
  {
   "cell_type": "markdown",
   "metadata": {
    "id": "x9Ip68H5TG-Z"
   },
   "source": [
    "## Bonus: Visualize the model's layers !\n"
   ]
  },
  {
   "cell_type": "code",
   "execution_count": 20,
   "metadata": {
    "colab": {
     "base_uri": "https://localhost:8080/",
     "height": 422
    },
    "id": "COVdYrNe68zw",
    "outputId": "09c54476-39f4-44f3-9495-b206064ba4a5"
   },
   "outputs": [
    {
     "data": {
      "image/png": "[encoded data removed]",
      "text/plain": [
       "<IPython.core.display.Image object>"
      ]
     },
     "execution_count": 20,
     "metadata": {},
     "output_type": "execute_result"
    }
   ],
   "source": [
    "plot_model(mnist_model, \"mnist_model.png\", show_shapes=True)\n",
    "IPython.display.Image(  \"mnist_model.png\")"
   ]
  },
  {
   "cell_type": "markdown",
   "metadata": {
    "id": "LztSZ_uBIJEV"
   },
   "source": [
    "## Save the model (architecture + weights + optimizer state))"
   ]
  },
  {
   "cell_type": "code",
   "execution_count": 21,
   "metadata": {
    "colab": {
     "base_uri": "https://localhost:8080/"
    },
    "id": "pPSQ-NiIINe1",
    "outputId": "f7da0504-0a56-4f71-dfe1-0f334053863e"
   },
   "outputs": [
    {
     "name": "stderr",
     "output_type": "stream",
     "text": [
      "/usr/local/lib/python3.10/dist-packages/keras/src/engine/training.py:3079: UserWarning: You are saving your model as an HDF5 file via `model.save()`. This file format is considered legacy. We recommend using instead the native Keras format, e.g. `model.save('my_model.keras')`.\n",
      "  saving_api.save_model(\n"
     ]
    }
   ],
   "source": [
    "from tensorflow.keras.models import load_model\n",
    "\n",
    "modelName = \"mnist_first\"\n",
    "\n",
    "model_path = os.path.join(\".\", modelName + \".h5\")\n",
    "mnist_model.save(model_path)  # creates a HDF5 file model_path\n"
   ]
  },
  {
   "cell_type": "markdown",
   "metadata": {
    "id": "65g8ly-nJlUC"
   },
   "source": [
    "## Load a saved model"
   ]
  },
  {
   "cell_type": "code",
   "execution_count": 22,
   "metadata": {
    "id": "IzhcynJkITiJ"
   },
   "outputs": [],
   "source": [
    "# returns a compiled model\n",
    "# identical to the previous one\n",
    "mnist_model_1 = load_model(model_path)"
   ]
  },
  {
   "cell_type": "markdown",
   "metadata": {
    "id": "DMjMDvfJJtyx"
   },
   "source": [
    "### Show that the restored model works"
   ]
  },
  {
   "cell_type": "code",
   "execution_count": 23,
   "metadata": {
    "colab": {
     "base_uri": "https://localhost:8080/"
    },
    "id": "7sIH30ySJffG",
    "outputId": "c0636955-4965-4c97-b815-e0133d179fe2"
   },
   "outputs": [
    {
     "name": "stdout",
     "output_type": "stream",
     "text": [
      "Model: \"sequential\"\n",
      "_________________________________________________________________\n",
      " Layer (type)                Output Shape              Param #   \n",
      "=================================================================\n",
      " hidden1 (Dense)             (None, 100)               78500     \n",
      "                                                                 \n",
      " hidden2 (Dense)             (None, 30)                3030      \n",
      "                                                                 \n",
      " outputs (Dense)             (None, 10)                310       \n",
      "                                                                 \n",
      "=================================================================\n",
      "Total params: 81840 (319.69 KB)\n",
      "Trainable params: 81840 (319.69 KB)\n",
      "Non-trainable params: 0 (0.00 Byte)\n",
      "_________________________________________________________________\n"
     ]
    }
   ],
   "source": [
    "mnist_model_1.summary()"
   ]
  },
  {
   "cell_type": "code",
   "execution_count": 24,
   "metadata": {
    "colab": {
     "base_uri": "https://localhost:8080/"
    },
    "id": "AjTXy1PUJzIn",
    "outputId": "1a6c011f-d50a-4412-f98e-288309b5b47b"
   },
   "outputs": [
    {
     "name": "stdout",
     "output_type": "stream",
     "text": [
      "313/313 [==============================] - 1s 3ms/step\n",
      "Live model and restore model results match ? YES\n"
     ]
    }
   ],
   "source": [
    "predictions_1 = mnist_model_1.predict(X_test)\n",
    "predictions_1.shape\n",
    "\n",
    "all_match = np.all(predictions == predictions_1)\n",
    "if all_match:\n",
    "  answer = \"YES\"\n",
    "else:\n",
    "  answer = \"NO\"\n",
    "\n",
    "print(\"Live model and restore model results match ?\", answer)"
   ]
  },
  {
   "cell_type": "markdown",
   "metadata": {
    "id": "UXPFKbxlr14z"
   },
   "source": [
    "# Hyper-parameter search: Keras tuner\n",
    "\n",
    "How many units should be in my non-head `Dense` layers ?\n",
    "- You can experiment by hand\n",
    "- You can make the number of units a *hyper-paramter* and have Keras search for the best value"
   ]
  },
  {
   "cell_type": "markdown",
   "metadata": {
    "id": "4iYkdhWxs6HY"
   },
   "source": [
    "**The Tuner is VERY SLOW without a GPU**\n",
    "- I highly recommend using a GPU on this section"
   ]
  },
  {
   "cell_type": "code",
   "execution_count": 25,
   "metadata": {
    "colab": {
     "base_uri": "https://localhost:8080/"
    },
    "id": "kV_crvYiNSCN",
    "outputId": "0804420f-1e58-4252-fa51-0a7027691002"
   },
   "outputs": [
    {
     "name": "stdout",
     "output_type": "stream",
     "text": [
      "Colab: mounting Google drive on  /content/gdrive\n",
      "Mounted at /content/gdrive\n",
      "\n",
      "Colab: making sure  /content/gdrive/My Drive/Colab Notebooks/NYU/demo  exists.\n",
      "\n",
      "Colab: Changing directory to  /content/gdrive/My Drive/Colab Notebooks/NYU/demo\n",
      "/content/gdrive/My Drive/Colab Notebooks/NYU/demo\n"
     ]
    }
   ],
   "source": [
    "if IN_COLAB:\n",
    "  # Mount the Google Drive at mount\n",
    "  mount='/content/gdrive'\n",
    "  print(\"Colab: mounting Google drive on \", mount)\n",
    "\n",
    "  drive.mount(mount)\n",
    "\n",
    "  # Switch to the directory on the Google Drive that you want to use\n",
    "  import os\n",
    "  drive_root = mount + \"/My Drive/Colab Notebooks/NYU/demo\"\n",
    "\n",
    "  # Create drive_root if it doesn't exist\n",
    "  create_drive_root = True\n",
    "  if create_drive_root:\n",
    "    print(\"\\nColab: making sure \", drive_root, \" exists.\")\n",
    "    os.makedirs(drive_root, exist_ok=True)\n",
    "\n",
    "  # Change to the directory\n",
    "  print(\"\\nColab: Changing directory to \", drive_root)\n",
    "  %cd $drive_root\n",
    "else:\n",
    "    raise RuntimeError(\"This notebook should be run from Colab, not on the local machine\")"
   ]
  },
  {
   "cell_type": "code",
   "execution_count": 26,
   "metadata": {
    "colab": {
     "base_uri": "https://localhost:8080/"
    },
    "id": "Yluz3Z-3Njgr",
    "outputId": "3c16b5cd-81b7-4ff9-f09c-746fde56b2aa"
   },
   "outputs": [
    {
     "name": "stdout",
     "output_type": "stream",
     "text": [
      "/content/gdrive/My Drive/Colab Notebooks/NYU/demo/Keras_tuner\n"
     ]
    }
   ],
   "source": [
    "# Change to demo directory so tuner-related output files are saved in common place\n",
    "if IN_COLAB:\n",
    "  import os\n",
    "  kt_demo_dir = os.path.join(drive_root, \"Keras_tuner\")\n",
    "  %cd $kt_demo_dir"
   ]
  },
  {
   "cell_type": "code",
   "execution_count": 27,
   "metadata": {
    "colab": {
     "base_uri": "https://localhost:8080/"
    },
    "id": "KVs9w1dLSFsb",
    "outputId": "62e205ee-e7f9-407b-a308-9efca2541b96"
   },
   "outputs": [
    {
     "name": "stdout",
     "output_type": "stream",
     "text": [
      "Installed:  keras_tuner\n"
     ]
    }
   ],
   "source": [
    "# Make sure necessary packages are present\n",
    "\n",
    "import pkg_resources\n",
    "import sys\n",
    "import subprocess\n",
    "\n",
    "required = {'keras_tuner'}\n",
    "installed = {pkg.key for pkg in pkg_resources.working_set}\n",
    "missing = required - installed\n",
    "\n",
    "if missing:\n",
    "    python = sys.executable\n",
    "    rc = subprocess.check_call([python, '-m', 'pip', 'install', *missing], stdout=subprocess.DEVNULL)\n",
    "\n",
    "    if rc == 0:\n",
    "      print(\"Installed: \", \", \".join( list(missing) ) )"
   ]
  },
  {
   "cell_type": "markdown",
   "metadata": {
    "id": "rldKLIDFuZ-W"
   },
   "source": [
    "## Here is the tuning code"
   ]
  },
  {
   "cell_type": "code",
   "execution_count": 28,
   "metadata": {
    "colab": {
     "base_uri": "https://localhost:8080/"
    },
    "id": "czfL-ZcXsF3Q",
    "outputId": "3f32e85f-a5c9-4635-a37b-f134aebb280f"
   },
   "outputs": [
    {
     "name": "stdout",
     "output_type": "stream",
     "text": [
      "Using TensorFlow backend\n"
     ]
    }
   ],
   "source": [
    "# You may need to `pip install keras-tuner` before running the import\n",
    "\n",
    "import keras_tuner as kt"
   ]
  },
  {
   "cell_type": "code",
   "execution_count": 29,
   "metadata": {
    "id": "5rXXk-9ysKP4"
   },
   "outputs": [],
   "source": [
    "def build_model(hp):\n",
    "\n",
    "    ## Tunable hyperparameters\n",
    "    hp_dropout1_units = hp.Float(\"dropout_1\", min_value=0., max_value=0.9, step=0.3)\n",
    "    hp_dropout2_units = hp.Float(\"dropout_2\", min_value=0., max_value=0.9, step=0.3)\n",
    "\n",
    "    hp_dense1_units = hp.Int(\"dense_1\", min_value=8, max_value=24, step=8)\n",
    "    hp_dense2_units = hp.Int(\"dense_2\", min_value=8, max_value=24, step=8)\n",
    "\n",
    "    ## Tune the learning rate for the optimizer\n",
    "    ## Choose an optimal value from 0.01, 0.001, or 0.0001\n",
    "    hp_learning_rate = hp.Float('learning_rate', min_value=1e-4, max_value=1e-2, sampling=\"log\")\n",
    "\n",
    "    optimizer= tf.keras.optimizers.Adam(learning_rate=hp_learning_rate)\n",
    "\n",
    "    # The model\n",
    "    model = tf.keras.Sequential()\n",
    "\n",
    "    # Block 1: Dropout + Dense\n",
    "    model.add(tf.keras.layers.Dense( hp_dense1_units, activation=\"relu\", input_shape=(input_size,) ) )\n",
    "    model.add(tf.keras.layers.Dropout( hp_dropout1_units ) )\n",
    "\n",
    "    # Block 2: Dropout + Dense\n",
    "    model.add(tf.keras.layers.Dense( hp_dense2_units, activation=\"relu\" ) )\n",
    "    model.add(tf.keras.layers.Dropout( hp_dropout2_units ) )\n",
    "\n",
    "    # Head layer\n",
    "    model.add(tf.keras.layers.Dense(output_size,activation=tf.nn.softmax) )\n",
    "\n",
    "    model.compile(loss='sparse_categorical_crossentropy', metrics=[\"accuracy\"], optimizer=optimizer)\n",
    "\n",
    "    return model"
   ]
  },
  {
   "cell_type": "code",
   "execution_count": 30,
   "metadata": {
    "colab": {
     "base_uri": "https://localhost:8080/"
    },
    "id": "A5-QEEx4sQB9",
    "outputId": "0c4052d1-a333-481a-83fb-e6a6659c2c12"
   },
   "outputs": [
    {
     "name": "stdout",
     "output_type": "stream",
     "text": [
      "Trial 30 Complete [00h 00m 44s]\n",
      "val_accuracy: 0.9194999933242798\n",
      "\n",
      "Best val_accuracy So Far: 0.9524999856948853\n",
      "Total elapsed time: 00h 09m 37s\n"
     ]
    }
   ],
   "source": [
    "## HyperBand algorithm from keras tuner\n",
    "overwrite_results=True # Set to False if you want to RE-USE results of previously run search\n",
    "\n",
    "tuner = kt.Hyperband(build_model, objective='val_accuracy',\n",
    "    max_epochs=10,\n",
    "    directory='keras_tuner_dir', project_name='dnn_keras_tuner_demo',\n",
    "    overwrite=overwrite_results)\n",
    "\n",
    "# tuner.search(X_train, y_train, epochs=50, validation_split=0.1)\n",
    "tuner.search(X_train, y_train, epochs=n_epochs, batch_size=batch_size, validation_data=(X_valid, y_valid), shuffle=True, callbacks=callbacks)\n"
   ]
  },
  {
   "cell_type": "code",
   "execution_count": 31,
   "metadata": {
    "colab": {
     "base_uri": "https://localhost:8080/"
    },
    "id": "O53mJEJfsRHo",
    "outputId": "1fd1fdae-1578-4e95-95c1-fc30c342d8a7"
   },
   "outputs": [
    {
     "name": "stdout",
     "output_type": "stream",
     "text": [
      "Model: \"sequential\"\n",
      "_________________________________________________________________\n",
      " Layer (type)                Output Shape              Param #   \n",
      "=================================================================\n",
      " dense (Dense)               (None, 24)                18840     \n",
      "                                                                 \n",
      " dropout (Dropout)           (None, 24)                0         \n",
      "                                                                 \n",
      " dense_1 (Dense)             (None, 24)                600       \n",
      "                                                                 \n",
      " dropout_1 (Dropout)         (None, 24)                0         \n",
      "                                                                 \n",
      " dense_2 (Dense)             (None, 10)                250       \n",
      "                                                                 \n",
      "=================================================================\n",
      "Total params: 19690 (76.91 KB)\n",
      "Trainable params: 19690 (76.91 KB)\n",
      "Non-trainable params: 0 (0.00 Byte)\n",
      "_________________________________________________________________\n"
     ]
    }
   ],
   "source": [
    "# Get the top 2 models.\n",
    "models = tuner.get_best_models(num_models=2)\n",
    "best_model = models[0]\n",
    "\n",
    "# Build the model.\n",
    "# Needed for `Sequential` without specified `input_shape`.\n",
    "best_model.build()\n",
    "best_model.summary()\n"
   ]
  },
  {
   "cell_type": "code",
   "execution_count": 32,
   "metadata": {
    "colab": {
     "base_uri": "https://localhost:8080/",
     "height": 644
    },
    "id": "n5kos33wsV0I",
    "outputId": "1a11e77c-021e-4419-d1aa-d20f93cdf6d7"
   },
   "outputs": [
    {
     "data": {
      "image/png": "[encoded data removed]",
      "text/plain": [
       "<IPython.core.display.Image object>"
      ]
     },
     "execution_count": 32,
     "metadata": {},
     "output_type": "execute_result"
    }
   ],
   "source": [
    "plot_model(best_model, show_shapes=True)"
   ]
  },
  {
   "cell_type": "markdown",
   "metadata": {
    "id": "WeKDkBKwLZJQ"
   },
   "source": [
    "## Find the values of the hyperparameters for the top trials"
   ]
  },
  {
   "cell_type": "code",
   "execution_count": 33,
   "metadata": {
    "id": "bV88D3eOLZJQ"
   },
   "outputs": [],
   "source": [
    "best_hps = tuner.get_best_hyperparameters(2)"
   ]
  },
  {
   "cell_type": "code",
   "execution_count": 34,
   "metadata": {
    "colab": {
     "base_uri": "https://localhost:8080/"
    },
    "id": "uyli2Ub8LZJQ",
    "outputId": "3da28003-ca31-4a60-ca7a-ac4974fe2731",
    "scrolled": true
   },
   "outputs": [
    {
     "name": "stdout",
     "output_type": "stream",
     "text": [
      "Best hyper parameter values:\n",
      "{'dense_1': 24,\n",
      " 'dense_2': 24,\n",
      " 'dropout_1': 0.0,\n",
      " 'dropout_2': 0.3,\n",
      " 'learning_rate': 0.0003588613453833401,\n",
      " 'tuner/bracket': 2,\n",
      " 'tuner/epochs': 10,\n",
      " 'tuner/initial_epoch': 4,\n",
      " 'tuner/round': 2,\n",
      " 'tuner/trial_id': '0013'}\n"
     ]
    }
   ],
   "source": [
    "print(\"Best hyper parameter values:\")\n",
    "pprint( best_hps[0].values )\n",
    "\n"
   ]
  },
  {
   "cell_type": "code",
   "execution_count": 35,
   "metadata": {
    "colab": {
     "base_uri": "https://localhost:8080/"
    },
    "id": "FsOSGy5nBPMF",
    "outputId": "ce12fbd9-58ec-4aa4-c6fc-cc61504d2c05"
   },
   "outputs": [
    {
     "name": "stdout",
     "output_type": "stream",
     "text": [
      "Second Best hyper parameter values:\n",
      "{'dense_1': 24,\n",
      " 'dense_2': 24,\n",
      " 'dropout_1': 0.0,\n",
      " 'dropout_2': 0.3,\n",
      " 'learning_rate': 0.006329257299483971,\n",
      " 'tuner/bracket': 2,\n",
      " 'tuner/epochs': 10,\n",
      " 'tuner/initial_epoch': 4,\n",
      " 'tuner/round': 2,\n",
      " 'tuner/trial_id': '0012'}\n"
     ]
    }
   ],
   "source": [
    "print(\"Second Best hyper parameter values:\")\n",
    "pprint( best_hps[1].values )\n"
   ]
  },
  {
   "cell_type": "code",
   "execution_count": 36,
   "metadata": {
    "colab": {
     "base_uri": "https://localhost:8080/"
    },
    "id": "6-L1iuRasZgo",
    "outputId": "bd29ca4e-4dac-4b2f-d0f3-0ddea6198b56"
   },
   "outputs": [
    {
     "name": "stdout",
     "output_type": "stream",
     "text": [
      "Best hyper parameter values:\n"
     ]
    },
    {
     "data": {
      "text/plain": [
       "{'dropout_1': 0.0,\n",
       " 'dropout_2': 0.3,\n",
       " 'dense_1': 24,\n",
       " 'dense_2': 24,\n",
       " 'learning_rate': 0.0003588613453833401,\n",
       " 'tuner/epochs': 10,\n",
       " 'tuner/initial_epoch': 4,\n",
       " 'tuner/bracket': 2,\n",
       " 'tuner/round': 2,\n",
       " 'tuner/trial_id': '0013'}"
      ]
     },
     "execution_count": 36,
     "metadata": {},
     "output_type": "execute_result"
    }
   ],
   "source": [
    "print(\"Best hyper parameter values:\")\n",
    "best_hps[0].values\n",
    "\n"
   ]
  },
  {
   "cell_type": "code",
   "execution_count": 37,
   "metadata": {
    "colab": {
     "base_uri": "https://localhost:8080/"
    },
    "id": "M-ykFqP-BZ2L",
    "outputId": "44b28866-ed80-414f-b944-feee17fec1bc"
   },
   "outputs": [
    {
     "name": "stdout",
     "output_type": "stream",
     "text": [
      "Second Best hyper parameter values:\n"
     ]
    },
    {
     "data": {
      "text/plain": [
       "{'dropout_1': 0.0,\n",
       " 'dropout_2': 0.3,\n",
       " 'dense_1': 24,\n",
       " 'dense_2': 24,\n",
       " 'learning_rate': 0.006329257299483971,\n",
       " 'tuner/epochs': 10,\n",
       " 'tuner/initial_epoch': 4,\n",
       " 'tuner/bracket': 2,\n",
       " 'tuner/round': 2,\n",
       " 'tuner/trial_id': '0012'}"
      ]
     },
     "execution_count": 37,
     "metadata": {},
     "output_type": "execute_result"
    }
   ],
   "source": [
    "print(\"Second Best hyper parameter values:\")\n",
    "best_hps[1].values\n"
   ]
  },
  {
   "cell_type": "code",
   "execution_count": 38,
   "metadata": {
    "colab": {
     "base_uri": "https://localhost:8080/"
    },
    "id": "90P-yfpcsgUp",
    "outputId": "13bc5627-77c2-4584-8295-e0f49ee8c54b"
   },
   "outputs": [
    {
     "name": "stdout",
     "output_type": "stream",
     "text": [
      "Results summary\n",
      "Results in keras_tuner_dir/dnn_keras_tuner_demo\n",
      "Showing 2 best trials\n",
      "Objective(name=\"val_accuracy\", direction=\"max\")\n",
      "\n",
      "Trial 0017 summary\n",
      "Hyperparameters:\n",
      "dropout_1: 0.0\n",
      "dropout_2: 0.3\n",
      "dense_1: 24\n",
      "dense_2: 24\n",
      "learning_rate: 0.0003588613453833401\n",
      "tuner/epochs: 10\n",
      "tuner/initial_epoch: 4\n",
      "tuner/bracket: 2\n",
      "tuner/round: 2\n",
      "tuner/trial_id: 0013\n",
      "Score: 0.9524999856948853\n",
      "\n",
      "Trial 0016 summary\n",
      "Hyperparameters:\n",
      "dropout_1: 0.0\n",
      "dropout_2: 0.3\n",
      "dense_1: 24\n",
      "dense_2: 24\n",
      "learning_rate: 0.006329257299483971\n",
      "tuner/epochs: 10\n",
      "tuner/initial_epoch: 4\n",
      "tuner/bracket: 2\n",
      "tuner/round: 2\n",
      "tuner/trial_id: 0012\n",
      "Score: 0.9461666941642761\n"
     ]
    }
   ],
   "source": [
    "tuner.results_summary(num_trials=2)"
   ]
  },
  {
   "cell_type": "code",
   "execution_count": 39,
   "metadata": {
    "colab": {
     "base_uri": "https://localhost:8080/"
    },
    "id": "h-j17bDAsjLI",
    "outputId": "423e9a62-1e7a-4365-f322-2c470c68d975"
   },
   "outputs": [
    {
     "name": "stdout",
     "output_type": "stream",
     "text": [
      "Epoch 1/20\n",
      "1080/1080 [==============================] - 6s 4ms/step - loss: 0.2198 - accuracy: 0.9370 - val_loss: 0.1630 - val_accuracy: 0.9540\n",
      "Epoch 2/20\n",
      "1080/1080 [==============================] - 5s 5ms/step - loss: 0.2080 - accuracy: 0.9411 - val_loss: 0.1632 - val_accuracy: 0.9547\n",
      "Epoch 3/20\n",
      "1080/1080 [==============================] - 6s 6ms/step - loss: 0.2038 - accuracy: 0.9411 - val_loss: 0.1582 - val_accuracy: 0.9545\n",
      "Epoch 4/20\n",
      "1080/1080 [==============================] - 7s 7ms/step - loss: 0.1979 - accuracy: 0.9424 - val_loss: 0.1565 - val_accuracy: 0.9547\n",
      "Epoch 5/20\n",
      "1080/1080 [==============================] - 5s 5ms/step - loss: 0.1903 - accuracy: 0.9445 - val_loss: 0.1547 - val_accuracy: 0.9553\n",
      "Epoch 6/20\n",
      "1080/1080 [==============================] - 4s 4ms/step - loss: 0.1870 - accuracy: 0.9464 - val_loss: 0.1502 - val_accuracy: 0.9578\n",
      "Epoch 7/20\n",
      "1080/1080 [==============================] - 4s 4ms/step - loss: 0.1803 - accuracy: 0.9475 - val_loss: 0.1561 - val_accuracy: 0.9555\n",
      "Epoch 8/20\n",
      "1080/1080 [==============================] - 3s 3ms/step - loss: 0.1720 - accuracy: 0.9503 - val_loss: 0.1527 - val_accuracy: 0.9567\n"
     ]
    }
   ],
   "source": [
    "historyX = best_model.fit(X_train, y_train, epochs=n_epochs, batch_size=batch_size, validation_data=(X_valid, y_valid), shuffle=True, callbacks=callbacks)"
   ]
  },
  {
   "cell_type": "code",
   "execution_count": 40,
   "metadata": {
    "colab": {
     "base_uri": "https://localhost:8080/",
     "height": 545
    },
    "id": "3LoCl-4_snGA",
    "outputId": "57438b6d-daab-4286-8ff1-55b111b048eb"
   },
   "outputs": [
    {
     "data": {
      "image/png": "[encoded data removed]",
      "text/plain": [
       "<Figure size 900x600 with 4 Axes>"
      ]
     },
     "metadata": {},
     "output_type": "display_data"
    }
   ],
   "source": [
    "_= plot_training( historyX )"
   ]
  },
  {
   "cell_type": "code",
   "execution_count": 41,
   "metadata": {
    "colab": {
     "base_uri": "https://localhost:8080/"
    },
    "id": "vcQsPQ1lOGAQ",
    "outputId": "8a98c8a7-7b7e-40bf-d608-6d696a7b3f3a"
   },
   "outputs": [
    {
     "name": "stdout",
     "output_type": "stream",
     "text": [
      "Done\n"
     ]
    }
   ],
   "source": [
    "print(\"Done\")"
   ]
  }
 ],
 "metadata": {
  "accelerator": "GPU",
  "colab": {
   "gpuType": "T4",
   "name": "DNN_TensorFlow_example.ipynb",
   "provenance": [],
   "toc_visible": true
  },
  "kernelspec": {
   "display_name": "Python 3",
   "language": "python",
   "name": "python3"
  },
  "language_info": {
   "codemirror_mode": {
    "name": "ipython",
    "version": 3
   },
   "file_extension": ".py",
   "mimetype": "text/x-python",
   "name": "python",
   "nbconvert_exporter": "python",
   "pygments_lexer": "ipython3",
   "version": "3.7.4"
  },
  "toc": {
   "base_numbering": 1,
   "nav_menu": {},
   "number_sections": true,
   "sideBar": true,
   "skip_h1_title": false,
   "title_cell": "Table of Contents",
   "title_sidebar": "Contents",
   "toc_cell": false,
   "toc_position": {},
   "toc_section_display": true,
   "toc_window_display": false
  }
 },
 "nbformat": 4,
 "nbformat_minor": 1
}
