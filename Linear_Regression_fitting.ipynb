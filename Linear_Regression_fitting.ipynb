{
 "cells": [
  {
   "cell_type": "code",
   "execution_count": 1,
   "metadata": {
    "slideshow": {
     "slide_type": "notes"
    }
   },
   "outputs": [
    {
     "data": {
      "text/latex": [
       "$$\n",
       "\\newcommand{\\x}{\\mathbf{x}}\n",
       "\\newcommand{\\tx}{\\tilde{\\x}}\n",
       "\\newcommand{\\y}{\\mathbf{y}}\n",
       "\\newcommand{\\b}{\\mathbf{b}}\n",
       "\\newcommand{\\c}{\\mathbf{c}}\n",
       "\\newcommand{\\e}{\\mathbf{e}}\n",
       "\\newcommand{\\z}{\\mathbf{z}}\n",
       "\\newcommand{\\h}{\\mathbf{h}}\n",
       "\\newcommand{\\u}{\\mathbf{u}}\n",
       "\\newcommand{\\v}{\\mathbf{v}}\n",
       "\\newcommand{\\w}{\\mathbf{w}}\n",
       "\\newcommand{\\V}{\\mathbf{V}}\n",
       "\\newcommand{\\W}{\\mathbf{W}}\n",
       "\\newcommand{\\X}{\\mathbf{X}}\n",
       "\\newcommand{\\KL}{\\mathbf{KL}}\n",
       "\\newcommand{\\E}{{\\mathbb{E}}}\n",
       "\\newcommand{\\Reals}{{\\mathbb{R}}}\n",
       "\\newcommand{\\ip}{\\mathbf{{(i)}}}\n",
       "%\n",
       "% Test set\n",
       "\\newcommand{\\xt}{\\underline{\\x}}\n",
       "\\newcommand{\\yt}{\\underline{\\y}}\n",
       "\\newcommand{\\Xt}{\\underline{\\X}}\n",
       "\\newcommand{\\perfm}{\\mathcal{P}}\n",
       "%\n",
       "% \\ll indexes a layer; we can change the actual letter\n",
       "\\newcommand{\\ll}{l}\n",
       "\\newcommand{\\llp}{{(\\ll)}}\n",
       "%\n",
       "\\newcommand{Thetam}{\\Theta_{-0}}\n",
       "\n",
       "% CNN\n",
       "\\newcommand{\\kernel}{\\mathbf{k}} \n",
       "\\newcommand{\\dim}{d}\n",
       "\\newcommand{\\idxspatial}{{\\text{idx}}}\n",
       "\\newcommand{\\summaxact}{\\text{max}}\n",
       "\\newcommand{idxb}{\\mathbf{i}}\n",
       "%\n",
       "%\n",
       "\n",
       "% RNN\n",
       "% \\tt indexes a time step\n",
       "\\newcommand{\\tt}{t}\n",
       "\\newcommand{\\tp}{{(\\tt)}}\n",
       "%\n",
       "%\n",
       "\n",
       "% LSTM\n",
       "\\newcommand{\\g}{\\mathbf{g}}\n",
       "\\newcommand{\\remember}{\\mathbf{remember}}\n",
       "\\newcommand{\\save}{\\mathbf{save}}\n",
       "\\newcommand{\\focus}{\\mathbf{focus}}\n",
       "%\n",
       "%\n",
       "% NLP\n",
       "\\newcommand{\\Vocab}{\\mathbf{V}}\n",
       "\\newcommand{\\v}{\\mathbf{v}}\n",
       "\\newcommand{\\offset}{o}\n",
       "\\newcommand{\\o}{o}\n",
       "\\newcommand{\\Emb}{\\mathbf{E}}\n",
       "%\n",
       "%\n",
       "\\newcommand{\\loss}{\\mathcal{L}}\n",
       "\\newcommand{\\cost}{\\mathcal{L}}\n",
       "%\n",
       "%                     \n",
       "\\newcommand{\\pdata}{p_\\text{data}}\n",
       "\\newcommand{\\pmodel}{p_\\text{model}}\n",
       "%\n",
       "% SVM\n",
       "\\newcommand{\\margin}{{\\mathbb{m}}}\n",
       "\\newcommand{\\lmk}{\\boldsymbol{\\ell}}\n",
       "%\n",
       "%\n",
       "% Functions with arguments\n",
       "\\def\\xsy#1#2{#1^#2}\n",
       "\\def\\rand#1{\\tilde{#1}}\n",
       "\\def\\randx{\\rand{\\x}}\n",
       "\\def\\randy{\\rand{\\y}}\n",
       "\\def\\trans#1{\\dot{#1}}\n",
       "\\def\\transx{\\trans{\\x}}\n",
       "\\def\\transy{\\trans{\\y}}\n",
       "%\n",
       "\\def\\argmax#1{\\underset{#1} {\\operatorname{argmax}} }\n",
       "\\def\\argmin#1{\\underset{#1} {\\operatorname{argmin}} }\n",
       "\\def\\max#1{\\underset{#1} {\\operatorname{max}} }\n",
       "\\def\\min#1{\\underset{#1} {\\operatorname{min}} }\n",
       "%\n",
       "\\def\\pr#1{\\mathcal{p}(#1)}\n",
       "\\def\\prc#1#2{\\mathcal{p}(#1 \\; | \\; #2)}\n",
       "\\def\\cnt#1{\\mathcal{count}_{#1}}\n",
       "\\def\\node#1{\\mathbb{#1}}\n",
       "%\n",
       "\\def\\loc#1{{\\text{##} {#1}}}\n",
       "%\n",
       "\\def\\OrderOf#1{\\mathcal{O}\\left( #1 \\right)}\n",
       "%\n",
       "% Expectation operator\n",
       "\\def\\Exp#1{\\underset{#1} {\\operatorname{\\mathbb{E}}} }\n",
       "%\n",
       "% VAE\n",
       "\\def\\prs#1#2{\\mathcal{p}_{#2}(#1)}\n",
       "\\def\\qr#1{\\mathcal{q}(#1)}\n",
       "\\def\\qrs#1#2{\\mathcal{q}_{#2}(#1)}\n",
       "%\n",
       "% Reinforcement learning\n",
       "\\newcommand{\\Actions}{{\\mathcal{A}}} \n",
       "\\newcommand{\\actseq}{A}\n",
       "\\newcommand{\\act}{a}\n",
       "\\newcommand{\\States}{{\\mathcal{S}}}   \n",
       "\\newcommand{\\stateseq}{S}  \n",
       "\\newcommand{\\state}{s}\n",
       "\\newcommand{\\Rewards}{{\\mathcal{R}}}\n",
       "\\newcommand{\\rewseq}{R}\n",
       "\\newcommand{\\rew}{r}\n",
       "\\newcommand{\\transp}{P}\n",
       "\\newcommand{\\statevalfun}{v}\n",
       "\\newcommand{\\actvalfun}{q}\n",
       "\\newcommand{\\disc}{\\gamma}\n",
       "%\n",
       "%\n",
       "\\newcommand{\\floor}[1]{\\left\\lfloor #1 \\right\\rfloor}\n",
       "\\newcommand{\\ceil}[1]{\\left\\lceil #1 \\right\\rceil}\n",
       "%\n",
       "%\n",
       "$$\n"
      ],
      "text/plain": [
       "<IPython.core.display.Latex object>"
      ]
     },
     "metadata": {},
     "output_type": "display_data"
    }
   ],
   "source": [
    "%run Latex_macros.ipynb"
   ]
  },
  {
   "cell_type": "code",
   "execution_count": 2,
   "metadata": {
    "slideshow": {
     "slide_type": "notes"
    }
   },
   "outputs": [],
   "source": [
    "# My standard magic !  You will see this in almost all my notebooks.\n",
    "\n",
    "from IPython.core.interactiveshell import InteractiveShell\n",
    "InteractiveShell.ast_node_interactivity = \"all\"\n",
    "\n",
    "# Reload all modules imported with %aimport\n",
    "%load_ext autoreload\n",
    "%autoreload 1\n",
    "\n",
    "%matplotlib inline"
   ]
  },
  {
   "cell_type": "code",
   "execution_count": 3,
   "metadata": {
    "slideshow": {
     "slide_type": "notes"
    }
   },
   "outputs": [],
   "source": [
    "def credits_fig_pval():\n",
    "    \"\"\"\n",
    "    Derived from dialog with perplexity.ai\n",
    "    - switched its output to object-oriented matplotlib style\n",
    "\n",
    "    create python code using matplotlib to illustrate the statistical concept of p value\n",
    "\n",
    "    not quite what I wanted. Create a normal distribution and a single point on the x-axis. Illustrate what the p value is\n",
    "\n",
    "    please use an observed value of 2\n",
    "\n",
    "    can you label the observed value as the t-stat\n",
    "    \"\"\"\n",
    "\n",
    "import numpy as np\n",
    "import matplotlib.pyplot as plt\n",
    "from scipy import stats\n",
    "\n",
    "visible = False\n",
    "\n",
    "# Set the mean and standard deviation for the normal distribution\n",
    "mean = 0\n",
    "std_dev = 1\n",
    "\n",
    "# Generate x values for the normal distribution\n",
    "x = np.linspace(-4, 4, 100)\n",
    "# Generate the normal distribution\n",
    "y = stats.norm.pdf(x, mean, std_dev)\n",
    "\n",
    "# Create the plot for the normal distribution\n",
    "fig_pval, ax = plt.subplots(1,1, figsize=(10,6))\n",
    "_= ax.plot(x, y, label='Normal Distribution')\n",
    "\n",
    "# Add a vertical line to represent the observed value\n",
    "observed_value = 2\n",
    "_= ax.axvline(x=observed_value, color='r', linestyle='dashed', linewidth=2, label=f'T-Stat: {observed_value}')\n",
    "\n",
    "# Shade the area in the tail of the distribution corresponding to the p-value\n",
    "if observed_value < mean:\n",
    "    p_value = 2 * stats.norm.cdf(observed_value, mean, std_dev)  # For a two-tailed test\n",
    "    _= ax.fill_between(x, 0, y, where=(x <= observed_value), color='red', alpha=0.3, label='P-Value Area')\n",
    "else:\n",
    "    p_value = 2 * (1 - stats.norm.cdf(observed_value, mean, std_dev))  # For a two-tailed test\n",
    "    _= ax.fill_between(x, 0, y, where=(x >= observed_value), color='red', alpha=0.3, label='P-Value Area')\n",
    "\n",
    "# Add text to display the p-value on the plot\n",
    "_= ax.text(-3.5, 0.25, f'P-Value: {p_value:.4f}', fontsize=12)\n",
    "\n",
    "# Set plot labels and title\n",
    "_= ax.set_xlabel('X')\n",
    "_= ax.set_ylabel('Probability Density')\n",
    "_= ax.set_title('Illustration of P-Value with Normal Distribution')\n",
    "\n",
    "# Show the plot with legend\n",
    "_= ax.legend()\n",
    "\n",
    "\n",
    "if not visible:\n",
    "    plt.close()\n"
   ]
  },
  {
   "cell_type": "markdown",
   "metadata": {
    "slideshow": {
     "slide_type": "slide"
    }
   },
   "source": [
    "# Linear Regression\n",
    "\n",
    "We have thus far concentrated on the \"surface level\" aspects of Linear Regression.\n",
    "\n",
    "\n",
    "That is, we focused on the equation\n",
    "$$\n",
    "\\hat \\y = \\Theta \\cdot \\x\n",
    "$$\n",
    "\n",
    "But we have not considered how to interpret, or analyze the utility, of individual features $\\x_j$.\n",
    "\n"
   ]
  },
  {
   "cell_type": "markdown",
   "metadata": {
    "slideshow": {
     "slide_type": "slide"
    }
   },
   "source": [
    "# Magnitude of $\\Theta_j$\n",
    "\n",
    "Does a large value of a coefficient $\\Theta_j$ mean the associated feature $\\x_j$ is \"important\" ?\n",
    "\n",
    "No !"
   ]
  },
  {
   "cell_type": "markdown",
   "metadata": {
    "slideshow": {
     "slide_type": "subslide"
    }
   },
   "source": [
    "Consider the true model\n",
    "$$\\pdata(\\y \\; | \\; \\x)$$\n",
    "is\n",
    "$$\n",
    "\\y = \\Theta_1 * \\x_1\n",
    "$$\n",
    "\n",
    "What happens if I change the magnitude of $\\x$\n",
    "- e.g., from units of \"dollars\" to units of \"thousands of dollars\"\n",
    "$$\n",
    "\\x'_1 = \\frac{\\x_1}{1000}\n",
    "$$"
   ]
  },
  {
   "cell_type": "markdown",
   "metadata": {
    "slideshow": {
     "slide_type": "subslide"
    }
   },
   "source": [
    "The relationship becomes\n",
    "$$\n",
    "\\begin{array} \\\\\n",
    "\\y & = & (\\Theta_1 * 1000) * \\frac{\\x_1}{1000} & \\text{coefficient increases to offset decrease in feature} \\\\\n",
    "   & = & \\Theta'_1 * \\x'_1 & \\text{where } \\Theta'_1 = \\Theta_1 * 1000 \\\\\n",
    "\\end{array}\n",
    "$$\n",
    "\n",
    "Re-denominating the feature $\\x_1$ \n",
    "- causes the coefficient to increase by a factor of 1000\n",
    "- but does not change the fundamental underlying relationship\n",
    "    - a unit change in $\\x_1$ (equivalently: a change in $\\x'_1$ of $.001$)\n",
    "    - changes prediction $\\y$ by $\\Theta_1$\n",
    "\n",
    "The larger $\\Theta'_1$ is no more important than $\\Theta_1$."
   ]
  },
  {
   "cell_type": "markdown",
   "metadata": {
    "slideshow": {
     "slide_type": "subslide"
    }
   },
   "source": [
    "That is\n",
    "- the magnitude of a coefficient\n",
    "- depends on the magnitude of the feature\n",
    "\n",
    "Don't conflate magnitude with importance.\n"
   ]
  },
  {
   "cell_type": "markdown",
   "metadata": {
    "slideshow": {
     "slide_type": "subslide"
    }
   },
   "source": [
    "Mathematically\n",
    "$$\n",
    "\\begin{array} \\\\\n",
    "\\Theta_j & = & \\frac{\\partial \\y}{\\partial \\x_j} \\\\\n",
    "\\Theta_{j'} & = & \\frac{\\partial \\y}{\\partial \\x_{j'}} \\\\\n",
    "\\end{array}\n",
    "$$\n",
    "\n",
    "So a unit change in $\\x_j$ \n",
    "- causes a larger change in $\\y$ \n",
    "- than a unit change in $\\x_{j'}$\n",
    "- when $\\Theta_j \\gt \\Theta_{j'}$\n",
    "\n",
    "But the larger \"impact\" on $\\y$ does not make feature $\\x_j$ more \"important\"."
   ]
  },
  {
   "cell_type": "markdown",
   "metadata": {
    "slideshow": {
     "slide_type": "subslide"
    }
   },
   "source": [
    "This is critical when we have more than one feature\n",
    "- $\\Theta_j \\gt \\Theta_{j'}$ may be an *artifact* of $\\x_j$ and $\\x_{j'}$ being on different scales\n",
    "- **not** an indication of greater importance of feature $\\x_j$ versus feature $\\x_{j'}$"
   ]
  },
  {
   "cell_type": "markdown",
   "metadata": {
    "slideshow": {
     "slide_type": "slide"
    }
   },
   "source": [
    "## Regularization\n",
    "\n",
    "In fitting a Linear Regression model\n",
    "- adding more features won't adversely affect Loss\n",
    "- but might adversely affect out-of-sample generalization\n",
    "\n",
    "An irrelevant feature won't increase in-sample Loss.\n",
    "\n",
    "But it might capture meaningless \"noise\" in the training data\n",
    "- that causes out-of-sample prediction to become worse"
   ]
  },
  {
   "cell_type": "markdown",
   "metadata": {
    "slideshow": {
     "slide_type": "subslide"
    }
   },
   "source": [
    "So we need to trade-off \n",
    "- the desire to include potentially relevant features\n",
    "- with the potential adverse impact on generalization\n",
    "\n",
    "One attempt at managing this trade-off is via *Regularization*."
   ]
  },
  {
   "cell_type": "markdown",
   "metadata": {
    "slideshow": {
     "slide_type": "slide"
    }
   },
   "source": [
    "Recall that we can add a *regularization* term to the Loss Function $\\loss$ for Linear Regression\n",
    "- a *penalty* term\n",
    "- that forces parameters coefficients toward 0\n",
    "\n",
    "For example uses the penalty, the standard MSE loss\n",
    "$$\n",
    "\\loss_\\text{MSE} = \\frac{1}{m} \\sum_{i=1}^m { (\\y^\\ip - \\Theta \\cdot \\x)^2 }\n",
    "$$\n",
    "\n",
    "can be augmented with a penalty\n",
    "\n",
    "$$\n",
    "Q = \\sum_{n=1}^N \\Theta_n^2\n",
    "$$\n",
    "to give the loss\n",
    "$$\n",
    "\\loss = \\loss_\\text{MSE} + \\lambda Q\n",
    "$$"
   ]
  },
  {
   "cell_type": "markdown",
   "metadata": {
    "slideshow": {
     "slide_type": "subslide"
    }
   },
   "source": [
    "Regularization is an attempt\n",
    "- to not prematurely exclude a potentially important feature\n",
    "- but to omit it \"after the fact\" by forcing its coefficient to zero\n",
    "\n",
    "Hyper-parameter $\\lambda$ expresses a trade-off between\n",
    "- reducing the magnitude of $\\Theta$\n",
    "- and the resulting increase in $\\loss_\\text{MSE}$"
   ]
  },
  {
   "cell_type": "markdown",
   "metadata": {
    "slideshow": {
     "slide_type": "subslide"
    }
   },
   "source": [
    "Beware !\n",
    "\n",
    "The coefficients that are made smaller by regularization\n",
    "- do not necessarily correspond to \"unimportant\" features\n"
   ]
  },
  {
   "cell_type": "markdown",
   "metadata": {
    "slideshow": {
     "slide_type": "subslide"
    }
   },
   "source": [
    "As we have observed above,\n",
    "special attention should be paid\n",
    "- to the *scale* of each feature\n",
    "- when Regularization will be applied\n",
    "- as the scale of the corresponding parameter moves inversely to the scale of the feature"
   ]
  },
  {
   "cell_type": "markdown",
   "metadata": {
    "slideshow": {
     "slide_type": "slide"
    }
   },
   "source": [
    "# Statistical significance of $\\Theta_j$\n",
    "\n",
    "Consider the true model\n",
    "$$\\pdata(\\y \\; | \\; \\x)$$\n",
    "is\n",
    "$$\n",
    "\\y = \\Theta * \\x_1\n",
    "$$\n",
    "\n",
    "In general\n",
    "- we **don't know** the true model\n",
    "- we only have access to the training dataset $\\langle \\X, \\y \\rangle$\n",
    "- which is a *sample* from the true model joint distribution of $\\y$ and $\\x$\n",
    "- and we hypothesize (and test) theories for what the true model is"
   ]
  },
  {
   "cell_type": "markdown",
   "metadata": {
    "slideshow": {
     "slide_type": "subslide"
    }
   },
   "source": [
    "The $\\Theta^*$ obtained from fitting a model to the training dataset\n",
    "- depends on the particular sample $\\langle \\X, \\y \\rangle$ we observe in the training dataset\n",
    "- a different sample would lead to a different $\\Theta^*$\n",
    "\n",
    "By drawing many possible samples of $\\langle \\X, \\y \\rangle$ from the true $\\pdata(\\y \\; | \\; \\x)$\n",
    "- we can estimate a *distribution* of the values for $\\Theta^*$ we obtain by fitting"
   ]
  },
  {
   "cell_type": "markdown",
   "metadata": {
    "slideshow": {
     "slide_type": "subslide"
    }
   },
   "source": [
    "That is\n",
    "- our fitting is an *estimate* of the true $\\Theta$\n",
    "- that depends on the distribution of $\\Theta^*$\n",
    "\n",
    "Let $\\sigma_j$ denote the first moment of the distribution of $\\Theta^*_j$"
   ]
  },
  {
   "cell_type": "markdown",
   "metadata": {
    "slideshow": {
     "slide_type": "subslide"
    }
   },
   "source": [
    "If we know \n",
    "- the distributional form  of $\\Theta^*_j$\n",
    "    - typically: Student-t\n",
    "- and the distribution's mean\n",
    "- and the first moment $\\sigma_j$\n",
    "- we can calculate how likely it is\n",
    "    - to draw the measured $\\Theta^*_j \\ne 0$ from the distribution\n",
    "    \n",
    "Here is a picture"
   ]
  },
  {
   "cell_type": "code",
   "execution_count": 4,
   "metadata": {
    "slideshow": {
     "slide_type": "subslide"
    }
   },
   "outputs": [
    {
     "data": {
      "image/png": "[encoded data removed]",
      "text/plain": [
       "<Figure size 720x432 with 1 Axes>"
      ]
     },
     "execution_count": 4,
     "metadata": {},
     "output_type": "execute_result"
    }
   ],
   "source": [
    "fig_pval"
   ]
  },
  {
   "cell_type": "markdown",
   "metadata": {
    "slideshow": {
     "slide_type": "subslide"
    }
   },
   "source": [
    "The process is as follows.\n",
    "\n",
    "We start off with the hypothesis (that we hope to contradict)\n",
    "- that the true mean of $\\Theta^*_j = 0$.\n",
    "\n",
    "We then calculate how far our measured $\\Theta^*_j \\ne 0$ is from $0$.\n",
    "- the farther away it is, the less likely it is that we will draw $\\Theta^*_j \\ne 0$ from the zero-mean distribution"
   ]
  },
  {
   "cell_type": "markdown",
   "metadata": {
    "slideshow": {
     "slide_type": "subslide"
    }
   },
   "source": [
    "If it is very unlikely (e.g., with probability $p$ a small number)\n",
    "- then we **reject** our hypothesis that the true mean of $\\Theta^*_j = 0$\n",
    "- **accept** our measured $\\Theta^*_j \\ne 0$ as being *significantly different than 0*\n",
    "    - hence: there **is** a true relationship between $\\y$ and $\\x_j$\n",
    "- and **we will be wrong in doing so** with  probability no greater than $p$\n",
    "\n"
   ]
  },
  {
   "cell_type": "markdown",
   "metadata": {
    "slideshow": {
     "slide_type": "subslide"
    }
   },
   "source": [
    "This gives us a basis for deciding \n",
    "- whether to accept\n",
    "- that there is a true non-zero relationship between target $\\y$ and feature $\\x_j$\n",
    "\n",
    "We should include features $\\x_j$\n",
    "- when the probability of being wrong in accepting the relationship to $\\y$\n",
    "- is small"
   ]
  },
  {
   "cell_type": "markdown",
   "metadata": {
    "slideshow": {
     "slide_type": "subslide"
    }
   },
   "source": [
    "The *t-stat* and *p-value* are computed values that express different ways\n",
    "- of allowing us to accept that our measured $\\Theta^*_j \\ne 0$\n",
    "- is significantly different than 0\n",
    "- and hence, we should accept that $\\y$ is truly related to $\\x_j$"
   ]
  },
  {
   "cell_type": "markdown",
   "metadata": {
    "slideshow": {
     "slide_type": "subslide"
    }
   },
   "source": [
    "Given a particular estimate $\\Theta^*_j$ from our fitting\n",
    "- we measure its distance from 0, called the *t-stat*\n",
    "- expressed in units of \"number of first moments\" \n",
    "    $$\n",
    "    t_j = \\frac{\\Theta^*_j}{\\sigma_j}\n",
    "    $$"
   ]
  },
  {
   "cell_type": "markdown",
   "metadata": {
    "slideshow": {
     "slide_type": "subslide"
    }
   },
   "source": [
    "The *p-value* is the probability of drawing the measured $\\Theta^*_j \\ne 0$ from a zero-mean distribution.\n",
    "\n",
    "So, it is *possible* to draw  $\\Theta^*_j \\ne 0$ from a zero-mean distribution\n",
    "- but only with probability $p$\n",
    "\n",
    "By rejecting the hypothesis that $\\Theta^*_j = 0$ \n",
    "- and accepting a relationship between $\\y$ and $\\x_j$\n",
    "- we will be *wrong* with probability $p$\n",
    "\n"
   ]
  },
  {
   "cell_type": "markdown",
   "metadata": {
    "slideshow": {
     "slide_type": "subslide"
    }
   },
   "source": [
    "Thus\n",
    "- the *t-stat*\n",
    "- and *p-value*\n",
    "\n",
    "are complementary ways of allowing us to accept that $\\y$ and $\\x_j$ are truly related.\n",
    "\n",
    "In the diagram above, you can observe (for a Normal distribution) the\n",
    "- t-stat\n",
    "- p-value"
   ]
  },
  {
   "cell_type": "markdown",
   "metadata": {
    "slideshow": {
     "slide_type": "subslide"
    }
   },
   "source": [
    "In general, it might be best\n",
    "- to exclude $\\x_j$ from the model\n",
    "- if the probability of it **not** being significantly different than zero is too large.\n",
    "    - low t-stat\n",
    "    - large p-value"
   ]
  },
  {
   "cell_type": "code",
   "execution_count": 5,
   "metadata": {
    "slideshow": {
     "slide_type": "slide"
    }
   },
   "outputs": [
    {
     "name": "stdout",
     "output_type": "stream",
     "text": [
      "Done\n"
     ]
    }
   ],
   "source": [
    "print(\"Done\")"
   ]
  }
 ],
 "metadata": {
  "celltoolbar": "Slideshow",
  "kernelspec": {
   "display_name": "Python 3",
   "language": "python",
   "name": "python3"
  },
  "language_info": {
   "codemirror_mode": {
    "name": "ipython",
    "version": 3
   },
   "file_extension": ".py",
   "mimetype": "text/x-python",
   "name": "python",
   "nbconvert_exporter": "python",
   "pygments_lexer": "ipython3",
   "version": "3.7.4"
  },
  "toc": {
   "base_numbering": 1,
   "nav_menu": {},
   "number_sections": true,
   "sideBar": true,
   "skip_h1_title": false,
   "title_cell": "Table of Contents",
   "title_sidebar": "Contents",
   "toc_cell": false,
   "toc_position": {},
   "toc_section_display": true,
   "toc_window_display": true
  }
 },
 "nbformat": 4,
 "nbformat_minor": 2
}
