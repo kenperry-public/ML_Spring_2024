{
 "cells": [
  {
   "cell_type": "code",
   "execution_count": 1,
   "metadata": {
    "slideshow": {
     "slide_type": "notes"
    }
   },
   "outputs": [
    {
     "data": {
      "text/latex": [
       "$$\n",
       "\\newcommand{\\x}{\\mathbf{x}}\n",
       "\\newcommand{\\tx}{\\tilde{\\x}}\n",
       "\\newcommand{\\y}{\\mathbf{y}}\n",
       "\\newcommand{\\b}{\\mathbf{b}}\n",
       "\\newcommand{\\c}{\\mathbf{c}}\n",
       "\\newcommand{\\e}{\\mathbf{e}}\n",
       "\\newcommand{\\z}{\\mathbf{z}}\n",
       "\\newcommand{\\h}{\\mathbf{h}}\n",
       "\\newcommand{\\u}{\\mathbf{u}}\n",
       "\\newcommand{\\v}{\\mathbf{v}}\n",
       "\\newcommand{\\w}{\\mathbf{w}}\n",
       "\\newcommand{\\V}{\\mathbf{V}}\n",
       "\\newcommand{\\W}{\\mathbf{W}}\n",
       "\\newcommand{\\X}{\\mathbf{X}}\n",
       "\\newcommand{\\KL}{\\mathbf{KL}}\n",
       "\\newcommand{\\E}{{\\mathbb{E}}}\n",
       "\\newcommand{\\Reals}{{\\mathbb{R}}}\n",
       "\\newcommand{\\ip}{\\mathbf{{(i)}}}\n",
       "%\n",
       "% Test set\n",
       "\\newcommand{\\xt}{\\underline{\\x}}\n",
       "\\newcommand{\\yt}{\\underline{\\y}}\n",
       "\\newcommand{\\Xt}{\\underline{\\X}}\n",
       "\\newcommand{\\perfm}{\\mathcal{P}}\n",
       "%\n",
       "% \\ll indexes a layer; we can change the actual letter\n",
       "\\newcommand{\\ll}{l}\n",
       "\\newcommand{\\llp}{{(\\ll)}}\n",
       "%\n",
       "\\newcommand{Thetam}{\\Theta_{-0}}\n",
       "\n",
       "% CNN\n",
       "\\newcommand{\\kernel}{\\mathbf{k}} \n",
       "\\newcommand{\\dim}{d}\n",
       "\\newcommand{\\idxspatial}{{\\text{idx}}}\n",
       "\\newcommand{\\summaxact}{\\text{max}}\n",
       "%\n",
       "%\n",
       "\n",
       "% RNN\n",
       "% \\tt indexes a time step\n",
       "\\newcommand{\\tt}{t}\n",
       "\\newcommand{\\tp}{{(\\tt)}}\n",
       "%\n",
       "%\n",
       "\n",
       "% LSTM\n",
       "\\newcommand{\\g}{\\mathbf{g}}\n",
       "\\newcommand{\\remember}{\\mathbf{remember}}\n",
       "\\newcommand{\\save}{\\mathbf{save}}\n",
       "\\newcommand{\\focus}{\\mathbf{focus}}\n",
       "%\n",
       "%\n",
       "% NLP\n",
       "\\newcommand{\\Vocab}{\\mathbf{V}}\n",
       "\\newcommand{\\v}{\\mathbf{v}}\n",
       "\\newcommand{\\offset}{o}\n",
       "\\newcommand{\\o}{o}\n",
       "\\newcommand{\\Emb}{\\mathbf{E}}\n",
       "%\n",
       "%\n",
       "\\newcommand{\\loss}{\\mathcal{L}}\n",
       "\\newcommand{\\cost}{\\mathcal{L}}\n",
       "%\n",
       "%                     \n",
       "\\newcommand{\\pdata}{p_\\text{data}}\n",
       "\\newcommand{\\pmodel}{p_\\text{model}}\n",
       "%\n",
       "% SVM\n",
       "\\newcommand{\\margin}{{\\mathbb{m}}}\n",
       "\\newcommand{\\lmk}{\\boldsymbol{\\ell}}\n",
       "%\n",
       "%\n",
       "% Functions with arguments\n",
       "\\def\\xsy#1#2{#1^#2}\n",
       "\\def\\rand#1{\\tilde{#1}}\n",
       "\\def\\randx{\\rand{\\x}}\n",
       "\\def\\randy{\\rand{\\y}}\n",
       "\\def\\trans#1{\\dot{#1}}\n",
       "\\def\\transx{\\trans{\\x}}\n",
       "\\def\\transy{\\trans{\\y}}\n",
       "%\n",
       "\\def\\argmax#1{\\underset{#1} {\\operatorname{argmax}} }\n",
       "\\def\\argmin#1{\\underset{#1} {\\operatorname{argmin}} }\n",
       "\\def\\max#1{\\underset{#1} {\\operatorname{max}} }\n",
       "\\def\\min#1{\\underset{#1} {\\operatorname{min}} }\n",
       "%\n",
       "\\def\\pr#1{\\mathcal{p}(#1)}\n",
       "\\def\\prc#1#2{\\mathcal{p}(#1 \\; | \\; #2)}\n",
       "\\def\\cnt#1{\\mathcal{count}_{#1}}\n",
       "\\def\\node#1{\\mathbb{#1}}\n",
       "%\n",
       "\\def\\loc#1{{\\text{##} {#1}}}\n",
       "%\n",
       "\\def\\OrderOf#1{\\mathcal{O}\\left( #1 \\right)}\n",
       "%\n",
       "% Expectation operator\n",
       "\\def\\Exp#1{\\underset{#1} {\\operatorname{\\mathbb{E}}} }\n",
       "%\n",
       "% VAE\n",
       "\\def\\prs#1#2{\\mathcal{p}_{#2}(#1)}\n",
       "\\def\\qr#1{\\mathcal{q}(#1)}\n",
       "\\def\\qrs#1#2{\\mathcal{q}_{#2}(#1)}\n",
       "%\n",
       "% Reinforcement learning\n",
       "\\newcommand{\\Actions}{{\\mathcal{A}}} \n",
       "\\newcommand{\\actseq}{A}\n",
       "\\newcommand{\\act}{a}\n",
       "\\newcommand{\\States}{{\\mathcal{S}}}   \n",
       "\\newcommand{\\stateseq}{S}  \n",
       "\\newcommand{\\state}{s}\n",
       "\\newcommand{\\Rewards}{{\\mathcal{R}}}\n",
       "\\newcommand{\\rewseq}{R}\n",
       "\\newcommand{\\rew}{r}\n",
       "\\newcommand{\\transp}{P}\n",
       "\\newcommand{\\statevalfun}{v}\n",
       "\\newcommand{\\actvalfun}{q}\n",
       "\\newcommand{\\disc}{\\gamma}\n",
       "%\n",
       "%\n",
       "\\newcommand{\\floor}[1]{\\left\\lfloor #1 \\right\\rfloor}\n",
       "\\newcommand{\\ceil}[1]{\\left\\lceil #1 \\right\\rceil}\n",
       "%\n",
       "%\n",
       "$$\n"
      ],
      "text/plain": [
       "<IPython.core.display.Latex object>"
      ]
     },
     "metadata": {},
     "output_type": "display_data"
    }
   ],
   "source": [
    "%run Latex_macros.ipynb"
   ]
  },
  {
   "cell_type": "code",
   "execution_count": 2,
   "metadata": {
    "slideshow": {
     "slide_type": "skip"
    }
   },
   "outputs": [],
   "source": [
    "# My standard magic !  You will see this in almost all my notebooks.\n",
    "\n",
    "from IPython.core.interactiveshell import InteractiveShell\n",
    "InteractiveShell.ast_node_interactivity = \"all\"\n",
    "\n",
    "# Reload all modules imported with %aimport\n",
    "%load_ext autoreload\n",
    "%autoreload 1\n",
    "\n",
    "%matplotlib inline"
   ]
  },
  {
   "cell_type": "code",
   "execution_count": 3,
   "metadata": {
    "slideshow": {
     "slide_type": "notes"
    }
   },
   "outputs": [],
   "source": [
    "import numpy as np\n",
    "import pandas as pd\n",
    "\n",
    "import matplotlib.pyplot as plt\n",
    "\n",
    "import transform_helper\n",
    "\n",
    "sph = transform_helper.StockReturn_Pooling_Helper()\n",
    "\n",
    "# Create plots for Fundamental Assumption\n",
    "ssm = transform_helper.StockPrice_shiftedMean_Helper()\n",
    "ss_df = ssm.gen_prices(.001, .02, [10, 20], num_returns=252)\n",
    "fig_data, axs_data = ssm.plot_data(ss_df, visible=False)\n",
    "fig_segs, axs_segs = ssm.plot_segments(ss_df, visible=False)\n",
    "\n",
    "# Create plots for shifted price\n",
    "sph = transform_helper.ShiftedPrice_Helper()\n",
    "series_over_time = sph.gen_data(m=30)\n",
    "\n",
    "fig_sp, ax_sp = plt.subplots(1,1, figsize=(12,6) )\n",
    "_= sph.plot_data(series_over_time, ax=ax_sp)\n",
    "\n",
    "plt.close(fig_sp)\n",
    "\n",
    "# Create plots for relative price\n",
    "rph = transform_helper.RelativePrice_Helper()\n",
    "series = rph.gen_data(attrs=[\"area\", \"price\"])\n",
    "\n",
    "labels=[ \"USD\", \"USD\", \"RMB\", \"HKD\" ]\n",
    "\n",
    "fig_rp, ax_rp = plt.subplots(1,1, figsize=(12,6))\n",
    "_= rph.plot_data(series, ax=ax_rp, labels=labels, xlabel=\"Area\", ylabel=\"Price (local)\")\n",
    "\n",
    "plt.close(fig_rp)"
   ]
  },
  {
   "cell_type": "code",
   "execution_count": 4,
   "metadata": {
    "slideshow": {
     "slide_type": "notes"
    }
   },
   "outputs": [],
   "source": [
    "# Geron Housing Data example\n",
    "import os\n",
    "import tarfile\n",
    "import urllib.request\n",
    "\n",
    "DOWNLOAD_ROOT = \"https://raw.githubusercontent.com/ageron/handson-ml2/master/\"\n",
    "HOUSING_PATH = os.path.join(\"datasets\", \"housing\")\n",
    "HOUSING_URL = DOWNLOAD_ROOT + \"datasets/housing/housing.tgz\"\n",
    "\n",
    "def fetch_housing_data(housing_url=HOUSING_URL, housing_path=HOUSING_PATH):\n",
    "    if not os.path.isdir(housing_path):\n",
    "        os.makedirs(housing_path)\n",
    "    tgz_path = os.path.join(housing_path, \"housing.tgz\")\n",
    "    urllib.request.urlretrieve(housing_url, tgz_path)\n",
    "    housing_tgz = tarfile.open(tgz_path)\n",
    "    housing_tgz.extractall(path=housing_path)\n",
    "    housing_tgz.close()"
   ]
  },
  {
   "cell_type": "code",
   "execution_count": 5,
   "metadata": {
    "slideshow": {
     "slide_type": "notes"
    }
   },
   "outputs": [],
   "source": [
    "fetch_housing_data()"
   ]
  },
  {
   "cell_type": "code",
   "execution_count": 6,
   "metadata": {
    "slideshow": {
     "slide_type": "notes"
    }
   },
   "outputs": [],
   "source": [
    "import pandas as pd\n",
    "\n",
    "def load_housing_data(housing_path=HOUSING_PATH):\n",
    "    csv_path = os.path.join(housing_path, \"housing.csv\")\n",
    "    return pd.read_csv(csv_path)\n",
    "\n",
    "housing = load_housing_data()"
   ]
  },
  {
   "cell_type": "markdown",
   "metadata": {
    "slideshow": {
     "slide_type": "slide"
    }
   },
   "source": [
    "# Non-homogeneous data: make it (more) Homogeneous\n",
    "\n",
    "## Normalization via z-score\n",
    "\n",
    "Let's consider a simple dataset with examples that are drawn from two different groups"
   ]
  },
  {
   "cell_type": "code",
   "execution_count": 7,
   "metadata": {
    "slideshow": {
     "slide_type": "notes"
    }
   },
   "outputs": [
    {
     "data": {
      "image/png": "[encoded data removed]",
      "text/plain": [
       "<Figure size 864x432 with 5 Axes>"
      ]
     },
     "metadata": {
      "needs_background": "light"
     },
     "output_type": "display_data"
    }
   ],
   "source": [
    "sph = transform_helper.StockReturn_Pooling_Helper()\n",
    "\n",
    "means = [ -.02, +.02 ]\n",
    "s = .16/(252**.5)\n",
    "\n",
    "df_2means = sph.gen_returns(means, [s, s])\n",
    "\n",
    "_= sph.plot_data(df_2means)"
   ]
  },
  {
   "cell_type": "markdown",
   "metadata": {
    "slideshow": {
     "slide_type": "subslide"
    }
   },
   "source": [
    "From the top graph: we can see that there is a constant linear relationship\n",
    "- between target \"dep\" and feature \"ind\"\n",
    "- both within groups and across groups\n",
    "\n",
    "From the second and third rows, we see the distribution of features and targets\n",
    "- has same shape between groups\n",
    "- with different means"
   ]
  },
  {
   "cell_type": "code",
   "execution_count": 8,
   "metadata": {
    "slideshow": {
     "slide_type": "subslide"
    }
   },
   "outputs": [
    {
     "data": {
      "image/png": "[encoded data removed]",
      "text/plain": [
       "<Figure size 864x432 with 2 Axes>"
      ]
     },
     "metadata": {
      "needs_background": "light"
     },
     "output_type": "display_data"
    }
   ],
   "source": [
    "_= sph.plot_segments(df_2means)"
   ]
  },
  {
   "cell_type": "markdown",
   "metadata": {
    "slideshow": {
     "slide_type": "subslide"
    }
   },
   "source": [
    "Given the simple linear relationship intra-group\n",
    "- No harm would come from pooling\n",
    "- Even though the pooled data comes from distinct groups\n",
    "\n",
    "*However*: it the intra-group relationship was more complex (e.g., a curve)\n",
    "- pooling would be less successful"
   ]
  },
  {
   "cell_type": "markdown",
   "metadata": {
    "slideshow": {
     "slide_type": "subslide"
    }
   },
   "source": [
    "So although this example may be over-simplified, we still try to make the distinct groups look similar.\n",
    "\n",
    "Let's normalize each group\n",
    "- for each variable: turn values into z-scores\n",
    "    - subtract variable mean, divide by variable standard deviation"
   ]
  },
  {
   "cell_type": "code",
   "execution_count": 9,
   "metadata": {
    "slideshow": {
     "slide_type": "subslide"
    }
   },
   "outputs": [
    {
     "data": {
      "image/png": "[encoded data removed]",
      "text/plain": [
       "<Figure size 864x432 with 5 Axes>"
      ]
     },
     "metadata": {
      "needs_background": "light"
     },
     "output_type": "display_data"
    }
   ],
   "source": [
    "df_2means_norm = sph.normalize_data(df_2means)\n",
    "_= sph.plot_data(df_2means_norm)"
   ]
  },
  {
   "cell_type": "markdown",
   "metadata": {
    "slideshow": {
     "slide_type": "subslide"
    }
   },
   "source": [
    "You can now see that the two groups are\n",
    "- congruent in the top joint plot\n",
    "- have same distributions in the second and third rows\n",
    "\n",
    "Non-homogeneous groups made homogeneous !"
   ]
  },
  {
   "cell_type": "markdown",
   "metadata": {
    "slideshow": {
     "slide_type": "subslide"
    }
   },
   "source": [
    "We can make the separation between groups less trivial by also having different standard deviations per group.\n",
    "\n",
    "Here's what the data looks like"
   ]
  },
  {
   "cell_type": "code",
   "execution_count": 10,
   "metadata": {
    "slideshow": {
     "slide_type": "subslide"
    }
   },
   "outputs": [
    {
     "data": {
      "image/png": "[encoded data removed]",
      "text/plain": [
       "<Figure size 864x432 with 5 Axes>"
      ]
     },
     "metadata": {
      "needs_background": "light"
     },
     "output_type": "display_data"
    }
   ],
   "source": [
    "df_2means_2sdevs = sph.gen_returns(means, [s, 4*s])\n",
    "\n",
    "_= sph.plot_data(df_2means_2sdevs)"
   ]
  },
  {
   "cell_type": "markdown",
   "metadata": {
    "slideshow": {
     "slide_type": "subslide"
    }
   },
   "source": [
    "Again: normalization does the trick"
   ]
  },
  {
   "cell_type": "code",
   "execution_count": 11,
   "metadata": {},
   "outputs": [
    {
     "data": {
      "image/png": "[encoded data removed]",
      "text/plain": [
       "<Figure size 864x432 with 5 Axes>"
      ]
     },
     "metadata": {
      "needs_background": "light"
     },
     "output_type": "display_data"
    }
   ],
   "source": [
    "df_2means_2sdevs_norm = sph.normalize_data(df_2means_2sdevs)\n",
    "_= sph.plot_data(df_2means_2sdevs_norm)"
   ]
  },
  {
   "cell_type": "markdown",
   "metadata": {
    "slideshow": {
     "slide_type": "slide"
    }
   },
   "source": [
    "### Pooled over time alternate method: normalization\n",
    "\n",
    "Let's revisit our \"pooled over time\" dataset."
   ]
  },
  {
   "cell_type": "code",
   "execution_count": 12,
   "metadata": {
    "slideshow": {
     "slide_type": "subslide"
    }
   },
   "outputs": [
    {
     "data": {
      "image/png": "[encoded data removed]",
      "text/plain": [
       "<Figure size 864x432 with 1 Axes>"
      ]
     },
     "metadata": {
      "needs_background": "light"
     },
     "output_type": "display_data"
    }
   ],
   "source": [
    "sph = transform_helper.ShiftedPrice_Helper()\n",
    "series_over_time = sph.gen_data(m=30)\n",
    "\n",
    "fig, ax = plt.subplots(1,1, figsize=(12,6) )\n",
    "_= sph.plot_data(series_over_time, ax=ax)\n"
   ]
  },
  {
   "cell_type": "markdown",
   "metadata": {
    "slideshow": {
     "slide_type": "slide"
    }
   },
   "source": [
    "We had previously addressed this by adding a missing feature\n",
    "- distinct intercept per group\n",
    "- by adding a \"group indicator\" feature\n",
    "\n",
    "$$\n",
    "\\begin{array}[lll]\\\\\n",
    "\\y & = & \\Theta_{(\\text{time}_0)} * \\text{Is}_0 + \\Theta_{(\\text{time}_1)} * \\text{Is}_1  + \\Theta_1 * \\x \\\\\n",
    "\\end{array}\n",
    "$$\n",
    "- after addressing the \"dummy variable\" trap, the equation is of the form\n",
    "$$\n",
    "\\y  =  \\Theta_0 + \\Theta_1 * \\x\n",
    "$$\n",
    "We show an alternate solution using a (trivial) standardization\n"
   ]
  },
  {
   "cell_type": "markdown",
   "metadata": {
    "slideshow": {
     "slide_type": "subslide"
    }
   },
   "source": [
    "We will standardize both the target $\\y$ and the single feature $\\x$\n",
    "- transform each to mean $0$\n",
    "$$\n",
    "\\begin{array} \\\\\n",
    "\\y' & = & \\y - \\bar \\y \\\\\n",
    "\\x' & = & \\x - \\bar \\x \\\\\n",
    "\\end{array}\n",
    "$$\n",
    "- no scaling by volatility\n",
    "\n",
    "Model equation\n",
    "$$\n",
    "\\y' = \\Theta'_0 + \\Theta'_1 * \\x'\n",
    "$$"
   ]
  },
  {
   "cell_type": "markdown",
   "metadata": {
    "slideshow": {
     "slide_type": "subslide"
    }
   },
   "source": [
    "Here is the math behind this \"de-meaning\" transformation. \n",
    "\n",
    "If\n",
    "$$\n",
    "\\y  =  \\Theta_0 + \\Theta_1 * \\x\n",
    "$$\n",
    "then\n",
    "$$\n",
    "\\begin{array} \\\\\n",
    "\\y^\\ip & = & \\Theta_0 + \\Theta_1 * \\x^\\ip & \\text{hypothesize linear relationship} \\\\\n",
    "\\frac{1}{m} \\sum_i { \\y^\\ip } & =  &\\frac{1}{m} \\sum_i { (\\Theta_0 + \\Theta_1 * \\x^\\ip) } & \\text{sum over all examples, divide by no. of examples }\\\\\n",
    "\\bar{\\y} & = & \\Theta_0 + \\Theta_1 * \\bar\\x & \\text{definition of average} \\\\\n",
    "\\Theta_0 & = & \\bar\\y - \\Theta_1 * \\bar\\x &  \\text{re-arrange terms} \\\\\n",
    "\\end{array}\n",
    "$$"
   ]
  },
  {
   "cell_type": "markdown",
   "metadata": {
    "slideshow": {
     "slide_type": "subslide"
    }
   },
   "source": [
    "When $\\bar \\x = 0$ (as is the case for $\\bar \\x'$)\n",
    "- $\\Theta_0 = \\bar \\y'$\n",
    "\n",
    "\n",
    "That is: we have transformed the two groups so as to have a common intercept.\n",
    "\n",
    "Here is a little code to demonstrate this"
   ]
  },
  {
   "cell_type": "code",
   "execution_count": 13,
   "metadata": {
    "slideshow": {
     "slide_type": "subslide"
    }
   },
   "outputs": [
    {
     "data": {
      "image/png": "[encoded data removed]",
      "text/plain": [
       "<Figure size 864x432 with 1 Axes>"
      ]
     },
     "metadata": {
      "needs_background": "light"
     },
     "output_type": "display_data"
    }
   ],
   "source": [
    "\n",
    "\n",
    "fig, ax = plt.subplots(1,1, figsize=(12,6) )\n",
    "\n",
    "demean_x0 = sph.x0 - sph.x0.mean()\n",
    "demean_x1 = sph.x1 - sph.x1.mean()\n",
    "\n",
    "_= ax.scatter(demean_x0, sph.y0 - sph.y0.mean(), label=\"$time_0$\")\n",
    "_= ax.scatter(demean_x1, sph.y1 - sph.y1.mean(), label=\"$time_1$\")\n",
    "_= ax.legend()\n",
    "\n"
   ]
  },
  {
   "cell_type": "markdown",
   "metadata": {
    "slideshow": {
     "slide_type": "subslide"
    }
   },
   "source": [
    "Now it looks like each group comes from the same distribution.\n",
    "- We can pool the observations from the two groups"
   ]
  },
  {
   "cell_type": "markdown",
   "metadata": {
    "slideshow": {
     "slide_type": "slide"
    }
   },
   "source": [
    "## Normalization by uncovering the hidden relationship\n",
    "\n",
    "Consider the following multi-group data (our multiple geography pooling of data)\n",
    "- house price as a function of size\n",
    "- in different geographies"
   ]
  },
  {
   "cell_type": "code",
   "execution_count": 14,
   "metadata": {
    "slideshow": {
     "slide_type": "subslide"
    }
   },
   "outputs": [
    {
     "data": {
      "image/png": "[encoded data removed]",
      "text/plain": [
       "<Figure size 864x432 with 1 Axes>"
      ]
     },
     "execution_count": 14,
     "metadata": {},
     "output_type": "execute_result"
    }
   ],
   "source": [
    "fig_rp"
   ]
  },
  {
   "cell_type": "markdown",
   "metadata": {
    "slideshow": {
     "slide_type": "subslide"
    }
   },
   "source": [
    "There is clearly a linear relationship intra-group, but the slope differs between groups (local currencies).\n",
    "\n",
    "The apparent diversity in the target may obscure a simple relationship that is common to all groups"
   ]
  },
  {
   "cell_type": "markdown",
   "metadata": {
    "slideshow": {
     "slide_type": "subslide"
    }
   },
   "source": [
    "Let's re-denominate the target in a common unit.\n",
    "- Let the target of example $i$ in group $g$ be\n",
    "$$\\y^\\ip_{(\\text{group}_g)}$$\n",
    "- Change the units in which $\\y^\\ip_{(\\text{group}_g)}$ is expressed\n",
    "- Into a common unit\n",
    "- Via an \"exchange rate\" equal to the slope of group $g$\n",
    "$$\n",
    "\\beta_{(\\text{group}_g)}\n",
    "$$\n",
    "- yielding\n",
    "$$\\tilde{\\y}^\\ip_{(\\text{group}_g)} = \\frac{\\y^\\ip_{(\\text{group}_g)}}{ \\beta_{(\\text{group}_1)}}$$"
   ]
  },
  {
   "cell_type": "markdown",
   "metadata": {
    "slideshow": {
     "slide_type": "subslide"
    }
   },
   "source": [
    "If we do this for each group (separately) the data becomes homogeneous !"
   ]
  },
  {
   "cell_type": "code",
   "execution_count": 15,
   "metadata": {
    "slideshow": {
     "slide_type": "slide"
    }
   },
   "outputs": [
    {
     "data": {
      "image/png": "[encoded data removed]",
      "text/plain": [
       "<Figure size 864x432 with 1 Axes>"
      ]
     },
     "metadata": {
      "needs_background": "light"
     },
     "output_type": "display_data"
    }
   ],
   "source": [
    "# Relative price levels\n",
    "rel_price = rph.relative_price()\n",
    "\n",
    "# Normalize the price of each series by the relative price        \n",
    "series_normalized = [ series[i]/(1,rel_price[i]) for i in range(len(series))]\n",
    "\n",
    "fig_rp_norm, ax_rp_norm = plt.subplots(1,1, figsize=(12,6))\n",
    "_= rph.plot_data(series_normalized, ax=ax_rp_norm, labels=labels, xlabel=\"Area\", ylabel=\"Price (USD)\")\n",
    "\n",
    "# plt.close(fig_rp_norm)"
   ]
  },
  {
   "cell_type": "markdown",
   "metadata": {
    "slideshow": {
     "slide_type": "subslide"
    }
   },
   "source": [
    "We can see why this is true.\n",
    "\n",
    "Here's an equation that describes the data for the first two sub-groups:\n",
    "\n",
    "$$\\\n",
    "\\begin{array}[lll]\\\\\n",
    "\\y_{(\\text{group}_0)} & = &  \\beta_{(\\text{group}_0)}  *( \\Theta_0 + \\Theta_1 * \\x ) \\\\\n",
    "\\y_{(\\text{group}_1)} & = &  \\beta_{(\\text{group}_1)}  *( \\Theta_0 + \\Theta_1 * \\x ) \\\\\n",
    "\\end{array}\n",
    "$$\n",
    "\n",
    "And the regression equation for the transformed data:\n",
    "$$\n",
    "\\begin{array}[lll]\\\\\n",
    "\\frac{\\y_{(\\text{group}_0)}}{ \\beta_{(\\text{group}_0)}} & = &   \\Theta_0 + \\Theta_1 * \\x  \\\\\n",
    "\\frac{\\y_{(\\text{group}_1)}}{ \\beta_{(\\text{group}_1)}} & = &   \\Theta_0 + \\Theta_1 * \\x  \\\\\n",
    "\\end{array}\n",
    "$$\n",
    "\n",
    "The common relationship \n",
    "$$\n",
    "\\tilde\\y = \\Theta_0 + \\Theta_1 * \\x  \n",
    "$$\n",
    "is revealed."
   ]
  },
  {
   "cell_type": "markdown",
   "metadata": {
    "slideshow": {
     "slide_type": "subslide"
    }
   },
   "source": [
    "The phenomenon of variables denominated in different units between sub-groups is not uncommon\n",
    "- Examples observed in different countries, measured in local currency\n",
    "- Examples observed at different times (e.g., adjust for time-varying general price level)\n",
    "\n",
    "In our case, the only variable that needed to be normalized was the target.\n",
    "\n",
    "You can imagine situations in which features (e.g., Area) need to be normalized\n",
    "- Meters versus feet"
   ]
  },
  {
   "cell_type": "markdown",
   "metadata": {
    "slideshow": {
     "slide_type": "subslide"
    }
   },
   "source": [
    "We may need to be creative in conceptualizing the \"exchange rate\"\n",
    "- Consider re-denominating so that \"pricing power\" is constant\n",
    "    - Units of \"number of McDonald's burgers\" !\n",
    "    - May work across time and currency !\n",
    "\n",
    "As long as all commodity prices change the same, this should work."
   ]
  },
  {
   "cell_type": "markdown",
   "metadata": {
    "slideshow": {
     "slide_type": "subslide"
    }
   },
   "source": [
    "This is a type of *scaling* transformation.\n",
    "- the common relationship only becomes apparent when the target (or some features) are placed on a common scale\n",
    "- often see this when target/features are scaled by their standard deviation\n",
    "    - re-denominate in terms of *number of standard deviations*\n",
    "    - e.g., returns of two equities are both normal but with different volatilities"
   ]
  },
  {
   "cell_type": "markdown",
   "metadata": {
    "slideshow": {
     "slide_type": "slide"
    }
   },
   "source": [
    "## Normalization: creating the correct units\n",
    "\n",
    "There is a similar need for \"re-denomination\" that arises in a different context\n",
    "- when the raw feature\n",
    "- does not express the key semantics as well as a re-denominated feature"
   ]
  },
  {
   "cell_type": "markdown",
   "metadata": {
    "slideshow": {
     "slide_type": "slide"
    }
   },
   "source": [
    "The Geron book has a more sophisticated example of [predicting house Price from features](external/handson-ml2/02_end_to_end_machine_learning_project.ipynb#Experimenting-with-Attribute-Combinations)\n",
    "- a lot more features"
   ]
  },
  {
   "cell_type": "code",
   "execution_count": 16,
   "metadata": {
    "slideshow": {
     "slide_type": "subslide"
    }
   },
   "outputs": [
    {
     "name": "stdout",
     "output_type": "stream",
     "text": [
      "<class 'pandas.core.frame.DataFrame'>\n",
      "RangeIndex: 20640 entries, 0 to 20639\n",
      "Data columns (total 10 columns):\n",
      "longitude             20640 non-null float64\n",
      "latitude              20640 non-null float64\n",
      "housing_median_age    20640 non-null float64\n",
      "total_rooms           20640 non-null float64\n",
      "total_bedrooms        20433 non-null float64\n",
      "population            20640 non-null float64\n",
      "households            20640 non-null float64\n",
      "median_income         20640 non-null float64\n",
      "median_house_value    20640 non-null float64\n",
      "ocean_proximity       20640 non-null object\n",
      "dtypes: float64(9), object(1)\n",
      "memory usage: 1.6+ MB\n"
     ]
    }
   ],
   "source": [
    "housing.info()"
   ]
  },
  {
   "cell_type": "markdown",
   "metadata": {
    "slideshow": {
     "slide_type": "subslide"
    }
   },
   "source": [
    "In terms of predictive value, there are some features\n",
    "- `total_rooms`, `total_bedrooms`\n",
    "that are not predictive because their units are not informative\n",
    "- both features will have greater magnitude in a multi-family house than a single family house\n",
    "\n",
    "A more meaningful feature can be synthesized by normalizing by the number of families\n",
    "\n",
    "    housing[\"rooms_per_household\"] = housing[\"total_rooms\"]/housing[\"households\"]\n",
    "    housing[\"bedrooms_per_room\"] = housing[\"total_bedrooms\"]/housing[\"total_rooms\"]"
   ]
  },
  {
   "cell_type": "markdown",
   "metadata": {
    "slideshow": {
     "slide_type": "subslide"
    }
   },
   "source": [
    "That is:\n",
    "- the normalized variable has units \"per household\"\n",
    "- that is more predictive of price than the raw feature"
   ]
  },
  {
   "cell_type": "code",
   "execution_count": 17,
   "metadata": {
    "slideshow": {
     "slide_type": "slide"
    }
   },
   "outputs": [
    {
     "name": "stdout",
     "output_type": "stream",
     "text": [
      "Done\n"
     ]
    }
   ],
   "source": [
    "print(\"Done\")"
   ]
  }
 ],
 "metadata": {
  "celltoolbar": "Slideshow",
  "kernelspec": {
   "display_name": "Python 3",
   "language": "python",
   "name": "python3"
  },
  "language_info": {
   "codemirror_mode": {
    "name": "ipython",
    "version": 3
   },
   "file_extension": ".py",
   "mimetype": "text/x-python",
   "name": "python",
   "nbconvert_exporter": "python",
   "pygments_lexer": "ipython3",
   "version": "3.7.4"
  },
  "toc": {
   "base_numbering": 1,
   "nav_menu": {},
   "number_sections": true,
   "sideBar": true,
   "skip_h1_title": false,
   "title_cell": "Table of Contents",
   "title_sidebar": "Contents",
   "toc_cell": false,
   "toc_position": {
    "height": "calc(100% - 180px)",
    "left": "10px",
    "top": "150px",
    "width": "369.188px"
   },
   "toc_section_display": true,
   "toc_window_display": true
  }
 },
 "nbformat": 4,
 "nbformat_minor": 2
}
