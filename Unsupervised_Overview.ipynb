{
 "cells": [
  {
   "cell_type": "code",
   "execution_count": 1,
   "metadata": {
    "slideshow": {
     "slide_type": "notes"
    }
   },
   "outputs": [
    {
     "data": {
      "text/latex": [
       "$$\n",
       "\\newcommand{\\x}{\\mathbf{x}}\n",
       "\\newcommand{\\tx}{\\tilde{\\x}}\n",
       "\\newcommand{\\y}{\\mathbf{y}}\n",
       "\\newcommand{\\b}{\\mathbf{b}}\n",
       "\\newcommand{\\c}{\\mathbf{c}}\n",
       "\\newcommand{\\e}{\\mathbf{e}}\n",
       "\\newcommand{\\z}{\\mathbf{z}}\n",
       "\\newcommand{\\h}{\\mathbf{h}}\n",
       "\\newcommand{\\u}{\\mathbf{u}}\n",
       "\\newcommand{\\v}{\\mathbf{v}}\n",
       "\\newcommand{\\w}{\\mathbf{w}}\n",
       "\\newcommand{\\V}{\\mathbf{V}}\n",
       "\\newcommand{\\W}{\\mathbf{W}}\n",
       "\\newcommand{\\X}{\\mathbf{X}}\n",
       "\\newcommand{\\KL}{\\mathbf{KL}}\n",
       "\\newcommand{\\E}{{\\mathbb{E}}}\n",
       "\\newcommand{\\Reals}{{\\mathbb{R}}}\n",
       "\\newcommand{\\ip}{\\mathbf{{(i)}}}\n",
       "%\n",
       "% Test set\n",
       "\\newcommand{\\xt}{\\underline{\\x}}\n",
       "\\newcommand{\\yt}{\\underline{\\y}}\n",
       "\\newcommand{\\Xt}{\\underline{\\X}}\n",
       "\\newcommand{\\perfm}{\\mathcal{P}}\n",
       "%\n",
       "% \\ll indexes a layer; we can change the actual letter\n",
       "\\newcommand{\\ll}{l}\n",
       "\\newcommand{\\llp}{{(\\ll)}}\n",
       "%\n",
       "\\newcommand{Thetam}{\\Theta_{-0}}\n",
       "\n",
       "% CNN\n",
       "\\newcommand{\\kernel}{\\mathbf{k}} \n",
       "\\newcommand{\\dim}{d}\n",
       "\\newcommand{\\idxspatial}{{\\text{idx}}}\n",
       "\\newcommand{\\summaxact}{\\text{max}}\n",
       "\\newcommand{idxb}{\\mathbf{i}}\n",
       "%\n",
       "%\n",
       "\n",
       "% RNN\n",
       "% \\tt indexes a time step\n",
       "\\newcommand{\\tt}{t}\n",
       "\\newcommand{\\tp}{{(\\tt)}}\n",
       "%\n",
       "%\n",
       "\n",
       "% LSTM\n",
       "\\newcommand{\\g}{\\mathbf{g}}\n",
       "\\newcommand{\\remember}{\\mathbf{remember}}\n",
       "\\newcommand{\\save}{\\mathbf{save}}\n",
       "\\newcommand{\\focus}{\\mathbf{focus}}\n",
       "%\n",
       "%\n",
       "% NLP\n",
       "\\newcommand{\\Vocab}{\\mathbf{V}}\n",
       "\\newcommand{\\v}{\\mathbf{v}}\n",
       "\\newcommand{\\offset}{o}\n",
       "\\newcommand{\\o}{o}\n",
       "\\newcommand{\\Emb}{\\mathbf{E}}\n",
       "%\n",
       "%\n",
       "\\newcommand{\\loss}{\\mathcal{L}}\n",
       "\\newcommand{\\cost}{\\mathcal{L}}\n",
       "%\n",
       "%                     \n",
       "\\newcommand{\\pdata}{p_\\text{data}}\n",
       "\\newcommand{\\pmodel}{p_\\text{model}}\n",
       "%\n",
       "% SVM\n",
       "\\newcommand{\\margin}{{\\mathbb{m}}}\n",
       "\\newcommand{\\lmk}{\\boldsymbol{\\ell}}\n",
       "%\n",
       "%\n",
       "% Functions with arguments\n",
       "\\def\\xsy#1#2{#1^#2}\n",
       "\\def\\rand#1{\\tilde{#1}}\n",
       "\\def\\randx{\\rand{\\x}}\n",
       "\\def\\randy{\\rand{\\y}}\n",
       "\\def\\trans#1{\\dot{#1}}\n",
       "\\def\\transx{\\trans{\\x}}\n",
       "\\def\\transy{\\trans{\\y}}\n",
       "%\n",
       "\\def\\argmax#1{\\underset{#1} {\\operatorname{argmax}} }\n",
       "\\def\\argmin#1{\\underset{#1} {\\operatorname{argmin}} }\n",
       "\\def\\max#1{\\underset{#1} {\\operatorname{max}} }\n",
       "\\def\\min#1{\\underset{#1} {\\operatorname{min}} }\n",
       "%\n",
       "\\def\\pr#1{\\mathcal{p}(#1)}\n",
       "\\def\\prc#1#2{\\mathcal{p}(#1 \\; | \\; #2)}\n",
       "\\def\\cnt#1{\\mathcal{count}_{#1}}\n",
       "\\def\\node#1{\\mathbb{#1}}\n",
       "%\n",
       "\\def\\loc#1{{\\text{##} {#1}}}\n",
       "%\n",
       "\\def\\OrderOf#1{\\mathcal{O}\\left( #1 \\right)}\n",
       "%\n",
       "% Expectation operator\n",
       "\\def\\Exp#1{\\underset{#1} {\\operatorname{\\mathbb{E}}} }\n",
       "%\n",
       "% VAE\n",
       "\\def\\prs#1#2{\\mathcal{p}_{#2}(#1)}\n",
       "\\def\\qr#1{\\mathcal{q}(#1)}\n",
       "\\def\\qrs#1#2{\\mathcal{q}_{#2}(#1)}\n",
       "%\n",
       "% Reinforcement learning\n",
       "\\newcommand{\\Actions}{{\\mathcal{A}}} \n",
       "\\newcommand{\\actseq}{A}\n",
       "\\newcommand{\\act}{a}\n",
       "\\newcommand{\\States}{{\\mathcal{S}}}   \n",
       "\\newcommand{\\stateseq}{S}  \n",
       "\\newcommand{\\state}{s}\n",
       "\\newcommand{\\Rewards}{{\\mathcal{R}}}\n",
       "\\newcommand{\\rewseq}{R}\n",
       "\\newcommand{\\rew}{r}\n",
       "\\newcommand{\\transp}{P}\n",
       "\\newcommand{\\statevalfun}{v}\n",
       "\\newcommand{\\actvalfun}{q}\n",
       "\\newcommand{\\disc}{\\gamma}\n",
       "%\n",
       "%\n",
       "\\newcommand{\\floor}[1]{\\left\\lfloor #1 \\right\\rfloor}\n",
       "\\newcommand{\\ceil}[1]{\\left\\lceil #1 \\right\\rceil}\n",
       "%\n",
       "%\n",
       "$$\n"
      ],
      "text/plain": [
       "<IPython.core.display.Latex object>"
      ]
     },
     "metadata": {},
     "output_type": "display_data"
    }
   ],
   "source": [
    "%run Latex_macros.ipynb\n",
    "%run beautify_plots.py"
   ]
  },
  {
   "cell_type": "code",
   "execution_count": 2,
   "metadata": {
    "slideshow": {
     "slide_type": "notes"
    }
   },
   "outputs": [],
   "source": [
    "# My standard magic !  You will see this in almost all my notebooks.\n",
    "\n",
    "from IPython.core.interactiveshell import InteractiveShell\n",
    "InteractiveShell.ast_node_interactivity = \"all\"\n",
    "\n",
    "# Reload all modules imported with %aimport\n",
    "%load_ext autoreload\n",
    "%autoreload 1\n",
    "\n",
    "%matplotlib inline"
   ]
  },
  {
   "cell_type": "code",
   "execution_count": 3,
   "metadata": {
    "slideshow": {
     "slide_type": "notes"
    }
   },
   "outputs": [],
   "source": [
    "from sklearn.decomposition import PCA\n",
    "\n",
    "import os \n",
    "\n",
    "import seaborn as sns; sns.set()\n",
    "\n",
    "import unsupervised_helper\n",
    "%aimport unsupervised_helper\n"
   ]
  },
  {
   "cell_type": "code",
   "execution_count": 4,
   "metadata": {
    "slideshow": {
     "slide_type": "notes"
    }
   },
   "outputs": [],
   "source": [
    "# Create files containing charts\n",
    "create = False\n",
    "\n",
    "if create:\n",
    "    vp = unsupervised_helper.VanderPlas(visible=False)\n",
    "    file_map = vp.create_charts()\n",
    "    print(file_map)"
   ]
  },
  {
   "cell_type": "markdown",
   "metadata": {
    "slideshow": {
     "slide_type": "slide"
    }
   },
   "source": [
    "# Unsupervised Learning\n",
    "\n",
    "We have thus far focused on *Supervised Learning* where we are given training set\n",
    "\n",
    "$$ \\langle \\X, \\y \\rangle= [ \\x^\\ip, \\y^\\ip | 1 \\le i \\le m ]$$\n",
    "\n",
    "and we wish to construct a function to map from arbitrary feature vectors $\\x$  of length $n$ to\n",
    "some target/label $\\y$."
   ]
  },
  {
   "cell_type": "markdown",
   "metadata": {
    "slideshow": {
     "slide_type": "slide"
    }
   },
   "source": [
    "We now switch to *Unsupervised Learning* where we are given\n",
    "\n",
    "$$ \\X = [ \\x^\\ip | 1 \\le i \\le m ]$$\n",
    "\n",
    "That is: feature vectors *without* associated target/labels.\n",
    "\n",
    "This may feel somewhat strange ? What can we do given only features ?"
   ]
  },
  {
   "cell_type": "markdown",
   "metadata": {
    "slideshow": {
     "slide_type": "slide"
    }
   },
   "source": [
    "Quite a bit ! Learning relationships *between* features enables us\n",
    "to\n",
    "\n",
    "- Make recommendations based on similarity to other examples\n",
    "- Enables us to visualize the data and discover relationships among examples\n",
    "- Filter out  \"noise\" or low information features\n",
    " \n"
   ]
  },
  {
   "cell_type": "markdown",
   "metadata": {
    "slideshow": {
     "slide_type": "subslide"
    }
   },
   "source": [
    "For example: from the perspective of some companies **you** are a feature vector !\n",
    "- Several thousand attributes that define your past behavior\n",
    "    - Purchases\n",
    "    - Books read, movies viewed (one feature per book/movie)\n",
    "    - Music, food preferences\n",
    "    - Activities, hobbies"
   ]
  },
  {
   "cell_type": "markdown",
   "metadata": {
    "slideshow": {
     "slide_type": "subslide"
    }
   },
   "source": [
    "- Sparse vector\n",
    "    - You've seen only a small fraction of the thousands of possible movies (one feature per movie)\n",
    "- \"You may also like\" recommendation\n",
    "    - The relationship between features among the training examples\n",
    "    - Supports an association between a subset of features that are defined for you\n",
    "    - And other features (movies/products) that are not yet defined for you"
   ]
  },
  {
   "cell_type": "markdown",
   "metadata": {
    "slideshow": {
     "slide_type": "slide"
    }
   },
   "source": [
    "# Dimensionality reduction\n",
    "\n",
    "Discovering the relationship among features can facilitate\n",
    "a more compact representation of feature vectors.\n",
    "\n",
    "Let\n",
    "$$\n",
    "\\X_j = [ \\x^\\ip_j \\, | \\, 1 \\le i \\le m ] \\, \\text{ for } 1 \\le j \\le n\n",
    "$$\n",
    "\n",
    "(i.e., $\\X_j$ denotes a column of $\\X$; feature $j$ across all examples)\n",
    "\n",
    "denote the values of feature $j$ among the $m$ examples in the training set.\n",
    "- So $\\X_j$ is a vector of length $m$.\n",
    "\n",
    "Is it possible that many \n",
    "$(\\X_j, \\X_{j'})$\n",
    "pairs are highly correlated ($j' \\ne j$) ?"
   ]
  },
  {
   "cell_type": "markdown",
   "metadata": {
    "slideshow": {
     "slide_type": "subslide"
    }
   },
   "source": [
    "*Dimensionality reduction* is the process of representing a dataset \n",
    "- That has $n$ raw features\n",
    "- With $n' << n$ synthetic features\n",
    "- While retaining *most* of the information\n"
   ]
  },
  {
   "cell_type": "markdown",
   "metadata": {
    "slideshow": {
     "slide_type": "slide"
    }
   },
   "source": [
    "## Examples\n",
    "\n",
    "**Color 3D object to Black/white 2D still image**\n",
    "- Lose Depth, Color dimensions\n",
    "    - Spatial dimensions $(1000 \\times 1000 \\times 1000)$\n",
    "    - Color dimension: 3\n",
    "    - $n = 1000 * 1000 * 1000 * 3$\n",
    "    - $n' = 1000 * 1000 = \\frac{n}{1000 * 3}$\n",
    "\n",
    "For the purpose of recognizing the object, little information is lost"
   ]
  },
  {
   "cell_type": "markdown",
   "metadata": {
    "slideshow": {
     "slide_type": "slide"
    }
   },
   "source": [
    "**Equity time series**\n",
    "\n",
    "Consider an equity  index  (e.g., the S&P 500) of $n = 500$ stocks\n",
    "- An example $\\x^\\ip$ is a vector of daily returns of length $n = 500$\n",
    "    - Row $i$ of $\\X$ corresponds to one day of returns, across all $n$ stocks\n",
    "- $\\x^\\ip_j$ is the daily return of stock  $j$ on day $i$\n",
    "- $\\X_j$ is the *timeseries* of daily returns of stock $j$\n",
    "- $\\X_j, \\X_{j'}, j \\ne j'$ can be correlated\n",
    "    - All stocks in the \"market\" tend to move up/down together\n",
    "    - Daily returns of stocks with similar characteristics tend to be more similar than for stocks with differing characteristics\n",
    "        - Industry, Size\n"
   ]
  },
  {
   "cell_type": "markdown",
   "metadata": {
    "slideshow": {
     "slide_type": "subslide"
    }
   },
   "source": [
    "One way to interpret the high mutual correlation among equity returns\n",
    "- There are *common influences (factors)* affecting many individual equities\n",
    "- Pair-wise correlation of equity returns (i.e., features) arises through influence of the shared factors"
   ]
  },
  {
   "cell_type": "markdown",
   "metadata": {
    "slideshow": {
     "slide_type": "subslide"
    }
   },
   "source": [
    "We can write this mathematically:\n",
    "\n",
    "Let $\\tilde\\X_\\text{index}$ be the time series of daily returns of a factor (\"the market\") that\n",
    "affects *all* equities\n",
    "\n",
    "$$\n",
    "\\begin{array}[lll]\\\\\n",
    "\\X_1 = \\beta_1 * \\tilde\\X_\\text{index} + \\epsilon_1 \\\\\n",
    "\\X_2 = \\beta_2 * \\tilde\\X_\\text{index} + \\epsilon_2 \\\\\n",
    "\\vdots \\\\\n",
    "\\X_{500} = \\beta_{500} * \\tilde\\X_\\text{index} + \\epsilon_{500} \\\\\n",
    "\\end{array}\n",
    "$$\n",
    "\n",
    "The return  timeseries $\\X_j$ of each stock $j$ in the index is decomposed into\n",
    "- The return timeseries associated with factor  $\\tilde\\X_\\text{index}: \\beta_j * \\tilde\\X_\\text{index}$\n",
    "- A return timeseries $\\epsilon_j$ that is stock-specific \n",
    "- the return of $j$ at time $i$ is\n",
    "$$\n",
    "\\x^\\ip_j = \\beta_j * \\x^\\ip_\\text{index} + \\epsilon^\\ip_j\n",
    "$$"
   ]
  },
  {
   "cell_type": "markdown",
   "metadata": {
    "slideshow": {
     "slide_type": "subslide"
    }
   },
   "source": [
    "Note that we have actually *increased* the number of features \n",
    "- From $n$\n",
    "    - $\\x_j$ for $1 \\le j \\le n$\n",
    "- To $(n+1)$\n",
    "    - $\\tilde{\\x}_\\text{index}$\n",
    "    - $\\epsilon_j$ for $1 \\le j \\le n$\n",
    "    "
   ]
  },
  {
   "cell_type": "markdown",
   "metadata": {
    "slideshow": {
     "slide_type": "subslide"
    }
   },
   "source": [
    "But, by adding another factor\n",
    "- e.g., a \"size\" factor\n",
    "- similar to $\\tilde{\\X}_\\text{index}$ in that it influences all equities\n",
    "\n",
    "$$\n",
    "\\begin{array}[lll]\\\\\n",
    "\\X_1 = \\beta_{1, \\text{idx}}* \\tilde\\X_\\text{index} + \\beta_{1, \\text{size}}* \\tilde\\X_\\text{size} + \\epsilon'_1 \\\\\n",
    "\\X_2 = \\beta_{2, \\text{idx}} * \\tilde\\X_\\text{index} +  \\beta_{2, \\text{size}}* \\tilde\\X_\\text{size} +\\epsilon'_2 \\\\\n",
    "\\vdots \\\\\n",
    "\\X_{500} = \\beta_{500, \\text{idx}} * \\tilde\\X_\\text{index} + \\beta_{500, \\text{size}}* \\tilde\\X_\\text{size} ++ \\epsilon'_{500} \\\\\n",
    "\\end{array}\n",
    "$$\n",
    "\n",
    "the magnitude of the stock-specific $\\epsilon'_j$ *decreases* compared to the original $\\epsilon_j$\n",
    "- some of the return previously attributed to $\\epsilon_j$\n",
    "- has been explained by $\\beta_{j,\\text{size}} * \\X_\\text{size}$"
   ]
  },
  {
   "cell_type": "markdown",
   "metadata": {
    "slideshow": {
     "slide_type": "subslide"
    }
   },
   "source": [
    "As we add even more factors\n",
    "- some may be specific to *sub-sets* of the universe\n",
    "    - e.g., industry factors\n",
    "- the stock-specific $\\epsilon$ series approaches $0$\n",
    "\n",
    "Once this occurs\n",
    "- we can drop the $\\epsilon$\n",
    "- and have a model with many fewer factors than $n$\n",
    "\n",
    "We thus obtain an approximation of\n",
    "- the effect of $n = 500$ features\n",
    "- with $n \\gg n'$"
   ]
  },
  {
   "cell_type": "markdown",
   "metadata": {
    "slideshow": {
     "slide_type": "slide"
    }
   },
   "source": [
    "**Representing MNIST digits with 20% of the information**\n",
    "\n",
    "We will subsequently show how to represent the MNIST digits ($n=784$) with vectors of length $n' \\approx 150$\n",
    "\n",
    "Here's what happens when\n",
    "- We encode the digits with vectors of length $n'$\n",
    "- Perform the inverse mapping back to vectors of length $n$ so we can display as a $(28 \\times 28)$ image\n"
   ]
  },
  {
   "cell_type": "markdown",
   "metadata": {
    "slideshow": {
     "slide_type": "subslide"
    }
   },
   "source": [
    "<table>\n",
    "    <tr>\n",
    "        <center><strong>PCA: reconstructed MNIST digits (95% variance)</strong></center>\n",
    "    </tr>\n",
    "<img src=images/mnist_pca_95pct.jpg>\n",
    "</table>"
   ]
  },
  {
   "cell_type": "markdown",
   "metadata": {
    "slideshow": {
     "slide_type": "subslide"
    }
   },
   "source": [
    "The reconstructed images are a little blurry (compared to the originals) but still very recognizable.\n",
    "\n",
    "So it *is possible* to represent the information of the raw $784$ features with only 20% ($\\approx 150$)\n",
    "as many synthetic features.\n",
    "\n",
    "In other words: 80% of the pixels may be somewhat redundant.\n"
   ]
  },
  {
   "cell_type": "markdown",
   "metadata": {
    "slideshow": {
     "slide_type": "subslide"
    }
   },
   "source": [
    "Where are the correlated features in images of digits?\n",
    "\n",
    "Consider the examples consisting of the $(28 \\times 28)$ pixel grids representing the MNIST digit dataset.\n",
    "\n",
    "Here are some cases to consider:\n",
    "\n",
    "Let $j, j'$ be indices of two pixels in one of the 4 corners of the $(28 \\times 28)$ grid\n",
    "- Most pixels in the corners are the same (background) colors so the correlation of $\\x_j$ and $\\x_{j'}$ is high\n",
    "\n",
    "Let $j, j'$ be indices of two pixels that lie in a vertical line in the center of the $(28 \\times 28)$ grid\n",
    "- They will be somewhat correlated because they have the same value in 10% of the images\n",
    "    - Corresponding to images of digit \"1\""
   ]
  },
  {
   "cell_type": "markdown",
   "metadata": {
    "slideshow": {
     "slide_type": "slide"
    }
   },
   "source": [
    "# Uses of dimensionality reduction\n",
    "\n",
    "## Feature Engineering\n",
    "\n",
    "If $n$ is large and many features are mutually correlated\n",
    "- A reduced number $n' << n$ of synthetic features\n",
    "- Obtained by dimensionality reduction techniques\n",
    "- May result in better models\n",
    "    - Some models, like Linear Regression, may be sensitive to correlated features (collinearity)"
   ]
  },
  {
   "cell_type": "markdown",
   "metadata": {
    "slideshow": {
     "slide_type": "slide"
    }
   },
   "source": [
    "## Clustering\n",
    "\n",
    "Dimensionality reduction can facilitate an understanding of the structure of examples.\n",
    "\n",
    "Consider: Are the $m$ examples in the training set \n",
    "- Uniformly distributed across the $n$ dimensional space ?\n",
    "- Do they form *clusters* of examples with similar feature vectors ?"
   ]
  },
  {
   "cell_type": "markdown",
   "metadata": {
    "slideshow": {
     "slide_type": "slide"
    }
   },
   "source": [
    "Unfortunately: it's hard to visualize $n$ dimensions when $n$ is large.\n",
    "- By reducing the number of dimensions\n",
    "- We may be able to visualize related examples\n",
    "- In such a way that the reduced dimension examples don't lose too much information"
   ]
  },
  {
   "cell_type": "markdown",
   "metadata": {
    "slideshow": {
     "slide_type": "subslide"
    }
   },
   "source": [
    "Let's illustrate with a limited subset of the smaller $(8 \\times 8)$ digits.\n"
   ]
  },
  {
   "cell_type": "markdown",
   "metadata": {
    "slideshow": {
     "slide_type": "subslide"
    }
   },
   "source": [
    "<table>\n",
    "    <tr>\n",
    "        <center>8 x 8 digits, subset</center>\n",
    "    </tr>\n",
    "<img src=images/digits_subset.png>\n",
    "</table>"
   ]
  },
  {
   "cell_type": "markdown",
   "metadata": {
    "slideshow": {
     "slide_type": "subslide"
    }
   },
   "source": [
    "It would be difficult to visualize an example in $n= (8 * 8) = 64$ dimensional space.\n",
    "\n",
    "By transforming each example to a smaller number ($n'=2$) of synthetic features we *can* visualize\n",
    "- Each example as a point in two dimensional space\n"
   ]
  },
  {
   "cell_type": "markdown",
   "metadata": {
    "slideshow": {
     "slide_type": "subslide"
    }
   },
   "source": [
    "<table>\n",
    "    <tr>\n",
    "        <center>8 x 8 digits, subset clusters</center>\n",
    "    </tr>\n",
    "<img src=images/digits_subset_cluster.png\">\n",
    "</table>"
   ]
  },
  {
   "cell_type": "markdown",
   "metadata": {
    "slideshow": {
     "slide_type": "subslide"
    }
   },
   "source": [
    "You can see that our $m \\approx 700$ examples form 4 distinct clusters.\n",
    "- The clusters were formed\n",
    "    - Based solely on features\n",
    " \n",
    "It turns out that the clusters correspond to examples mostly representing a single digit.\n",
    "- The clusters organized themselves based on similarity of features\n",
    "- This is unsupervised ! No targets were used in forming the clusters!\n",
    "- We use the hidden target merely to color the point, not to form the clusters\n",
    "\n"
   ]
  },
  {
   "cell_type": "markdown",
   "metadata": {
    "slideshow": {
     "slide_type": "subslide"
    }
   },
   "source": [
    "This hints that dimensionality reduction may be useful for *supervised* learning as well\n",
    "- Use commonality of features to reduce dimension\n",
    "- Reduced dimensions more independent\n",
    "    - Better mathematically properties (reduced collinearity)\n",
    "    - More interpretable\n",
    "- Under assumption that\n",
    "    - Examples with similar features (i.e., in same cluster) have similar targets"
   ]
  },
  {
   "cell_type": "markdown",
   "metadata": {
    "slideshow": {
     "slide_type": "slide"
    }
   },
   "source": [
    "## Noise reduction \n",
    "\n",
    "Consider \n",
    "- The MNIST example, where we reduced $n$ by 80% without losing visual information.\n",
    "- The equity return example, where the stock specific return $\\epsilon_j$ became increasingly small\n",
    "\n",
    "Both examples suggest that there are many features \n",
    "- With small significance\n",
    "- Or that represent \"noise\"\n",
    "In the latter case, dropping features actually improves data quality by eliminating irrelevant feature.s"
   ]
  },
  {
   "cell_type": "code",
   "execution_count": 5,
   "metadata": {
    "slideshow": {
     "slide_type": "slide"
    }
   },
   "outputs": [
    {
     "name": "stdout",
     "output_type": "stream",
     "text": [
      "Done\n"
     ]
    }
   ],
   "source": [
    "print(\"Done\")"
   ]
  }
 ],
 "metadata": {
  "celltoolbar": "Slideshow",
  "kernelspec": {
   "display_name": "Python 3",
   "language": "python",
   "name": "python3"
  },
  "language_info": {
   "codemirror_mode": {
    "name": "ipython",
    "version": 3
   },
   "file_extension": ".py",
   "mimetype": "text/x-python",
   "name": "python",
   "nbconvert_exporter": "python",
   "pygments_lexer": "ipython3",
   "version": "3.7.4"
  },
  "toc": {
   "base_numbering": 1,
   "nav_menu": {},
   "number_sections": true,
   "sideBar": true,
   "skip_h1_title": false,
   "title_cell": "Table of Contents",
   "title_sidebar": "Contents",
   "toc_cell": false,
   "toc_position": {},
   "toc_section_display": true,
   "toc_window_display": false
  }
 },
 "nbformat": 4,
 "nbformat_minor": 2
}
