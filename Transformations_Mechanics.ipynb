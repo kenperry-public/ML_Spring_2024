{
 "cells": [
  {
   "cell_type": "code",
   "execution_count": 1,
   "metadata": {
    "slideshow": {
     "slide_type": "notes"
    }
   },
   "outputs": [
    {
     "data": {
      "text/latex": [
       "$$\n",
       "\\newcommand{\\x}{\\mathbf{x}}\n",
       "\\newcommand{\\tx}{\\tilde{\\x}}\n",
       "\\newcommand{\\y}{\\mathbf{y}}\n",
       "\\newcommand{\\b}{\\mathbf{b}}\n",
       "\\newcommand{\\c}{\\mathbf{c}}\n",
       "\\newcommand{\\e}{\\mathbf{e}}\n",
       "\\newcommand{\\z}{\\mathbf{z}}\n",
       "\\newcommand{\\h}{\\mathbf{h}}\n",
       "\\newcommand{\\u}{\\mathbf{u}}\n",
       "\\newcommand{\\v}{\\mathbf{v}}\n",
       "\\newcommand{\\w}{\\mathbf{w}}\n",
       "\\newcommand{\\W}{\\mathbf{W}}\n",
       "\\newcommand{\\X}{\\mathbf{X}}\n",
       "\\newcommand{\\KL}{\\mathbf{KL}}\n",
       "\\newcommand{\\E}{{\\mathbb{E}}}\n",
       "\\newcommand{\\ip}{\\mathbf{{(i)}}}\n",
       "%\n",
       "% Test set\n",
       "\\newcommand{\\xt}{\\underline{\\x}}\n",
       "\\newcommand{\\yt}{\\underline{\\y}}\n",
       "\\newcommand{\\Xt}{\\underline{\\X}}\n",
       "\\newcommand{\\perfm}{\\mathcal{P}}\n",
       "%\n",
       "% \\ll indexes a layer; we can change the actual letter\n",
       "\\newcommand{\\ll}{l}\n",
       "\\newcommand{\\llp}{{(\\ll)}}\n",
       "%\n",
       "\\newcommand{Thetam}{\\Theta_{-0}}\n",
       "\n",
       "% CNN\n",
       "\\newcommand{\\kernel}{\\mathbf{k}} \n",
       "\\newcommand{\\dim}{d}\n",
       "\\newcommand{\\idxspatial}{{\\text{idx}}}\n",
       "\\newcommand{\\summaxact}{\\text{max}}\n",
       "%\n",
       "%\n",
       "\n",
       "% RNN\n",
       "% \\tt indexes a time step\n",
       "\\newcommand{\\tt}{t}\n",
       "\\newcommand{\\tp}{{(\\tt)}}\n",
       "%\n",
       "%\n",
       "\n",
       "% LSTM\n",
       "\\newcommand{\\g}{\\mathbf{g}}\n",
       "\\newcommand{\\remember}{\\mathbf{remember}}\n",
       "\\newcommand{\\save}{\\mathbf{save}}\n",
       "\\newcommand{\\focus}{\\mathbf{focus}}\n",
       "%\n",
       "%\n",
       "% NLP\n",
       "\\newcommand{\\Vocab}{\\mathbf{V}}\n",
       "\\newcommand{\\v}{\\mathbf{v}}\n",
       "\\newcommand{\\offset}{o}\n",
       "\\newcommand{\\o}{o}\n",
       "\\newcommand{\\E}{\\mathbf{E}}\n",
       "%\n",
       "%\n",
       "\\newcommand{\\loss}{\\mathcal{L}}\n",
       "\\newcommand{\\cost}{\\mathcal{L}}\n",
       "%\n",
       "%                     \n",
       "\\newcommand{\\pdata}{p_\\text{data}}\n",
       "\\newcommand{\\pmodel}{p_\\text{model}}\n",
       "%\n",
       "% SVM\n",
       "\\newcommand{\\margin}{{\\mathbb{m}}}\n",
       "\\newcommand{\\lmk}{\\boldsymbol{\\ell}}\n",
       "%\n",
       "% Functions with arguments\n",
       "\\def\\xsy#1#2{#1^#2}\n",
       "\\def\\rand#1{\\tilde{#1}}\n",
       "\\def\\randx{\\rand{\\x}}\n",
       "\\def\\randy{\\rand{\\y}}\n",
       "\\def\\trans#1{\\dot{#1}}\n",
       "\\def\\transx{\\trans{\\x}}\n",
       "\\def\\transy{\\trans{\\y}}\n",
       "%\n",
       "\\def\\argmax#1{\\underset{#1} {\\operatorname{argmax}} }\n",
       "\\def\\argmin#1{\\underset{#1} {\\operatorname{argmin}} }\n",
       "\\def\\max#1{\\underset{#1} {\\operatorname{max}} }\n",
       "\\def\\min#1{\\underset{#1} {\\operatorname{min}} }\n",
       "%\n",
       "\\def\\pr#1{\\mathcal{p}(#1)}\n",
       "\\def\\prc#1#2{\\mathcal{p}(#1 \\; | \\; #2)}\n",
       "\\def\\cnt#1{\\mathcal{count}_{#1}}\n",
       "\\def\\node#1{\\mathbb{#1}}\n",
       "%\n",
       "\\newcommand{\\floor}[1]{\\left\\lfloor #1 \\right\\rfloor}\n",
       "\\newcommand{\\ceil}[1]{\\left\\lceil #1 \\right\\rceil}\n",
       "%\n",
       "\\def\\loc#1{{\\text{##} {#1}}}\n",
       "%\n",
       "$$\n"
      ],
      "text/plain": [
       "<IPython.core.display.Latex object>"
      ]
     },
     "metadata": {},
     "output_type": "display_data"
    }
   ],
   "source": [
    "%run Latex_macros.ipynb"
   ]
  },
  {
   "cell_type": "code",
   "execution_count": 2,
   "metadata": {
    "slideshow": {
     "slide_type": "notes"
    }
   },
   "outputs": [],
   "source": [
    "# My standard magic !  You will see this in almost all my notebooks.\n",
    "\n",
    "from IPython.core.interactiveshell import InteractiveShell\n",
    "InteractiveShell.ast_node_interactivity = \"all\"\n",
    "\n",
    "# Reload all modules imported with %aimport\n",
    "%load_ext autoreload\n",
    "%autoreload 1\n",
    "\n",
    "%matplotlib inline"
   ]
  },
  {
   "cell_type": "markdown",
   "metadata": {
    "slideshow": {
     "slide_type": "slide"
    }
   },
   "source": [
    "# The mechanics of transformations\n",
    "\n",
    "We briefly introduced transformations in [the overview of the Prepare the data step of the Recipe for ML](Prepare_data_Overview.ipynb).\n",
    "\n",
    "We recap the key points:"
   ]
  },
  {
   "cell_type": "markdown",
   "metadata": {
    "slideshow": {
     "slide_type": "slide"
    }
   },
   "source": [
    "## Fitting transformations\n",
    "\n",
    "Feature engineering, or transformations\n",
    "- takes an example: vector $\\x^\\ip$ with $n$ features\n",
    "- produces a new vector $\\tilde\\x^\\ip$, with $n'$ features\n",
    "\n",
    "We ultimately fit the model with the transformed *training* examples.\n"
   ]
  },
  {
   "cell_type": "markdown",
   "metadata": {
    "slideshow": {
     "slide_type": "subslide"
    }
   },
   "source": [
    "<table>\n",
    "    <tr>\n",
    "        <th><center>Feature Engineering</center></th>\n",
    "    </tr>\n",
    "    <tr>\n",
    "        <td><img src=\"images/W3_L1_S3_Feature_engineering.png\"</td>\n",
    "    </tr>\n",
    "</table>\n",
    "​"
   ]
  },
  {
   "cell_type": "markdown",
   "metadata": {
    "slideshow": {
     "slide_type": "subslide"
    }
   },
   "source": [
    "Transformations have parameters $\\Theta_\\text{transform}$ distinct from the model's parameters $\\Theta$.\n",
    "- Example: Missing data imputation for a feature substitutes the mean/median feature value\n",
    "- $\\Theta_\\text{transform}$ stores this value\n"
   ]
  },
  {
   "cell_type": "markdown",
   "metadata": {
    "slideshow": {
     "slide_type": "subslide"
    }
   },
   "source": [
    "Our prediction is thus\n",
    "$$\n",
    "\\begin{array}\\\\\n",
    "\\hat{\\y} & = & h_\\Theta (\\tilde{\\x}) \\\\\n",
    "& = &h_\\Theta( \\, T_{\\Theta_\\text{transform}}(\\x) \\,)\n",
    "\\end{array}\n",
    "$$"
   ]
  },
  {
   "cell_type": "markdown",
   "metadata": {
    "slideshow": {
     "slide_type": "subslide"
    }
   },
   "source": [
    "Transformations can be applied to the target as well.  For example\n",
    "- One Hot Encoding a categorical target for a Classification task\n",
    "- Scaling the target (e.g., pixel intensities from a range $[0 \\ldots 255]$ to a range $[-1 \\ldots +1 ]$)\n",
    "\n",
    "If we transform the target $\\y$ into new units, the predicted $\\hat{\\y}$ will also be in the new units\n",
    "- If we want to report our prediction in original units\n",
    "- We must be able to invert the transformation"
   ]
  },
  {
   "cell_type": "markdown",
   "metadata": {
    "slideshow": {
     "slide_type": "subslide"
    }
   },
   "source": [
    "For example:\n",
    "- Logistic Regression transforms the target into Log Odds\n",
    "- We want to report our prediction in terms of one class of the Categorical variable"
   ]
  },
  {
   "cell_type": "markdown",
   "metadata": {
    "slideshow": {
     "slide_type": "slide"
    }
   },
   "source": [
    "# Apply transformations consistently\n",
    "\n",
    "Suppose you transform your raw training set \n",
    "$$\\langle \\X, \\y \\rangle$$\n",
    "\n",
    "to \n",
    "$$\\langle \\X', \\y' \\rangle$$\n",
    "\n",
    "In order to satisfy the Fundamental Assumption of Machine Learning\n",
    "- you must apply the **identical** transformation to\n",
    "- validation examples\n",
    "- test examples\n"
   ]
  },
  {
   "cell_type": "markdown",
   "metadata": {
    "slideshow": {
     "slide_type": "subslide"
    }
   },
   "source": [
    "By wrapping up all your transformations in an `sklean Pipeline`\n",
    "- you can ensure that your transformations are applied consistently to each example\n",
    "- regardless of its source"
   ]
  },
  {
   "cell_type": "markdown",
   "metadata": {
    "slideshow": {
     "slide_type": "subslide"
    }
   },
   "source": [
    "But remember\n",
    "- the transformation parameters $\\Theta_\\text{transform}$\n",
    "- are fit to the **training examples** only\n",
    "- never re-fit to test examples\n",
    "\n",
    "One simple way to remember this\n",
    "- assume you can look at your test examples only **one at a time** rather than as a collection\n",
    "- it doesn't make sense to \"fit\" a transformation on a singleton"
   ]
  },
  {
   "cell_type": "markdown",
   "metadata": {
    "slideshow": {
     "slide_type": "subslide"
    }
   },
   "source": [
    "# Transformed targets: remember to invert your prediction !\n",
    "\n",
    "Suppose you transform your raw training set \n",
    "$$\\langle \\X, \\y \\rangle$$\n",
    "\n",
    "to \n",
    "$$\\langle \\X', \\y' \\rangle$$\n",
    "\n",
    "where $f$ is the transformation applied to targets\n",
    "$$\n",
    "\\y' = f(\\y)\n",
    "$$\n",
    "\n",
    "The units of $\\y$ change from $u$ (e.g., dollars) to $u'$ (e.g., dimensionless z-score)"
   ]
  },
  {
   "cell_type": "markdown",
   "metadata": {
    "slideshow": {
     "slide_type": "subslide"
    }
   },
   "source": [
    "Then your model's predictions\n",
    "$$\n",
    "\\hat{\\y}'\n",
    "$$\n",
    "are in units of $u'$ **not** $u$.\n",
    "\n",
    "You must **invert** the transformed predicted target $\\hat{\\y}'$ back to units of $u$\n",
    "$$\n",
    "\\hat{\\y} = f^{-1} ( \\hat{\\y}' )\n",
    "$$\n",
    "\n",
    "For example\n",
    "$$\n",
    "\\y \\mapsto \\frac{\\y - \\mu}{\\sigma}\n",
    "$$\n",
    "where $\\mu, \\sigma$ are the mean and standard deviation of the *training* examples $\\y$\n",
    "\n",
    "Then\n",
    "$$\n",
    "\\hat{\\y}' \\mapsto \\sigma * \\hat{\\y}' + \\mu\n",
    "$$\n",
    "\n",
    "`sklearn` transformers provide an `inverse_transform` method to facilitate this."
   ]
  },
  {
   "cell_type": "markdown",
   "metadata": {
    "slideshow": {
     "slide_type": "subslide"
    }
   },
   "source": [
    "## Transformers in `sklearn`\n",
    "\n",
    "A transformer in `sklearn` provides the following methods\n",
    "- `fit`: using training examples, compute $\\Theta_\\text{transform}$\n",
    "- `transform`: map an example $[\\x^\\ip, \\y^\\ip]$ into transformed example $[ \\tilde{\\x}^\\ip, \\tilde{\\y}^\\ip ]$\n",
    "- `inverse_transform`: map a transformed example $[ \\tilde{\\x}^\\ip, \\tilde{\\y}^\\ip ]$ back to its source  example $[\\x^\\ip, \\y^\\ip]$"
   ]
  },
  {
   "cell_type": "code",
   "execution_count": 3,
   "metadata": {
    "slideshow": {
     "slide_type": "slide"
    }
   },
   "outputs": [
    {
     "name": "stdout",
     "output_type": "stream",
     "text": [
      "Done\n"
     ]
    }
   ],
   "source": [
    "print(\"Done\")"
   ]
  }
 ],
 "metadata": {
  "celltoolbar": "Slideshow",
  "kernelspec": {
   "display_name": "Python 3",
   "language": "python",
   "name": "python3"
  },
  "language_info": {
   "codemirror_mode": {
    "name": "ipython",
    "version": 3
   },
   "file_extension": ".py",
   "mimetype": "text/x-python",
   "name": "python",
   "nbconvert_exporter": "python",
   "pygments_lexer": "ipython3",
   "version": "3.7.4"
  },
  "toc": {
   "base_numbering": 1,
   "nav_menu": {},
   "number_sections": true,
   "sideBar": true,
   "skip_h1_title": false,
   "title_cell": "Table of Contents",
   "title_sidebar": "Contents",
   "toc_cell": false,
   "toc_position": {},
   "toc_section_display": true,
   "toc_window_display": false
  }
 },
 "nbformat": 4,
 "nbformat_minor": 2
}
