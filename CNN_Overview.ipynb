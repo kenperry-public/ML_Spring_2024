{
 "cells": [
  {
   "cell_type": "code",
   "execution_count": 2,
   "metadata": {
    "slideshow": {
     "slide_type": "notes"
    }
   },
   "outputs": [
    {
     "data": {
      "text/latex": [
       "$$\n",
       "\\newcommand{\\x}{\\mathbf{x}}\n",
       "\\newcommand{\\tx}{\\tilde{\\x}}\n",
       "\\newcommand{\\y}{\\mathbf{y}}\n",
       "\\newcommand{\\b}{\\mathbf{b}}\n",
       "\\newcommand{\\c}{\\mathbf{c}}\n",
       "\\newcommand{\\e}{\\mathbf{e}}\n",
       "\\newcommand{\\z}{\\mathbf{z}}\n",
       "\\newcommand{\\h}{\\mathbf{h}}\n",
       "\\newcommand{\\u}{\\mathbf{u}}\n",
       "\\newcommand{\\v}{\\mathbf{v}}\n",
       "\\newcommand{\\w}{\\mathbf{w}}\n",
       "\\newcommand{\\V}{\\mathbf{V}}\n",
       "\\newcommand{\\W}{\\mathbf{W}}\n",
       "\\newcommand{\\X}{\\mathbf{X}}\n",
       "\\newcommand{\\KL}{\\mathbf{KL}}\n",
       "\\newcommand{\\E}{{\\mathbb{E}}}\n",
       "\\newcommand{\\Reals}{{\\mathbb{R}}}\n",
       "\\newcommand{\\ip}{\\mathbf{{(i)}}}\n",
       "%\n",
       "% Test set\n",
       "\\newcommand{\\xt}{\\underline{\\x}}\n",
       "\\newcommand{\\yt}{\\underline{\\y}}\n",
       "\\newcommand{\\Xt}{\\underline{\\X}}\n",
       "\\newcommand{\\perfm}{\\mathcal{P}}\n",
       "%\n",
       "% \\ll indexes a layer; we can change the actual letter\n",
       "\\newcommand{\\ll}{l}\n",
       "\\newcommand{\\llp}{{(\\ll)}}\n",
       "%\n",
       "\\newcommand{Thetam}{\\Theta_{-0}}\n",
       "\n",
       "% CNN\n",
       "\\newcommand{\\kernel}{\\mathbf{k}} \n",
       "\\newcommand{\\dim}{d}\n",
       "\\newcommand{\\idxspatial}{{\\text{idx}}}\n",
       "\\newcommand{\\summaxact}{\\text{max}}\n",
       "\\newcommand{idxb}{\\mathbf{i}}\n",
       "%\n",
       "%\n",
       "\n",
       "% RNN\n",
       "% \\tt indexes a time step\n",
       "\\newcommand{\\tt}{t}\n",
       "\\newcommand{\\tp}{{(\\tt)}}\n",
       "%\n",
       "%\n",
       "\n",
       "% LSTM\n",
       "\\newcommand{\\g}{\\mathbf{g}}\n",
       "\\newcommand{\\remember}{\\mathbf{remember}}\n",
       "\\newcommand{\\save}{\\mathbf{save}}\n",
       "\\newcommand{\\focus}{\\mathbf{focus}}\n",
       "%\n",
       "%\n",
       "% NLP\n",
       "\\newcommand{\\Vocab}{\\mathbf{V}}\n",
       "\\newcommand{\\v}{\\mathbf{v}}\n",
       "\\newcommand{\\offset}{o}\n",
       "\\newcommand{\\o}{o}\n",
       "\\newcommand{\\Emb}{\\mathbf{E}}\n",
       "%\n",
       "%\n",
       "\\newcommand{\\loss}{\\mathcal{L}}\n",
       "\\newcommand{\\cost}{\\mathcal{L}}\n",
       "%\n",
       "%                     \n",
       "\\newcommand{\\pdata}{p_\\text{data}}\n",
       "\\newcommand{\\pmodel}{p_\\text{model}}\n",
       "%\n",
       "% SVM\n",
       "\\newcommand{\\margin}{{\\mathbb{m}}}\n",
       "\\newcommand{\\lmk}{\\boldsymbol{\\ell}}\n",
       "%\n",
       "%\n",
       "% Functions with arguments\n",
       "\\def\\xsy#1#2{#1^#2}\n",
       "\\def\\rand#1{\\tilde{#1}}\n",
       "\\def\\randx{\\rand{\\x}}\n",
       "\\def\\randy{\\rand{\\y}}\n",
       "\\def\\trans#1{\\dot{#1}}\n",
       "\\def\\transx{\\trans{\\x}}\n",
       "\\def\\transy{\\trans{\\y}}\n",
       "%\n",
       "\\def\\argmax#1{\\underset{#1} {\\operatorname{argmax}} }\n",
       "\\def\\argmin#1{\\underset{#1} {\\operatorname{argmin}} }\n",
       "\\def\\max#1{\\underset{#1} {\\operatorname{max}} }\n",
       "\\def\\min#1{\\underset{#1} {\\operatorname{min}} }\n",
       "%\n",
       "\\def\\pr#1{\\mathcal{p}(#1)}\n",
       "\\def\\prc#1#2{\\mathcal{p}(#1 \\; | \\; #2)}\n",
       "\\def\\cnt#1{\\mathcal{count}_{#1}}\n",
       "\\def\\node#1{\\mathbb{#1}}\n",
       "%\n",
       "\\def\\loc#1{{\\text{##} {#1}}}\n",
       "%\n",
       "\\def\\OrderOf#1{\\mathcal{O}\\left( #1 \\right)}\n",
       "%\n",
       "% Expectation operator\n",
       "\\def\\Exp#1{\\underset{#1} {\\operatorname{\\mathbb{E}}} }\n",
       "%\n",
       "% VAE\n",
       "\\def\\prs#1#2{\\mathcal{p}_{#2}(#1)}\n",
       "\\def\\qr#1{\\mathcal{q}(#1)}\n",
       "\\def\\qrs#1#2{\\mathcal{q}_{#2}(#1)}\n",
       "%\n",
       "% Reinforcement learning\n",
       "\\newcommand{\\Actions}{{\\mathcal{A}}} \n",
       "\\newcommand{\\actseq}{A}\n",
       "\\newcommand{\\act}{a}\n",
       "\\newcommand{\\States}{{\\mathcal{S}}}   \n",
       "\\newcommand{\\stateseq}{S}  \n",
       "\\newcommand{\\state}{s}\n",
       "\\newcommand{\\Rewards}{{\\mathcal{R}}}\n",
       "\\newcommand{\\rewseq}{R}\n",
       "\\newcommand{\\rew}{r}\n",
       "\\newcommand{\\transp}{P}\n",
       "\\newcommand{\\statevalfun}{v}\n",
       "\\newcommand{\\actvalfun}{q}\n",
       "\\newcommand{\\disc}{\\gamma}\n",
       "%\n",
       "%\n",
       "\\newcommand{\\floor}[1]{\\left\\lfloor #1 \\right\\rfloor}\n",
       "\\newcommand{\\ceil}[1]{\\left\\lceil #1 \\right\\rceil}\n",
       "%\n",
       "%\n",
       "$$\n"
      ],
      "text/plain": [
       "<IPython.core.display.Latex object>"
      ]
     },
     "metadata": {},
     "output_type": "display_data"
    }
   ],
   "source": [
    "%run Latex_macros.ipynb"
   ]
  },
  {
   "cell_type": "code",
   "execution_count": 2,
   "metadata": {
    "slideshow": {
     "slide_type": "notes"
    }
   },
   "outputs": [],
   "source": [
    "%run beautify_plots.py"
   ]
  },
  {
   "cell_type": "code",
   "execution_count": 3,
   "metadata": {
    "slideshow": {
     "slide_type": "notes"
    }
   },
   "outputs": [],
   "source": [
    "# My standard magic !  You will see this in almost all my notebooks.\n",
    "\n",
    "from IPython.core.interactiveshell import InteractiveShell\n",
    "InteractiveShell.ast_node_interactivity = \"all\"\n",
    "\n",
    "# Reload all modules imported with %aimport\n",
    "%load_ext autoreload\n",
    "%autoreload 1\n",
    "\n",
    "%matplotlib inline"
   ]
  },
  {
   "cell_type": "code",
   "execution_count": 4,
   "metadata": {
    "slideshow": {
     "slide_type": "notes"
    }
   },
   "outputs": [],
   "source": [
    "import pandas as pd\n",
    "import numpy as plt\n",
    "\n",
    "import matplotlib.pyplot as plt\n",
    "\n",
    "import os \n"
   ]
  },
  {
   "cell_type": "markdown",
   "metadata": {
    "slideshow": {
     "slide_type": "slide"
    }
   },
   "source": [
    "# Convolutional Neural Networks: in pictures\n",
    "\n",
    "It may be easier to grasp the workings of a CNN in pictures.\n",
    "\n",
    "We start with the simplest case of input $\\x$ and pattern $\\kernel$\n",
    "- one non-feature dimension: a 1D vector\n",
    "- one input feature\n",
    "- one output feature"
   ]
  },
  {
   "cell_type": "markdown",
   "metadata": {
    "slideshow": {
     "slide_type": "slide"
    }
   },
   "source": [
    "We work our way up to a more complicated case\n",
    "- two non-feature dimensions: 2D matrix\n",
    "- a number of input features\n",
    "- a number of output  features (possibly different from the input)\n",
    "\n",
    "The [notebook](CNN_pictorial.ipynb) illustrates the various possibilities.\n",
    "\n",
    "In the remainder of this notebook: we explain the pictures."
   ]
  },
  {
   "cell_type": "markdown",
   "metadata": {
    "slideshow": {
     "slide_type": "slide"
    }
   },
   "source": [
    "# Preliminaries\n",
    "\n",
    "# Behavior of a CNN layer\n",
    "\n",
    "Layer $\\ll$ in a Sequential NN transforms transforms input $\\y_{(\\ll-1)}$ to output $y_\\llp$\n",
    "- $\\y_\\llp$ is called a *feature map*, for all layers $\\ll$\n",
    "    - for each location in $\\y_{(\\ll-1)}$\n",
    "    - it measures the intensity of the pattern match when the pattern is centered at that location \n",
    "    \n",
    "So we write the input as $\\y_{(\\ll-1)}$ rather than the $\\x$ we had used previously."
   ]
  },
  {
   "cell_type": "markdown",
   "metadata": {
    "slideshow": {
     "slide_type": "slide"
    }
   },
   "source": [
    "The size of all quantities in the convolution can vary by layer\n",
    "- so we add a parenthesized subscript to indicate the layer\n",
    "\n",
    "We write\n",
    "- the kernel size as $f_\\llp$ (can vary by layer) rather than the $f$ used previously\n",
    "- the collection of kernels for layer $\\ll$ as $\\W_\\llp$"
   ]
  },
  {
   "cell_type": "markdown",
   "metadata": {
    "slideshow": {
     "slide_type": "subslide"
    }
   },
   "source": [
    "In general a layer $\\ll$ output $\\y_\\llp$ will have\n",
    "- $N_\\llp \\gt 0$ non-feature dimensions\n",
    "    - non-feature dimension $i$ has length (number of indices) $d_{\\llp,i}$  indices\n",
    "        - for dimensions $0 \\le i \\lt N_\\llp$\n",
    "    - the set of indexes in dimension $i$ is written as $D_i$\n",
    "        - usually equal to $0, \\ldots, d_{\\llp,i}$\n",
    "- one feature dimension"
   ]
  },
  {
   "cell_type": "markdown",
   "metadata": {
    "slideshow": {
     "slide_type": "subslide"
    }
   },
   "source": [
    "A CNN Layer $\\ll$\n",
    "- preserves the non-feature dimensions (when padding is used)\n",
    "$$\n",
    "\\begin{array} \\\\\n",
    "N_{(\\ll-1)} & = & N_\\llp \\\\\n",
    "d_{(\\ll-1),i} & = & d_{\\llp,i} & 0 \\le i \\lt N_{(\\ll-1)} \\\\\n",
    "\\end{array}\n",
    "$$\n",
    "- changes the length of the feature dimension\n",
    "    - from $n_{(\\ll-1)}$ to $n_\\llp$\n",
    "\n",
    "Thus the shape of the input $\\y_{(\\ll-1)}$ and $\\y_\\llp$ may only differ in the length of the feature dimension\n",
    "- provided padding is used\n",
    "    - in the absence of padding: $\\lfloor \\frac{f_\\llp}{2} \\rfloor$ locations are lost at each boundary\n",
    "\n",
    "Thus the CNN layer $\\ll$\n",
    "\n",
    "\\begin{array}\\\\\n",
    "|| \\y_{(\\ll-1)} || & = & (d_{(\\ll-1),0} \\times d_{(\\ll-1),1} \\times \\ldots d_{(\\ll-1), N_{(\\ll-1)}}, & \\mathbf{n_{(\\ll-1)}} ) \\\\\n",
    "|| \\y_\\llp || &  = & (d_{(\\ll-1),0} \\times d_{(\\ll-1),1} \\times \\ldots d_{(\\ll-1),N_{(\\ll-1)}},  &\\mathbf{n_\\llp} )\n",
    "\\end{array}\n",
    "$$\n",
    "because\n",
    "$$\n"
   ]
  },
  {
   "cell_type": "markdown",
   "metadata": {
    "slideshow": {
     "slide_type": "subslide"
    }
   },
   "source": [
    "We write \n",
    "$$\\y_{\\llp, \\idxb, j}$$ \n",
    "to denote feature $j$ of layer $\\ll$ at non-feature dimension location $\\idxb$"
   ]
  },
  {
   "cell_type": "markdown",
   "metadata": {
    "slideshow": {
     "slide_type": "slide"
    }
   },
   "source": [
    "## Channel Last/First\n",
    "\n",
    "We have adopted the convention of using the final dimension as the feature dimension.\n",
    "- This is called *channel last* notation.\n",
    "\n",
    "Alternatively: one could adopt a convention of the first channel being the feature dimension.\n",
    "- This is called *channel first* notation.\n",
    "\n",
    "When using a programming API: make sure you know which notation is the default\n",
    "- Channel last is the default for TensorFlow, but other toolkits may use channel first.\n"
   ]
  },
  {
   "cell_type": "markdown",
   "metadata": {
    "slideshow": {
     "slide_type": "subslide"
    }
   },
   "source": [
    "## Kernel, Filter\n",
    "\n",
    "There is one pattern per output feature.\n",
    "\n",
    "A pattern is also called a *kernel*.\n",
    "\n",
    "The kernels of layer $\\ll$ are just the weights of the layer.\n",
    "\n",
    "The vector $\\W_{\\llp,1}$ above\n",
    "\n",
    "So kernel  $j$ ($\\kernel_j$)is just an element $\\W_{\\llp,j}$ of the weights of layer $\\ll$.\n",
    "entered at  $\\y_{(\\ll-1),j,1}$"
   ]
  },
  {
   "cell_type": "markdown",
   "metadata": {
    "slideshow": {
     "slide_type": "subslide"
    }
   },
   "source": [
    "There is one kernel per output feature, so $n_\\llp$ kernels\n",
    "- $\\kernel_{\\llp,1}, \\ldots, \\kernel_{\\llp, n_\\llp}$\n",
    "\n",
    "The length of the feature dimension of a kernel matches it's input, i.e., $n_{(\\ll-1)}$\n",
    "\n",
    "The weight vector $\\W_\\llp$ therefore has multiple dimensions.  Our convention for each dimension is\n",
    "- $\\mathbf{W}_{\\llp, j', \\ldots,j}$\n",
    "    - layer $\\ll$\n",
    "    - output feature $j$\n",
    "    - spatial location: $\\ldots \\in \\{1,2,3\\}$\n",
    "    - input feature $j'$"
   ]
  },
  {
   "cell_type": "markdown",
   "metadata": {
    "slideshow": {
     "slide_type": "slide"
    }
   },
   "source": [
    "## Padding\n",
    "\n",
    "Convolution centers the pattern at each location of the non-feature dimensions of the input.\n",
    "\n",
    "But what happens when we try to center a patter over the first/last location ?\n",
    "- the pattern may extend beyond the boundaries of the input\n",
    "\n",
    "In such a case, we can choose to *pad* the input\n",
    "- create a special padding input at the locations of the input beyond the original boundary\n",
    "\n",
    "We will see this in pictures below."
   ]
  },
  {
   "cell_type": "markdown",
   "metadata": {
    "slideshow": {
     "slide_type": "slide"
    }
   },
   "source": [
    "## Activation of a CNN layer\n",
    "\n",
    "Just like the Fully Connected layer, a CNN layer is usually paired with an activation.\n",
    "\n",
    "The default activation $a_\\llp$ in Keras is \"linear\"\n",
    "- That is: it returns the dot product input unchanged\n",
    "- Always know what is the default activation for a layer; better yet: always specify !"
   ]
  },
  {
   "cell_type": "markdown",
   "metadata": {
    "slideshow": {
     "slide_type": "slide"
    }
   },
   "source": [
    "# Conv 1D: single feature to single feature\n",
    "\n",
    "Convolutions pictured: sliding a pattern over the input\n",
    "\n",
    "A *Convolution* is often depicted as\n",
    "- A filter/kernel\n",
    "- That is slid over each location in the non-feature dimensions of the input\n",
    "- Producing a corresponding output for that location\n",
    "\n",
    "Here's a picture with a kernel of size $f_\\llp = 3$\n"
   ]
  },
  {
   "cell_type": "markdown",
   "metadata": {
    "slideshow": {
     "slide_type": "subslide"
    }
   },
   "source": [
    "<div><br>\n",
    "    <center><strong>Conv 1D, single feature: sliding the filter</strong></center>\n",
    "    <br>\n",
    "<img src=images/W9_L1_S19_Conv1d_sliding.png width=\"80%\">\n",
    "    <!-- edX: Original: <img src=\"images/Conv1d_sliding.png\"> replace by EdX created image --> \n",
    "</div>"
   ]
  },
  {
   "cell_type": "markdown",
   "metadata": {
    "slideshow": {
     "slide_type": "subslide"
    }
   },
   "source": [
    "After sliding the Kernel over the whole $\\y_{(\\ll-1)}$ we get the output feature map $\\y_{\\llp,1}$ for the first (and only) feature:<div>\n",
    "    <br>\n",
    "    <center><strong>Conv 1D, single feature: output feature map</strong></center>\n",
    "    <br>\n",
    "<img src=images/W9_L1_S22_Conv1d.png width=\"80%\">\n",
    "    <!-- edX: Original: <img src=\"images/Conv1d.png\"> replace by EdX created image --> \n",
    "    </div>\n"
   ]
  },
  {
   "cell_type": "markdown",
   "metadata": {
    "slideshow": {
     "slide_type": "subslide"
    }
   },
   "source": [
    "Element $j$ of output $\\y_{\\llp, \\ldots, 1}$ (i.e., $\\y_{\\llp,j,1}$)\n",
    "- Is colored (e.g., $j=1$ is colored Red)\n",
    "- Is computed by applying the *same* $\\W_{\\llp,1}$ to \n",
    "    - The $f_\\llp$ elements of $\\y_{(\\ll-1),1}$, centered at $\\y_{(\\ll-1),j,1}$\n",
    "    - Which have the same color as the output"
   ]
  },
  {
   "cell_type": "markdown",
   "metadata": {
    "slideshow": {
     "slide_type": "subslide"
    }
   },
   "source": [
    "Note however that,  at the \"ends\" of $\\y_{(\\ll-1)}$\n",
    "the kernel\n",
    "may extend beyond the input vector.\n",
    "\n",
    "In that case $\\y_{(\\ll-1)}$ may be extended with *padding* (elements with $0$ value typically)\n",
    "- illustrated with the boxes with broken-line edges"
   ]
  },
  {
   "cell_type": "markdown",
   "metadata": {
    "slideshow": {
     "slide_type": "subslide"
    }
   },
   "source": [
    "# Conv1d transforming single feature to multiple features\n",
    "\n",
    "When there are multiple output features ($n_\\llp > 1$) there is *one kernel per output feature*\n",
    "- $\\kernel_{\\llp,1}, \\ldots, \\kernel_{\\llp, n_\\llp}$\n",
    "\n",
    "Here are the 2 kernels for two output features, assuming $n_{(\\ll-1)} = 1$\n",
    "\n",
    "<div>\n",
    "    <br>\n",
    "    <center><strong>Conv 1D: 1 input feature, 2 output features</strong></center>\n",
    "    <br>\n",
    "<img src=images/Conv1d_2_to_1feature_kernel.png width=\"35%\">\n",
    "    <br>\n",
    "    </div>\n",
    "\n",
    "- $\\mathbf{W}_{\\llp, j', \\ldots,j}$\n",
    "    - layer $\\ll$\n",
    "    - output feature $j$\n",
    "    - spatial location: $\\ldots \\in \\{1,2,3\\}$\n",
    "    - input feature $j'$"
   ]
  },
  {
   "cell_type": "markdown",
   "metadata": {
    "slideshow": {
     "slide_type": "subslide"
    }
   },
   "source": [
    "Here is a [picture](CNN_pictorial.ipynb#Conv-1D:-single-feature-to-multiple-features) of a Convolutional layer $\\ll$\n",
    "transforming \n",
    "- a  1-dimensional input layer $(\\ll-1)$  consisting of a single feature \n",
    "    - $N_{(\\ll-1)} = 1, n_{(\\ll-1)} =1$\n",
    "- into a 1-dimensional output layer $\\ll$  consisting of a *multiple* features \n",
    "    - $N_\\llp = 1, n_\\llp  > 1$\n",
    "    "
   ]
  },
  {
   "cell_type": "markdown",
   "metadata": {
    "slideshow": {
     "slide_type": "subslide"
    }
   },
   "source": [
    "# Conv1d transforming multiple features to multiple features\n",
    "\n",
    "What happens when the input layer has multiple features ?\n",
    "- e.g., applying Convolutional layer $(\\ll+1)$ to the $n_\\llp$ features created by Convolutional layer $\\ll$\n",
    "\n",
    "The answer is \n",
    "- The kernels of layer $\\ll$ also have a *feature* dimension\n",
    "    - Kernel dimensions are $(f_\\llp \\times f_\\llp \\times n_{(\\ll-1)})$\n",
    "- This kernel is applied\n",
    "    - at each spatial location\n",
    "    - to *all features* of layer $(\\ll-1)$\n",
    "    - Computing a generalized \"dot product\": sum of element-wise products\n",
    "\n"
   ]
  },
  {
   "cell_type": "markdown",
   "metadata": {
    "slideshow": {
     "slide_type": "subslide"
    }
   },
   "source": [
    "When the input $\\y_{(\\ll-1)}$ has more than one feature ($n_{(\\ll-1)} > 1$)\n",
    "- the kernel for each output feature must have feature dimension of length $n_{(\\ll-1)}$\n",
    "\n",
    "Here is the kernel for the first output feature, assuming $n_{(\\ll-1)} = 2$\n",
    "- it's feature dimension is length 2.\n",
    "\n",
    "There would be a similar kernel for each of the output features.\n",
    "\n",
    "\n",
    "<div>\n",
    "    <br>\n",
    "    <center><strong>Conv 1D: 2 input features: kernel 1</strong></center>\n",
    "    <br>\n",
    "<img src=images/Conv1d_2feature_kernel.png width=\"35%\">\n",
    "    <!-- edX: obsolete:: <img src=\"images/W9_L2_S23_Conv1d_2feature_kernel.png \"> replace by EdX created image --> \n",
    "    <br>\n",
    "    </div>\n",
    "\n",
    "- $\\mathbf{W}_{\\llp, j', \\ldots,j}$\n",
    "    - layer $\\ll$\n",
    "    - output feature $j$\n",
    "    - spatial location: $\\ldots \\in \\{1,2,3\\}$\n",
    "    - input feature $j'$"
   ]
  },
  {
   "cell_type": "markdown",
   "metadata": {
    "slideshow": {
     "slide_type": "subslide"
    }
   },
   "source": [
    "Notice that (apart from combining spatial locations)\n",
    "- multiple feature maps from layer $(\\ll-1)$ are combined into one feature map at layer $\\ll$.\n",
    "- This is how the \"left\" half-smile and \"right\" half-smile features combine into the single \"smile\" feature"
   ]
  },
  {
   "cell_type": "markdown",
   "metadata": {
    "slideshow": {
     "slide_type": "subslide"
    }
   },
   "source": [
    "Here is a [picture](CNN_pictorial.ipynb#Conv-1D:-Multiple-features-to-multiple-features) of a Convolutional layer $\\ll$\n",
    "transforming \n",
    "- a  1-dimensional input layer $(\\ll-1)$  consisting of a 2 features \n",
    "    - $N_{(\\ll-1)} = 1, n_{(\\ll-1)} = 2$\n",
    "- into a 1-dimensional output layer $\\ll$  consisting of a *multiple* features \n",
    "    - $N_\\llp = 1, n_\\llp  = 3$\n"
   ]
  },
  {
   "cell_type": "markdown",
   "metadata": {
    "slideshow": {
     "slide_type": "subslide"
    }
   },
   "source": [
    "With an input layer having $N$ spatial dimensions, a Convolutional Layer $\\ll$ producing $n_\\llp$ features\n",
    "- Preserves the \"spatial\" dimensions of the input\n",
    "- Replaces the channel/feature dimensions\n",
    "\n",
    "That is\n",
    "$$\n",
    "\\begin{array}\\\\\n",
    "|| \\y_{(\\ll-1)} || & = & (n_{(\\ll-1),1} \\times n_{(\\ll-1),2} \\times \\ldots n_{(\\ll-1),N }, & \\mathbf{n_{(\\ll-1)}} ) \\\\\n",
    "|| \\y_\\llp || &  = & (n_{(\\ll-1),1} \\times n_{(\\ll-1),2} \\times \\ldots n_{(\\ll-1),N},  &\\mathbf{n_\\llp} )\n",
    "\\end{array}\n",
    "$$\n",
    "\n",
    "\n"
   ]
  },
  {
   "cell_type": "markdown",
   "metadata": {
    "slideshow": {
     "slide_type": "slide"
    }
   },
   "source": [
    "# Conv2d: Two dimensional convolution ($N = 2$)\n",
    "\n",
    "Thus far, the spatial dimension has been of length $N = 1$.\n",
    "\n",
    "Generalizing  to $N = 2$ is straightforward.\n",
    "- The number of spatial dimensions (elements denoted by $\\ldots$) expands from $1$ to $2$"
   ]
  },
  {
   "cell_type": "markdown",
   "metadata": {
    "slideshow": {
     "slide_type": "subslide"
    }
   },
   "source": [
    "When $N = 1$ and $\\dim_1 =1$\n",
    "- we have our case of $n_\\llp$ features at a single location\n",
    "\n",
    "We have shown that permuting the order of features has no effect on a Dense layer\n",
    "- There is no ordering relationship among features\n",
    "\n",
    "But when $\\dim_1 > 1$, there is a *spatial ordering*.  For example\n",
    "- a 2D image\n",
    "- time ordered data"
   ]
  },
  {
   "cell_type": "markdown",
   "metadata": {
    "slideshow": {
     "slide_type": "subslide"
    }
   },
   "source": [
    "We need some terminology to distinguish the final dimension from the non-final dimensions\n",
    "\n",
    "Suppose $\\y_\\llp$ is $(N_\\llp+1)$ dimensional of shape \n",
    "$$\n",
    "|| \\y_{\\llp} || = (\\dim_{\\llp,1} \\times \\dim_{\\llp,2} \\times \\ldots \\dim_{\\llp,N_\\llp} \\,\\, \\times n_{\\llp} )\n",
    "$$\n",
    "\n",
    "(Thus far: $N_\\llp = 1$ and $n_{\\llp} = 1$ but that will soon change)"
   ]
  },
  {
   "cell_type": "markdown",
   "metadata": {
    "slideshow": {
     "slide_type": "subslide"
    }
   },
   "source": [
    "The first $N_\\llp$ dimensions $(\\dim_{\\llp,1} \\times \\dim_{\\llp,2} \\times \\ldots \\dim_{\\llp,N} )$\n",
    "- Are called the *spatial* dimensions of layer $\\ll$\n",
    "\n",
    "The last dimension (of size $ n_{\\llp}$)\n",
    "- Indexes the  features i.e., varies over the number of features\n",
    "- Called the *feature* or *channel* dimension\n"
   ]
  },
  {
   "cell_type": "markdown",
   "metadata": {
    "slideshow": {
     "slide_type": "subslide"
    }
   },
   "source": [
    "**Notation**\n",
    "\n",
    "- $N_\\llp$ denotes the *number* of spatial dimensions of layer $\\ll$\n",
    "- $n_\\llp$ denotes the *number of features* in layer $\\ll$\n",
    "- We elide the spatial dimensions as necessary, writing \n",
    "$$\\y_{\\llp, \\ldots, j}\n",
    "$$\n",
    "to denote *feature map* $j$ of layer $\\ll$\n",
    "    - where the dots ($\\ldots$) indicate the $N_\\llp$ spatial dimensions\n",
    "    - e.g., the feature map detecting a \"smile\" in the image of a face"
   ]
  },
  {
   "cell_type": "markdown",
   "metadata": {
    "slideshow": {
     "slide_type": "subslide"
    }
   },
   "source": [
    "For example\n",
    "- A grey-scale image\n",
    "    - $N = 2, n_\\llp = 1$\n",
    "    - Each pixel in the image has one feature\n",
    "        - the grey-scale intensity \n",
    "    - There is an ordering relationship between 2 pixels\n",
    "        - \"left/right\", \"above/below\"\n",
    "- A color image\n",
    "    - $N = 2, n_\\llp = 3$ \n",
    "    - Each pixel in the image has 3 features/attributes\n",
    "        - the intensity of each of the colors"
   ]
  },
  {
   "cell_type": "markdown",
   "metadata": {
    "slideshow": {
     "slide_type": "subslide"
    }
   },
   "source": [
    "One can imagine even higher dimensional data ($N > 2$)\n",
    "- Equity data with \"spatial location\" identified by (Month, Day, Time)\n",
    "    - With attributes: $\\{ $ Open, High, Low, Close $\\}$\n",
    "    - Month/Day/Time are ordered"
   ]
  },
  {
   "cell_type": "markdown",
   "metadata": {
    "slideshow": {
     "slide_type": "subslide"
    }
   },
   "source": [
    "Note the distinction between the cases\n",
    "- When layer $\\ll$ has dimension $(\\dim_\\llp \\times 1)$\n",
    "    - a single feature\n",
    "    - at $\\dim_\\llp = \\dim_{(\\ll-1)}$  *spatial* locations\n",
    "- When layer $\\ll$ has dimension $(1 \\times \\dim_\\llp)$\n",
    "    - (which is how we have implicitly been considering vectors when discussing the Dense layer type)\n",
    "    - $\\dim_\\llp = \\dim_{(\\ll-1)}$ features\n",
    "    - at a single spatial location\n",
    "\n",
    "$n_\\llp$ will always refer to the *number of features* of a layer $\\ll$"
   ]
  },
  {
   "cell_type": "markdown",
   "metadata": {
    "slideshow": {
     "slide_type": "subslide"
    }
   },
   "source": [
    "Here is a [picture](CNN_pictorial.ipynb#Conv-1D:-single-feature) of a Convolutional layer $\\ll$\n",
    "transforming \n",
    "- a  1-dimensional input layer $(\\ll-1)$  consisting of a single feature \n",
    "    - $N_{(\\ll-1)} = 1, n_{(\\ll-1)} =1$\n",
    "- into a 1-dimensional output layer $\\ll$  consisting of a single feature \n",
    "    - $N_\\llp = 1, n_\\llp =1$"
   ]
  },
  {
   "cell_type": "markdown",
   "metadata": {
    "slideshow": {
     "slide_type": "subslide"
    }
   },
   "source": [
    "We will generalize Convolution to deal with\n",
    "- $N_\\llp > 1$ spatial dimensions\n",
    "- $n_\\llp > 1$ features\n",
    "\n",
    "As a preview of concepts to be introduced, consider\n",
    "- the input layer $(l-1)$ is a two-dimensional ($N_{(\\ll-1)} = 2$) grid of pixels\n",
    "- $n_{(\\ll-1)} = 1$\n",
    "- layer $l$ is a Convolutional Layer identifying $n_\\llp = 3$ features"
   ]
  },
  {
   "cell_type": "markdown",
   "metadata": {
    "slideshow": {
     "slide_type": "subslide"
    }
   },
   "source": [
    "<table>\n",
    "    <tr>\n",
    "        <th><center>Convolution: 1 input feature to 3 output features</center></th>\n",
    "    </tr>\n",
    "    <tr>\n",
    "        <td><img src=\"images/Conv2d_multifeature_shape.png\" width=80%></td>\n",
    "    </tr>\n",
    "</table>"
   ]
  },
  {
   "cell_type": "markdown",
   "metadata": {
    "slideshow": {
     "slide_type": "subslide"
    }
   },
   "source": [
    "Layer $(l-1)$ is three-dimensional tensor: $8 \\times 8 \\times 1$\n",
    "- Spatial dimension $8 \\times 8$\n",
    "- 1 feature map (channel dimension $= 1$)"
   ]
  },
  {
   "cell_type": "markdown",
   "metadata": {
    "slideshow": {
     "slide_type": "subslide"
    }
   },
   "source": [
    "- Kernel $k_{\\llp,j}$ is applied to each spatial location of layer $(\\ll-1)$\n",
    "- Detecting the presence of the pattern (defined by the kernel) at that location\n",
    "    - kernel $k_{\\llp,1}$ detects an eye\n",
    "- Which results in feature map $\\y_{\\llp},\\dots,j$ being created at layer $\\ll$\n",
    "    - $\\y_{\\llp,\\dots,1}$ are indicators of the presence of an \"eye\" feature"
   ]
  },
  {
   "cell_type": "markdown",
   "metadata": {
    "slideshow": {
     "slide_type": "subslide"
    }
   },
   "source": [
    "**Convolutional Layer description**\n",
    "\n",
    "With this terminology we can say that Convolutional Layer $\\ll$:\n",
    "- Transforms the $n_{(\\ll-1)}$ feature maps of layer $(\\ll-1)$\n",
    "- Into $n_\\llp$ feature maps of layer $\\ll$\n",
    "- Preserving the spatial dimensions: $\\dim_{\\llp,p} = \\dim_{(\\ll-1),p} \\; 1 \\le p \\le N_{(\\ll-1)}$\n",
    "- Uses a different kernel $\\kernel_{\\llp,j}$ for each output feature/channel $1 \\le j \\le n_\\llp$\n",
    "- Applies this kernel to *each* element in the *spatial* dimensions\n",
    "- Recognizing a single feature at each location within the spatial dimension\n"
   ]
  },
  {
   "cell_type": "markdown",
   "metadata": {
    "slideshow": {
     "slide_type": "subslide"
    }
   },
   "source": []
  },
  {
   "cell_type": "markdown",
   "metadata": {
    "slideshow": {
     "slide_type": "subslide"
    }
   },
   "source": [
    "<div>\n",
    "    <br>\n",
    "    <center><strong>Conv 2D: single input feature: kernel 1</strong></center>\n",
    "    <br>\n",
    "<img src=images/Conv2d_singlefeature_input_kernel.png width=\"35%\">\n",
    "    <!-- edX: obsolete: W9_L2_S37_Conv2d_singlefeature_input_kernel.png EdX created image --> \n",
    "    <br>\n",
    "    </div>\n",
    "    \n",
    "- $\\mathbf{W}_{\\llp, j', \\ldots,j}$\n",
    "    - layer $\\ll$\n",
    "    - output feature $j$\n",
    "    - spatial location: $\\ldots \\in \\{ ( \\alpha, \\alpha' ) \\in (\\dim_{(\\ll-1),1} \\times \\dim_{(\\ll-1),2} \\}$\n",
    "    - input feature $j'$    "
   ]
  },
  {
   "cell_type": "markdown",
   "metadata": {
    "slideshow": {
     "slide_type": "subslide"
    }
   },
   "source": [
    "Here is a [picture](CNN_pictorial.ipynb#Conv-2D:-single-feature-to-single-feature) of a Convolutional layer $\\ll$\n",
    "transforming \n",
    "- a  2-dimensional input layer $(\\ll-1)$  consisting of a 1 feature \n",
    "    - $N_{(\\ll-1)} = 2, n_{(\\ll-1)} = 1$\n",
    "- into a 2-dimensional output layer $\\ll$  consisting of 1 feature\n",
    "    - $N_\\llp = 1, n_\\llp  = 1$\n",
    "\n"
   ]
  },
  {
   "cell_type": "markdown",
   "metadata": {
    "slideshow": {
     "slide_type": "subslide"
    }
   },
   "source": [
    "We can further generalize to producing multiple output features\n",
    "\n",
    "Here is a [picture](CNN_pictorial.ipynb#Conv-2D:-single-feature-to-multiple-features) of a Convolutional layer $\\ll$\n",
    "transforming \n",
    "- a  2-dimensional input layer $(\\ll-1)$  consisting of a 1 feature \n",
    "    - $N_{(\\ll-1)} = 2, n_{(\\ll-1)} = 1$\n",
    "- into a 2-dimensional output layer $\\ll$  consisting of 2 feature\n",
    "    - $N_\\llp = 1, n_\\llp  = 2$\n"
   ]
  },
  {
   "cell_type": "markdown",
   "metadata": {
    "slideshow": {
     "slide_type": "subslide"
    }
   },
   "source": [
    "Dealing with multiple input features works similarly as for $N=1$:\n",
    "- The dot product\n",
    "- Is over a spatial region that now has a \"depth\" $n_{(\\ll-1)}$ equal to the number of input features\n",
    "- Which means the kernel has a depth $n_{(\\ll-1)}$"
   ]
  },
  {
   "cell_type": "markdown",
   "metadata": {
    "slideshow": {
     "slide_type": "subslide"
    }
   },
   "source": [
    "<div>\n",
    "    <br>\n",
    "    <center><strong>Conv 2D: multiple input features: kernel 1</strong></center>\n",
    "    <br>\n",
    "<img src=images/Conv2d_multifeature_input_kernel.png width=\"50%\">\n",
    "    <!-- edX: obsolete W9_L2_S46_Conv2d_multifeature_input_kernel.png EdX created image --> \n",
    "    <br>\n",
    "    </div>"
   ]
  },
  {
   "cell_type": "markdown",
   "metadata": {
    "slideshow": {
     "slide_type": "subslide"
    }
   },
   "source": [
    "Here is a [picture](CNN_pictorial.ipynb#Conv-2D:-multiple-features-to-single-feature) of a Convolutional layer $\\ll$\n",
    "transforming \n",
    "- a  2-dimensional input layer $(\\ll-1)$  consisting of multiple features \n",
    "    - $N_{(\\ll-1)} = 2, n_{(\\ll-1)} = 2$\n",
    "- into a 2-dimensional output layer $\\ll$  consisting of 1 feature\n",
    "    - $N_\\llp = 1, n_\\llp  = 1$\n"
   ]
  },
  {
   "cell_type": "markdown",
   "metadata": {
    "slideshow": {
     "slide_type": "subslide"
    }
   },
   "source": [
    "And finally: the general case for a 2 spatial dimensions\n",
    "    \n",
    "Here is a [picture](CNN_pictorial.ipynb#Conv-2D:-multiple-features-to-multiple-features) of a Convolutional layer $\\ll$\n",
    "transforming \n",
    "- a  2-dimensional input layer $(\\ll-1)$  consisting of multiple features \n",
    "    - $N_{(\\ll-1)} = 2, n_{(\\ll-1)} = 3$\n",
    "- into a 2-dimensional output layer $\\ll$  consisting of multiple features\n",
    "    - $N_\\llp = 1, n_\\llp  = 2$\n",
    "\n"
   ]
  },
  {
   "cell_type": "code",
   "execution_count": 5,
   "metadata": {
    "slideshow": {
     "slide_type": "slide"
    }
   },
   "outputs": [
    {
     "name": "stdout",
     "output_type": "stream",
     "text": [
      "Done\n"
     ]
    }
   ],
   "source": [
    "print(\"Done\")"
   ]
  }
 ],
 "metadata": {
  "celltoolbar": "Slideshow",
  "kernelspec": {
   "display_name": "Python 3",
   "language": "python",
   "name": "python3"
  },
  "language_info": {
   "codemirror_mode": {
    "name": "ipython",
    "version": 3
   },
   "file_extension": ".py",
   "mimetype": "text/x-python",
   "name": "python",
   "nbconvert_exporter": "python",
   "pygments_lexer": "ipython3",
   "version": "3.7.4"
  },
  "toc": {
   "base_numbering": 1,
   "nav_menu": {},
   "number_sections": true,
   "sideBar": true,
   "skip_h1_title": false,
   "title_cell": "Table of Contents",
   "title_sidebar": "Contents",
   "toc_cell": false,
   "toc_position": {
    "height": "calc(100% - 180px)",
    "left": "10px",
    "top": "150px",
    "width": "370.594px"
   },
   "toc_section_display": true,
   "toc_window_display": true
  }
 },
 "nbformat": 4,
 "nbformat_minor": 2
}
